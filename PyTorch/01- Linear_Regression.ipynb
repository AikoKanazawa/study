{
 "cells": [
  {
   "cell_type": "markdown",
   "id": "6a5933c1",
   "metadata": {},
   "source": [
    "### This Notebook Provides some Notes about using PyTorch for LinearRegression"
   ]
  },
  {
   "cell_type": "code",
   "execution_count": 1,
   "id": "2bcf9993",
   "metadata": {},
   "outputs": [],
   "source": [
    "import numpy as np\n",
    "import matplotlib.pyplot as plt\n",
    "%matplotlib inline\n",
    "import torch\n",
    "import torch.nn as nn\n",
    "\n",
    "from sklearn import datasets\n",
    "from sklearn.preprocessing import StandardScaler\n",
    "from sklearn.model_selection import train_test_split"
   ]
  },
  {
   "cell_type": "markdown",
   "id": "f84bcc14",
   "metadata": {},
   "source": [
    "### `Building a Simple Linear Regression Model`（簡単な線形モデルの構築）"
   ]
  },
  {
   "cell_type": "code",
   "execution_count": 2,
   "id": "b077ad05",
   "metadata": {},
   "outputs": [],
   "source": [
    "## loading and preparing the dataset\n",
    "## using only 5 features and 1000 sample(800 for train and 200 for test)\n",
    "# 5つの特徴量と1000サンプル(訓練用800サンプル、テスト用200サンプル)のみ使用\n",
    "\n",
    "# make_regression関数を使用して、回帰問題のためのデータセットを生成しています。\n",
    "# このデータセットは1000サンプルと5つの特徴量を持ち、ノイズを20追加しています。\n",
    "data_reg = datasets.make_regression(n_samples=1000, n_features=5, noise=20, random_state=42)\n",
    "\n",
    "X = data_reg[0]\n",
    "y = data_reg[1]\n",
    "\n",
    "# reshape y（yを列ベクトルにしてるんだ）\n",
    "y = y.reshape(-1, 1)\n",
    "\n",
    "## split the data（データの分割と標準化）\n",
    "# データを訓練セットとテストセットに分割しています。\n",
    "# 訓練セットには80%のデータ（800サンプル）、テストセットには20%のデータ（200サンプル）が含まれています。\n",
    "X_train, X_test, y_train, y_test = train_test_split(X, y, test_size=0.2, \n",
    "                                                    shuffle=True, random_state=42)\n",
    "\n",
    "## standardize the dataset（データセットの標準化）\n",
    "# StandardScalerを使って特徴量の標準化を行っています。\n",
    "# 訓練データでフィッティングし、そのスケールを使って訓練データとテストデータの標準化を行っています。\n",
    "sacler = StandardScaler()\n",
    "X_train_scaled = sacler.fit_transform(X_train)\n",
    "X_test_scaled = sacler.transform(X_test)\n",
    "\n",
    "## convert to float32 then convert to tensors\n",
    "# データをfloat32に変換し、NumPy配列をPyTorchのテンソルに変換しています。\n",
    "# これにより、PyTorchのニューラルネットワークにデータを入力できるようになります。\n",
    "X_train_scaled = torch.from_numpy(X_train_scaled.astype(np.float32))\n",
    "X_test_scaled = torch.from_numpy(X_test_scaled.astype(np.float32))\n",
    "\n",
    "y_train = torch.from_numpy(y_train.astype(np.float32))\n",
    "y_test = torch.from_numpy(y_test.astype(np.float32))"
   ]
  },
  {
   "cell_type": "markdown",
   "id": "58570a91",
   "metadata": {},
   "source": [
    "#### Build the Model"
   ]
  },
  {
   "cell_type": "code",
   "execution_count": 3,
   "id": "bcdb9bdc",
   "metadata": {
    "scrolled": true
   },
   "outputs": [
    {
     "name": "stdout",
     "output_type": "stream",
     "text": [
      "Training started ____________________________________ \n",
      "\n",
      "Training finished ____________________________________ \n",
      "\n",
      "\n",
      "MSE train --> 3198.805419921875\n",
      "weight --> [[4.863918  8.30201   3.6997583 4.748607  3.5859802]]\n",
      "bias --> [-0.18424499]\n"
     ]
    }
   ],
   "source": [
    "## build the Model（モデルの定義）\n",
    "input_size = X_train_scaled.shape[1] #入力の特徴量の数\n",
    "output_size = 1   ## taregt（1次元の出力）\n",
    "\n",
    "class LinearRegression(nn.Module):\n",
    "    def __init__(self, input_dim, output_dim): #initはクラスのコンストラクタ、クラスがインスタンス化された時に実行\n",
    "        super(LinearRegression, self).__init__() # nn.Moduleのコンストラクタを呼び出している、基底クラスの初期化\n",
    "        self.lin_reg = nn.Linear(in_features=input_dim, out_features=output_dim) #nn.Linearをself.lin_regとして定義。nn.Linearは全結合層（線形変換）を意味。\n",
    "        \n",
    "    def forward(self, x):   ## predicting functions（予測関数）\n",
    "        out = self.lin_reg(x) #重みとバイアスを使って計算された出力\n",
    "        return out\n",
    "\n",
    "#モデルのインスタンス化 （モデルの実現化）\n",
    "lin_reg = LinearRegression(input_size, output_size)  ## create an instance\n",
    "\n",
    "## Training\n",
    "print('Training started ____________________________________ \\n')\n",
    "\n",
    "#トレーニングの設定\n",
    "## criteria\n",
    "learning_rate = 0.001\n",
    "n_epochs = 100\n",
    "\n",
    "#損失関数と最適化  \n",
    "loss = nn.MSELoss()   ## usin MSE\n",
    "optimizer = torch.optim.SGD(lin_reg.parameters(), lr=learning_rate)\n",
    "\n",
    "#トレーニングループ\n",
    "for epoch in range(n_epochs):\n",
    "    ## predicting\n",
    "    y_pred_train = lin_reg(X_train_scaled)\n",
    "    ## cal the loss\n",
    "    l = loss(y_train, y_pred_train)\n",
    "    ## backpropagation（勾配を計算する）\n",
    "    l.backward()\n",
    "    ## taka an optimization step\n",
    "    optimizer.step()\n",
    "    ## empty the gradients\n",
    "    optimizer.zero_grad()\n",
    "    \n",
    "print('Training finished ____________________________________ \\n') \n",
    "print()\n",
    "mse_train = loss(y_pred_train, y_train)    \n",
    "print('MSE train -->', mse_train.item())\n",
    "\n",
    "[w, b] = lin_reg.parameters()\n",
    "print('weight -->', w.detach().numpy())\n",
    "print('bias -->', b.detach().numpy())"
   ]
  },
  {
   "cell_type": "markdown",
   "id": "c1d94651",
   "metadata": {},
   "source": [
    "#### `Evaluation`"
   ]
  },
  {
   "cell_type": "code",
   "execution_count": 4,
   "id": "d6d9baad",
   "metadata": {},
   "outputs": [
    {
     "name": "stdout",
     "output_type": "stream",
     "text": [
      "MSE train --> 2954.069580078125\n"
     ]
    }
   ],
   "source": [
    "## you must stop gradient during inference to not kick the gradient graph during inference\n",
    "#トレーニングおよびテスト後の評価\n",
    "with torch.no_grad():\n",
    "    y_pred_test = lin_reg(X_test_scaled)\n",
    "    mse_test = loss(y_test, y_pred_test)\n",
    "    print('MSE train -->', mse_test.item())"
   ]
  },
  {
   "cell_type": "markdown",
   "id": "bdab6aa9",
   "metadata": {},
   "source": [
    "#### Done!"
   ]
  }
 ],
 "metadata": {
  "kernelspec": {
   "display_name": "Python 3 (ipykernel)",
   "language": "python",
   "name": "python3"
  },
  "language_info": {
   "codemirror_mode": {
    "name": "ipython",
    "version": 3
   },
   "file_extension": ".py",
   "mimetype": "text/x-python",
   "name": "python",
   "nbconvert_exporter": "python",
   "pygments_lexer": "ipython3",
   "version": "3.11.9"
  }
 },
 "nbformat": 4,
 "nbformat_minor": 5
}
