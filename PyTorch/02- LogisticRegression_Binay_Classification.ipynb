{
 "cells": [
  {
   "cell_type": "markdown",
   "id": "6a5933c1",
   "metadata": {},
   "source": [
    "### This Notebook Provides some Notes about using PyTorch for LogisticRegression"
   ]
  },
  {
   "cell_type": "code",
   "execution_count": 1,
   "id": "2dd609aa",
   "metadata": {},
   "outputs": [],
   "source": [
    "import numpy as np\n",
    "import matplotlib.pyplot as plt\n",
    "%matplotlib inline\n",
    "import torch\n",
    "import torch.nn as nn\n",
    "\n",
    "from sklearn import datasets\n",
    "from sklearn.preprocessing import StandardScaler\n",
    "from sklearn.model_selection import train_test_split"
   ]
  },
  {
   "cell_type": "markdown",
   "id": "543e3ba9",
   "metadata": {},
   "source": [
    "### Load and Prepare the Data"
   ]
  },
  {
   "cell_type": "code",
   "execution_count": 2,
   "id": "9b410f57",
   "metadata": {},
   "outputs": [],
   "source": [
    "## get the data（データの準備）\n",
    "dataset = datasets.load_breast_cancer()\n",
    "X = dataset['data']\n",
    "y = dataset['target']\n",
    "\n",
    "y = y.reshape(-1, 1)\n",
    "\n",
    "## Split the Data（データの分割）\n",
    "X_train, X_test, y_train, y_test = train_test_split(X, y, test_size=0.2, random_state=42)\n",
    "\n",
    "## standardize the data（データの標準化）\n",
    "scaler = StandardScaler()\n",
    "X_train_scaled = scaler.fit_transform(X_train)\n",
    "X_test_scaled = scaler.transform(X_test)\n",
    "\n",
    "\n",
    "## to float32 then to tensors（テンソルへの変換）\n",
    "X_train_scaled = torch.from_numpy(X_train_scaled.astype(np.float32))\n",
    "X_test_scaled = torch.from_numpy(X_test_scaled.astype(np.float32))\n",
    "y_train = torch.from_numpy(y_train.astype(np.float32))\n",
    "y_test = torch.from_numpy(y_test.astype(np.float32))\n",
    "\n",
    "y_train = y_train.reshape(-1, 1)  ## --> reshape y\n",
    "y_test = y_test.reshape(-1, 1)  ## --> reshape y"
   ]
  },
  {
   "cell_type": "markdown",
   "id": "0acd4d51",
   "metadata": {},
   "source": [
    "#### Build The Model"
   ]
  },
  {
   "cell_type": "code",
   "execution_count": 3,
   "id": "b598cf38",
   "metadata": {},
   "outputs": [
    {
     "name": "stdout",
     "output_type": "stream",
     "text": [
      "Training started __________________________________ \n",
      "\n",
      "Training finished ____________________________________ \n",
      "\n",
      "Train Accuracy is ---> 94.5054931640625 %\n"
     ]
    }
   ],
   "source": [
    "## Create a class for Logistic Regression（ロジスティック回帰モデル）\n",
    "class LogisticRegression(nn.Module):\n",
    "    def __init__(self, input_features):\n",
    "        super(LogisticRegression, self).__init__()\n",
    "        \n",
    "        self.linear = nn.Linear(input_features, 1) ## --> 1 output class\n",
    "    \n",
    "    def forward(self, x):\n",
    "        y_pred = torch.sigmoid(self.linear(x))\n",
    "        return y_pred\n",
    "    \n",
    "\n",
    "\n",
    "## intance\n",
    "log_reg = LogisticRegression(input_features=X.shape[1])\n",
    "\n",
    "\n",
    "## Training\n",
    "print('Training started __________________________________ \\n')\n",
    "\n",
    "## criteria\n",
    "learning_rate = 0.01\n",
    "n_epochs = 100\n",
    "\n",
    "#モデルのインスタンス化と最適化\n",
    "loss = nn.BCELoss()   ## Binary cross entropy\n",
    "optimizer = torch.optim.SGD(log_reg.parameters(), lr=learning_rate)\n",
    "\n",
    "#トレーニングループ\n",
    "for epoch in range(n_epochs):\n",
    "    ## predicting\n",
    "    y_pred_train = log_reg(X_train_scaled)\n",
    "    ## loss\n",
    "    l = loss(y_pred_train, y_train)\n",
    "    ## backpropagation\n",
    "    l.backward()\n",
    "    ## optimizaion step\n",
    "    optimizer.step()\n",
    "    ## empty the gradients\n",
    "    optimizer.zero_grad()\n",
    "\n",
    "\n",
    "print('Training finished ____________________________________ \\n') \n",
    "y_pred_train_cls = y_pred_train.round()\n",
    "train_acc = (y_pred_train_cls==y_train).sum() / y_train.shape[0]\n",
    "print(f'Train Accuracy is ---> {train_acc * 100} %')"
   ]
  },
  {
   "cell_type": "markdown",
   "id": "12361c27",
   "metadata": {},
   "source": [
    "#### Final Evaluation"
   ]
  },
  {
   "cell_type": "code",
   "execution_count": 4,
   "id": "501e513b",
   "metadata": {},
   "outputs": [
    {
     "name": "stdout",
     "output_type": "stream",
     "text": [
      "Test Accuracy is ---> 97.36841583251953 %\n"
     ]
    }
   ],
   "source": [
    "## During Evaluation you should stop the (requires_grad=True)\n",
    "## you can use --> with torch.no_grad()\n",
    "\n",
    "#トレーニングおよびテスト後の評価\n",
    "with torch.no_grad():\n",
    "    ## predict for test with requires_grad=False(by using with)\n",
    "    y_pred_test = log_reg(X_test_scaled)\n",
    "    ## get the loss of the test\n",
    "    loss_test = loss(y_pred_test, y_test)\n",
    "    \n",
    "    ## get the classes (0, 1) by rounding\n",
    "    y_pred_test_cls = y_pred_test.round()\n",
    "    test_acc = (y_pred_test_cls==y_test).sum() / y_test.shape[0]\n",
    "    \n",
    "    print(f'Test Accuracy is ---> {test_acc * 100} %')"
   ]
  },
  {
   "cell_type": "markdown",
   "id": "526f2147",
   "metadata": {},
   "source": [
    "### Done!"
   ]
  }
 ],
 "metadata": {
  "kernelspec": {
   "display_name": "Python 3 (ipykernel)",
   "language": "python",
   "name": "python3"
  },
  "language_info": {
   "codemirror_mode": {
    "name": "ipython",
    "version": 3
   },
   "file_extension": ".py",
   "mimetype": "text/x-python",
   "name": "python",
   "nbconvert_exporter": "python",
   "pygments_lexer": "ipython3",
   "version": "3.11.9"
  }
 },
 "nbformat": 4,
 "nbformat_minor": 5
}
