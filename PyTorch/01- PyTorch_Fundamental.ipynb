{
 "cells": [
  {
   "cell_type": "markdown",
   "id": "24a96d02",
   "metadata": {},
   "source": [
    "### This NoteBook provides some Notes about PyTorch Fundamental"
   ]
  },
  {
   "cell_type": "code",
   "execution_count": 1,
   "id": "652b30ea",
   "metadata": {},
   "outputs": [],
   "source": [
    "import numpy as np\n",
    "import torch\n",
    "import torch.nn as nn\n",
    "from torchvision import datasets"
   ]
  },
  {
   "cell_type": "code",
   "execution_count": 2,
   "id": "c73505a8",
   "metadata": {},
   "outputs": [
    {
     "data": {
      "text/plain": [
       "device(type='cpu')"
      ]
     },
     "execution_count": 2,
     "metadata": {},
     "output_type": "execute_result"
    }
   ],
   "source": [
    "## check cuda（CUDAが利用可能かどうかを確認し、利用可能なら'cuda'を、それ以外なら'cpu'をデバイスとして選択）\n",
    "device = torch.device('cuda' if torch.cuda.is_available() else 'cpu')\n",
    "device"
   ]
  },
  {
   "cell_type": "code",
   "execution_count": 3,
   "id": "b0b7788a",
   "metadata": {},
   "outputs": [
    {
     "name": "stdout",
     "output_type": "stream",
     "text": [
      "tensor([[1, 2, 3, 4],\n",
      "        [5, 6, 7, 8]])\n",
      "[[1 2 3 4]\n",
      " [5 6 7 8]]\n"
     ]
    }
   ],
   "source": [
    "## from numpy to tensor and from tensor to numpy\n",
    "a = np.array([[1,2,3,4],[5,6,7,8]])\n",
    "b = torch.from_numpy(a)\n",
    "print(b)\n",
    "c = b.numpy()\n",
    "print(c)"
   ]
  },
  {
   "cell_type": "code",
   "execution_count": 4,
   "id": "07f45cf1",
   "metadata": {},
   "outputs": [
    {
     "data": {
      "text/plain": [
       "tensor([1., 1., 1., 1., 1.], requires_grad=True)"
      ]
     },
     "execution_count": 4,
     "metadata": {},
     "output_type": "execute_result"
    }
   ],
   "source": [
    "## device and requires_grad parameters（使用するデバイスを決定（'cuda'か'cpu'かを確認））\n",
    "my_device = ('cuda' if torch.cuda.is_available() else 'cpu')\n",
    "# 指定したデバイス上に、勾配計算が有効な5つの要素からなるテンソルを作成\n",
    "x = torch.ones(5, device=device, requires_grad=True)    \n",
    "## requires_grad（勾配の要求？） ----> calculate gradients for optimization（最適化のための勾配を計算する）\n",
    "x"
   ]
  },
  {
   "cell_type": "markdown",
   "id": "50e3717d",
   "metadata": {},
   "source": [
    "`Calculate the gradients with Autograd`"
   ]
  },
  {
   "cell_type": "code",
   "execution_count": 5,
   "id": "d3d65160",
   "metadata": {},
   "outputs": [
    {
     "name": "stdout",
     "output_type": "stream",
     "text": [
      "x --> \n",
      " tensor([ 0.2244,  0.5929, -1.3174], requires_grad=True)\n",
      "y --> \n",
      " tensor([2.2244, 2.5929, 0.6826], grad_fn=<AddBackward0>)\n",
      "z --> \n",
      " tensor(8.0914, grad_fn=<MeanBackward0>)\n",
      "gradient --> \n",
      " tensor([2.9659, 3.4572, 0.9101])\n"
     ]
    }
   ],
   "source": [
    "## Calculate gradients with Autograd（ランダムな3つの要素を持つテンソルを作成し、勾配計算を有効にする）\n",
    "x = torch.randn(3, requires_grad=True)\n",
    "print('x --> \\n', x)\n",
    "\n",
    "y = x + 2\n",
    "print('y --> \\n', y)\n",
    "\n",
    "z = y * y * 2\n",
    "z = z.mean()\n",
    "print('z --> \\n', z)\n",
    "\n",
    "z.backward()  ## dz/dx\n",
    "\n",
    "## get the graients\n",
    "print('gradient --> \\n', x.grad)"
   ]
  },
  {
   "cell_type": "code",
   "execution_count": 6,
   "id": "358b2401",
   "metadata": {},
   "outputs": [
    {
     "name": "stdout",
     "output_type": "stream",
     "text": [
      "x --> \n",
      " tensor([[0., 5., 3., 0., 6.],\n",
      "        [3., 5., 4., 4., 5.],\n",
      "        [1., 2., 4., 0., 5.],\n",
      "        [0., 1., 1., 2., 4.],\n",
      "        [2., 3., 5., 2., 3.]], requires_grad=True)\n",
      "y --> \n",
      " tensor([[ 5., 30., 14.,  5., 41.],\n",
      "        [14., 30., 21., 21., 30.],\n",
      "        [ 6.,  9., 21.,  5., 30.],\n",
      "        [ 5.,  6.,  6.,  9., 21.],\n",
      "        [ 9., 14., 30.,  9., 14.]], grad_fn=<AddBackward0>)\n",
      "z --> \n",
      " tensor(16.2000, grad_fn=<MeanBackward0>)\n",
      "gradient --> \n",
      " tensor([[0.0000, 0.4000, 0.2400, 0.0000, 0.4800],\n",
      "        [0.2400, 0.4000, 0.3200, 0.3200, 0.4000],\n",
      "        [0.0800, 0.1600, 0.3200, 0.0000, 0.4000],\n",
      "        [0.0000, 0.0800, 0.0800, 0.1600, 0.3200],\n",
      "        [0.1600, 0.2400, 0.4000, 0.1600, 0.2400]])\n"
     ]
    }
   ],
   "source": [
    "# 0から6までの整数を持つ5x5のテンソルを作成し、勾配計算を有効にする\n",
    "x = torch.randint(low=0, high=7, size=(5,5), dtype=torch.float32, requires_grad=True)\n",
    "print('x --> \\n', x)\n",
    "\n",
    "y = x**2 + 5\n",
    "print('y --> \\n', y)\n",
    "\n",
    "z = y.mean()\n",
    "print('z --> \\n', z)\n",
    "\n",
    "z.backward() ## dz/dx\n",
    "\n",
    "## get the graients\n",
    "print('gradient --> \\n', x.grad)"
   ]
  },
  {
   "cell_type": "markdown",
   "id": "a410518a",
   "metadata": {},
   "source": [
    "#### Done!"
   ]
  }
 ],
 "metadata": {
  "kernelspec": {
   "display_name": "Python 3 (ipykernel)",
   "language": "python",
   "name": "python3"
  },
  "language_info": {
   "codemirror_mode": {
    "name": "ipython",
    "version": 3
   },
   "file_extension": ".py",
   "mimetype": "text/x-python",
   "name": "python",
   "nbconvert_exporter": "python",
   "pygments_lexer": "ipython3",
   "version": "3.11.9"
  }
 },
 "nbformat": 4,
 "nbformat_minor": 5
}
