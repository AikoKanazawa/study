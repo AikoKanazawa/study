{
 "cells": [
  {
   "cell_type": "code",
   "execution_count": 208,
   "metadata": {},
   "outputs": [],
   "source": [
    "import numpy as np"
   ]
  },
  {
   "cell_type": "code",
   "execution_count": 209,
   "metadata": {},
   "outputs": [],
   "source": [
    "from scipy.optimize import least_squares"
   ]
  },
  {
   "cell_type": "code",
   "execution_count": 210,
   "metadata": {},
   "outputs": [],
   "source": [
    "import pandas as pd"
   ]
  },
  {
   "cell_type": "code",
   "execution_count": 211,
   "metadata": {},
   "outputs": [],
   "source": [
    "import matplotlib.pyplot as plt"
   ]
  },
  {
   "cell_type": "code",
   "execution_count": 212,
   "metadata": {},
   "outputs": [],
   "source": [
    "import random"
   ]
  },
  {
   "cell_type": "code",
   "execution_count": 213,
   "metadata": {},
   "outputs": [],
   "source": [
    "# CSVファイルの読み込み\n",
    "csv_file_path = 'xy(3).csv'\n",
    "data = pd.read_csv(csv_file_path)\n",
    "\n",
    "# xとyのデータを抽出\n",
    "x_data = data.iloc[:, 0].values  # CSVファイルの1列目をxとして使用\n",
    "y_data = data.iloc[:, 1].values  # CSVファイルの2列目をyとして使用"
   ]
  },
  {
   "cell_type": "code",
   "execution_count": 214,
   "metadata": {},
   "outputs": [
    {
     "name": "stdout",
     "output_type": "stream",
     "text": [
      "[[-6.77475755e-01  6.16209231e-01  6.12665239e-02 -6.77475755e-01]\n",
      " [ 0.00000000e+00 -7.79548466e-01  7.79548466e-01  2.20471947e-16]\n",
      " [ 7.35545105e-01 -1.12206832e-01 -6.23338273e-01  7.35545105e-01]]\n"
     ]
    }
   ],
   "source": [
    "x = np.linspace(0, 360, 4)\n",
    "\n",
    "# 単位ベクトルの生成\n",
    "def generate_unit_vectors():\n",
    "    k = np.array(random.sample(range(1, 100), 3))\n",
    "    n = k / np.linalg.norm(k)\n",
    "    return n, generate_perpendicular_unit_vector(n)\n",
    "\n",
    "# 磁場ベクトルの生成\n",
    "def generate_perpendicular_unit_vector(n):\n",
    "    if np.all(n == 0):\n",
    "        raise ValueError(\"The input vector n should not be the zero vector.\")\n",
    "    \n",
    "    if abs(n[0]) < abs(n[1]) and abs(n[0]) < abs(n[2]):\n",
    "        w = np.array([1, 0, 0])\n",
    "    elif abs(n[1]) < abs(n[0]) and abs(n[1]) < abs(n[2]):\n",
    "        w = np.array([0, 1, 0])\n",
    "    else:\n",
    "        w = np.array([0, 0, 1])\n",
    "    \n",
    "    perp_vec = np.cross(n, w)\n",
    "    return perp_vec / np.linalg.norm(perp_vec)\n",
    "\n",
    "n, s = generate_unit_vectors()\n",
    "c = np.cross(n, s)\n",
    "theta = np.radians(x)\n",
    "\n",
    "# ロドリゲスの回転公式\n",
    "def rodrigues_rotation(axis, vec, theta):\n",
    "    cos_theta = np.cos(theta)\n",
    "    sin_theta = np.sin(theta)\n",
    "    return (vec[:, np.newaxis] * cos_theta + \n",
    "            np.cross(axis[:, np.newaxis], vec[:, np.newaxis] * sin_theta, axis=0) + \n",
    "            axis[:, np.newaxis] * np.dot(axis, vec) * (1 - cos_theta))\n",
    "\n",
    "h = rodrigues_rotation(n, s, theta)\n",
    "hc = rodrigues_rotation(c, s, theta)\n",
    "\n",
    "print(h)"
   ]
  },
  {
   "cell_type": "code",
   "execution_count": 215,
   "metadata": {},
   "outputs": [
    {
     "name": "stdout",
     "output_type": "stream",
     "text": [
      "h.T:\n",
      "[[ 1  5  9]\n",
      " [ 2  6 10]\n",
      " [ 3  7 11]\n",
      " [ 4  8 12]]\n",
      "h_vec:\n",
      "[1 5 9]\n",
      "[1 5 9]\n",
      "h_vec:\n",
      "[ 2  6 10]\n",
      "[ 2  6 10]\n",
      "h_vec:\n",
      "[ 3  7 11]\n",
      "[ 3  7 11]\n",
      "h_vec:\n",
      "[ 4  8 12]\n",
      "[ 4  8 12]\n"
     ]
    }
   ],
   "source": [
    "# h 行列を定義（例えば、3つのベクトルがある場合）\n",
    "h = np.array([[1, 2, 3, 4],\n",
    "              [5, 6, 7, 8],\n",
    "              [9, 10, 11, 12]])\n",
    "\n",
    "# h.T を表示\n",
    "print(\"h.T:\")\n",
    "print(h.T)\n",
    "\n",
    "# h.T の各列に対してループを回す\n",
    "for h_vec in h.T:\n",
    "    print(\"h_vec:\")\n",
    "    print(h_vec)\n",
    "    print(h_vec.T)"
   ]
  },
  {
   "cell_type": "code",
   "execution_count": 216,
   "metadata": {},
   "outputs": [
    {
     "name": "stdout",
     "output_type": "stream",
     "text": [
      "[[-6.11747641e-01  0.00000000e+00  7.91052984e-01]\n",
      " [ 3.91896056e-01 -8.59170967e+00 -3.29002630e-01]\n",
      " [ 2.19851586e-01  8.59170967e+00 -4.62050354e-01]\n",
      " [-6.11747641e-01  2.42990788e-16  7.91052984e-01]]\n"
     ]
    },
    {
     "ename": "NameError",
     "evalue": "name 'j' is not defined",
     "output_type": "error",
     "traceback": [
      "\u001b[0;31m---------------------------------------------------------------------------\u001b[0m",
      "\u001b[0;31mNameError\u001b[0m                                 Traceback (most recent call last)",
      "Cell \u001b[0;32mIn[216], line 35\u001b[0m\n\u001b[1;32m     32\u001b[0m     \u001b[38;5;28;01mreturn\u001b[39;00m K_rot_values, Kc_rot_values\n\u001b[1;32m     34\u001b[0m \u001b[38;5;28mprint\u001b[39m(h\u001b[38;5;241m.\u001b[39mT)\n\u001b[0;32m---> 35\u001b[0m \u001b[38;5;28mprint\u001b[39m(\u001b[43mcalculate_knight_shift\u001b[49m\u001b[43m(\u001b[49m\u001b[43mR\u001b[49m\u001b[43m,\u001b[49m\u001b[43m \u001b[49m\u001b[43mh\u001b[49m\u001b[43m,\u001b[49m\u001b[43m \u001b[49m\u001b[43mhc\u001b[49m\u001b[43m,\u001b[49m\u001b[43m \u001b[49m\u001b[43mK\u001b[49m\u001b[43m)\u001b[49m)\n",
      "Cell \u001b[0;32mIn[216], line 25\u001b[0m, in \u001b[0;36mcalculate_knight_shift\u001b[0;34m(R, h, hc, K)\u001b[0m\n\u001b[1;32m     24\u001b[0m \u001b[38;5;28;01mdef\u001b[39;00m \u001b[38;5;21mcalculate_knight_shift\u001b[39m(R, h, hc, K):\n\u001b[0;32m---> 25\u001b[0m     h_vec \u001b[38;5;241m=\u001b[39m np\u001b[38;5;241m.\u001b[39marray([h[\u001b[38;5;241m0\u001b[39m][\u001b[43mj\u001b[49m], h[\u001b[38;5;241m1\u001b[39m][j], h[\u001b[38;5;241m2\u001b[39m][j]])\n\u001b[1;32m     26\u001b[0m     hc_vec \u001b[38;5;241m=\u001b[39m np\u001b[38;5;241m.\u001b[39marray([hc[\u001b[38;5;241m0\u001b[39m][j], hc[\u001b[38;5;241m1\u001b[39m][j], hc[\u001b[38;5;241m2\u001b[39m][j]])\n\u001b[1;32m     28\u001b[0m     K_rot_values \u001b[38;5;241m=\u001b[39m [np\u001b[38;5;241m.\u001b[39mdot(h_vec\u001b[38;5;241m.\u001b[39mT, np\u001b[38;5;241m.\u001b[39mdot(R, np\u001b[38;5;241m.\u001b[39mdot(K, np\u001b[38;5;241m.\u001b[39mdot(np\u001b[38;5;241m.\u001b[39mlinalg\u001b[38;5;241m.\u001b[39minv(R), h_vec))))\n\u001b[1;32m     29\u001b[0m                     \u001b[38;5;28;01mfor\u001b[39;00m j \u001b[38;5;129;01min\u001b[39;00m \u001b[38;5;28mrange\u001b[39m(\u001b[38;5;28mlen\u001b[39m(h[\u001b[38;5;241m0\u001b[39m]))]\n",
      "\u001b[0;31mNameError\u001b[0m: name 'j' is not defined"
     ]
    }
   ],
   "source": [
    "# 回転行列\n",
    "def rotation_matrix(kx, ky, kz, t, l):\n",
    "    identity_matrix = np.identity(3)\n",
    "    matrices = []\n",
    "    for i in range(l):\n",
    "        R = np.array([[0, -kz, ky], [kz, 0, -kx], [-ky, kx, 0]])\n",
    "        theta = np.radians(t * i)\n",
    "        rot_mat = identity_matrix + np.sin(theta) * R + (1 - np.cos(theta)) * np.dot(R, R)\n",
    "        matrices.append(rot_mat)\n",
    "    return matrices\n",
    "\n",
    "kx = 0\n",
    "ky = 0\n",
    "kz = 1\n",
    "l = 3\n",
    "t = 120\n",
    "\n",
    "R = rotation_matrix(kx, ky, kz, t, l)\n",
    "\n",
    "h = np.array([[-6.11747641e-01, 3.91896056e-01, 2.19851586e-01, -6.11747641e-01], [0.00000000e+00, -8.59170967e-0, 8.59170967e-0, 2.42990788e-16], [7.91052984e-01, -3.29002630e-01, -4.62050354e-01, 7.91052984e-01]])\n",
    "K = np.array([[0.1, 0.1, 0.1], [0.1, 0.1, 0.1], [0.1, 0.1, 0.1]])\n",
    "\n",
    "# 組み合わせて考えた関数\n",
    "def calculate_knight_shift(R, h, hc, K):\n",
    "    h_vec = np.array([h[0][j], h[1][j], h[2][j]])\n",
    "    hc_vec = np.array([hc[0][j], hc[1][j], hc[2][j]])\n",
    "\n",
    "    K_rot_values = [np.dot(h_vec.T, np.dot(R, np.dot(K, np.dot(np.linalg.inv(R), h_vec))))\n",
    "                    for j in range(len(h[0]))]\n",
    "    Kc_rot_values = [np.dot(hc_vec.T, np.dot(R, np.dot(K, np.dot(np.linalg.inv(R), hc_vec))))\n",
    "                    for j in range(len(hc[0]))]\n",
    "    return K_rot_values, Kc_rot_values\n",
    "\n",
    "print(h.T)\n",
    "print(calculate_knight_shift(R, h, hc, K))"
   ]
  }
 ],
 "metadata": {
  "kernelspec": {
   "display_name": "Python 3",
   "language": "python",
   "name": "python3"
  },
  "language_info": {
   "codemirror_mode": {
    "name": "ipython",
    "version": 3
   },
   "file_extension": ".py",
   "mimetype": "text/x-python",
   "name": "python",
   "nbconvert_exporter": "python",
   "pygments_lexer": "ipython3",
   "version": "3.11.9"
  }
 },
 "nbformat": 4,
 "nbformat_minor": 2
}
