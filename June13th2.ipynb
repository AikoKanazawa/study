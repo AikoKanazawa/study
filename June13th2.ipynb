{
 "cells": [
  {
   "cell_type": "code",
   "execution_count": 1,
   "metadata": {},
   "outputs": [],
   "source": [
    "import numpy as np"
   ]
  },
  {
   "cell_type": "code",
   "execution_count": 2,
   "metadata": {},
   "outputs": [],
   "source": [
    "import math"
   ]
  },
  {
   "cell_type": "code",
   "execution_count": 3,
   "metadata": {},
   "outputs": [],
   "source": [
    "import matplotlib.pyplot as plt"
   ]
  },
  {
   "cell_type": "code",
   "execution_count": 4,
   "metadata": {},
   "outputs": [],
   "source": [
    "import sympy"
   ]
  },
  {
   "cell_type": "code",
   "execution_count": 5,
   "metadata": {},
   "outputs": [],
   "source": [
    "from sympy import *"
   ]
  },
  {
   "cell_type": "code",
   "execution_count": 6,
   "metadata": {},
   "outputs": [],
   "source": [
    "import matplotlib.animation as animation"
   ]
  },
  {
   "cell_type": "code",
   "execution_count": 7,
   "metadata": {},
   "outputs": [],
   "source": [
    "import random"
   ]
  },
  {
   "cell_type": "code",
   "execution_count": 8,
   "metadata": {},
   "outputs": [
    {
     "name": "stdout",
     "output_type": "stream",
     "text": [
      "[-0.94738187  0.27503211  0.16378317]\n",
      "-0.00151580008458244\n",
      "0.0149418669266289\n",
      "0.00163764379588310\n"
     ]
    }
   ],
   "source": [
    "# 入力単位ベクトル\n",
    "k = np.array(random.sample(range(1,100), 3))  # 例としてランダムな単位ベクトルを使用\n",
    "kn = np.linalg.norm(k) #生成したベクトルの大きさ\n",
    "n = k / kn #まずは単位ベクトル\n",
    "\n",
    "def generate_perpendicular_unit_vector(n):\n",
    "    \"\"\"\n",
    "    入力された単位ベクトル v に垂直な単位ベクトルを生成する\n",
    "    \"\"\"\n",
    "    if np.all(n == 0):\n",
    "        raise ValueError(\"The input vector v should not be the zero vector.\")\n",
    "    \n",
    "    # 任意のベクトル w を選択\n",
    "    if abs(n[0]) < abs(n[1]) and abs(n[0]) < abs(n[2]):\n",
    "        w = np.array([1, 0, 0])\n",
    "    elif abs(n[1]) < abs(n[0]) and abs(n[1]) < abs(n[2]):\n",
    "        w = np.array([0, 1, 0])\n",
    "    else:\n",
    "        w = np.array([0, 0, 1])\n",
    "    \n",
    "    # n と w の外積を計算して、n に垂直なベクトルを求める\n",
    "    perp_vec = np.cross(n, w)\n",
    "    \n",
    "    # 垂直なベクトルを正規化して単位ベクトルにする\n",
    "    perp_unit_vec = perp_vec / np.linalg.norm(perp_vec)\n",
    "    \n",
    "    return perp_unit_vec\n",
    "\n",
    "# 垂直な単位ベクトルを生成\n",
    "s = generate_perpendicular_unit_vector(n)\n",
    "\n",
    "#ロドリゲスの回転公式×磁場\n",
    "def rodrigues_rotation(n, s, theta):\n",
    "    h = (s * np.cos(theta) +\n",
    "             np.cross(n, s) * np.sin(theta) +\n",
    "             n * np.dot(n, s) * (1 - np.cos(theta)))\n",
    "    return h\n",
    "\n",
    "theta = np.radians(90)  # 回転角度\n",
    "\n",
    "# ロドリゲスの回転公式を使用してベクトルを回転\n",
    "h = rodrigues_rotation(n, s, theta)\n",
    "\n",
    "print(h)\n",
    "\n",
    "def rotation_matrix():\n",
    "    identity_matrix = np.identity(3)\n",
    "    matrices = []\n",
    "    for i in range(3):\n",
    "        kx = 0\n",
    "        ky = 0\n",
    "        kz = 1\n",
    "        R = Matrix([[0, -kz, ky], [kz, 0, -kx], [-ky, kx, 0]])\n",
    "        t = 120\n",
    "        theta = np.radians(t*i)\n",
    "        rot_mat = identity_matrix + np.sin(theta) * R + (1 - np.cos(theta)) * (R @ R)\n",
    "        matrices.append(rot_mat)\n",
    "    return matrices\n",
    "\n",
    "# rotation_matrix 関数を使って rot_mat を計算\n",
    "rot_mats = rotation_matrix()\n",
    "\n",
    "# i = 0, 1, 2 の場合の rot_mat を表示\n",
    "for i in range(3):\n",
    "    XX, XY, YY, YZ, ZZ, XZ = [random.uniform(1e-4, 1e-2) for _ in range(6)]\n",
    "    K = Matrix([[XX, XY, XZ], [XY, YY, YZ], [XZ, YZ, ZZ]])\n",
    "    K[i] = Matrix([[h[0], h[1], h[2]]])*rot_mats[i]*K*rot_mats[i].inv()*Matrix([[h[0]], [h[1]], [h[2]]])\n",
    "    print(K[i])"
   ]
  }
 ],
 "metadata": {
  "kernelspec": {
   "display_name": "Python 3",
   "language": "python",
   "name": "python3"
  },
  "language_info": {
   "codemirror_mode": {
    "name": "ipython",
    "version": 3
   },
   "file_extension": ".py",
   "mimetype": "text/x-python",
   "name": "python",
   "nbconvert_exporter": "python",
   "pygments_lexer": "ipython3",
   "version": "3.11.9"
  }
 },
 "nbformat": 4,
 "nbformat_minor": 2
}
