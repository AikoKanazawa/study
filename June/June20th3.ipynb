{
 "cells": [
  {
   "cell_type": "code",
   "execution_count": 8,
   "metadata": {},
   "outputs": [
    {
     "name": "stdout",
     "output_type": "stream",
     "text": [
      "Best initial guess: [-0.6788294  -0.45041332 -0.75073158  0.03998426  0.1260447  -0.03863788\n",
      " -0.35952389  0.06368512  0.21659271]\n",
      "Residual: 1.7460375129194326e-14\n",
      "Solution: [-6.78829399e-01  3.04378536e+00 -6.35882818e-01  1.26701899e-15\n",
      "  1.77649236e-15 -7.37440436e-16 -6.08709047e-15  1.55679912e-15\n",
      "  3.01714491e-15]\n"
     ]
    }
   ],
   "source": [
    "import numpy as np\n",
    "from scipy.optimize import least_squares\n",
    "\n",
    "# サンプルデータ (ここでは仮定のデータを使用しています。実際のデータに置き換えてください)\n",
    "h_vec = np.random.rand(3, 100)  # 100個の3次元ベクトルのデータ\n",
    "\n",
    "# 非線形関数の定義\n",
    "def func(params):\n",
    "    h = np.array([params[0], params[1], params[2]])\n",
    "    K = np.array([\n",
    "        [params[3], params[4], params[5]],\n",
    "        [params[4], params[6], params[7]],\n",
    "        [params[5], params[7], params[8]]\n",
    "    ])\n",
    "    K_rot = np.array([np.dot(h_vec[:, i].T, np.dot(K, h_vec[:, i])) for i in range(h_vec.shape[1])])\n",
    "    return K_rot\n",
    "\n",
    "# ランダムサーチの範囲と試行回数を定義\n",
    "initial_guess_range = (-1, 1)\n",
    "num_trials = 1000  # 試行回数\n",
    "best_initial_guess = None\n",
    "best_residual = np.inf\n",
    "\n",
    "# ランダムサーチを実行\n",
    "for _ in range(num_trials):\n",
    "    initial_guess = np.random.uniform(initial_guess_range[0], initial_guess_range[1], 9)\n",
    "    result = least_squares(func, initial_guess)\n",
    "    \n",
    "    # 残差のノルムが最小の初期値を選択\n",
    "    residual = np.linalg.norm(func(result.x))\n",
    "    if residual < best_residual:\n",
    "        best_residual = residual\n",
    "        best_initial_guess = initial_guess\n",
    "\n",
    "print(f\"Best initial guess: {best_initial_guess}\")\n",
    "print(f\"Residual: {best_residual}\")\n",
    "\n",
    "# 最適な初期値を使って非線形方程式を解く\n",
    "result = least_squares(func, best_initial_guess)\n",
    "print(\"Solution:\", result.x)"
   ]
  }
 ],
 "metadata": {
  "kernelspec": {
   "display_name": "Python 3",
   "language": "python",
   "name": "python3"
  },
  "language_info": {
   "codemirror_mode": {
    "name": "ipython",
    "version": 3
   },
   "file_extension": ".py",
   "mimetype": "text/x-python",
   "name": "python",
   "nbconvert_exporter": "python",
   "pygments_lexer": "ipython3",
   "version": "3.11.9"
  }
 },
 "nbformat": 4,
 "nbformat_minor": 2
}
