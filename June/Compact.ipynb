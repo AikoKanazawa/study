{
 "cells": [
  {
   "cell_type": "code",
   "execution_count": 21,
   "metadata": {},
   "outputs": [],
   "source": [
    "import numpy as np"
   ]
  },
  {
   "cell_type": "code",
   "execution_count": 22,
   "metadata": {},
   "outputs": [],
   "source": [
    "import math"
   ]
  },
  {
   "cell_type": "code",
   "execution_count": 23,
   "metadata": {},
   "outputs": [],
   "source": [
    "import matplotlib.pyplot as plt"
   ]
  },
  {
   "cell_type": "code",
   "execution_count": 24,
   "metadata": {},
   "outputs": [],
   "source": [
    "import sympy"
   ]
  },
  {
   "cell_type": "code",
   "execution_count": 25,
   "metadata": {},
   "outputs": [],
   "source": [
    "from sympy import *"
   ]
  },
  {
   "cell_type": "code",
   "execution_count": 26,
   "metadata": {},
   "outputs": [],
   "source": [
    "import matplotlib.animation as animation"
   ]
  },
  {
   "cell_type": "code",
   "execution_count": 27,
   "metadata": {},
   "outputs": [],
   "source": [
    "import random"
   ]
  },
  {
   "cell_type": "code",
   "execution_count": 28,
   "metadata": {},
   "outputs": [],
   "source": [
    "import torch"
   ]
  },
  {
   "cell_type": "code",
   "execution_count": 29,
   "metadata": {},
   "outputs": [
    {
     "name": "stdout",
     "output_type": "stream",
     "text": [
      "Random value: 0.30359822511672974\n",
      "Experimental data is larger than random value.\n"
     ]
    }
   ],
   "source": [
    "# ランダムな値の生成\n",
    "random_value = torch.rand(1).item()  # 0から1の範囲でランダムな値を1つ生成\n",
    "print(\"Random value:\", random_value)\n",
    "\n",
    "# 実験データを別途生成\n",
    "experimental_data = 0.7  # 実際の実験データに置き換えてください\n",
    "\n",
    "# データの比較\n",
    "if experimental_data < random_value:\n",
    "    print(\"Experimental data is smaller than random value.\")\n",
    "elif experimental_data > random_value:\n",
    "    print(\"Experimental data is larger than random value.\")\n",
    "else:\n",
    "    print(\"Experimental data is equal to random value.\")"
   ]
  },
  {
   "cell_type": "code",
   "execution_count": 30,
   "metadata": {},
   "outputs": [
    {
     "name": "stdout",
     "output_type": "stream",
     "text": [
      "与えられた値: 0.7\n",
      "最も近いランダムな値: 0.7003092169761658\n"
     ]
    }
   ],
   "source": [
    "# ランダムな値を生成する関数\n",
    "def generate_random_values(n):\n",
    "    return torch.rand(n)\n",
    "\n",
    "# 最も近い値を見つける関数\n",
    "def find_closest_value(given_value, random_values):\n",
    "    # 与えられた値とランダム値の差の絶対値を計算\n",
    "    differences = torch.abs(random_values - given_value)\n",
    "    # 最も小さい差を持つインデックスを取得\n",
    "    closest_index = torch.argmin(differences)\n",
    "    # 最も近い値を取得\n",
    "    closest_value = random_values[closest_index]\n",
    "    return closest_value.item()\n",
    "\n",
    "# 実験で与えられた値\n",
    "given_value = 0.7  # 例として0.7とします\n",
    "\n",
    "# ランダムな値を生成\n",
    "num_random_values = 1000  # ランダムな値の数を指定\n",
    "random_values = generate_random_values(num_random_values)\n",
    "\n",
    "# 最も近い値を見つける\n",
    "closest_value = find_closest_value(given_value, random_values)\n",
    "\n",
    "# 結果を表示\n",
    "print(f\"与えられた値: {given_value}\")\n",
    "print(f\"最も近いランダムな値: {closest_value}\")"
   ]
  }
 ],
 "metadata": {
  "kernelspec": {
   "display_name": "Python 3",
   "language": "python",
   "name": "python3"
  },
  "language_info": {
   "codemirror_mode": {
    "name": "ipython",
    "version": 3
   },
   "file_extension": ".py",
   "mimetype": "text/x-python",
   "name": "python",
   "nbconvert_exporter": "python",
   "pygments_lexer": "ipython3",
   "version": "3.11.9"
  }
 },
 "nbformat": 4,
 "nbformat_minor": 2
}
