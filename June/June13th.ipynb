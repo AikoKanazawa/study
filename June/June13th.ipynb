{
 "cells": [
  {
   "cell_type": "code",
   "execution_count": 38,
   "metadata": {},
   "outputs": [
    {
     "name": "stdout",
     "output_type": "stream",
     "text": [
      "H\n",
      "e\n",
      "l\n",
      "l\n",
      "o\n",
      " \n",
      "P\n",
      "y\n",
      "t\n",
      "h\n",
      "o\n",
      "n\n"
     ]
    }
   ],
   "source": [
    "message = 'Hello Python'\n",
    "\n",
    "for ch in message:\n",
    "    print(ch)"
   ]
  },
  {
   "cell_type": "code",
   "execution_count": 39,
   "metadata": {},
   "outputs": [
    {
     "name": "stdout",
     "output_type": "stream",
     "text": [
      "orange\n",
      "melon\n",
      "lemon\n"
     ]
    }
   ],
   "source": [
    "fruit = [\"orange\",\"melon\",\"lemon\"]\n",
    "for f in fruit:\n",
    "    print(f)"
   ]
  },
  {
   "cell_type": "code",
   "execution_count": 40,
   "metadata": {},
   "outputs": [
    {
     "name": "stdout",
     "output_type": "stream",
     "text": [
      "[[1. 0. 0.]\n",
      " [0. 1. 0.]\n",
      " [0. 0. 1.]]\n"
     ]
    }
   ],
   "source": [
    "import numpy as np\n",
    "\n",
    "# n次元の単位行列を生成する関数\n",
    "def create_identity_matrix(n):\n",
    "    return np.eye(3)\n",
    "\n",
    "identity_matrix = create_identity_matrix(n)\n",
    "print(identity_matrix)"
   ]
  },
  {
   "cell_type": "code",
   "execution_count": 41,
   "metadata": {},
   "outputs": [
    {
     "name": "stdout",
     "output_type": "stream",
     "text": [
      "Matrix([[a*j + b*k + c*l], [d*j + e*k + f*l], [g*j + h*k + i*l]])\n",
      "Matrix([[-y**2 - z**2, x*y, x*z], [x*y, -x**2 - z**2, y*z], [x*z, y*z, -x**2 - y**2]])\n"
     ]
    }
   ],
   "source": [
    "import numpy as np\n",
    "import sympy\n",
    "from sympy import Matrix, Symbol\n",
    "\n",
    "a = Symbol('a')\n",
    "b = Symbol('b')\n",
    "c = Symbol('c')\n",
    "d = Symbol('d')\n",
    "e = Symbol('e')\n",
    "f = Symbol('f')\n",
    "g = Symbol('g')\n",
    "h = Symbol('h')\n",
    "i = Symbol('i')\n",
    "j = Symbol('j')\n",
    "k = Symbol('k')\n",
    "l = Symbol('l')\n",
    "x = Symbol('x')\n",
    "y = Symbol('y')\n",
    "z = Symbol('z')\n",
    "\n",
    "R = Matrix([[a, b, c], [d, e, f], [g, h, i]])\n",
    "v = Matrix([[j], [k], [l]])\n",
    "T = Matrix([[0, -z, y], [z, 0, -x], [-y, x, 0]])\n",
    "h = R*v\n",
    "n = T**(2)\n",
    "\n",
    "print(h)\n",
    "print(n)"
   ]
  }
 ],
 "metadata": {
  "kernelspec": {
   "display_name": "Python 3",
   "language": "python",
   "name": "python3"
  },
  "language_info": {
   "codemirror_mode": {
    "name": "ipython",
    "version": 3
   },
   "file_extension": ".py",
   "mimetype": "text/x-python",
   "name": "python",
   "nbconvert_exporter": "python",
   "pygments_lexer": "ipython3",
   "version": "3.11.9"
  }
 },
 "nbformat": 4,
 "nbformat_minor": 2
}
