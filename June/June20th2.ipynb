{
 "cells": [
  {
   "cell_type": "code",
   "execution_count": 4,
   "metadata": {},
   "outputs": [
    {
     "name": "stdout",
     "output_type": "stream",
     "text": [
      "Best initial guess: [0. 0.]\n",
      "Residual: 2.482534153247273e-16\n",
      "Solution: [0.70710678 0.70710678]\n"
     ]
    }
   ],
   "source": [
    "import numpy as np\n",
    "from scipy.optimize import least_squares\n",
    "\n",
    "# 非線形関数の定義\n",
    "def func(x):\n",
    "    return np.array([\n",
    "        x[0]**2 + x[1]**2 - 1,\n",
    "        x[0] * x[1] - 0.5\n",
    "    ])\n",
    "\n",
    "# グリッドサーチの範囲とステップを定義\n",
    "initial_guess_range = np.linspace(-2, 2, 5)  # -2から2の範囲を5分割\n",
    "best_initial_guess = None\n",
    "best_residual = np.inf\n",
    "\n",
    "# グリッドサーチを実行\n",
    "for x0 in initial_guess_range:\n",
    "    for y0 in initial_guess_range:\n",
    "        initial_guess = np.array([x0, y0])\n",
    "        result = least_squares(func, initial_guess)\n",
    "        \n",
    "        # 残差のノルムが最小の初期値を選択\n",
    "        residual = np.linalg.norm(func(result.x))\n",
    "        if residual < best_residual:\n",
    "            best_residual = residual\n",
    "            best_initial_guess = initial_guess\n",
    "\n",
    "print(f\"Best initial guess: {best_initial_guess}\")\n",
    "print(f\"Residual: {best_residual}\")\n",
    "\n",
    "# 最適な初期値を使って非線形方程式を解く\n",
    "result = least_squares(func, best_initial_guess)\n",
    "print(\"Solution:\", result.x)\n"
   ]
  }
 ],
 "metadata": {
  "kernelspec": {
   "display_name": "Python 3",
   "language": "python",
   "name": "python3"
  },
  "language_info": {
   "codemirror_mode": {
    "name": "ipython",
    "version": 3
   },
   "file_extension": ".py",
   "mimetype": "text/x-python",
   "name": "python",
   "nbconvert_exporter": "python",
   "pygments_lexer": "ipython3",
   "version": "3.11.9"
  }
 },
 "nbformat": 4,
 "nbformat_minor": 2
}
