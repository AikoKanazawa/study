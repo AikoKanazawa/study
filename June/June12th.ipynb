{
 "cells": [
  {
   "cell_type": "code",
   "execution_count": 4,
   "metadata": {},
   "outputs": [
    {
     "name": "stdout",
     "output_type": "stream",
     "text": [
      "Original vector: [1 0 0]\n",
      "Rotation axis: [ 9 47 51]\n",
      "Rotation angle (radians): 1.5707963267948966\n",
      "Rotated vector: [ 0.01656103  0.81572683 -0.5782002 ]\n"
     ]
    }
   ],
   "source": [
    "import numpy as np\n",
    "import random\n",
    "\n",
    "def rodrigues_rotation(v, k, theta):\n",
    "    k = k / np.linalg.norm(k)  # 回転軸を正規化\n",
    "    v_rot = (v * np.cos(theta) +\n",
    "             np.cross(k, v) * np.sin(theta) +\n",
    "             k * np.dot(k, v) * (1 - np.cos(theta)))\n",
    "    return v_rot\n",
    "\n",
    "# 例として使用するベクトルと回転軸、回転角度\n",
    "v = np.array([1, 0, 0])  # 回転させるベクトル（s）\n",
    "k = np.array(random.sample(range(1,100), 3))  # 回転軸（n）\n",
    "theta = np.radians(90)  # 回転角度（90度）\n",
    "\n",
    "# ロドリゲスの回転公式を使用してベクトルを回転\n",
    "v_rot = rodrigues_rotation(v, k, theta)\n",
    "\n",
    "print(f\"Original vector: {v}\")\n",
    "print(f\"Rotation axis: {k}\")\n",
    "print(f\"Rotation angle (radians): {theta}\")\n",
    "print(f\"Rotated vector: {v_rot}\")\n"
   ]
  }
 ],
 "metadata": {
  "kernelspec": {
   "display_name": "Python 3",
   "language": "python",
   "name": "python3"
  },
  "language_info": {
   "codemirror_mode": {
    "name": "ipython",
    "version": 3
   },
   "file_extension": ".py",
   "mimetype": "text/x-python",
   "name": "python",
   "nbconvert_exporter": "python",
   "pygments_lexer": "ipython3",
   "version": "3.11.9"
  }
 },
 "nbformat": 4,
 "nbformat_minor": 2
}
