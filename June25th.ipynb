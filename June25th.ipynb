{
 "cells": [
  {
   "cell_type": "code",
   "execution_count": 1,
   "metadata": {},
   "outputs": [
    {
     "name": "stdout",
     "output_type": "stream",
     "text": [
      "tensor([[0.3551, 0.4655, 0.3689],\n",
      "        [0.8979, 0.2648, 0.5020],\n",
      "        [0.4930, 0.9869, 0.7101],\n",
      "        [0.7937, 0.6875, 0.1922],\n",
      "        [0.0841, 0.7555, 0.0511]])\n"
     ]
    }
   ],
   "source": [
    "# ランダムに初期化されたテンソルを表示するコード\n",
    "from __future__ import print_function\n",
    "import torch\n",
    "x = torch.rand(5, 3)\n",
    "print(x)"
   ]
  }
 ],
 "metadata": {
  "kernelspec": {
   "display_name": "Python 3",
   "language": "python",
   "name": "python3"
  },
  "language_info": {
   "codemirror_mode": {
    "name": "ipython",
    "version": 3
   },
   "file_extension": ".py",
   "mimetype": "text/x-python",
   "name": "python",
   "nbconvert_exporter": "python",
   "pygments_lexer": "ipython3",
   "version": "3.11.9"
  }
 },
 "nbformat": 4,
 "nbformat_minor": 2
}
