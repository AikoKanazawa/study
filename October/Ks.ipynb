{
 "cells": [
  {
   "cell_type": "code",
   "execution_count": 7,
   "metadata": {},
   "outputs": [],
   "source": [
    "import numpy as np\n",
    "import sympy\n",
    "from sympy import *"
   ]
  },
  {
   "cell_type": "code",
   "execution_count": 8,
   "metadata": {},
   "outputs": [
    {
     "name": "stdout",
     "output_type": "stream",
     "text": [
      "Matrix([[0], [C], [S]])\n"
     ]
    }
   ],
   "source": [
    "n1 = 1\n",
    "n2 = 0\n",
    "n3 = 0\n",
    "s1 = 0\n",
    "s2 = 1\n",
    "s3 = 0\n",
    "C = Symbol('C')\n",
    "S = Symbol('S')\n",
    "\n",
    "T = sympy.Matrix([[n1**(2)*(1-C)+C, n1*n2*(1-C)-n3*S, n1*n3*(1-C)+n2*S], \n",
    "            [n1*n2*(1-C)+n3*S, n2**(2)*(1-C)+C, n2*n3*(1-C)-n1*S], \n",
    "            [n1*n3*(1-C)-n2*S, n2*n3*(1-C)+n1*S, n3**(2)*(1-C)+C]])\n",
    "\n",
    "s = sympy.Matrix([[s1], [s2], [s3]])\n",
    "\n",
    "h = T*s\n",
    "\n",
    "print(h)"
   ]
  },
  {
   "cell_type": "code",
   "execution_count": 9,
   "metadata": {},
   "outputs": [
    {
     "name": "stdout",
     "output_type": "stream",
     "text": [
      "Matrix([[C*(C*Kyy + Kyz*S) + S*(C*Kyz + Kzz*S)]])\n",
      "Matrix([[C*(0.75*C*Kxx + 0.866025403784438*C*Kxy + 0.25*C*Kyy - 0.866025403784439*Kxz*S - 0.5*Kyz*S) + S*(-0.866025403784439*C*Kxz - 0.5*C*Kyz + Kzz*S)]])\n",
      "Matrix([[C*(0.75*C*Kxx - 0.866025403784438*C*Kxy + 0.25*C*Kyy + 0.866025403784439*Kxz*S - 0.5*Kyz*S) + S*(0.866025403784439*C*Kxz - 0.5*C*Kyz + Kzz*S)]])\n"
     ]
    }
   ],
   "source": [
    "C = Symbol('C')\n",
    "S = Symbol('S')\n",
    "\n",
    "Kxx = Symbol('Kxx')\n",
    "Kxy = Symbol('Kxy')\n",
    "Kyy = Symbol('Kyy')\n",
    "Kyz = Symbol('Kyz')\n",
    "Kzz = Symbol('Kzz')\n",
    "Kxz = Symbol('Kxz')\n",
    "\n",
    "K = sympy.Matrix([[Kxx, Kxy, Kxz], [Kxy, Kyy, Kyz], [Kxz, Kyz, Kzz]])\n",
    "\n",
    "R2 = Matrix([[np.cos(np.radians(-120)), np.sin(np.radians(-120)), 0], [np.sin(np.radians(-120)), np.cos(np.radians(-120)), 0], [0, 0, 1]])\n",
    "R3 = Matrix([[np.cos(np.radians(120)), np.sin(np.radians(120)), 0], [np.sin(np.radians(120)), np.cos(np.radians(120)), 0], [0, 0, 1]])\n",
    "\n",
    "Kzz1 = (h.T)*K*h\n",
    "Kzz2 = (h.T)*R2*K*(R2.T)*h\n",
    "Kzz3 = (h.T)*R3*K*(R3.T)*h\n",
    "\n",
    "print(Kzz1)\n",
    "print(Kzz2)\n",
    "print(Kzz3)"
   ]
  },
  {
   "cell_type": "code",
   "execution_count": 10,
   "metadata": {},
   "outputs": [
    {
     "name": "stdout",
     "output_type": "stream",
     "text": [
      "Matrix([[-0.5*x - 0.866025403784439*y], [0.866025403784439*x - 0.5*y], [z]])\n"
     ]
    }
   ],
   "source": [
    "T = Matrix([[np.cos(np.radians(-120)), np.sin(np.radians(-120)), 0], [-np.sin(np.radians(-120)), np.cos(np.radians(-120)), 0], [0, 0, 1]])\n",
    "\n",
    "x = Symbol('x')\n",
    "y = Symbol('y')\n",
    "z = Symbol('z')\n",
    "\n",
    "K = sympy.Matrix([[x],[y],[z]])\n",
    "\n",
    "print(T*K)"
   ]
  },
  {
   "cell_type": "code",
   "execution_count": 11,
   "metadata": {},
   "outputs": [
    {
     "name": "stdout",
     "output_type": "stream",
     "text": [
      "Matrix([[-0.5*x + 0.866025403784439*y], [-0.866025403784439*x - 0.5*y], [1.0*z]])\n"
     ]
    }
   ],
   "source": [
    "n1 = 0\n",
    "n2 = 0\n",
    "n3 = 1\n",
    "\n",
    "C = np.cos(np.radians(-120))\n",
    "S = np.sin(np.radians(-120))\n",
    "\n",
    "T = np.array([[n1**(2)*(1-C)+C, n1*n2*(1-C)-n3*S, n1*n3*(1-C)+n2*S], \n",
    "            [n1*n2*(1-C)+n3*S, n2**(2)*(1-C)+C, n2*n3*(1-C)-n1*S], \n",
    "            [n1*n3*(1-C)-n2*S, n2*n3*(1-C)+n1*S, n3**(2)*(1-C)+C]])\n",
    "\n",
    "x = Symbol('x')\n",
    "y = Symbol('y')\n",
    "z = Symbol('z')\n",
    "\n",
    "K = sympy.Matrix([[x],[y],[z]])\n",
    "\n",
    "print(T @ K)"
   ]
  },
  {
   "cell_type": "code",
   "execution_count": 12,
   "metadata": {},
   "outputs": [
    {
     "name": "stdout",
     "output_type": "stream",
     "text": [
      "Matrix([[6.12323399573677e-17*x], [1.0*x], [0.333333333333333]])\n"
     ]
    }
   ],
   "source": [
    "n1 = 0\n",
    "n2 = 0\n",
    "n3 = 1\n",
    "\n",
    "C = np.cos(np.radians(90))\n",
    "S = np.sin(np.radians(90))\n",
    "\n",
    "T = np.array([[n1**(2)*(1-C)+C, n1*n2*(1-C)-n3*S, n1*n3*(1-C)+n2*S], \n",
    "            [n1*n2*(1-C)+n3*S, n2**(2)*(1-C)+C, n2*n3*(1-C)-n1*S], \n",
    "            [n1*n3*(1-C)-n2*S, n2*n3*(1-C)+n1*S, n3**(2)*(1-C)+C]])\n",
    "\n",
    "x = Symbol('x')\n",
    "\n",
    "K = sympy.Matrix([x,0,1/3])\n",
    "\n",
    "print(T @ K)"
   ]
  }
 ],
 "metadata": {
  "kernelspec": {
   "display_name": "Python 3",
   "language": "python",
   "name": "python3"
  },
  "language_info": {
   "codemirror_mode": {
    "name": "ipython",
    "version": 3
   },
   "file_extension": ".py",
   "mimetype": "text/x-python",
   "name": "python",
   "nbconvert_exporter": "python",
   "pygments_lexer": "ipython3",
   "version": "3.11.9"
  }
 },
 "nbformat": 4,
 "nbformat_minor": 2
}
