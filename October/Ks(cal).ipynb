{
 "cells": [
  {
   "cell_type": "code",
   "execution_count": 256,
   "metadata": {},
   "outputs": [],
   "source": [
    "import numpy as np"
   ]
  },
  {
   "cell_type": "code",
   "execution_count": 257,
   "metadata": {},
   "outputs": [],
   "source": [
    "from sympy import symbols, Matrix, cos, sin, pi, solve"
   ]
  },
  {
   "cell_type": "code",
   "execution_count": 258,
   "metadata": {},
   "outputs": [
    {
     "name": "stdout",
     "output_type": "stream",
     "text": [
      "[[-1.2835     -3.21555232  7.64700432]\n",
      " [-3.21555232 -6.1425      4.415     ]\n",
      " [ 7.64700432  4.415       0.        ]]\n",
      "[[-1.2835      3.21555232 -7.64700432]\n",
      " [ 3.21555232 -6.1425      4.415     ]\n",
      " [-7.64700432  4.415       0.        ]]\n",
      "[[ 3.95806374e-16  7.64700432e+00  4.41500000e+00]\n",
      " [ 7.64700432e+00 -1.28350000e+00 -3.21555232e+00]\n",
      " [ 4.41500000e+00 -3.21555232e+00 -6.14250000e+00]]\n",
      "[[-1.47716950e-15 -7.64700432e+00  4.41500000e+00]\n",
      " [-7.64700432e+00 -1.28350000e+00  3.21555232e+00]\n",
      " [ 4.41500000e+00  3.21555232e+00 -6.14250000e+00]]\n"
     ]
    }
   ],
   "source": [
    "def R(t,p):\n",
    "    R = np.array([[np.cos(np.radians(p)), -np.sin(np.radians(p))*np.cos(np.radians(t)), np.sin(np.radians(p))*np.sin(np.radians(t))], \n",
    "                [np.sin(np.radians(p)), np.cos(np.radians(p))*np.cos(np.radians(t)), -np.cos(np.radians(p))*np.sin(np.radians(t))],\n",
    "                [0, np.sin(np.radians(t)), np.cos(np.radians(t))]])\n",
    "    return R\n",
    "\n",
    "Kxx = -8.572\n",
    "Kyy = 1.146\n",
    "Kzz = 0.0\n",
    "Kyz = -8.830\n",
    "Kzx = 0.0\n",
    "Kxy = 0.0\n",
    "\n",
    "K = np.array([[Kxx, Kxy, Kzx], [Kxy, Kyy ,Kyz], [Kzx, Kyz, Kzz]])\n",
    "\n",
    "R2 = np.array([[np.cos(np.radians(-120)), np.sin(np.radians(-120)), 0], [np.sin(np.radians(-120)), np.cos(np.radians(-120)), 0], [0, 0, 1]])\n",
    "R3 = np.array([[np.cos(np.radians(120)), np.sin(np.radians(120)), 0], [np.sin(np.radians(120)), np.cos(np.radians(120)), 0], [0, 0, 1]])\n",
    "\n",
    "Kn2 = R2 @ K @ R2.T\n",
    "Kn3 = R3 @ K @ R3.T\n",
    "Knn2 = R(90,90) @ Kn2 @ R(90,90).T\n",
    "Knn3 = R(90,90) @ Kn3 @ R(90,90).T\n",
    "\n",
    "print(Kn2)\n",
    "print(Kn3)\n",
    "print(Knn2)\n",
    "print(Knn3)"
   ]
  },
  {
   "cell_type": "code",
   "execution_count": 259,
   "metadata": {},
   "outputs": [
    {
     "name": "stdout",
     "output_type": "stream",
     "text": [
      "[[ 0.01261111]\n",
      " [ 0.73100335]\n",
      " [-0.68234639]]\n",
      "[[-0.36498542]\n",
      " [-0.63195583]\n",
      " [-0.68376517]]\n",
      "[[ 0.93099091]\n",
      " [-0.25765332]\n",
      " [-0.25882072]]\n"
     ]
    }
   ],
   "source": [
    "n1 = 0.180\n",
    "n2 = 0.673\n",
    "n3 = -0.718\n",
    "\n",
    "s1 = 1\n",
    "s2 = 0\n",
    "s3 = 0\n",
    "\n",
    "s4 = 0 \n",
    "s5 = 0.68382885\n",
    "s6 = -0.72964245\n",
    "\n",
    "s7 = 0 \n",
    "s8 = -0.72964245\n",
    "s9 = -0.68382885 \n",
    "\n",
    "C = np.cos(np.radians(21.77))\n",
    "S = np.sin(np.radians(21.77))\n",
    "\n",
    "T = np.array([[n1**(2)*(1-C)+C, n1*n2*(1-C)-n3*S, n1*n3*(1-C)+n2*S], \n",
    "            [n1*n2*(1-C)+n3*S, n2**(2)*(1-C)+C, n2*n3*(1-C)-n1*S], \n",
    "            [n1*n3*(1-C)-n2*S, n2*n3*(1-C)+n1*S, n3**(2)*(1-C)+C]])\n",
    "\n",
    "sv1 = np.array([[s1], [s2], [s3]])\n",
    "sv2 = np.array([[s4], [s5], [s6]])\n",
    "sv3 = np.array([[s7], [s8], [s9]])\n",
    "\n",
    "h1 = T @ sv1\n",
    "h2 = T @ sv2\n",
    "h3 = T @ sv3\n",
    "\n",
    "print(h2)\n",
    "print(h3)\n",
    "print(h1)"
   ]
  },
  {
   "cell_type": "code",
   "execution_count": 260,
   "metadata": {},
   "outputs": [
    {
     "name": "stdout",
     "output_type": "stream",
     "text": [
      "[[ 0.34191442]\n",
      " [-0.59221316]\n",
      " [ 0.72964245]]\n",
      "[[-0.36482122]\n",
      " [ 0.6318889 ]\n",
      " [ 0.68382885]]\n",
      "[[ 8.660254e-01]\n",
      " [ 5.000000e-01]\n",
      " [-6.123234e-17]]\n"
     ]
    }
   ],
   "source": [
    "n1 = 1\n",
    "n2 = 0\n",
    "n3 = 0\n",
    "\n",
    "s1 = 0.8660254\n",
    "s2 = -0.5\n",
    "s3 = 0\n",
    "\n",
    "s4 = 0.34191442 \n",
    "s5 = 0.59221316\n",
    "s6 = -0.72964245\n",
    "\n",
    "s7 = -0.36482122 \n",
    "s8 = -0.6318889\n",
    "s9 = -0.68382885\n",
    "\n",
    "C = np.cos(np.radians(180))\n",
    "S = np.sin(np.radians(180))\n",
    "\n",
    "T = np.array([[n1**(2)*(1-C)+C, n1*n2*(1-C)-n3*S, n1*n3*(1-C)+n2*S], \n",
    "            [n1*n2*(1-C)+n3*S, n2**(2)*(1-C)+C, n2*n3*(1-C)-n1*S], \n",
    "            [n1*n3*(1-C)-n2*S, n2*n3*(1-C)+n1*S, n3**(2)*(1-C)+C]])\n",
    "\n",
    "sv1 = np.array([[s1], [s2], [s3]])\n",
    "sv2 = np.array([[s4], [s5], [s6]])\n",
    "sv3 = np.array([[s7], [s8], [s9]])\n",
    "\n",
    "h1 = T @ sv1\n",
    "h2 = T @ sv2\n",
    "h3 = T @ sv3\n",
    "\n",
    "print(h2)\n",
    "print(h3)\n",
    "print(h1)"
   ]
  },
  {
   "cell_type": "code",
   "execution_count": 261,
   "metadata": {},
   "outputs": [
    {
     "name": "stdout",
     "output_type": "stream",
     "text": [
      "[[ 0.01232102]\n",
      " [ 0.73223379]\n",
      " [-0.68336336]]\n",
      "[[0.36484284]\n",
      " [0.63196975]\n",
      " [0.6837426 ]]\n",
      "[[-0.93104695]\n",
      " [ 0.25689163]\n",
      " [ 0.25936375]]\n"
     ]
    }
   ],
   "source": [
    "n1 = 0.180\n",
    "n2 = 0.673\n",
    "n3 = -0.718\n",
    "\n",
    "s1 = 0.8660254\n",
    "s2 = -0.5\n",
    "s3 = 0\n",
    "\n",
    "s4 = 0.34191442 \n",
    "s5 = 0.59221316\n",
    "s6 = -0.72964245\n",
    "\n",
    "s7 = -0.36482122 \n",
    "s8 = -0.6318889\n",
    "s9 = -0.68382885\n",
    "\n",
    "C = np.cos(np.radians(180))\n",
    "S = np.sin(np.radians(180))\n",
    "\n",
    "T = np.array([[n1**(2)*(1-C)+C, n1*n2*(1-C)-n3*S, n1*n3*(1-C)+n2*S], \n",
    "            [n1*n2*(1-C)+n3*S, n2**(2)*(1-C)+C, n2*n3*(1-C)-n1*S], \n",
    "            [n1*n3*(1-C)-n2*S, n2*n3*(1-C)+n1*S, n3**(2)*(1-C)+C]])\n",
    "\n",
    "sv1 = np.array([[s1], [s2], [s3]])\n",
    "sv2 = np.array([[s4], [s5], [s6]])\n",
    "sv3 = np.array([[s7], [s8], [s9]])\n",
    "\n",
    "h1 = T @ sv1\n",
    "h2 = T @ sv2\n",
    "h3 = T @ sv3\n",
    "\n",
    "print(h2)\n",
    "print(h3)\n",
    "print(h1)"
   ]
  },
  {
   "cell_type": "code",
   "execution_count": 262,
   "metadata": {},
   "outputs": [
    {
     "name": "stdout",
     "output_type": "stream",
     "text": [
      "[[-6.142  4.208  4.414]\n",
      " [ 4.208 -1.283  7.647]\n",
      " [ 4.414  7.647  0.   ]]\n",
      "[[ 1.1464849   0.99288069 -8.82949626]\n",
      " [ 0.99288069 -1.2830151  -7.64613613]\n",
      " [-8.82949626 -7.64613613  0.        ]]\n",
      "[[-6.14198490e+00  7.42311931e+00  4.41549626e+00]\n",
      " [ 7.42311931e+00 -8.57148490e+00 -8.63867695e-04]\n",
      " [ 4.41549626e+00 -8.63867695e-04  0.00000000e+00]]\n"
     ]
    }
   ],
   "source": [
    "Kxx = -6.142\n",
    "Kyy = -1.283\n",
    "Kzz = 0.0\n",
    "Kyz = 7.647\n",
    "Kzx = 4.414\n",
    "Kxy = 4.208\n",
    "\n",
    "K = np.array([[Kxx, Kxy, Kzx], [Kxy, Kyy, Kyz], [Kzx, Kyz, Kzz]])\n",
    "\n",
    "R2 = np.array([[np.cos(np.radians(-120)), np.sin(np.radians(-120)), 0], [np.sin(np.radians(-120)), np.cos(np.radians(-120)), 0], [0, 0, 1]])\n",
    "R3 = np.array([[np.cos(np.radians(120)), np.sin(np.radians(120)), 0], [np.sin(np.radians(120)), np.cos(np.radians(120)), 0], [0, 0, 1]])\n",
    "\n",
    "Kzz1 = K\n",
    "Kzz2 = R2 @ K @ (R2.T)\n",
    "Kzz3 = R3 @ K @ (R3.T)\n",
    "\n",
    "print(Kzz1)\n",
    "print(Kzz2)\n",
    "print(Kzz3)"
   ]
  },
  {
   "cell_type": "code",
   "execution_count": 263,
   "metadata": {},
   "outputs": [
    {
     "name": "stdout",
     "output_type": "stream",
     "text": [
      "Diagonal Matrix D:\n",
      "[[-8.27557214  0.          0.        ]\n",
      " [ 0.          9.42157214  0.        ]\n",
      " [ 0.          0.         -8.572     ]]\n",
      "Eigenvalue: -8.275572144702217\n",
      "Corresponding Eigenvector: [ 0.          0.68382885 -0.72964245]\n",
      "\n",
      "Eigenvalue: 9.421572144702218\n",
      "Corresponding Eigenvector: [ 0.         -0.72964245 -0.68382885]\n",
      "\n",
      "Eigenvalue: -8.572\n",
      "Corresponding Eigenvector: [1. 0. 0.]\n",
      "\n"
     ]
    }
   ],
   "source": [
    "Kxx = -8.572\n",
    "Kyy = 1.146\n",
    "Kzz = 0.0\n",
    "Kyz = 8.830\n",
    "Kzx = 0.0\n",
    "Kxy = 0.0\n",
    "\n",
    "K = np.array([[Kxx, Kxy, Kzx], [Kxy, Kyy ,Kyz], [Kzx, Kyz, Kzz]])\n",
    "\n",
    "# Calculate eigenvalues and eigenvectors\n",
    "eigenvalues, eigenvectors = np.linalg.eig(K)\n",
    "\n",
    "# Create a diagonal matrix with the eigenvalues\n",
    "D = np.diag(eigenvalues)\n",
    "\n",
    "# Print the diagonal matrix\n",
    "print(\"Diagonal Matrix D:\")\n",
    "print(D)\n",
    "\n",
    "# Display eigenvalues and their corresponding eigenvectors\n",
    "for i in range(len(eigenvalues)):\n",
    "    print(f\"Eigenvalue: {eigenvalues[i]}\")\n",
    "    print(f\"Corresponding Eigenvector: {eigenvectors[:, i]}\")\n",
    "    print()  # Add a blank line for better readability"
   ]
  },
  {
   "cell_type": "code",
   "execution_count": 264,
   "metadata": {},
   "outputs": [
    {
     "name": "stdout",
     "output_type": "stream",
     "text": [
      "Diagonal Matrix D:\n",
      "[[ 9.42107105  0.          0.        ]\n",
      " [ 0.         -8.57120746  0.        ]\n",
      " [ 0.          0.         -8.27586358]]\n",
      "Eigenvalue: 9.421071045696731\n",
      "Corresponding Eigenvector: [ 0.05138714 -0.72781554  0.68384494]\n",
      "\n",
      "Eigenvalue: -8.571207460869937\n",
      "Corresponding Eigenvector: [-9.97497640e-01 -7.06991827e-02 -2.88683805e-04]\n",
      "\n",
      "Eigenvalue: -8.275863584826789\n",
      "Corresponding Eigenvector: [-0.04855739  0.68211888  0.72962731]\n",
      "\n"
     ]
    }
   ],
   "source": [
    "Kxx = -8.523\n",
    "Kyy = 1.097\n",
    "Kzz = 0.0\n",
    "Kyz = -8.808\n",
    "Kzx = 0.6218\n",
    "Kxy = -0.6827\n",
    "\n",
    "K = np.array([[Kxx, Kxy, Kzx], [Kxy, Kyy ,Kyz], [Kzx, Kyz, Kzz]])\n",
    "\n",
    "# Calculate eigenvalues and eigenvectors\n",
    "eigenvalues, eigenvectors = np.linalg.eig(K)\n",
    "\n",
    "# Create a diagonal matrix with the eigenvalues\n",
    "D = np.diag(eigenvalues)\n",
    "\n",
    "# Print the diagonal matrix\n",
    "print(\"Diagonal Matrix D:\")\n",
    "print(D)\n",
    "\n",
    "# Display eigenvalues and their corresponding eigenvectors\n",
    "for i in range(len(eigenvalues)):\n",
    "    print(f\"Eigenvalue: {eigenvalues[i]}\")\n",
    "    print(f\"Corresponding Eigenvector: {eigenvectors[:, i]}\")\n",
    "    print()  # Add a blank line for better readability"
   ]
  },
  {
   "cell_type": "code",
   "execution_count": 265,
   "metadata": {},
   "outputs": [
    {
     "name": "stdout",
     "output_type": "stream",
     "text": [
      "Diagonal Matrix D:\n",
      "[[ 9.42132764  0.          0.        ]\n",
      " [ 0.         -8.57148623  0.        ]\n",
      " [ 0.          0.         -8.27484141]]\n",
      "Eigenvalue: 9.421327638480506\n",
      "Corresponding Eigenvector: [-0.36479779 -0.63191468 -0.68381753]\n",
      "\n",
      "Eigenvalue: -8.571486233067837\n",
      "Corresponding Eigenvector: [-0.86531596  0.50122436 -0.00155843]\n",
      "\n",
      "Eigenvalue: -8.274841405412674\n",
      "Corresponding Eigenvector: [-0.3437308  -0.59114971  0.7296514 ]\n",
      "\n"
     ]
    }
   ],
   "source": [
    "Kxx = -6.142\n",
    "Kyy = -1.283\n",
    "Kzz = 0.0\n",
    "Kyz = 7.647\n",
    "Kzx = 4.414\n",
    "Kxy = 4.208\n",
    "\n",
    "K = np.array([[Kxx, Kxy, Kzx], [Kxy, Kyy ,Kyz], [Kzx, Kyz, Kzz]])\n",
    "\n",
    "# Calculate eigenvalues and eigenvectors\n",
    "eigenvalues, eigenvectors = np.linalg.eig(K)\n",
    "\n",
    "# Create a diagonal matrix with the eigenvalues\n",
    "D = np.diag(eigenvalues)\n",
    "\n",
    "# Print the diagonal matrix\n",
    "print(\"Diagonal Matrix D:\")\n",
    "print(D)\n",
    "\n",
    "# Display eigenvalues and their corresponding eigenvectors\n",
    "for i in range(len(eigenvalues)):\n",
    "    print(f\"Eigenvalue: {eigenvalues[i]}\")\n",
    "    print(f\"Corresponding Eigenvector: {eigenvectors[:, i]}\")\n",
    "    print()  # Add a blank line for better readability"
   ]
  },
  {
   "cell_type": "code",
   "execution_count": 266,
   "metadata": {},
   "outputs": [
    {
     "name": "stdout",
     "output_type": "stream",
     "text": [
      "Rotation axis for Eigenvalue -8.274: [0.99881524 0.03550675 0.03327731]\n",
      "Rotation angle for Eigenvalue -8.274: 93.77936210585366\n",
      "Rotation axis for Eigenvalue 9.421: [-0.99867347 -0.03521087  0.03756985]\n",
      "Rotation angle for Eigenvalue 9.421: 86.36430835444159\n",
      "Rotation axis for Eigenvalue -8.572: [ 0.          0.00408324 -0.99999166]\n",
      "Rotation angle for Eigenvalue -8.572: 175.94581920869453\n"
     ]
    }
   ],
   "source": [
    "# データ①の固有ベクトル\n",
    "v1_1 = np.array([0, 0.68382885, -0.72964245])\n",
    "v1_2 = np.array([0, -0.72964245, -0.68382885])\n",
    "v1_3 = np.array([1, 0, 0])\n",
    "\n",
    "# データ②の固有ベクトル\n",
    "v2_1 = np.array([-0.04855739, 0.68211888, 0.72962731])\n",
    "v2_2 = np.array([0.05138714, -0.72781554, 0.68384494])\n",
    "v2_3 = np.array([-9.97497640e-01, -7.06991827e-02, -2.88683805e-04])\n",
    "\n",
    "# ベクトルの正規化（単位ベクトルにする）\n",
    "v1_1 = v1_1 / np.linalg.norm(v1_1)\n",
    "v1_2 = v1_2 / np.linalg.norm(v1_2)\n",
    "v1_3 = v1_3 / np.linalg.norm(v1_3)\n",
    "\n",
    "v2_1 = v2_1 / np.linalg.norm(v2_1)\n",
    "v2_2 = v2_2 / np.linalg.norm(v2_2)\n",
    "v2_3 = v2_3 / np.linalg.norm(v2_3)\n",
    "\n",
    "# 回転行列を求めるための関数\n",
    "def rotation_matrix_from_vectors(vec1, vec2):\n",
    "    \"\"\" Return the rotation matrix that aligns vec1 to vec2 \"\"\"\n",
    "    a, b = (vec1 / np.linalg.norm(vec1)).reshape(3), (vec2 / np.linalg.norm(vec2)).reshape(3)\n",
    "    v = np.cross(a, b)  # 外積で回転軸を計算\n",
    "    c = np.dot(a, b)    # 内積で回転角のコサインを計算\n",
    "    s = np.linalg.norm(v)  # 外積のノルムが回転角のサインに対応\n",
    "    kmat = np.array([[0, -v[2], v[1]], [v[2], 0, -v[0]], [-v[1], v[0], 0]])\n",
    "    rotation_matrix = np.eye(3) + kmat + kmat @ kmat * ((1 - c) / (s ** 2))\n",
    "    return rotation_matrix, v / s  # 回転行列と正規化された回転軸を返す\n",
    "\n",
    "# 各固有ベクトルの回転行列と回転軸を計算\n",
    "R1, axis1 = rotation_matrix_from_vectors(v1_1, v2_1)\n",
    "R2, axis2 = rotation_matrix_from_vectors(v1_2, v2_2)\n",
    "R3, axis3 = rotation_matrix_from_vectors(v1_3, v2_3)\n",
    "\n",
    "# 回転角を得るための関数\n",
    "def rotation_angle_from_matrix(R):\n",
    "    \"\"\" Return the rotation angle from the rotation matrix \"\"\"\n",
    "    angle = np.arccos((np.trace(R) - 1) / 2)\n",
    "    return np.degrees(angle)\n",
    "\n",
    "# 各回転行列から回転角を計算\n",
    "angle1 = rotation_angle_from_matrix(R1)\n",
    "angle2 = rotation_angle_from_matrix(R2)\n",
    "angle3 = rotation_angle_from_matrix(R3)\n",
    "\n",
    "# 結果を表示\n",
    "print(\"Rotation axis for Eigenvalue -8.274:\", axis1)\n",
    "print(\"Rotation angle for Eigenvalue -8.274:\", angle1)\n",
    "\n",
    "print(\"Rotation axis for Eigenvalue 9.421:\", axis2)\n",
    "print(\"Rotation angle for Eigenvalue 9.421:\", angle2)\n",
    "\n",
    "print(\"Rotation axis for Eigenvalue -8.572:\", axis3)\n",
    "print(\"Rotation angle for Eigenvalue -8.572:\", angle3)"
   ]
  },
  {
   "cell_type": "code",
   "execution_count": 267,
   "metadata": {},
   "outputs": [
    {
     "name": "stdout",
     "output_type": "stream",
     "text": [
      "Rotation axis for Eigenvalue -8.274: [0.19304819 0.71591735 0.67096553]\n",
      "Rotation angle for Eigenvalue 9.421: 159.4930753908228\n",
      "Rotation axis for Eigenvalue 9.421: [ 0.18017451  0.67263776 -0.7177016 ]\n",
      "Rotation angle for Eigenvalue 9.421: 21.76910698193047\n",
      "Rotation axis for Eigenvalue -8.572: [-0.          0.00310923  0.99999517]\n",
      "Rotation angle for Eigenvalue -8.572: 149.91880343459837\n"
     ]
    }
   ],
   "source": [
    "# データ①の固有ベクトル\n",
    "v1_1 = np.array([0, 0.68382885, -0.72964245])\n",
    "v1_2 = np.array([0, -0.72964245, -0.68382885])\n",
    "v1_3 = np.array([1, 0, 0])\n",
    "\n",
    "# データ②の固有ベクトル\n",
    "v2_1 = np.array([-0.3437308, -0.59114971, 0.7296514])\n",
    "v2_2 = np.array([-0.36479779, -0.63191468, -0.68381753])\n",
    "v2_3 = np.array([-0.86531596, 0.50122436, -0.00155843])\n",
    "\n",
    "# ベクトルの正規化（単位ベクトルにする）\n",
    "v1_1 = v1_1 / np.linalg.norm(v1_1)\n",
    "v1_2 = v1_2 / np.linalg.norm(v1_2)\n",
    "v1_3 = v1_3 / np.linalg.norm(v1_3)\n",
    "\n",
    "v2_1 = v2_1 / np.linalg.norm(v2_1)\n",
    "v2_2 = v2_2 / np.linalg.norm(v2_2)\n",
    "v2_3 = v2_3 / np.linalg.norm(v2_3)\n",
    "\n",
    "# 回転行列を求めるための関数\n",
    "def rotation_matrix_from_vectors(vec1, vec2):\n",
    "    \"\"\" Return the rotation matrix that aligns vec1 to vec2 \"\"\"\n",
    "    a, b = (vec1 / np.linalg.norm(vec1)).reshape(3), (vec2 / np.linalg.norm(vec2)).reshape(3)\n",
    "    v = np.cross(a, b)  # 外積で回転軸を計算\n",
    "    c = np.dot(a, b)    # 内積で回転角のコサインを計算\n",
    "    s = np.linalg.norm(v)  # 外積のノルムが回転角のサインに対応\n",
    "    kmat = np.array([[0, -v[2], v[1]], [v[2], 0, -v[0]], [-v[1], v[0], 0]])\n",
    "    rotation_matrix = np.eye(3) + kmat + kmat @ kmat * ((1 - c) / (s ** 2))\n",
    "    return rotation_matrix, v / s  # 回転行列と正規化された回転軸を返す\n",
    "\n",
    "# 各固有ベクトルの回転行列と回転軸を計算\n",
    "R1, axis1 = rotation_matrix_from_vectors(v1_1, v2_1)\n",
    "R2, axis2 = rotation_matrix_from_vectors(v1_2, v2_2)\n",
    "R3, axis3 = rotation_matrix_from_vectors(v1_3, v2_3)\n",
    "\n",
    "# 回転角を得るための関数\n",
    "def rotation_angle_from_matrix(R):\n",
    "    \"\"\" Return the rotation angle from the rotation matrix \"\"\"\n",
    "    angle = np.arccos((np.trace(R) - 1) / 2)\n",
    "    return np.degrees(angle)\n",
    "\n",
    "# 各回転行列から回転角を計算\n",
    "angle1 = rotation_angle_from_matrix(R1)\n",
    "angle2 = rotation_angle_from_matrix(R2)\n",
    "angle3 = rotation_angle_from_matrix(R3)\n",
    "\n",
    "# 結果を表示\n",
    "print(\"Rotation axis for Eigenvalue -8.274:\", axis1)\n",
    "print(\"Rotation angle for Eigenvalue 9.421:\", angle1)\n",
    "\n",
    "print(\"Rotation axis for Eigenvalue 9.421:\", axis2)\n",
    "print(\"Rotation angle for Eigenvalue 9.421:\", angle2)\n",
    "\n",
    "print(\"Rotation axis for Eigenvalue -8.572:\", axis3)\n",
    "print(\"Rotation angle for Eigenvalue -8.572:\", angle3)"
   ]
  },
  {
   "cell_type": "code",
   "execution_count": 268,
   "metadata": {},
   "outputs": [
    {
     "name": "stdout",
     "output_type": "stream",
     "text": [
      "Rotation axis for Eigenvalue -8.274: [-0.53958627 -0.6143081  -0.57573624]\n",
      "Rotation angle for Eigenvalue 9.421: 60.06940633424332\n",
      "Rotation axis for Eigenvalue 9.421: [-0.6143081  -0.53958627  0.57573624]\n",
      "Rotation angle for Eigenvalue 9.421: 119.93059366575669\n",
      "Rotation axis for Eigenvalue -8.572: [ 0.  0. -1.]\n",
      "Rotation angle for Eigenvalue -8.572: 90.0\n"
     ]
    }
   ],
   "source": [
    "# データ①の固有ベクトル\n",
    "v1_1 = np.array([0, 0.68382885, -0.72964245])\n",
    "v1_2 = np.array([0, -0.72964245, -0.68382885])\n",
    "v1_3 = np.array([1, 0, 0])\n",
    "\n",
    "# データ②の固有ベクトル\n",
    "v2_1 = np.array([0.72964245, 0.0, -0.68382885])\n",
    "v2_2 = np.array([0.68382885, 0.0, 0.72964245])\n",
    "v2_3 = np.array([0, -1, 0])\n",
    "\n",
    "# ベクトルの正規化（単位ベクトルにする）\n",
    "v1_1 = v1_1 / np.linalg.norm(v1_1)\n",
    "v1_2 = v1_2 / np.linalg.norm(v1_2)\n",
    "v1_3 = v1_3 / np.linalg.norm(v1_3)\n",
    "\n",
    "v2_1 = v2_1 / np.linalg.norm(v2_1)\n",
    "v2_2 = v2_2 / np.linalg.norm(v2_2)\n",
    "v2_3 = v2_3 / np.linalg.norm(v2_3)\n",
    "\n",
    "# 回転行列を求めるための関数\n",
    "def rotation_matrix_from_vectors(vec1, vec2):\n",
    "    \"\"\" Return the rotation matrix that aligns vec1 to vec2 \"\"\"\n",
    "    a, b = (vec1 / np.linalg.norm(vec1)).reshape(3), (vec2 / np.linalg.norm(vec2)).reshape(3)\n",
    "    v = np.cross(a, b)  # 外積で回転軸を計算\n",
    "    c = np.dot(a, b)    # 内積で回転角のコサインを計算\n",
    "    s = np.linalg.norm(v)  # 外積のノルムが回転角のサインに対応\n",
    "    kmat = np.array([[0, -v[2], v[1]], [v[2], 0, -v[0]], [-v[1], v[0], 0]])\n",
    "    rotation_matrix = np.eye(3) + kmat + kmat @ kmat * ((1 - c) / (s ** 2))\n",
    "    return rotation_matrix, v / s  # 回転行列と正規化された回転軸を返す\n",
    "\n",
    "# 各固有ベクトルの回転行列と回転軸を計算\n",
    "R1, axis1 = rotation_matrix_from_vectors(v1_1, v2_1)\n",
    "R2, axis2 = rotation_matrix_from_vectors(v1_2, v2_2)\n",
    "R3, axis3 = rotation_matrix_from_vectors(v1_3, v2_3)\n",
    "\n",
    "# 回転角を得るための関数\n",
    "def rotation_angle_from_matrix(R):\n",
    "    \"\"\" Return the rotation angle from the rotation matrix \"\"\"\n",
    "    angle = np.arccos((np.trace(R) - 1) / 2)\n",
    "    return np.degrees(angle)\n",
    "\n",
    "# 各回転行列から回転角を計算\n",
    "angle1 = rotation_angle_from_matrix(R1)\n",
    "angle2 = rotation_angle_from_matrix(R2)\n",
    "angle3 = rotation_angle_from_matrix(R3)\n",
    "\n",
    "# 結果を表示\n",
    "print(\"Rotation axis for Eigenvalue -8.274:\", axis1)\n",
    "print(\"Rotation angle for Eigenvalue 9.421:\", angle1)\n",
    "\n",
    "print(\"Rotation axis for Eigenvalue 9.421:\", axis2)\n",
    "print(\"Rotation angle for Eigenvalue 9.421:\", angle2)\n",
    "\n",
    "print(\"Rotation axis for Eigenvalue -8.572:\", axis3)\n",
    "print(\"Rotation angle for Eigenvalue -8.572:\", angle3)"
   ]
  },
  {
   "cell_type": "code",
   "execution_count": 269,
   "metadata": {},
   "outputs": [
    {
     "name": "stdout",
     "output_type": "stream",
     "text": [
      "Eigenvalues and Eigenvectors of A:\n",
      "Eigenvalue 1: -8.275572144702217\n",
      "Corresponding Eigenvector 1: [ 0.          0.68382885 -0.72964245]\n",
      "\n",
      "Eigenvalue 2: 9.421572144702218\n",
      "Corresponding Eigenvector 2: [ 0.         -0.72964245 -0.68382885]\n",
      "\n",
      "Eigenvalue 3: -8.572\n",
      "Corresponding Eigenvector 3: [1. 0. 0.]\n",
      "\n",
      "Eigenvalues and Eigenvectors of B:\n",
      "Eigenvalue 1: 9.421441853413409\n",
      "Corresponding Eigenvector 1: [ 0.05138609 -0.72782907  0.68383061]\n",
      "\n",
      "Eigenvalue 2: -8.571203965934066\n",
      "Corresponding Eigenvector 2: [-9.97503280e-01 -7.06198476e-02 -2.06747794e-04]\n",
      "\n",
      "Eigenvalue 3: -8.275537887479349\n",
      "Corresponding Eigenvector 3: [-0.04844249  0.68211266  0.72964077]\n",
      "\n",
      "Unitary matrix U:\n",
      "[[-0.04844249  0.76296003  0.64462804]\n",
      " [ 0.68211266 -0.44618328  0.57934688]\n",
      " [ 0.72964077  0.46777395 -0.49881046]]\n",
      "Check Unitarity (U @ U† should be identity):\n",
      "[[ 1.  0. -0.]\n",
      " [ 0.  1.  0.]\n",
      " [-0.  0.  1.]]\n"
     ]
    }
   ],
   "source": [
    "# 行列 A と B\n",
    "A = np.array([[-8.572, 0.0, 0.0], [0.0, 1.146, 8.83], [0.0, 8.83, 0.0]])\n",
    "B = np.array([[-8.523, -0.6827, 0.6218], [-0.6827, 1.0977, -8.808], [0.6218, -8.808, 0.0]])\n",
    "\n",
    "# 行列 A の固有値と固有ベクトルを計算\n",
    "eigenvalues_A, eigenvectors_A = np.linalg.eig(A)\n",
    "\n",
    "# 行列 B の固有値と固有ベクトルを計算\n",
    "eigenvalues_B, eigenvectors_B = np.linalg.eig(B)\n",
    "\n",
    "# 行列 A の固有値と対応する固有ベクトルを表示\n",
    "print(\"Eigenvalues and Eigenvectors of A:\")\n",
    "for i in range(len(eigenvalues_A)):\n",
    "    print(f\"Eigenvalue {i+1}: {eigenvalues_A[i]}\")\n",
    "    print(f\"Corresponding Eigenvector {i+1}: {eigenvectors_A[:, i]}\")\n",
    "    print()\n",
    "\n",
    "# 行列 B の固有値と対応する固有ベクトルを表示\n",
    "print(\"Eigenvalues and Eigenvectors of B:\")\n",
    "for i in range(len(eigenvalues_B)):\n",
    "    print(f\"Eigenvalue {i+1}: {eigenvalues_B[i]}\")\n",
    "    print(f\"Corresponding Eigenvector {i+1}: {eigenvectors_B[:, i]}\")\n",
    "    print()\n",
    "\n",
    "# ユニタリ行列を計算\n",
    "U = eigenvectors_B @ np.linalg.inv(eigenvectors_A)\n",
    "\n",
    "print(\"Unitary matrix U:\")\n",
    "print(U)\n",
    "\n",
    "# ユニタリ性の確認 (U U† = I であることを確認)\n",
    "print(\"Check Unitarity (U @ U† should be identity):\")\n",
    "print(np.round(U @ U.conj().T, decimals=10))"
   ]
  },
  {
   "cell_type": "code",
   "execution_count": 270,
   "metadata": {},
   "outputs": [
    {
     "name": "stdout",
     "output_type": "stream",
     "text": [
      "Eigenvalues and Eigenvectors of A:\n",
      "Eigenvalue 1: -8.275572144702217\n",
      "Corresponding Eigenvector 1: [ 0.          0.68382885 -0.72964245]\n",
      "\n",
      "Eigenvalue 2: 9.421572144702218\n",
      "Corresponding Eigenvector 2: [ 0.         -0.72964245 -0.68382885]\n",
      "\n",
      "Eigenvalue 3: -8.572\n",
      "Corresponding Eigenvector 3: [1. 0. 0.]\n",
      "\n",
      "Eigenvalues and Eigenvectors of B:\n",
      "Eigenvalue 1: 9.421327638480506\n",
      "Corresponding Eigenvector 1: [-0.36479779 -0.63191468 -0.68381753]\n",
      "\n",
      "Eigenvalue 2: -8.571486233067837\n",
      "Corresponding Eigenvector 2: [-0.86531596  0.50122436 -0.00155843]\n",
      "\n",
      "Eigenvalue 3: -8.274841405412674\n",
      "Corresponding Eigenvector 3: [-0.3437308  -0.59114971  0.7296514 ]\n",
      "\n",
      "Unitary matrix U:\n",
      "[[-0.3437308   0.381912    0.85789997]\n",
      " [-0.59114971 -0.79783606  0.11832009]\n",
      " [ 0.7296514  -0.46647706  0.500008  ]]\n",
      "Check Unitarity (U @ U† should be identity):\n",
      "[[ 1. -0.  0.]\n",
      " [-0.  1. -0.]\n",
      " [ 0. -0.  1.]]\n"
     ]
    }
   ],
   "source": [
    "# 行列 A と B\n",
    "A = np.array([[-8.572, 0.0, 0.0], [0.0, 1.146, 8.83], [0.0, 8.83, 0.0]])\n",
    "B = np.array([[-6.142, 4.208, 4.414], [4.208, -1.283, 7.647], [4.414, 7.647, 0.0]])\n",
    "\n",
    "# 行列 A の固有値と固有ベクトルを計算\n",
    "eigenvalues_A, eigenvectors_A = np.linalg.eig(A)\n",
    "\n",
    "# 行列 B の固有値と固有ベクトルを計算\n",
    "eigenvalues_B, eigenvectors_B = np.linalg.eig(B)\n",
    "\n",
    "# 行列 A の固有値と対応する固有ベクトルを表示\n",
    "print(\"Eigenvalues and Eigenvectors of A:\")\n",
    "for i in range(len(eigenvalues_A)):\n",
    "    print(f\"Eigenvalue {i+1}: {eigenvalues_A[i]}\")\n",
    "    print(f\"Corresponding Eigenvector {i+1}: {eigenvectors_A[:, i]}\")\n",
    "    print()\n",
    "\n",
    "# 行列 B の固有値と対応する固有ベクトルを表示\n",
    "print(\"Eigenvalues and Eigenvectors of B:\")\n",
    "for i in range(len(eigenvalues_B)):\n",
    "    print(f\"Eigenvalue {i+1}: {eigenvalues_B[i]}\")\n",
    "    print(f\"Corresponding Eigenvector {i+1}: {eigenvectors_B[:, i]}\")\n",
    "    print()\n",
    "\n",
    "# ユニタリ行列を計算\n",
    "U = eigenvectors_B @ np.linalg.inv(eigenvectors_A)\n",
    "\n",
    "print(\"Unitary matrix U:\")\n",
    "print(U)\n",
    "\n",
    "# ユニタリ性の確認 (U U† = I であることを確認)\n",
    "print(\"Check Unitarity (U @ U† should be identity):\")\n",
    "print(np.round(U @ U.conj().T, decimals=10))"
   ]
  },
  {
   "cell_type": "code",
   "execution_count": 271,
   "metadata": {},
   "outputs": [
    {
     "data": {
      "text/plain": [
       "array([ 1.       , -0.0458136, -1.4134713])"
      ]
     },
     "execution_count": 271,
     "metadata": {},
     "output_type": "execute_result"
    }
   ],
   "source": [
    "na_a = np.array([0.0, 0.68382885, -0.72964245])\n",
    "na_b = np.array([0.0, -0.72964245, -0.68382885])\n",
    "na_c = np.array([1,0,0])\n",
    "na_add = na_a + na_b + na_c\n",
    "na_add"
   ]
  },
  {
   "cell_type": "code",
   "execution_count": 272,
   "metadata": {},
   "outputs": [
    {
     "data": {
      "text/plain": [
       "array([-0.99466789, -0.11639584,  1.41318357])"
      ]
     },
     "execution_count": 272,
     "metadata": {},
     "output_type": "execute_result"
    }
   ],
   "source": [
    "na_a = np.array([0.05138714, -0.72781554, 0.683844943])\n",
    "na_b = np.array([-9.97497640e-01, -7.06991827e-02, -2.88683805e-04])\n",
    "na_c = np.array([-0.04855739, 0.68211888, 0.72962731])\n",
    "na_add = na_a + na_b + na_c\n",
    "na_add"
   ]
  },
  {
   "cell_type": "code",
   "execution_count": 273,
   "metadata": {},
   "outputs": [
    {
     "data": {
      "text/plain": [
       "array([-1.57384455, -0.72184003,  0.04427544])"
      ]
     },
     "execution_count": 273,
     "metadata": {},
     "output_type": "execute_result"
    }
   ],
   "source": [
    "na_a = np.array([-0.36479779, -0.63191468, -0.68381753])\n",
    "na_b = np.array([-0.86531596, 0.50122436, -0.00155843])\n",
    "na_c = np.array([-0.3437308, -0.59114971, 0.7296514])\n",
    "na_add = na_a + na_b + na_c\n",
    "na_add"
   ]
  },
  {
   "cell_type": "code",
   "execution_count": 274,
   "metadata": {},
   "outputs": [
    {
     "data": {
      "text/plain": [
       "(array([0.8164759 , 0.02581586, 0.57680208]), 174.62928218480488)"
      ]
     },
     "execution_count": 274,
     "metadata": {},
     "output_type": "execute_result"
    }
   ],
   "source": [
    "# 2つのベクトルの定義\n",
    "v1 = np.array([-0.99466789, -0.11639584,  1.41318357])\n",
    "v2 = np.array([1.0, -0.0458136, -1.4134713])\n",
    "\n",
    "# 回転軸の計算（外積）\n",
    "axis = np.cross(v1, v2)\n",
    "axis_normalized = axis / np.linalg.norm(axis)  # 単位ベクトルに正規化\n",
    "\n",
    "# 回転角度の計算（内積からcosθを使って求める）\n",
    "cos_theta = np.dot(v1, v2) / (np.linalg.norm(v1) * np.linalg.norm(v2))\n",
    "theta_rad = np.arccos(cos_theta)  # ラジアンでの角度\n",
    "theta_deg = np.degrees(theta_rad)  # 度に変換\n",
    "\n",
    "axis_normalized, theta_deg"
   ]
  },
  {
   "cell_type": "code",
   "execution_count": 275,
   "metadata": {},
   "outputs": [
    {
     "data": {
      "text/plain": [
       "(0.9781476007338057, 0.20791169081775934)"
      ]
     },
     "execution_count": 275,
     "metadata": {},
     "output_type": "execute_result"
    }
   ],
   "source": [
    "# Calculate cosine and sine of ? degrees\n",
    "cos = np.cos(np.radians(12))\n",
    "sin = np.sin(np.radians(12))\n",
    "cos, sin"
   ]
  },
  {
   "cell_type": "code",
   "execution_count": 276,
   "metadata": {},
   "outputs": [
    {
     "name": "stdout",
     "output_type": "stream",
     "text": [
      "[[ 7.29653061e-01]\n",
      " [ 3.31866156e-05]\n",
      " [-6.83817530e-01]]\n"
     ]
    }
   ],
   "source": [
    "n1,n2,n3 = 0,0,1\n",
    "s1,s2,s3 = -0.36479779, -0.63191468, -0.68381753\n",
    "\n",
    "t = 120\n",
    "\n",
    "C = np.cos(np.radians(t))\n",
    "S = np.sin(np.radians(t))\n",
    "\n",
    "T = np.array([[n1**(2)*(1-C)+C, n1*n2*(1-C)-n3*S, n1*n3*(1-C)+n2*S], \n",
    "            [n1*n2*(1-C)+n3*S, n2**(2)*(1-C)+C, n2*n3*(1-C)-n1*S], \n",
    "            [n1*n3*(1-C)-n2*S, n2*n3*(1-C)+n1*S, n3**(2)*(1-C)+C]])\n",
    "\n",
    "sv = np.array([[s1], [s2], [s3]])\n",
    "\n",
    "h = T @ sv\n",
    "\n",
    "print(h)"
   ]
  },
  {
   "cell_type": "code",
   "execution_count": 277,
   "metadata": {},
   "outputs": [
    {
     "name": "stdout",
     "output_type": "stream",
     "text": [
      "[[-1.15870465 -8.52947445 -1.77316393]\n",
      " [-8.52947445  1.87394889  1.97535696]\n",
      " [-1.77316393  1.97535696 -8.14124409]]\n"
     ]
    }
   ],
   "source": [
    "n1,n2,n3 = 0.8164759 , 0.02581586, 0.57680208\n",
    "\n",
    "t = 174.62928218480488\n",
    "\n",
    "C = np.cos(np.radians(t))\n",
    "S = np.sin(np.radians(t))\n",
    "\n",
    "T = np.array([[n1**(2)*(1-C)+C, n1*n2*(1-C)-n3*S, n1*n3*(1-C)+n2*S], \n",
    "            [n1*n2*(1-C)+n3*S, n2**(2)*(1-C)+C, n2*n3*(1-C)-n1*S], \n",
    "            [n1*n3*(1-C)-n2*S, n2*n3*(1-C)+n1*S, n3**(2)*(1-C)+C]])\n",
    "\n",
    "sv = np.array([[-8.572, 0.0, 0.0], [0.0, 1.146, 8.83], [0.0, 8.83, 0.0]])\n",
    "\n",
    "h = T @ sv @ T.T\n",
    "\n",
    "print(h)"
   ]
  },
  {
   "cell_type": "code",
   "execution_count": 278,
   "metadata": {},
   "outputs": [
    {
     "name": "stdout",
     "output_type": "stream",
     "text": [
      "[[-8.57148490e+00 -8.71849429e-06 -8.63867695e-04]\n",
      " [-8.71849429e-06  1.14648490e+00  8.82949626e+00]\n",
      " [-8.63867695e-04  8.82949626e+00  0.00000000e+00]]\n"
     ]
    }
   ],
   "source": [
    "n1,n2,n3 = 0,0,1\n",
    "\n",
    "t = 30\n",
    "\n",
    "C = np.cos(np.radians(t))\n",
    "S = np.sin(np.radians(t))\n",
    "\n",
    "T = np.array([[n1**(2)*(1-C)+C, n1*n2*(1-C)-n3*S, n1*n3*(1-C)+n2*S], \n",
    "            [n1*n2*(1-C)+n3*S, n2**(2)*(1-C)+C, n2*n3*(1-C)-n1*S], \n",
    "            [n1*n3*(1-C)-n2*S, n2*n3*(1-C)+n1*S, n3**(2)*(1-C)+C]])\n",
    "\n",
    "sv = np.array([[-6.142, 4.208, 4.414], [4.208, -1.283, 7.647], [4.414, 7.647, 0.0]])\n",
    "\n",
    "h = T @ sv @ T.T\n",
    "\n",
    "print(h)"
   ]
  },
  {
   "cell_type": "code",
   "execution_count": 279,
   "metadata": {},
   "outputs": [
    {
     "name": "stdout",
     "output_type": "stream",
     "text": [
      "[[-1.283 -4.208  7.647]\n",
      " [-4.208 -6.142 -4.414]\n",
      " [ 7.647 -4.414  0.   ]]\n"
     ]
    }
   ],
   "source": [
    "n1,n2,n3 = 0,0,1\n",
    "\n",
    "t = -90\n",
    "\n",
    "C = np.cos(np.radians(t))\n",
    "S = np.sin(np.radians(t))\n",
    "\n",
    "T = np.array([[n1**(2)*(1-C)+C, n1*n2*(1-C)-n3*S, n1*n3*(1-C)+n2*S], \n",
    "            [n1*n2*(1-C)+n3*S, n2**(2)*(1-C)+C, n2*n3*(1-C)-n1*S], \n",
    "            [n1*n3*(1-C)-n2*S, n2*n3*(1-C)+n1*S, n3**(2)*(1-C)+C]])\n",
    "\n",
    "sv = np.array([[-6.142, 4.208, 4.414], [4.208, -1.283, 7.647], [4.414, 7.647, 0.0]])\n",
    "\n",
    "h = T @ sv @ T.T\n",
    "\n",
    "print(h)"
   ]
  },
  {
   "cell_type": "code",
   "execution_count": 280,
   "metadata": {},
   "outputs": [
    {
     "name": "stdout",
     "output_type": "stream",
     "text": [
      "[[-1.28907776  4.21091962 -7.64399878]\n",
      " [ 4.21091962 -6.13622224 -4.4200432 ]\n",
      " [-7.64399878 -4.4200432   0.        ]]\n"
     ]
    }
   ],
   "source": [
    "n1,n2,n3 = 0,0,1\n",
    "\n",
    "t = -64\n",
    "\n",
    "C = np.cos(np.radians(t))\n",
    "S = np.sin(np.radians(t))\n",
    "\n",
    "T = np.array([[n1**(2)*(1-C)+C, n1*n2*(1-C)-n3*S, n1*n3*(1-C)+n2*S], \n",
    "            [n1*n2*(1-C)+n3*S, n2**(2)*(1-C)+C, n2*n3*(1-C)-n1*S], \n",
    "            [n1*n3*(1-C)-n2*S, n2*n3*(1-C)+n1*S, n3**(2)*(1-C)+C]])\n",
    "\n",
    "sv = np.array([[-8.523, -0.6827, 0.6218], [-0.6827, 1.0977, -8.808], [0.6218, -8.808, 0.0]])\n",
    "\n",
    "h = T @ sv @ T.T\n",
    "\n",
    "print(h)"
   ]
  },
  {
   "cell_type": "code",
   "execution_count": 281,
   "metadata": {},
   "outputs": [
    {
     "name": "stdout",
     "output_type": "stream",
     "text": [
      "[[-8.57148490e+00 -8.71849429e-06 -8.63867695e-04]\n",
      " [-8.71849429e-06  1.14648490e+00  8.82949626e+00]\n",
      " [-8.63867695e-04  8.82949626e+00  0.00000000e+00]]\n"
     ]
    }
   ],
   "source": [
    "n1,n2,n3 = 0,0,1\n",
    "\n",
    "t = 30\n",
    "\n",
    "C = np.cos(np.radians(t))\n",
    "S = np.sin(np.radians(t))\n",
    "\n",
    "T = np.array([[n1**(2)*(1-C)+C, n1*n2*(1-C)-n3*S, n1*n3*(1-C)+n2*S], \n",
    "            [n1*n2*(1-C)+n3*S, n2**(2)*(1-C)+C, n2*n3*(1-C)-n1*S], \n",
    "            [n1*n3*(1-C)-n2*S, n2*n3*(1-C)+n1*S, n3**(2)*(1-C)+C]])\n",
    "\n",
    "sv = np.array([[-6.142, 4.208, 4.414], [4.208, -1.283, 7.647], [4.414, 7.647, 0.0]])\n",
    "\n",
    "h = T @ sv @ T.T\n",
    "\n",
    "print(h)"
   ]
  },
  {
   "cell_type": "code",
   "execution_count": 282,
   "metadata": {},
   "outputs": [
    {
     "name": "stdout",
     "output_type": "stream",
     "text": [
      "[[ 3.31866156e-05]\n",
      " [-7.29653061e-01]\n",
      " [-6.83817530e-01]]\n",
      "[[-0.99999778]\n",
      " [ 0.00141505]\n",
      " [-0.00155843]]\n",
      "[[-0.00210475]\n",
      " [-0.68381607]\n",
      " [ 0.7296514 ]]\n"
     ]
    }
   ],
   "source": [
    "n1,n2,n3 = 0,0,1\n",
    "s1,s2,s3 = -0.36479779, -0.63191468, -0.68381753\n",
    "s4,s5,s6 = -0.86531596, 0.50122436, -0.00155843\n",
    "s7,s8,s9 = -0.3437308, -0.59114971, 0.7296514\n",
    "\n",
    "t = 30\n",
    "\n",
    "C = np.cos(np.radians(t))\n",
    "S = np.sin(np.radians(t))\n",
    "\n",
    "T = np.array([[n1**(2)*(1-C)+C, n1*n2*(1-C)-n3*S, n1*n3*(1-C)+n2*S], \n",
    "            [n1*n2*(1-C)+n3*S, n2**(2)*(1-C)+C, n2*n3*(1-C)-n1*S], \n",
    "            [n1*n3*(1-C)-n2*S, n2*n3*(1-C)+n1*S, n3**(2)*(1-C)+C]])\n",
    "\n",
    "sv1 = np.array([[s1], [s2], [s3]])\n",
    "sv2 = np.array([[s4], [s5], [s6]])\n",
    "sv3 = np.array([[s7], [s8], [s9]])\n",
    "\n",
    "h1 = T @ sv1\n",
    "h2 = T @ sv2\n",
    "h3 = T @ sv3\n",
    "\n",
    "print(h1)\n",
    "print(h2)\n",
    "print(h3)"
   ]
  },
  {
   "cell_type": "code",
   "execution_count": 283,
   "metadata": {},
   "outputs": [
    {
     "name": "stdout",
     "output_type": "stream",
     "text": [
      "[[-8.57200396e+00 -5.77923357e-06 -3.32370566e-06]\n",
      " [-5.77923357e-06  1.14600361e+00  8.83000282e+00]\n",
      " [-3.32370566e-06  8.83000282e+00 -6.49939977e-07]]\n"
     ]
    }
   ],
   "source": [
    "n1,n2,n3 = 0,0,1\n",
    "\n",
    "t = 120\n",
    "\n",
    "k1 = -1.2834932804107666\n",
    "k2 = -6.142507076263428\n",
    "k3 = -6.499399773929326e-07\n",
    "k4 = -4.414998531341553\n",
    "k5 = 7.647008419036865\n",
    "k6 = -4.208017826080322\n",
    "\n",
    "C = np.cos(np.radians(t))\n",
    "S = np.sin(np.radians(t))\n",
    "\n",
    "T = np.array([[n1**(2)*(1-C)+C, n1*n2*(1-C)-n3*S, n1*n3*(1-C)+n2*S], \n",
    "            [n1*n2*(1-C)+n3*S, n2**(2)*(1-C)+C, n2*n3*(1-C)-n1*S], \n",
    "            [n1*n3*(1-C)-n2*S, n2*n3*(1-C)+n1*S, n3**(2)*(1-C)+C]])\n",
    "\n",
    "sv = np.array([[k1,k6,k5],[k6,k2,k4],[k5,k4,k3]])\n",
    "\n",
    "h = T @ sv @ T.T\n",
    "\n",
    "print(h)"
   ]
  },
  {
   "cell_type": "code",
   "execution_count": 284,
   "metadata": {},
   "outputs": [
    {
     "name": "stdout",
     "output_type": "stream",
     "text": [
      "[[ 1.14648490e+00  8.71849429e-06 -8.82949626e+00]\n",
      " [ 8.71849429e-06 -8.57148490e+00 -8.63867695e-04]\n",
      " [-8.82949626e+00 -8.63867695e-04  0.00000000e+00]]\n"
     ]
    }
   ],
   "source": [
    "n1,n2,n3 = 0,0,1\n",
    "\n",
    "t = 120\n",
    "\n",
    "k1 = -6.142\n",
    "k2 = -1.283\n",
    "k3 = 0.0\n",
    "k4 = 7.647\n",
    "k5 = 4.414\n",
    "k6 = 4.208\n",
    "\n",
    "C = np.cos(np.radians(t))\n",
    "S = np.sin(np.radians(t))\n",
    "\n",
    "T = np.array([[n1**(2)*(1-C)+C, n1*n2*(1-C)-n3*S, n1*n3*(1-C)+n2*S], \n",
    "            [n1*n2*(1-C)+n3*S, n2**(2)*(1-C)+C, n2*n3*(1-C)-n1*S], \n",
    "            [n1*n3*(1-C)-n2*S, n2*n3*(1-C)+n1*S, n3**(2)*(1-C)+C]])\n",
    "\n",
    "sv = np.array([[k1,k6,k5],[k6,k2,k4],[k5,k4,k3]])\n",
    "\n",
    "h = T @ sv @ T.T\n",
    "\n",
    "print(h)"
   ]
  }
 ],
 "metadata": {
  "kernelspec": {
   "display_name": "Python 3",
   "language": "python",
   "name": "python3"
  },
  "language_info": {
   "codemirror_mode": {
    "name": "ipython",
    "version": 3
   },
   "file_extension": ".py",
   "mimetype": "text/x-python",
   "name": "python",
   "nbconvert_exporter": "python",
   "pygments_lexer": "ipython3",
   "version": "3.11.9"
  }
 },
 "nbformat": 4,
 "nbformat_minor": 2
}
