{
 "cells": [
  {
   "cell_type": "code",
   "execution_count": 1,
   "metadata": {},
   "outputs": [],
   "source": [
    "from sympy import *"
   ]
  },
  {
   "cell_type": "code",
   "execution_count": 2,
   "metadata": {},
   "outputs": [],
   "source": [
    "import numpy as np"
   ]
  },
  {
   "cell_type": "code",
   "execution_count": 3,
   "metadata": {},
   "outputs": [],
   "source": [
    "Kxx = Symbol('Kxx')\n",
    "Kyy = Symbol('Kyy')\n",
    "Kzz = Symbol('Kzz')\n",
    "Kxy = Symbol('Kxy')\n",
    "Kyz = Symbol('Kyz')\n",
    "Kxz = Symbol('Kxz')\n",
    "C = Symbol('C')\n",
    "S = Symbol('S')"
   ]
  },
  {
   "cell_type": "code",
   "execution_count": 4,
   "metadata": {},
   "outputs": [
    {
     "name": "stdout",
     "output_type": "stream",
     "text": [
      "Matrix([[C], [0.707106781186548*S], [-0.707106781186548*S]])\n",
      "[[-0.5       -0.8660254  0.       ]\n",
      " [ 0.8660254 -0.5        0.       ]\n",
      " [ 0.         0.         1.       ]]\n"
     ]
    }
   ],
   "source": [
    "n1 = 0\n",
    "n2 = 0.5**(0.5)\n",
    "n3 = 0.5**(0.5)\n",
    "T = Matrix([[n1**(2)*(1-C)+C, n1*n2*(1-C)-n3*S, n1*n3*(1-C)+n2*S], \n",
    "            [n1*n2*(1-C)+n3*S, n2**(2)*(1-C)+C, n2*n3*(1-C)-n1*S], \n",
    "            [n1*n3*(1-C)-n2*S, n2*n3*(1-C)+n1*S, n3**(2)*(1-C)+C]])\n",
    "s = Matrix(([1],[0],[0]))\n",
    "N1 = 0\n",
    "N2 = 0\n",
    "N3 = 1\n",
    "t = 120\n",
    "CC = np.cos(np.radians(t))\n",
    "SS = np.sin(np.radians(t))\n",
    "TT = np.array([[N1**(2)*(1-CC)+CC, N1*N2*(1-CC)-N3*SS, N1*N3*(1-CC)+N2*SS], \n",
    "                [N1*N2*(1-CC)+N3*SS, N2**(2)*(1-CC)+CC, N2*N3*(1-CC)-N1*SS], \n",
    "                [N1*N3*(1-CC)-N2*SS, N2*N3*(1-CC)+N1*SS, N3**(2)*(1-CC)+CC]])\n",
    "print(T*s)\n",
    "print(TT)"
   ]
  },
  {
   "cell_type": "code",
   "execution_count": 7,
   "metadata": {},
   "outputs": [
    {
     "name": "stdout",
     "output_type": "stream",
     "text": [
      "Matrix([[C*(C*Kxx + Kxy*S) + S*(C*Kxy + Kyy*S)]])\n",
      "Matrix([[C*(-0.5*Kxx*(-0.5*C + 0.866025403784439*S) - 0.5*Kxy*(-0.866025403784439*C - 0.5*S) - 0.866025403784439*Kxy*(-0.5*C + 0.866025403784439*S) - 0.866025403784439*Kyy*(-0.866025403784439*C - 0.5*S)) + S*(0.866025403784439*Kxx*(-0.5*C + 0.866025403784439*S) + 0.866025403784439*Kxy*(-0.866025403784439*C - 0.5*S) - 0.5*Kxy*(-0.5*C + 0.866025403784439*S) - 0.5*Kyy*(-0.866025403784439*C - 0.5*S))]])\n"
     ]
    }
   ],
   "source": [
    "Matrix([[C], [0.707106781186548*S], [-0.707106781186548*S]])\n",
    "A = Matrix(([Kxx, Kxy, Kxz],[Kxy, Kyy, Kyz],[Kxz, Kyz, Kzz]))\n",
    "r = Matrix(([-1/2, -3**(0.5)/2, 0], [3**(0.5)/2, -1/2, 0], [0, 0, 1]))\n",
    "print(h.T*A*h)\n",
    "print(h.T*r*A*r.inv()*h)"
   ]
  },
  {
   "cell_type": "code",
   "execution_count": 6,
   "metadata": {},
   "outputs": [
    {
     "name": "stdout",
     "output_type": "stream",
     "text": [
      "Matrix([[C*(C*Kxx + Kxy*S) + S*(C*Kxy + Kyy*S)]])\n",
      "Matrix([[C*(-0.5*Kxx*(-0.5*C + 0.866025403784439*S) - 0.5*Kxy*(-0.866025403784439*C - 0.5*S) - 0.866025403784439*Kxy*(-0.5*C + 0.866025403784439*S) - 0.866025403784439*Kyy*(-0.866025403784439*C - 0.5*S)) + S*(0.866025403784439*Kxx*(-0.5*C + 0.866025403784439*S) + 0.866025403784439*Kxy*(-0.866025403784439*C - 0.5*S) - 0.5*Kxy*(-0.5*C + 0.866025403784439*S) - 0.5*Kyy*(-0.866025403784439*C - 0.5*S))]])\n"
     ]
    }
   ],
   "source": [
    "h = Matrix(([C], [S], [0]))\n",
    "A = Matrix(([Kxx, Kxy, Kxz],[Kxy, Kyy, Kyz],[Kxz, Kyz, Kzz]))\n",
    "r = Matrix(([-1/2, -3**(0.5)/2, 0], [3**(0.5)/2, -1/2, 0], [0, 0, 1]))\n",
    "print(h.T*A*h)\n",
    "print(h.T*r*A*r.inv()*h)"
   ]
  }
 ],
 "metadata": {
  "kernelspec": {
   "display_name": "Python 3",
   "language": "python",
   "name": "python3"
  },
  "language_info": {
   "codemirror_mode": {
    "name": "ipython",
    "version": 3
   },
   "file_extension": ".py",
   "mimetype": "text/x-python",
   "name": "python",
   "nbconvert_exporter": "python",
   "pygments_lexer": "ipython3",
   "version": "3.11.9"
  }
 },
 "nbformat": 4,
 "nbformat_minor": 2
}
