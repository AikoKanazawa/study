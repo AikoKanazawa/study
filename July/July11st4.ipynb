{
 "cells": [
  {
   "cell_type": "code",
   "execution_count": 11,
   "metadata": {},
   "outputs": [],
   "source": [
    "%matplotlib inline\n",
    "from scipy.optimize import curve_fit\n",
    "import numpy as np\n",
    "import matplotlib.pyplot as plt\n",
    "import matplotlib.cm as cm\n",
    "from PIL import Image"
   ]
  },
  {
   "cell_type": "code",
   "execution_count": 12,
   "metadata": {},
   "outputs": [],
   "source": [
    "# PNG画像を読み込む\n",
    "image_path = 'sample.png'\n",
    "image = Image.open(image_path)\n",
    "image_array = np.array(image)\n",
    "\n",
    "# グレースケールに変換（必要に応じて）\n",
    "gray_image = image.convert('L')\n",
    "gray_array = np.array(gray_image)\n",
    "\n",
    "# 画像のx軸とy軸を定義\n",
    "x = np.arange(image_array.shape[1])\n",
    "y = np.arange(image_array.shape[0])"
   ]
  },
  {
   "cell_type": "code",
   "execution_count": 13,
   "metadata": {},
   "outputs": [],
   "source": [
    "def func(x, *params):\n",
    "\n",
    "    #paramsの長さでフィッティングする関数の数を判別。\n",
    "    num_func = int(len(params)/3)\n",
    "\n",
    "    #ガウス関数にそれぞれのパラメータを挿入してy_listに追加。\n",
    "    y_list = []\n",
    "    for i in range(num_func):\n",
    "        y = np.zeros_like(x)\n",
    "        param_range = list(range(3*i,3*(i+1),1))\n",
    "        amp = params[int(param_range[0])]\n",
    "        ctr = params[int(param_range[1])]\n",
    "        wid = params[int(param_range[2])]\n",
    "        y = y + amp * np.exp( -((x - ctr)/wid)**2)\n",
    "        y_list.append(y)\n",
    "\n",
    "    #y_listに入っているすべてのガウス関数を重ね合わせる。\n",
    "    y_sum = np.zeros_like(x)\n",
    "    for i in y_list:\n",
    "        y_sum = y_sum + i\n",
    "\n",
    "    #最後にバックグラウンドを追加。\n",
    "    y_sum = y_sum + params[-1]\n",
    "\n",
    "    return y_sum"
   ]
  },
  {
   "cell_type": "code",
   "execution_count": 14,
   "metadata": {},
   "outputs": [],
   "source": [
    "def fit_plot(x, *params):\n",
    "    num_func = int(len(params)/3)\n",
    "    y_list = []\n",
    "    for i in range(num_func):\n",
    "        y = np.zeros_like(x)\n",
    "        param_range = list(range(3*i,3*(i+1),1))\n",
    "        amp = params[int(param_range[0])]\n",
    "        ctr = params[int(param_range[1])]\n",
    "        wid = params[int(param_range[2])]\n",
    "        y = y + amp * np.exp( -((x - ctr)/wid)**2) + params[-1]\n",
    "        y_list.append(y)\n",
    "    return y_list"
   ]
  },
  {
   "cell_type": "code",
   "execution_count": 15,
   "metadata": {},
   "outputs": [],
   "source": [
    "#初期値のリストを作成\n",
    "#[amp,ctr,wid]\n",
    "guess = []\n",
    "guess.append([500, 73.60, 0.01])\n",
    "guess.append([500, 73.64, 0.01])\n",
    "guess.append([500, 73.68, 0.01])\n",
    "guess.append([500, 73.72, 0.01])\n",
    "guess.append([500, 73.76, 0.01])\n",
    "guess.append([500, 73.80, 0.01])\n",
    "guess.append([500, 73.83, 0.01])\n",
    "guess.append([500, 73.86, 0.01])\n",
    "guess.append([500, 73.89, 0.01])\n",
    "guess.append([500, 73.83, 0.01])\n",
    "guess.append([500, 73.88, 0.01])\n",
    "guess.append([500, 73.92, 0.01])\n",
    "guess.append([500, 73.93, 0.01])\n",
    "guess.append([500, 73.94, 0.01])\n",
    "guess.append([500, 73.95, 0.01])\n",
    "guess.append([500, 74.05, 0.01])\n",
    "guess.append([500, 74.10, 0.01])\n",
    "guess.append([500, 74.20, 0.01])\n",
    "\n",
    "#バックグラウンドの初期値\n",
    "background = 10\n",
    "\n",
    "#初期値リストの結合\n",
    "guess_total = []\n",
    "for i in guess:\n",
    "    guess_total.extend(i)\n",
    "guess_total.append(background)"
   ]
  },
  {
   "cell_type": "code",
   "execution_count": 16,
   "metadata": {},
   "outputs": [
    {
     "ename": "ValueError",
     "evalue": "operands could not be broadcast together with shapes (858,) (400,) ",
     "output_type": "error",
     "traceback": [
      "\u001b[0;31m---------------------------------------------------------------------------\u001b[0m",
      "\u001b[0;31mValueError\u001b[0m                                Traceback (most recent call last)",
      "Cell \u001b[0;32mIn[16], line 1\u001b[0m\n\u001b[0;32m----> 1\u001b[0m popt, pcov \u001b[38;5;241m=\u001b[39m \u001b[43mcurve_fit\u001b[49m\u001b[43m(\u001b[49m\u001b[43mfunc\u001b[49m\u001b[43m,\u001b[49m\u001b[43m \u001b[49m\u001b[43mx\u001b[49m\u001b[43m,\u001b[49m\u001b[43m \u001b[49m\u001b[43my\u001b[49m\u001b[43m,\u001b[49m\u001b[43m \u001b[49m\u001b[43mp0\u001b[49m\u001b[38;5;241;43m=\u001b[39;49m\u001b[43mguess_total\u001b[49m\u001b[43m)\u001b[49m\n\u001b[1;32m      3\u001b[0m fit \u001b[38;5;241m=\u001b[39m func(x, \u001b[38;5;241m*\u001b[39mpopt)\n\u001b[1;32m      4\u001b[0m plt\u001b[38;5;241m.\u001b[39mscatter(x, y, s\u001b[38;5;241m=\u001b[39m\u001b[38;5;241m10\u001b[39m)\n",
      "File \u001b[0;32m/opt/homebrew/lib/python3.11/site-packages/scipy/optimize/_minpack_py.py:1000\u001b[0m, in \u001b[0;36mcurve_fit\u001b[0;34m(f, xdata, ydata, p0, sigma, absolute_sigma, check_finite, bounds, method, jac, full_output, nan_policy, **kwargs)\u001b[0m\n\u001b[1;32m    997\u001b[0m \u001b[38;5;28;01mif\u001b[39;00m ydata\u001b[38;5;241m.\u001b[39msize \u001b[38;5;241m!=\u001b[39m \u001b[38;5;241m1\u001b[39m \u001b[38;5;129;01mand\u001b[39;00m n \u001b[38;5;241m>\u001b[39m ydata\u001b[38;5;241m.\u001b[39msize:\n\u001b[1;32m    998\u001b[0m     \u001b[38;5;28;01mraise\u001b[39;00m \u001b[38;5;167;01mTypeError\u001b[39;00m(\u001b[38;5;124mf\u001b[39m\u001b[38;5;124m\"\u001b[39m\u001b[38;5;124mThe number of func parameters=\u001b[39m\u001b[38;5;132;01m{\u001b[39;00mn\u001b[38;5;132;01m}\u001b[39;00m\u001b[38;5;124m must not\u001b[39m\u001b[38;5;124m\"\u001b[39m\n\u001b[1;32m    999\u001b[0m                     \u001b[38;5;124mf\u001b[39m\u001b[38;5;124m\"\u001b[39m\u001b[38;5;124m exceed the number of data points=\u001b[39m\u001b[38;5;132;01m{\u001b[39;00mydata\u001b[38;5;241m.\u001b[39msize\u001b[38;5;132;01m}\u001b[39;00m\u001b[38;5;124m\"\u001b[39m)\n\u001b[0;32m-> 1000\u001b[0m res \u001b[38;5;241m=\u001b[39m \u001b[43mleastsq\u001b[49m\u001b[43m(\u001b[49m\u001b[43mfunc\u001b[49m\u001b[43m,\u001b[49m\u001b[43m \u001b[49m\u001b[43mp0\u001b[49m\u001b[43m,\u001b[49m\u001b[43m \u001b[49m\u001b[43mDfun\u001b[49m\u001b[38;5;241;43m=\u001b[39;49m\u001b[43mjac\u001b[49m\u001b[43m,\u001b[49m\u001b[43m \u001b[49m\u001b[43mfull_output\u001b[49m\u001b[38;5;241;43m=\u001b[39;49m\u001b[38;5;241;43m1\u001b[39;49m\u001b[43m,\u001b[49m\u001b[43m \u001b[49m\u001b[38;5;241;43m*\u001b[39;49m\u001b[38;5;241;43m*\u001b[39;49m\u001b[43mkwargs\u001b[49m\u001b[43m)\u001b[49m\n\u001b[1;32m   1001\u001b[0m popt, pcov, infodict, errmsg, ier \u001b[38;5;241m=\u001b[39m res\n\u001b[1;32m   1002\u001b[0m ysize \u001b[38;5;241m=\u001b[39m \u001b[38;5;28mlen\u001b[39m(infodict[\u001b[38;5;124m'\u001b[39m\u001b[38;5;124mfvec\u001b[39m\u001b[38;5;124m'\u001b[39m])\n",
      "File \u001b[0;32m/opt/homebrew/lib/python3.11/site-packages/scipy/optimize/_minpack_py.py:420\u001b[0m, in \u001b[0;36mleastsq\u001b[0;34m(func, x0, args, Dfun, full_output, col_deriv, ftol, xtol, gtol, maxfev, epsfcn, factor, diag)\u001b[0m\n\u001b[1;32m    418\u001b[0m \u001b[38;5;28;01mif\u001b[39;00m \u001b[38;5;129;01mnot\u001b[39;00m \u001b[38;5;28misinstance\u001b[39m(args, \u001b[38;5;28mtuple\u001b[39m):\n\u001b[1;32m    419\u001b[0m     args \u001b[38;5;241m=\u001b[39m (args,)\n\u001b[0;32m--> 420\u001b[0m shape, dtype \u001b[38;5;241m=\u001b[39m \u001b[43m_check_func\u001b[49m\u001b[43m(\u001b[49m\u001b[38;5;124;43m'\u001b[39;49m\u001b[38;5;124;43mleastsq\u001b[39;49m\u001b[38;5;124;43m'\u001b[39;49m\u001b[43m,\u001b[49m\u001b[43m \u001b[49m\u001b[38;5;124;43m'\u001b[39;49m\u001b[38;5;124;43mfunc\u001b[39;49m\u001b[38;5;124;43m'\u001b[39;49m\u001b[43m,\u001b[49m\u001b[43m \u001b[49m\u001b[43mfunc\u001b[49m\u001b[43m,\u001b[49m\u001b[43m \u001b[49m\u001b[43mx0\u001b[49m\u001b[43m,\u001b[49m\u001b[43m \u001b[49m\u001b[43margs\u001b[49m\u001b[43m,\u001b[49m\u001b[43m \u001b[49m\u001b[43mn\u001b[49m\u001b[43m)\u001b[49m\n\u001b[1;32m    421\u001b[0m m \u001b[38;5;241m=\u001b[39m shape[\u001b[38;5;241m0\u001b[39m]\n\u001b[1;32m    423\u001b[0m \u001b[38;5;28;01mif\u001b[39;00m n \u001b[38;5;241m>\u001b[39m m:\n",
      "File \u001b[0;32m/opt/homebrew/lib/python3.11/site-packages/scipy/optimize/_minpack_py.py:29\u001b[0m, in \u001b[0;36m_check_func\u001b[0;34m(checker, argname, thefunc, x0, args, numinputs, output_shape)\u001b[0m\n\u001b[1;32m     27\u001b[0m \u001b[38;5;28;01mdef\u001b[39;00m \u001b[38;5;21m_check_func\u001b[39m(checker, argname, thefunc, x0, args, numinputs,\n\u001b[1;32m     28\u001b[0m                 output_shape\u001b[38;5;241m=\u001b[39m\u001b[38;5;28;01mNone\u001b[39;00m):\n\u001b[0;32m---> 29\u001b[0m     res \u001b[38;5;241m=\u001b[39m atleast_1d(\u001b[43mthefunc\u001b[49m\u001b[43m(\u001b[49m\u001b[38;5;241;43m*\u001b[39;49m\u001b[43m(\u001b[49m\u001b[43m(\u001b[49m\u001b[43mx0\u001b[49m\u001b[43m[\u001b[49m\u001b[43m:\u001b[49m\u001b[43mnuminputs\u001b[49m\u001b[43m]\u001b[49m\u001b[43m,\u001b[49m\u001b[43m)\u001b[49m\u001b[43m \u001b[49m\u001b[38;5;241;43m+\u001b[39;49m\u001b[43m \u001b[49m\u001b[43margs\u001b[49m\u001b[43m)\u001b[49m\u001b[43m)\u001b[49m)\n\u001b[1;32m     30\u001b[0m     \u001b[38;5;28;01mif\u001b[39;00m (output_shape \u001b[38;5;129;01mis\u001b[39;00m \u001b[38;5;129;01mnot\u001b[39;00m \u001b[38;5;28;01mNone\u001b[39;00m) \u001b[38;5;129;01mand\u001b[39;00m (shape(res) \u001b[38;5;241m!=\u001b[39m output_shape):\n\u001b[1;32m     31\u001b[0m         \u001b[38;5;28;01mif\u001b[39;00m (output_shape[\u001b[38;5;241m0\u001b[39m] \u001b[38;5;241m!=\u001b[39m \u001b[38;5;241m1\u001b[39m):\n",
      "File \u001b[0;32m/opt/homebrew/lib/python3.11/site-packages/scipy/optimize/_minpack_py.py:518\u001b[0m, in \u001b[0;36m_lightweight_memoizer.<locals>._memoized_func\u001b[0;34m(params)\u001b[0m\n\u001b[1;32m    515\u001b[0m \u001b[38;5;28;01melif\u001b[39;00m _memoized_func\u001b[38;5;241m.\u001b[39mlast_params \u001b[38;5;129;01mis\u001b[39;00m \u001b[38;5;129;01mnot\u001b[39;00m \u001b[38;5;28;01mNone\u001b[39;00m:\n\u001b[1;32m    516\u001b[0m     _memoized_func\u001b[38;5;241m.\u001b[39mskip_lookup \u001b[38;5;241m=\u001b[39m \u001b[38;5;28;01mTrue\u001b[39;00m\n\u001b[0;32m--> 518\u001b[0m val \u001b[38;5;241m=\u001b[39m \u001b[43mf\u001b[49m\u001b[43m(\u001b[49m\u001b[43mparams\u001b[49m\u001b[43m)\u001b[49m\n\u001b[1;32m    520\u001b[0m \u001b[38;5;28;01mif\u001b[39;00m _memoized_func\u001b[38;5;241m.\u001b[39mlast_params \u001b[38;5;129;01mis\u001b[39;00m \u001b[38;5;28;01mNone\u001b[39;00m:\n\u001b[1;32m    521\u001b[0m     _memoized_func\u001b[38;5;241m.\u001b[39mlast_params \u001b[38;5;241m=\u001b[39m np\u001b[38;5;241m.\u001b[39mcopy(params)\n",
      "File \u001b[0;32m/opt/homebrew/lib/python3.11/site-packages/scipy/optimize/_minpack_py.py:535\u001b[0m, in \u001b[0;36m_wrap_func.<locals>.func_wrapped\u001b[0;34m(params)\u001b[0m\n\u001b[1;32m    534\u001b[0m \u001b[38;5;28;01mdef\u001b[39;00m \u001b[38;5;21mfunc_wrapped\u001b[39m(params):\n\u001b[0;32m--> 535\u001b[0m     \u001b[38;5;28;01mreturn\u001b[39;00m \u001b[43mfunc\u001b[49m\u001b[43m(\u001b[49m\u001b[43mxdata\u001b[49m\u001b[43m,\u001b[49m\u001b[43m \u001b[49m\u001b[38;5;241;43m*\u001b[39;49m\u001b[43mparams\u001b[49m\u001b[43m)\u001b[49m\u001b[43m \u001b[49m\u001b[38;5;241;43m-\u001b[39;49m\u001b[43m \u001b[49m\u001b[43mydata\u001b[49m\n",
      "\u001b[0;31mValueError\u001b[0m: operands could not be broadcast together with shapes (858,) (400,) "
     ]
    }
   ],
   "source": [
    "popt, pcov = curve_fit(func, x, y, p0=guess_total)\n",
    "\n",
    "fit = func(x, *popt)\n",
    "plt.scatter(x, y, s=10)\n",
    "plt.plot(x, fit , ls='-', c='black', lw=1)\n",
    "\n",
    "y_list = fit_plot(x, *popt)\n",
    "baseline = np.zeros_like(x) + popt[-1]\n",
    "for n,i in enumerate(y_list):\n",
    "    plt.fill_between(x, i, baseline, facecolor=cm.rainbow(n/len(y_list)), alpha=1)"
   ]
  },
  {
   "cell_type": "code",
   "execution_count": null,
   "metadata": {},
   "outputs": [
    {
     "name": "stdout",
     "output_type": "stream",
     "text": [
      "Fitted Parameters:\n",
      "Gaussian 1: Amplitude=-56.13894713836574, Center=73.60703209482736, Width=0.0739182646395533\n",
      "Gaussian 2: Amplitude=164.33195324803523, Center=73.63144898512975, Width=0.004159864339078851\n",
      "Gaussian 3: Amplitude=226.75710077658655, Center=73.68584885478674, Width=0.002935865555633843\n",
      "Gaussian 4: Amplitude=863.3568125819181, Center=73.73484978603419, Width=0.002057787651253333\n",
      "Gaussian 5: Amplitude=547.6523345724593, Center=73.74370843708061, Width=0.0062929128082818845\n",
      "Gaussian 6: Amplitude=295.81939648676706, Center=73.80202358380684, Width=0.011068360203245229\n",
      "Gaussian 7: Amplitude=289.62897600309765, Center=73.8276726851952, Width=-0.0009153790105985096\n",
      "Gaussian 8: Amplitude=372.4559154635802, Center=73.85802542520679, Width=0.00370744690256774\n",
      "Gaussian 9: Amplitude=-40.70798626120064, Center=73.89510512851187, Width=0.009970350792042797\n",
      "Gaussian 10: Amplitude=100.84613879666264, Center=73.83109028010595, Width=0.004519119179806483\n",
      "Gaussian 11: Amplitude=405.8368357832826, Center=73.86580538521777, Width=0.00756292939972677\n",
      "Gaussian 12: Amplitude=290.70282656443044, Center=73.92035448815166, Width=0.008107142000924156\n",
      "Gaussian 13: Amplitude=117.90399952986016, Center=73.92871736509557, Width=0.0020857945982054884\n",
      "Gaussian 14: Amplitude=155.55315147227122, Center=73.96727236063361, Width=0.00945140298668907\n",
      "Gaussian 15: Amplitude=327.4603403384839, Center=73.98437638142745, Width=0.0064064804486604265\n",
      "Gaussian 16: Amplitude=225.91963531161187, Center=74.0481457016035, Width=0.004636544781558983\n",
      "Gaussian 17: Amplitude=-87.18373901838285, Center=74.21662149331844, Width=0.1166680236684189\n",
      "Gaussian 18: Amplitude=165.5583150749688, Center=74.19562515766938, Width=0.0024001553695392128\n",
      "Background: 52.69240732362891\n"
     ]
    }
   ],
   "source": [
    "# フィッティングされたパラメータを表示\n",
    "print(\"Fitted Parameters:\")\n",
    "for i in range(int(len(popt) / 3)):\n",
    "    print(f\"Gaussian {i + 1}: Amplitude={popt[3 * i]}, Center={popt[3 * i + 1]}, Width={popt[3 * i + 2]}\")\n",
    "print(f\"Background: {popt[-1]}\")"
   ]
  }
 ],
 "metadata": {
  "kernelspec": {
   "display_name": "Python 3",
   "language": "python",
   "name": "python3"
  },
  "language_info": {
   "codemirror_mode": {
    "name": "ipython",
    "version": 3
   },
   "file_extension": ".py",
   "mimetype": "text/x-python",
   "name": "python",
   "nbconvert_exporter": "python",
   "pygments_lexer": "ipython3",
   "version": "3.11.9"
  }
 },
 "nbformat": 4,
 "nbformat_minor": 2
}
