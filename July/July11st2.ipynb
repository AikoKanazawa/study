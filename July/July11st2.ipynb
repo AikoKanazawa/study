{
 "cells": [
  {
   "cell_type": "code",
   "execution_count": 2,
   "metadata": {},
   "outputs": [
    {
     "data": {
      "image/png": "[encoded data removed]",
      "text/plain": [
       "<Figure size 640x480 with 1 Axes>"
      ]
     },
     "metadata": {},
     "output_type": "display_data"
    }
   ],
   "source": [
    "import tensorflow as tf\n",
    "import numpy as np\n",
    "import matplotlib.pyplot as plt\n",
    "%matplotlib inline\n",
    "\n",
    "n = 300\n",
    "x0 = np.linspace(-2.0, 2.0, n)\n",
    "a0 = 3.0\n",
    "a1 = 2.0\n",
    "b0 = 1.0\n",
    "kk = 3\n",
    "y0 = np.zeros(n)\n",
    "y0[:] = a0*x0+a1*x0**2 + b0 + 3*np.cos(kk*x0)\n",
    "\n",
    "plt.plot(x0,y0 )\n",
    "plt.show()"
   ]
  },
  {
   "cell_type": "code",
   "execution_count": 3,
   "metadata": {},
   "outputs": [],
   "source": [
    "def make_phi(x0,n,k):    \n",
    "    phi = np.array([x0])\n",
    "#    phi = np.array([x0**j for j in range(k)])\n",
    "    return phi.T"
   ]
  },
  {
   "cell_type": "code",
   "execution_count": 4,
   "metadata": {},
   "outputs": [],
   "source": [
    "x0 = np.linspace(-2.0, 2.0, n)\n",
    "k = 1\n",
    "phi = make_phi(x0,n,k)"
   ]
  },
  {
   "cell_type": "code",
   "execution_count": 5,
   "metadata": {},
   "outputs": [],
   "source": [
    "n_test = 100\n",
    "x0_test = np.linspace(-2.0, 2.0, n_test)\n",
    "y0_test = np.zeros(n_test)\n",
    "y0_test[:] = a0*x0_test+a1*x0_test**2 + b0 + 3*np.cos(kk*x0_test)\n",
    "phi_test = make_phi(x0_test,n_test,k)"
   ]
  },
  {
   "cell_type": "code",
   "execution_count": 6,
   "metadata": {},
   "outputs": [
    {
     "ename": "AttributeError",
     "evalue": "type object 'IteratorBase' has no attribute 'from_structure'",
     "output_type": "error",
     "traceback": [
      "\u001b[0;31m---------------------------------------------------------------------------\u001b[0m",
      "\u001b[0;31mAttributeError\u001b[0m                            Traceback (most recent call last)",
      "Cell \u001b[0;32mIn[6], line 5\u001b[0m\n\u001b[1;32m      2\u001b[0m dataset \u001b[38;5;241m=\u001b[39m tf\u001b[38;5;241m.\u001b[39mdata\u001b[38;5;241m.\u001b[39mDataset\u001b[38;5;241m.\u001b[39mfrom_tensor_slices({\u001b[38;5;124m\"\u001b[39m\u001b[38;5;124mphi\u001b[39m\u001b[38;5;124m\"\u001b[39m:phi, \u001b[38;5;124m\"\u001b[39m\u001b[38;5;124my0\u001b[39m\u001b[38;5;124m\"\u001b[39m:y0})\u001b[38;5;241m.\u001b[39mshuffle(\u001b[38;5;241m10\u001b[39m)\u001b[38;5;241m.\u001b[39mbatch(batch_size)\n\u001b[1;32m      4\u001b[0m test_dataset \u001b[38;5;241m=\u001b[39m tf\u001b[38;5;241m.\u001b[39mdata\u001b[38;5;241m.\u001b[39mDataset\u001b[38;5;241m.\u001b[39mfrom_tensor_slices({\u001b[38;5;124m\"\u001b[39m\u001b[38;5;124mphi\u001b[39m\u001b[38;5;124m\"\u001b[39m:phi_test, \u001b[38;5;124m\"\u001b[39m\u001b[38;5;124my0\u001b[39m\u001b[38;5;124m\"\u001b[39m:y0_test})\u001b[38;5;241m.\u001b[39mbatch(n_test)\n\u001b[0;32m----> 5\u001b[0m iterator \u001b[38;5;241m=\u001b[39m \u001b[43mtf\u001b[49m\u001b[38;5;241;43m.\u001b[39;49m\u001b[43mdata\u001b[49m\u001b[38;5;241;43m.\u001b[39;49m\u001b[43mIterator\u001b[49m\u001b[38;5;241;43m.\u001b[39;49m\u001b[43mfrom_structure\u001b[49m(dataset\u001b[38;5;241m.\u001b[39moutput_types,\n\u001b[1;32m      6\u001b[0m                                            dataset\u001b[38;5;241m.\u001b[39moutput_shapes)\n\u001b[1;32m      7\u001b[0m train_init_op \u001b[38;5;241m=\u001b[39m iterator\u001b[38;5;241m.\u001b[39mmake_initializer(dataset)\n\u001b[1;32m      8\u001b[0m test_init_op \u001b[38;5;241m=\u001b[39m iterator\u001b[38;5;241m.\u001b[39mmake_initializer(test_dataset)\n",
      "\u001b[0;31mAttributeError\u001b[0m: type object 'IteratorBase' has no attribute 'from_structure'"
     ]
    }
   ],
   "source": [
    "batch_size = 20\n",
    "dataset = tf.data.Dataset.from_tensor_slices({\"phi\":phi, \"y0\":y0}).shuffle(10).batch(batch_size)\n",
    "\n",
    "test_dataset = tf.data.Dataset.from_tensor_slices({\"phi\":phi_test, \"y0\":y0_test}).batch(n_test)\n",
    "iterator = tf.data.Iterator.from_structure(dataset.output_types,\n",
    "                                           dataset.output_shapes)\n",
    "train_init_op = iterator.make_initializer(dataset)\n",
    "test_init_op = iterator.make_initializer(test_dataset)\n",
    "next_step= iterator.get_next()"
   ]
  },
  {
   "cell_type": "code",
   "execution_count": null,
   "metadata": {},
   "outputs": [],
   "source": [
    "def build_graph_layers_class(d_input,d_middle,d_type):\n",
    "    x = next_step[\"phi\"]\n",
    "    yout= next_step[\"y0\"]\n",
    "    hidden1 = tf.layers.Dense(units=d_middle,activation=tf.nn.relu)\n",
    "    x1 = hidden1(x)\n",
    "    outlayer = tf.layers.Dense(units=1,activation=None)\n",
    "    y = outlayer(x1)\n",
    "\n",
    "    diff = tf.subtract(y,yout)\n",
    "    loss = tf.nn.l2_loss(diff)\n",
    "    minimize = tf.train.AdamOptimizer().minimize(loss)\n",
    "    return x,y,yout,diff,loss,minimize,hidden1,outlayer"
   ]
  },
  {
   "cell_type": "code",
   "execution_count": null,
   "metadata": {},
   "outputs": [],
   "source": [
    "d_type = tf.float32\n",
    "d_input = 1\n",
    "d_middle = 10\n",
    "x,y,yout,diff,loss,minimize,hidden1,outlayer= build_graph_layers_class(d_input,d_middle,d_type)"
   ]
  },
  {
   "cell_type": "code",
   "execution_count": null,
   "metadata": {},
   "outputs": [],
   "source": [
    "np = 5000\n",
    "with tf.Session() as sess:\n",
    "    tf.global_variables_initializer().run()\n",
    "    for i in range(np):\n",
    "        sess.run(train_init_op)\n",
    "        while True:\n",
    "            try:\n",
    "                sess.run(minimize)\n",
    "                #print(sess.run(next_step))\n",
    "                losstrain = sess.run(loss)/batch_size\n",
    "                #print(losstrain)\n",
    "\n",
    "\n",
    "            except tf.errors.OutOfRangeError:\n",
    "                break\n",
    "\n",
    "        sess.run(test_init_op)\n",
    "        losstest = sess.run(loss)/n_test\n",
    "        if i % 100 is 0:\n",
    "            print(\"i\",i,\"loss\",losstest)\n",
    "    W = sess.run(hidden1.weights)\n",
    "    print(W)\n",
    "    a = sess.run(outlayer.weights)\n",
    "    print(a)\n",
    "    sess.run(test_init_op)\n",
    "    yt = sess.run(y)\n",
    "\n",
    "plt.plot(x0_test,y0_test )\n",
    "plt.plot(x0_test,yt )\n",
    "plt.show()"
   ]
  },
  {
   "cell_type": "code",
   "execution_count": null,
   "metadata": {},
   "outputs": [],
   "source": [
    "d_type = tf.float32\n",
    "d_input = 1\n",
    "d_middle = 10\n",
    "x,y,yout,diff,loss,minimize,hidden1,outlayer= build_graph_layers_class(d_input,d_middle,d_type)"
   ]
  }
 ],
 "metadata": {
  "kernelspec": {
   "display_name": "Python 3",
   "language": "python",
   "name": "python3"
  },
  "language_info": {
   "codemirror_mode": {
    "name": "ipython",
    "version": 3
   },
   "file_extension": ".py",
   "mimetype": "text/x-python",
   "name": "python",
   "nbconvert_exporter": "python",
   "pygments_lexer": "ipython3",
   "version": "3.11.9"
  }
 },
 "nbformat": 4,
 "nbformat_minor": 2
}
