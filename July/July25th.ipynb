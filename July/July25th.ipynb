{
 "cells": [
  {
   "cell_type": "code",
   "execution_count": 24,
   "metadata": {},
   "outputs": [],
   "source": [
    "import numpy as np\n",
    "import random\n",
    "from scipy.optimize import minimize"
   ]
  },
  {
   "cell_type": "code",
   "execution_count": 25,
   "metadata": {},
   "outputs": [
    {
     "name": "stdout",
     "output_type": "stream",
     "text": [
      "[-0.05212017 -0.          0.05212017]\n"
     ]
    }
   ],
   "source": [
    "# 単位ベクトルの生成\n",
    "def generate_unit_vectors():\n",
    "    k = np.array(random.sample(range(1, 100), 3))\n",
    "    n = k / np.linalg.norm(k)\n",
    "    return n, generate_perpendicular_unit_vector(n)\n",
    "\n",
    "# 磁場ベクトルの生成\n",
    "def generate_perpendicular_unit_vector(n):\n",
    "    if np.all(n == 0):\n",
    "        raise ValueError(\"The input vector n should not be the zero vector.\")\n",
    "    \n",
    "    if abs(n[0]) < abs(n[1]) and abs(n[0]) < abs(n[2]):\n",
    "        w = np.array([1, 0, 0])\n",
    "    elif abs(n[1]) < abs(n[0]) and abs(n[1]) < abs(n[2]):\n",
    "        w = np.array([0, 1, 0])\n",
    "    else:\n",
    "        w = np.array([0, 0, 1])\n",
    "    \n",
    "    perp_vec = np.cross(n, w)\n",
    "    return perp_vec / np.linalg.norm(perp_vec)\n",
    "\n",
    "n, s = generate_unit_vectors()\n",
    "c = np.cross(n, s)\n",
    "\n",
    "t = c*s\n",
    "\n",
    "print(t)"
   ]
  },
  {
   "cell_type": "code",
   "execution_count": 26,
   "metadata": {},
   "outputs": [
    {
     "name": "stdout",
     "output_type": "stream",
     "text": [
      "s_x = 0.5355\n",
      "s_y = -0.1774\n",
      "s_z = 0.8257\n"
     ]
    }
   ],
   "source": [
    "import sympy as sp\n",
    "from scipy.optimize import minimize\n",
    "import numpy as np\n",
    "\n",
    "# シンボリック変数の定義\n",
    "K_xx, K_xy, K_xz, K_yy, K_yz, K_zz, theta, s_x, s_y, s_z = sp.symbols('K_xx K_xy K_xz K_yy K_yz K_zz theta s_x s_y s_z')\n",
    "\n",
    "# 回転行列の定義\n",
    "R = sp.Matrix([\n",
    "    [sp.cos(theta), sp.sin(theta), 0],\n",
    "    [sp.sin(theta), sp.cos(theta), 0],\n",
    "    [0, 0, 1]\n",
    "])\n",
    "\n",
    "# ベクトルの定義\n",
    "s = sp.Matrix([s_x, s_y, s_z])\n",
    "\n",
    "# 行列Kの定義\n",
    "K = sp.Matrix([\n",
    "    [K_xx, K_xy, K_xz],\n",
    "    [K_xy, K_yy, K_yz],\n",
    "    [K_xz, K_yz, K_zz]\n",
    "])\n",
    "\n",
    "# K_{z'z'}の定義 (シンボリック)\n",
    "K_z_prime_z_prime = (R * s).T * K * (R * s)\n",
    "\n",
    "# K_{z'z'}の右辺の定義\n",
    "K_zz_sym = (K_xx + K_yy)/2 + ((K_xx - K_yy)/2)*sp.cos(2*theta) + K_xy*sp.sin(2*theta)\n",
    "\n",
    "# 単位ベクトルの制約条件\n",
    "constraint_unit_s = sp.Eq(s_x**2 + s_y**2 + s_z**2, 1)\n",
    "\n",
    "# 定数の定義 (実際の値を入力してください)\n",
    "K_xx_val = 1.0\n",
    "K_xy_val = 0.5\n",
    "K_xz_val = 0.3\n",
    "K_yy_val = 1.2\n",
    "K_yz_val = 0.4\n",
    "K_zz_val = 1.5\n",
    "theta_val = np.pi / 6  # 例えば30度の回転\n",
    "\n",
    "# 目的関数の定義\n",
    "def objective_function(params):\n",
    "    s_x_val, s_y_val, s_z_val = params\n",
    "    K_z_prime_z_prime_val = K_z_prime_z_prime.subs({\n",
    "        K_xx: K_xx_val,\n",
    "        K_xy: K_xy_val,\n",
    "        K_xz: K_xz_val,\n",
    "        K_yy: K_yy_val,\n",
    "        K_yz: K_yz_val,\n",
    "        K_zz: K_zz_val,\n",
    "        theta: theta_val,\n",
    "        s_x: s_x_val,\n",
    "        s_y: s_y_val,\n",
    "        s_z: s_z_val\n",
    "    })\n",
    "    K_zz_val_calculated = K_zz_sym.subs({\n",
    "        K_xx: K_xx_val,\n",
    "        K_xy: K_xy_val,\n",
    "        K_xz: K_xz_val,\n",
    "        K_yy: K_yy_val,\n",
    "        K_yz: K_yz_val,\n",
    "        K_zz: K_zz_val,\n",
    "        theta: theta_val\n",
    "    })\n",
    "    return (K_z_prime_z_prime_val[0] - K_zz_val_calculated)**2\n",
    "\n",
    "# 制約条件の定義\n",
    "def constraint_unit_s(params):\n",
    "    s_x_val, s_y_val, s_z_val = params\n",
    "    return s_x_val**2 + s_y_val**2 + s_z_val**2 - 1\n",
    "\n",
    "# 初期パラメータの推定値\n",
    "params_init = np.random.rand(3)\n",
    "\n",
    "# 制約条件をまとめる\n",
    "constraints = [{'type': 'eq', 'fun': constraint_unit_s}]\n",
    "\n",
    "# 最小二乗法によるパラメータ推定\n",
    "result = minimize(objective_function, params_init, constraints=constraints)\n",
    "\n",
    "# 推定されたパラメータ\n",
    "s_x_val, s_y_val, s_z_val = result.x\n",
    "print(f\"s_x = {s_x_val:.4f}\")\n",
    "print(f\"s_y = {s_y_val:.4f}\")\n",
    "print(f\"s_z = {s_z_val:.4f}\")\n"
   ]
  }
 ],
 "metadata": {
  "kernelspec": {
   "display_name": "Python 3",
   "language": "python",
   "name": "python3"
  },
  "language_info": {
   "codemirror_mode": {
    "name": "ipython",
    "version": 3
   },
   "file_extension": ".py",
   "mimetype": "text/x-python",
   "name": "python",
   "nbconvert_exporter": "python",
   "pygments_lexer": "ipython3",
   "version": "3.11.9"
  }
 },
 "nbformat": 4,
 "nbformat_minor": 2
}
