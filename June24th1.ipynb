{
 "cells": [
  {
   "cell_type": "code",
   "execution_count": 13,
   "metadata": {},
   "outputs": [],
   "source": [
    "from sympy import *"
   ]
  },
  {
   "cell_type": "code",
   "execution_count": 14,
   "metadata": {},
   "outputs": [
    {
     "name": "stdout",
     "output_type": "stream",
     "text": [
      "Matrix([[hx*(XX*hx + XY*hy + XZ*hz) + hy*(XY*hx + YY*hy + YZ*hz) + hz*(XZ*hx + YZ*hy + ZZ*hz)]])\n"
     ]
    }
   ],
   "source": [
    "# シンボルの定義\n",
    "a = Symbol('hx')\n",
    "b = Symbol('hy')\n",
    "c = Symbol('hz')\n",
    "d = Symbol('XX')\n",
    "e = Symbol('XY')\n",
    "f = Symbol('YY')\n",
    "g = Symbol('YZ')\n",
    "h = Symbol('XZ')\n",
    "i = Symbol('ZZ')\n",
    "\n",
    "# 行列の定義\n",
    "h_vec = Matrix([[a, b, c]])  # h行列\n",
    "A = Matrix([[d, e, h], [e, f, g], [h, g, i]])  # A行列\n",
    "\n",
    "# Kの計算\n",
    "K = h_vec * A * h_vec.T\n",
    "\n",
    "# 結果の表示\n",
    "print(K)\n"
   ]
  },
  {
   "cell_type": "code",
   "execution_count": 15,
   "metadata": {},
   "outputs": [
    {
     "name": "stdout",
     "output_type": "stream",
     "text": [
      "(-XY*hy - XZ*hz - sqrt(-XX*YY*hy**2 - 2*XX*YZ*hy*hz - XX*ZZ*hz**2 + XX*y + XY**2*hy**2 + 2*XY*XZ*hy*hz + XZ**2*hz**2))/XX\n",
      "(-XY*hy - XZ*hz + sqrt(-XX*YY*hy**2 - 2*XX*YZ*hy*hz - XX*ZZ*hz**2 + XX*y + XY**2*hy**2 + 2*XY*XZ*hy*hz + XZ**2*hz**2))/XX\n"
     ]
    }
   ],
   "source": [
    "# シンボルの定義\n",
    "hx, hy, hz, y = symbols('hx hy hz y')\n",
    "XX, XY, YY, YZ, XZ, ZZ = symbols('XX XY YY YZ XZ ZZ')\n",
    "\n",
    "# 二次方程式の係数の定義\n",
    "a = XX\n",
    "b = 2 * hy * XY + 2 * hz * XZ\n",
    "c = hy**2 * YY + 2 * hy * hz * YZ + hz**2 * ZZ - y\n",
    "\n",
    "# 二次方程式の解を求める\n",
    "solutions = solve(a * hx**2 + b * hx + c, hx)\n",
    "\n",
    "# 結果の表示\n",
    "for sol in solutions:\n",
    "    print(sol)"
   ]
  }
 ],
 "metadata": {
  "kernelspec": {
   "display_name": "Python 3",
   "language": "python",
   "name": "python3"
  },
  "language_info": {
   "codemirror_mode": {
    "name": "ipython",
    "version": 3
   },
   "file_extension": ".py",
   "mimetype": "text/x-python",
   "name": "python",
   "nbconvert_exporter": "python",
   "pygments_lexer": "ipython3",
   "version": "3.11.9"
  }
 },
 "nbformat": 4,
 "nbformat_minor": 2
}
