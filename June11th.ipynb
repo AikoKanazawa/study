{
 "cells": [
  {
   "cell_type": "code",
   "execution_count": 7,
   "metadata": {},
   "outputs": [],
   "source": [
    "import numpy as np"
   ]
  },
  {
   "cell_type": "code",
   "execution_count": 8,
   "metadata": {},
   "outputs": [],
   "source": [
    "import random"
   ]
  },
  {
   "cell_type": "code",
   "execution_count": 9,
   "metadata": {},
   "outputs": [],
   "source": [
    "import sympy"
   ]
  },
  {
   "cell_type": "code",
   "execution_count": 10,
   "metadata": {},
   "outputs": [],
   "source": [
    "from sympy import Matrix, Symbol"
   ]
  },
  {
   "cell_type": "code",
   "execution_count": 11,
   "metadata": {},
   "outputs": [],
   "source": [
    "import matplotlib.pyplot as plt"
   ]
  },
  {
   "cell_type": "code",
   "execution_count": 12,
   "metadata": {},
   "outputs": [
    {
     "name": "stdout",
     "output_type": "stream",
     "text": [
      "Input unit vector: [0.5898363  0.40064352 0.70112617]\n",
      "Perpendicular unit vector: [-0.76522609  0.          0.64376163]\n",
      "Dot product (should be close to 0): -9.158374545273747e-18\n",
      "n times s: [ 0.25791893 -0.91623401  0.30658288]\n"
     ]
    }
   ],
   "source": [
    "def generate_perpendicular_unit_vector(v):\n",
    "    \"\"\"\n",
    "    入力された単位ベクトル v に垂直な単位ベクトルを生成する\n",
    "    \"\"\"\n",
    "    if np.all(v == 0):\n",
    "        raise ValueError(\"The input vector v should not be the zero vector.\")\n",
    "    \n",
    "    # 任意のベクトル w を選択\n",
    "    if abs(v[0]) < abs(v[1]) and abs(v[0]) < abs(v[2]):\n",
    "        w = np.array([1, 0, 0])\n",
    "    elif abs(v[1]) < abs(v[0]) and abs(v[1]) < abs(v[2]):\n",
    "        w = np.array([0, 1, 0])\n",
    "    else:\n",
    "        w = np.array([0, 0, 1])\n",
    "    \n",
    "    # v と w の外積を計算して、v に垂直なベクトルを求める\n",
    "    perp_vec = np.cross(v, w)\n",
    "    \n",
    "    # 垂直なベクトルを正規化して単位ベクトルにする\n",
    "    perp_unit_vec = perp_vec / np.linalg.norm(perp_vec)\n",
    "    \n",
    "    return perp_unit_vec\n",
    "\n",
    "# 入力単位ベクトル\n",
    "k = np.array(random.sample(range(1,100), 3))  # 例としてランダムな単位ベクトルを使用\n",
    "kn = np.linalg.norm(k) #生成したベクトルの大きさ\n",
    "v = k / kn #まずは単位ベクトル\n",
    "\n",
    "# 垂直な単位ベクトルを生成\n",
    "perpendicular_unit_vector = generate_perpendicular_unit_vector(v)\n",
    "\n",
    "print(f\"Input unit vector: {v}\")\n",
    "print(f\"Perpendicular unit vector: {perpendicular_unit_vector}\")\n",
    "print(f\"Dot product (should be close to 0): {np.dot(v, perpendicular_unit_vector)}\")\n",
    "print(f\"n times s: {np.cross(v, perpendicular_unit_vector)}\")\n",
    "\n",
    "\n"
   ]
  }
 ],
 "metadata": {
  "kernelspec": {
   "display_name": "Python 3",
   "language": "python",
   "name": "python3"
  },
  "language_info": {
   "codemirror_mode": {
    "name": "ipython",
    "version": 3
   },
   "file_extension": ".py",
   "mimetype": "text/x-python",
   "name": "python",
   "nbconvert_exporter": "python",
   "pygments_lexer": "ipython3",
   "version": "3.11.9"
  }
 },
 "nbformat": 4,
 "nbformat_minor": 2
}
