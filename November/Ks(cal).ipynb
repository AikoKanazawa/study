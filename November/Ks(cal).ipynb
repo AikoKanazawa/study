{
 "cells": [
  {
   "cell_type": "code",
   "execution_count": 39,
   "metadata": {},
   "outputs": [],
   "source": [
    "import numpy as np"
   ]
  },
  {
   "cell_type": "code",
   "execution_count": 40,
   "metadata": {},
   "outputs": [],
   "source": [
    "import sympy\n",
    "from sympy import *"
   ]
  },
  {
   "cell_type": "code",
   "execution_count": 41,
   "metadata": {},
   "outputs": [],
   "source": [
    "from sympy import symbols, Matrix, cos, sin, pi, solve"
   ]
  },
  {
   "cell_type": "code",
   "execution_count": 42,
   "metadata": {},
   "outputs": [
    {
     "data": {
      "text/plain": [
       "(0.9781476007338057, 0.20791169081775934)"
      ]
     },
     "execution_count": 42,
     "metadata": {},
     "output_type": "execute_result"
    }
   ],
   "source": [
    "# Calculate cosine and sine of ? degrees\n",
    "cos = np.cos(np.radians(12))\n",
    "sin = np.sin(np.radians(12))\n",
    "cos, sin"
   ]
  },
  {
   "cell_type": "code",
   "execution_count": 43,
   "metadata": {},
   "outputs": [
    {
     "name": "stdout",
     "output_type": "stream",
     "text": [
      "[0.09732950029089295, 0.6009304833521636, -0.793353340291235]\n",
      "[0.24349545620264426, 0.7583995471493236, 0.6045991148623749]\n",
      "内積: -0.00021602979537787656\n"
     ]
    }
   ],
   "source": [
    "t1 = 142.5\n",
    "p1 = 80.8\n",
    "t2 = 52.8\n",
    "p2 = 72.2\n",
    "\n",
    "nx = np.cos(np.radians(p1)) * np.sin(np.radians(t1))\n",
    "ny = np.sin(np.radians(p1)) * np.sin(np.radians(t1))\n",
    "nz = np.cos(np.radians(t1))\n",
    "sx = np.cos(np.radians(p2)) * np.sin(np.radians(t2))\n",
    "sy = np.sin(np.radians(p2)) * np.sin(np.radians(t2))\n",
    "sz = np.cos(np.radians(t2))\n",
    "\n",
    "n = [nx,ny,nz]\n",
    "s = [sx,sy,sz]\n",
    "\n",
    "# 内積を計算\n",
    "dot_product = np.dot(n, s)\n",
    "\n",
    "# 結果を表示\n",
    "print(n)\n",
    "print(s)\n",
    "print(\"内積:\", dot_product)"
   ]
  },
  {
   "cell_type": "code",
   "execution_count": 44,
   "metadata": {},
   "outputs": [
    {
     "name": "stdout",
     "output_type": "stream",
     "text": [
      "t1: 25.10182240570481, p1: -107.78905584595681\n",
      "t2: 78.52604396787335, p2: 136.535183706084\n",
      "n: [-0.12960742 -0.40394493  0.90555531]\n",
      "s: [-0.71129205  0.67416131  0.19892249]\n",
      "内積 (n・s): -3.4324671353814017e-16\n"
     ]
    }
   ],
   "source": [
    "def generate_vectors():\n",
    "    # t1, p1 をランダム生成\n",
    "    t1 = np.random.uniform(0, 180)  # 0° <= t1 <= 180°\n",
    "    p1 = np.random.uniform(-180, 180)  # -180° <= p1 <= 180°\n",
    "\n",
    "    # ベクトル n を計算\n",
    "    nx = np.cos(np.radians(p1)) * np.sin(np.radians(t1))\n",
    "    ny = np.sin(np.radians(p1)) * np.sin(np.radians(t1))\n",
    "    nz = np.cos(np.radians(t1))\n",
    "    n = np.array([nx, ny, nz])\n",
    "\n",
    "    # n に直交するランダムなベクトル s を生成\n",
    "    while True:\n",
    "        # ランダムなベクトルを生成\n",
    "        random_vec = np.random.randn(3)\n",
    "        # 直交条件を満たすように調整\n",
    "        s = random_vec - np.dot(random_vec, n) * n\n",
    "        if np.linalg.norm(s) > 1e-6:  # 0ベクトルでない場合にのみ採用\n",
    "            break\n",
    "\n",
    "    # s を正規化\n",
    "    s = s / np.linalg.norm(s)\n",
    "\n",
    "    # t2, p2 を逆算（必要なら）\n",
    "    t2 = np.degrees(np.arccos(s[2]))\n",
    "    p2 = np.degrees(np.arctan2(s[1], s[0]))\n",
    "\n",
    "    return t1, p1, t2, p2, n, s\n",
    "\n",
    "# ランダム生成と内積の確認\n",
    "t1, p1, t2, p2, n, s = generate_vectors()\n",
    "dot_product = np.dot(n, s)\n",
    "\n",
    "print(f\"t1: {t1}, p1: {p1}\")\n",
    "print(f\"t2: {t2}, p2: {p2}\")\n",
    "print(f\"n: {n}\")\n",
    "print(f\"s: {s}\")\n",
    "print(f\"内積 (n・s): {dot_product}\")"
   ]
  },
  {
   "cell_type": "code",
   "execution_count": 45,
   "metadata": {},
   "outputs": [
    {
     "name": "stdout",
     "output_type": "stream",
     "text": [
      "n: Rotation Match? False\n",
      "s: Rotation Match? False\n"
     ]
    }
   ],
   "source": [
    "import numpy as np\n",
    "\n",
    "# ベクトルの計算関数\n",
    "def calculate_vector(t, p):\n",
    "    nx = np.cos(np.radians(p)) * np.sin(np.radians(t))\n",
    "    ny = np.sin(np.radians(p)) * np.sin(np.radians(t))\n",
    "    nz = np.cos(np.radians(t))\n",
    "    return np.array([nx, ny, nz])\n",
    "\n",
    "# ベクトル定義\n",
    "n1 = calculate_vector(37.4744824273072, 159.11309680759206)\n",
    "s1 = calculate_vector(127.15540166073093, 167.80500879656833)\n",
    "\n",
    "n2 = calculate_vector(142.5255889892578, 80.88700103759766)\n",
    "s2 = calculate_vector(52.844581604003906, 72.19505310058594)\n",
    "\n",
    "# 回転行列\n",
    "theta = 120\n",
    "rotation_matrix = np.array([\n",
    "    [np.cos(np.radians(theta)), -np.sin(np.radians(theta)), 0],\n",
    "    [np.sin(np.radians(theta)),  np.cos(np.radians(theta)), 0],\n",
    "    [0, 0, 1]\n",
    "])\n",
    "\n",
    "# 回転後のベクトル\n",
    "n1_rotated = rotation_matrix @ n1\n",
    "s1_rotated = rotation_matrix @ s1\n",
    "\n",
    "# 比較\n",
    "n_close = np.allclose(n1_rotated, n2, atol=1e-6)\n",
    "s_close = np.allclose(s1_rotated, s2, atol=1e-6)\n",
    "\n",
    "print(f\"n: Rotation Match? {n_close}\")\n",
    "print(f\"s: Rotation Match? {s_close}\")"
   ]
  },
  {
   "cell_type": "code",
   "execution_count": 46,
   "metadata": {},
   "outputs": [
    {
     "name": "stdout",
     "output_type": "stream",
     "text": [
      "t1: 163.05364993624366, p1: 31.785333316336818\n",
      "t2: 75.48246290683146, p2: 63.5939538238203\n",
      "n: [ 0.24776274  0.15353161 -0.9565781 ]\n",
      "s: [0.4305299  0.86706712 0.25067632]\n",
      "内積 (n・s): -4.146736608441343e-17\n"
     ]
    }
   ],
   "source": [
    "import numpy as np\n",
    "\n",
    "def generate_vectors():\n",
    "    # t1, p1 をランダム生成\n",
    "    t1 = np.random.uniform(0, 180)  # 0° <= t1 <= 180°\n",
    "    p1 = np.random.uniform(-180, 180)  # -180° <= p1 <= 180°\n",
    "\n",
    "    # ベクトル n を計算\n",
    "    nx = np.cos(np.radians(p1)) * np.sin(np.radians(t1))\n",
    "    ny = np.sin(np.radians(p1)) * np.sin(np.radians(t1))\n",
    "    nz = np.cos(np.radians(t1))\n",
    "    n = np.array([nx, ny, nz])\n",
    "\n",
    "    while True:\n",
    "        # ランダムなベクトルを生成\n",
    "        random_vec = np.random.randn(3)\n",
    "        # 直交条件を満たすように調整\n",
    "        s = random_vec - np.dot(random_vec, n) * n\n",
    "        if np.linalg.norm(s) > 1e-6:  # 0ベクトルでない場合にのみ採用\n",
    "            s = s / np.linalg.norm(s)  # s を正規化\n",
    "            # t2, p2 を逆算\n",
    "            t2 = np.degrees(np.arccos(s[2]))\n",
    "            p2 = np.degrees(np.arctan2(s[1], s[0]))\n",
    "            if p2 < 0:\n",
    "                p2 += 360  # p2 を 0°〜360° に変換\n",
    "\n",
    "            # p2 が 120° 以下であれば終了\n",
    "            if p2 <= 120:\n",
    "                break\n",
    "\n",
    "    return t1, p1, t2, p2, n, s\n",
    "\n",
    "# ランダム生成と内積の確認\n",
    "t1, p1, t2, p2, n, s = generate_vectors()\n",
    "dot_product = np.dot(n, s)\n",
    "\n",
    "print(f\"t1: {t1}, p1: {p1}\")\n",
    "print(f\"t2: {t2}, p2: {p2}\")\n",
    "print(f\"n: {n}\")\n",
    "print(f\"s: {s}\")\n",
    "print(f\"内積 (n・s): {dot_product}\")"
   ]
  },
  {
   "cell_type": "code",
   "execution_count": 47,
   "metadata": {},
   "outputs": [
    {
     "name": "stdout",
     "output_type": "stream",
     "text": [
      "-8*pi/15\n",
      "-8*pi/15\n",
      "16*pi/15\n",
      "0\n",
      "0\n",
      "0\n"
     ]
    }
   ],
   "source": [
    "import sympy as sp\n",
    "\n",
    "# Define variables\n",
    "theta, phi = sp.symbols('theta phi')\n",
    "# Define the integrand\n",
    "integrand1 = (sp.sin(theta) * sp.cos(phi))**2 * (3 * sp.cos(theta)**2 - 1)\n",
    "integrand2 = (sp.sin(theta) * sp.sin(phi))**2 * (3 * sp.cos(theta)**2 - 1)\n",
    "integrand3 = (sp.cos(theta))**2 * (3 * sp.cos(theta)**2 - 1)\n",
    "integrand4 = (sp.sin(theta) * sp.cos(phi))*(sp.sin(theta) * sp.sin(phi)) * (3 * sp.cos(theta)**2 - 1)\n",
    "integrand5 = (sp.sin(theta) * sp.sin(phi))*(sp.cos(theta)) * (3 * sp.cos(theta)**2 - 1)\n",
    "integrand6 = (sp.cos(theta))*(sp.sin(theta) * sp.cos(phi)) * (3 * sp.cos(theta)**2 - 1)\n",
    "# Compute the double integral\n",
    "result1 = sp.integrate(sp.integrate(integrand1 * sp.sin(theta), (theta, 0, sp.pi)), (phi, 0, 2 * sp.pi))\n",
    "result2 = sp.integrate(sp.integrate(integrand2 * sp.sin(theta), (theta, 0, sp.pi)), (phi, 0, 2 * sp.pi))\n",
    "result3 = sp.integrate(sp.integrate(integrand3 * sp.sin(theta), (theta, 0, sp.pi)), (phi, 0, 2 * sp.pi))\n",
    "result4 = sp.integrate(sp.integrate(integrand4 * sp.sin(theta), (theta, 0, sp.pi)), (phi, 0, 2 * sp.pi))\n",
    "result5 = sp.integrate(sp.integrate(integrand5 * sp.sin(theta), (theta, 0, sp.pi)), (phi, 0, 2 * sp.pi))\n",
    "result6 = sp.integrate(sp.integrate(integrand6 * sp.sin(theta), (theta, 0, sp.pi)), (phi, 0, 2 * sp.pi))\n",
    "\n",
    "print(result1)\n",
    "print(result2)\n",
    "print(result3)\n",
    "print(result4)\n",
    "print(result5)\n",
    "print(result6)"
   ]
  },
  {
   "cell_type": "code",
   "execution_count": 48,
   "metadata": {},
   "outputs": [
    {
     "name": "stdout",
     "output_type": "stream",
     "text": [
      "0\n",
      "0\n",
      "0\n",
      "8*pi/15\n",
      "0\n",
      "0\n"
     ]
    }
   ],
   "source": [
    "import sympy as sp\n",
    "\n",
    "# Define variables\n",
    "theta, phi = sp.symbols('theta phi')\n",
    "# Define the integrand\n",
    "integrand1 = (sp.sin(theta) * sp.cos(phi))**2 * (sp.sin(2*phi) * sp.sin(theta)**2)\n",
    "integrand2 = (sp.sin(theta) * sp.sin(phi))**2 * (sp.sin(2*phi) * sp.sin(theta)**2)\n",
    "integrand3 = (sp.cos(theta))**2 * (sp.sin(2*phi) * sp.sin(theta)**2)\n",
    "integrand4 = (sp.sin(theta) * sp.cos(phi))*(sp.sin(theta) * sp.sin(phi)) * (sp.sin(2*phi) * sp.sin(theta)**2)\n",
    "integrand5 = (sp.sin(theta) * sp.sin(phi))*(sp.cos(theta)) * (sp.sin(2*phi) * sp.sin(theta)**2)\n",
    "integrand6 = (sp.cos(theta))*(sp.sin(theta) * sp.cos(phi)) * (sp.sin(2*phi) * sp.sin(theta)**2)\n",
    "# Compute the double integral\n",
    "result1 = sp.integrate(sp.integrate(integrand1 * sp.sin(theta), (theta, 0, sp.pi)), (phi, 0, 2 * sp.pi))\n",
    "result2 = sp.integrate(sp.integrate(integrand2 * sp.sin(theta), (theta, 0, sp.pi)), (phi, 0, 2 * sp.pi))\n",
    "result3 = sp.integrate(sp.integrate(integrand3 * sp.sin(theta), (theta, 0, sp.pi)), (phi, 0, 2 * sp.pi))\n",
    "result4 = sp.integrate(sp.integrate(integrand4 * sp.sin(theta), (theta, 0, sp.pi)), (phi, 0, 2 * sp.pi))\n",
    "result5 = sp.integrate(sp.integrate(integrand5 * sp.sin(theta), (theta, 0, sp.pi)), (phi, 0, 2 * sp.pi))\n",
    "result6 = sp.integrate(sp.integrate(integrand6 * sp.sin(theta), (theta, 0, sp.pi)), (phi, 0, 2 * sp.pi))\n",
    "\n",
    "print(result1)\n",
    "print(result2)\n",
    "print(result3)\n",
    "print(result4)\n",
    "print(result5)\n",
    "print(result6)"
   ]
  },
  {
   "cell_type": "code",
   "execution_count": 49,
   "metadata": {},
   "outputs": [
    {
     "name": "stdout",
     "output_type": "stream",
     "text": [
      "8*pi/15\n",
      "-8*pi/15\n",
      "0\n",
      "0\n",
      "0\n",
      "0\n"
     ]
    }
   ],
   "source": [
    "import sympy as sp\n",
    "\n",
    "# Define variables\n",
    "theta, phi = sp.symbols('theta phi')\n",
    "# Define the integrand\n",
    "integrand1 = (sp.sin(theta) * sp.cos(phi))**2 * (sp.cos(2*phi) * sp.sin(theta)**2)\n",
    "integrand2 = (sp.sin(theta) * sp.sin(phi))**2 * (sp.cos(2*phi) * sp.sin(theta)**2)\n",
    "integrand3 = (sp.cos(theta))**2 * (sp.cos(2*phi) * sp.sin(theta)**2)\n",
    "integrand4 = (sp.sin(theta) * sp.cos(phi))*(sp.sin(theta) * sp.sin(phi)) * (sp.cos(2*phi) * sp.sin(theta)**2)\n",
    "integrand5 = (sp.sin(theta) * sp.sin(phi))*(sp.cos(theta)) * (sp.cos(2*phi) * sp.sin(theta)**2)\n",
    "integrand6 = (sp.cos(theta))*(sp.sin(theta) * sp.cos(phi)) * (sp.cos(2*phi) * sp.sin(theta)**2)\n",
    "# Compute the double integral\n",
    "result1 = sp.integrate(sp.integrate(integrand1 * sp.sin(theta), (theta, 0, sp.pi)), (phi, 0, 2 * sp.pi))\n",
    "result2 = sp.integrate(sp.integrate(integrand2 * sp.sin(theta), (theta, 0, sp.pi)), (phi, 0, 2 * sp.pi))\n",
    "result3 = sp.integrate(sp.integrate(integrand3 * sp.sin(theta), (theta, 0, sp.pi)), (phi, 0, 2 * sp.pi))\n",
    "result4 = sp.integrate(sp.integrate(integrand4 * sp.sin(theta), (theta, 0, sp.pi)), (phi, 0, 2 * sp.pi))\n",
    "result5 = sp.integrate(sp.integrate(integrand5 * sp.sin(theta), (theta, 0, sp.pi)), (phi, 0, 2 * sp.pi))\n",
    "result6 = sp.integrate(sp.integrate(integrand6 * sp.sin(theta), (theta, 0, sp.pi)), (phi, 0, 2 * sp.pi))\n",
    "\n",
    "print(result1)\n",
    "print(result2)\n",
    "print(result3)\n",
    "print(result4)\n",
    "print(result5)\n",
    "print(result6)"
   ]
  },
  {
   "cell_type": "code",
   "execution_count": 50,
   "metadata": {},
   "outputs": [
    {
     "name": "stdout",
     "output_type": "stream",
     "text": [
      "0\n",
      "0\n",
      "0\n",
      "0\n",
      "4*pi/15\n",
      "0\n"
     ]
    }
   ],
   "source": [
    "import sympy as sp\n",
    "\n",
    "# Define variables\n",
    "theta, phi = sp.symbols('theta phi')\n",
    "# Define the integrand\n",
    "integrand1 = (sp.sin(theta) * sp.cos(phi))**2 * (sp.cos(theta) * sp.sin(theta) * sp.sin(phi))\n",
    "integrand2 = (sp.sin(theta) * sp.sin(phi))**2 * (sp.cos(theta) * sp.sin(theta) * sp.sin(phi))\n",
    "integrand3 = (sp.cos(theta))**2 * (sp.cos(theta) * sp.sin(theta) * sp.sin(phi))\n",
    "integrand4 = (sp.sin(theta) * sp.cos(phi))*(sp.sin(theta) * sp.sin(phi)) * (sp.cos(theta) * sp.sin(theta) * sp.sin(phi))\n",
    "integrand5 = (sp.sin(theta) * sp.sin(phi))*(sp.cos(theta)) * (sp.cos(theta) * sp.sin(theta) * sp.sin(phi))\n",
    "integrand6 = (sp.cos(theta))*(sp.sin(theta) * sp.cos(phi)) * (sp.cos(theta) * sp.sin(theta) * sp.sin(phi))\n",
    "# Compute the double integral\n",
    "result1 = sp.integrate(sp.integrate(integrand1 * sp.sin(theta), (theta, 0, sp.pi)), (phi, 0, 2 * sp.pi))\n",
    "result2 = sp.integrate(sp.integrate(integrand2 * sp.sin(theta), (theta, 0, sp.pi)), (phi, 0, 2 * sp.pi))\n",
    "result3 = sp.integrate(sp.integrate(integrand3 * sp.sin(theta), (theta, 0, sp.pi)), (phi, 0, 2 * sp.pi))\n",
    "result4 = sp.integrate(sp.integrate(integrand4 * sp.sin(theta), (theta, 0, sp.pi)), (phi, 0, 2 * sp.pi))\n",
    "result5 = sp.integrate(sp.integrate(integrand5 * sp.sin(theta), (theta, 0, sp.pi)), (phi, 0, 2 * sp.pi))\n",
    "result6 = sp.integrate(sp.integrate(integrand6 * sp.sin(theta), (theta, 0, sp.pi)), (phi, 0, 2 * sp.pi))\n",
    "\n",
    "print(result1)\n",
    "print(result2)\n",
    "print(result3)\n",
    "print(result4)\n",
    "print(result5)\n",
    "print(result6)"
   ]
  },
  {
   "cell_type": "code",
   "execution_count": 51,
   "metadata": {},
   "outputs": [
    {
     "name": "stdout",
     "output_type": "stream",
     "text": [
      "0\n",
      "0\n",
      "0\n",
      "0\n",
      "0\n",
      "4*pi/15\n"
     ]
    }
   ],
   "source": [
    "import sympy as sp\n",
    "\n",
    "# Define variables\n",
    "theta, phi = sp.symbols('theta phi')\n",
    "# Define the integrand\n",
    "integrand1 = (sp.sin(theta) * sp.cos(phi))**2 * (sp.cos(theta) * sp.sin(theta) * sp.cos(phi))\n",
    "integrand2 = (sp.sin(theta) * sp.sin(phi))**2 * (sp.cos(theta) * sp.sin(theta) * sp.cos(phi))\n",
    "integrand3 = (sp.cos(theta))**2 * (sp.cos(theta) * sp.sin(theta) * sp.cos(phi))\n",
    "integrand4 = (sp.sin(theta) * sp.cos(phi))*(sp.sin(theta) * sp.sin(phi)) * (sp.cos(theta) * sp.sin(theta) * sp.cos(phi))\n",
    "integrand5 = (sp.sin(theta) * sp.sin(phi))*(sp.cos(theta)) * (sp.cos(theta) * sp.sin(theta) * sp.cos(phi))\n",
    "integrand6 = (sp.cos(theta))*(sp.sin(theta) * sp.cos(phi)) * (sp.cos(theta) * sp.sin(theta) * sp.cos(phi))\n",
    "# Compute the double integral\n",
    "result1 = sp.integrate(sp.integrate(integrand1 * sp.sin(theta), (theta, 0, sp.pi)), (phi, 0, 2 * sp.pi))\n",
    "result2 = sp.integrate(sp.integrate(integrand2 * sp.sin(theta), (theta, 0, sp.pi)), (phi, 0, 2 * sp.pi))\n",
    "result3 = sp.integrate(sp.integrate(integrand3 * sp.sin(theta), (theta, 0, sp.pi)), (phi, 0, 2 * sp.pi))\n",
    "result4 = sp.integrate(sp.integrate(integrand4 * sp.sin(theta), (theta, 0, sp.pi)), (phi, 0, 2 * sp.pi))\n",
    "result5 = sp.integrate(sp.integrate(integrand5 * sp.sin(theta), (theta, 0, sp.pi)), (phi, 0, 2 * sp.pi))\n",
    "result6 = sp.integrate(sp.integrate(integrand6 * sp.sin(theta), (theta, 0, sp.pi)), (phi, 0, 2 * sp.pi))\n",
    "\n",
    "print(result1)\n",
    "print(result2)\n",
    "print(result3)\n",
    "print(result4)\n",
    "print(result5)\n",
    "print(result6)"
   ]
  },
  {
   "cell_type": "code",
   "execution_count": 52,
   "metadata": {},
   "outputs": [
    {
     "name": "stdout",
     "output_type": "stream",
     "text": [
      "4*pi/3\n",
      "4*pi/3\n",
      "4*pi/3\n",
      "0\n",
      "0\n",
      "0\n"
     ]
    }
   ],
   "source": [
    "import sympy as sp\n",
    "\n",
    "# Define variables\n",
    "theta, phi = sp.symbols('theta phi')\n",
    "# Define the integrand\n",
    "integrand1 = (sp.sin(theta) * sp.cos(phi))**2\n",
    "integrand2 = (sp.sin(theta) * sp.sin(phi))**2\n",
    "integrand3 = (sp.cos(theta))**2\n",
    "integrand4 = (sp.sin(theta) * sp.cos(phi))*(sp.sin(theta) * sp.sin(phi))\n",
    "integrand5 = (sp.sin(theta) * sp.sin(phi))*(sp.cos(theta))\n",
    "integrand6 = (sp.cos(theta))*(sp.sin(theta) * sp.cos(phi))\n",
    "# Compute the double integral\n",
    "result1 = sp.integrate(sp.integrate(integrand1 * sp.sin(theta), (theta, 0, sp.pi)), (phi, 0, 2 * sp.pi))\n",
    "result2 = sp.integrate(sp.integrate(integrand2 * sp.sin(theta), (theta, 0, sp.pi)), (phi, 0, 2 * sp.pi))\n",
    "result3 = sp.integrate(sp.integrate(integrand3 * sp.sin(theta), (theta, 0, sp.pi)), (phi, 0, 2 * sp.pi))\n",
    "result4 = sp.integrate(sp.integrate(integrand4 * sp.sin(theta), (theta, 0, sp.pi)), (phi, 0, 2 * sp.pi))\n",
    "result5 = sp.integrate(sp.integrate(integrand5 * sp.sin(theta), (theta, 0, sp.pi)), (phi, 0, 2 * sp.pi))\n",
    "result6 = sp.integrate(sp.integrate(integrand6 * sp.sin(theta), (theta, 0, sp.pi)), (phi, 0, 2 * sp.pi))\n",
    "\n",
    "print(result1)\n",
    "print(result2)\n",
    "print(result3)\n",
    "print(result4)\n",
    "print(result5)\n",
    "print(result6)"
   ]
  },
  {
   "cell_type": "code",
   "execution_count": 53,
   "metadata": {},
   "outputs": [
    {
     "name": "stdout",
     "output_type": "stream",
     "text": [
      "0\n",
      "0\n",
      "0\n",
      "0\n",
      "0\n",
      "0\n"
     ]
    }
   ],
   "source": [
    "import sympy as sp\n",
    "\n",
    "# Define variables\n",
    "theta, phi = sp.symbols('theta phi')\n",
    "# Define the integrand\n",
    "integrand1 = (sp.sin(theta) * sp.cos(phi))**2 * (sp.sin(theta) * sp.cos(phi))\n",
    "integrand2 = (sp.sin(theta) * sp.sin(phi))**2 * (sp.sin(theta) * sp.cos(phi))\n",
    "integrand3 = (sp.cos(theta))**2 * (sp.sin(theta) * sp.cos(phi))\n",
    "integrand4 = (sp.sin(theta) * sp.cos(phi))*(sp.sin(theta) * sp.sin(phi)) * (sp.sin(theta) * sp.cos(phi))\n",
    "integrand5 = (sp.sin(theta) * sp.sin(phi))*(sp.cos(theta)) * (sp.sin(theta) * sp.cos(phi))\n",
    "integrand6 = (sp.cos(theta))*(sp.sin(theta) * sp.cos(phi)) * (sp.sin(theta) * sp.cos(phi))\n",
    "# Compute the double integral\n",
    "result1 = sp.integrate(sp.integrate(integrand1 * sp.sin(theta), (theta, 0, sp.pi)), (phi, 0, 2 * sp.pi))\n",
    "result2 = sp.integrate(sp.integrate(integrand2 * sp.sin(theta), (theta, 0, sp.pi)), (phi, 0, 2 * sp.pi))\n",
    "result3 = sp.integrate(sp.integrate(integrand3 * sp.sin(theta), (theta, 0, sp.pi)), (phi, 0, 2 * sp.pi))\n",
    "result4 = sp.integrate(sp.integrate(integrand4 * sp.sin(theta), (theta, 0, sp.pi)), (phi, 0, 2 * sp.pi))\n",
    "result5 = sp.integrate(sp.integrate(integrand5 * sp.sin(theta), (theta, 0, sp.pi)), (phi, 0, 2 * sp.pi))\n",
    "result6 = sp.integrate(sp.integrate(integrand6 * sp.sin(theta), (theta, 0, sp.pi)), (phi, 0, 2 * sp.pi))\n",
    "\n",
    "print(result1)\n",
    "print(result2)\n",
    "print(result3)\n",
    "print(result4)\n",
    "print(result5)\n",
    "print(result6)"
   ]
  },
  {
   "cell_type": "code",
   "execution_count": 54,
   "metadata": {},
   "outputs": [
    {
     "name": "stdout",
     "output_type": "stream",
     "text": [
      "0\n",
      "0\n",
      "0\n",
      "0\n",
      "0\n",
      "0\n"
     ]
    }
   ],
   "source": [
    "import sympy as sp\n",
    "\n",
    "# Define variables\n",
    "theta, phi = sp.symbols('theta phi')\n",
    "# Define the integrand\n",
    "integrand1 = (sp.sin(theta) * sp.cos(phi))**2 * (sp.sin(theta) * sp.sin(phi))\n",
    "integrand2 = (sp.sin(theta) * sp.sin(phi))**2 * (sp.sin(theta) * sp.sin(phi))\n",
    "integrand3 = (sp.cos(theta))**2 * (sp.sin(theta) * sp.sin(phi))\n",
    "integrand4 = (sp.sin(theta) * sp.cos(phi))*(sp.sin(theta) * sp.sin(phi)) * (sp.sin(theta) * sp.sin(phi))\n",
    "integrand5 = (sp.sin(theta) * sp.sin(phi))*(sp.cos(theta)) * (sp.sin(theta) * sp.sin(phi))\n",
    "integrand6 = (sp.cos(theta))*(sp.sin(theta) * sp.cos(phi)) * (sp.sin(theta) * sp.sin(phi))\n",
    "# Compute the double integral\n",
    "result1 = sp.integrate(sp.integrate(integrand1 * sp.sin(theta), (theta, 0, sp.pi)), (phi, 0, 2 * sp.pi))\n",
    "result2 = sp.integrate(sp.integrate(integrand2 * sp.sin(theta), (theta, 0, sp.pi)), (phi, 0, 2 * sp.pi))\n",
    "result3 = sp.integrate(sp.integrate(integrand3 * sp.sin(theta), (theta, 0, sp.pi)), (phi, 0, 2 * sp.pi))\n",
    "result4 = sp.integrate(sp.integrate(integrand4 * sp.sin(theta), (theta, 0, sp.pi)), (phi, 0, 2 * sp.pi))\n",
    "result5 = sp.integrate(sp.integrate(integrand5 * sp.sin(theta), (theta, 0, sp.pi)), (phi, 0, 2 * sp.pi))\n",
    "result6 = sp.integrate(sp.integrate(integrand6 * sp.sin(theta), (theta, 0, sp.pi)), (phi, 0, 2 * sp.pi))\n",
    "\n",
    "print(result1)\n",
    "print(result2)\n",
    "print(result3)\n",
    "print(result4)\n",
    "print(result5)\n",
    "print(result6)"
   ]
  },
  {
   "cell_type": "code",
   "execution_count": 55,
   "metadata": {},
   "outputs": [
    {
     "name": "stdout",
     "output_type": "stream",
     "text": [
      "0\n",
      "0\n",
      "0\n",
      "0\n",
      "0\n",
      "0\n"
     ]
    }
   ],
   "source": [
    "import sympy as sp\n",
    "\n",
    "# Define variables\n",
    "theta, phi = sp.symbols('theta phi')\n",
    "# Define the integrand\n",
    "integrand1 = (sp.sin(theta) * sp.cos(phi))**2 * (sp.cos(theta))\n",
    "integrand2 = (sp.sin(theta) * sp.sin(phi))**2 * (sp.cos(theta))\n",
    "integrand3 = (sp.cos(theta))**2 * (sp.cos(theta))\n",
    "integrand4 = (sp.sin(theta) * sp.cos(phi))*(sp.sin(theta) * sp.sin(phi)) * (sp.cos(theta))\n",
    "integrand5 = (sp.sin(theta) * sp.sin(phi))*(sp.cos(theta)) * (sp.cos(theta))\n",
    "integrand6 = (sp.cos(theta))*(sp.sin(theta) * sp.cos(phi)) * (sp.cos(theta))\n",
    "# Compute the double integral\n",
    "result1 = sp.integrate(sp.integrate(integrand1 * sp.sin(theta), (theta, 0, sp.pi)), (phi, 0, 2 * sp.pi))\n",
    "result2 = sp.integrate(sp.integrate(integrand2 * sp.sin(theta), (theta, 0, sp.pi)), (phi, 0, 2 * sp.pi))\n",
    "result3 = sp.integrate(sp.integrate(integrand3 * sp.sin(theta), (theta, 0, sp.pi)), (phi, 0, 2 * sp.pi))\n",
    "result4 = sp.integrate(sp.integrate(integrand4 * sp.sin(theta), (theta, 0, sp.pi)), (phi, 0, 2 * sp.pi))\n",
    "result5 = sp.integrate(sp.integrate(integrand5 * sp.sin(theta), (theta, 0, sp.pi)), (phi, 0, 2 * sp.pi))\n",
    "result6 = sp.integrate(sp.integrate(integrand6 * sp.sin(theta), (theta, 0, sp.pi)), (phi, 0, 2 * sp.pi))\n",
    "\n",
    "print(result1)\n",
    "print(result2)\n",
    "print(result3)\n",
    "print(result4)\n",
    "print(result5)\n",
    "print(result6)"
   ]
  },
  {
   "cell_type": "code",
   "execution_count": 56,
   "metadata": {},
   "outputs": [
    {
     "name": "stdout",
     "output_type": "stream",
     "text": [
      "Matrix([[Kbb, 0, -Kbc], [0, Kaa, 0], [-Kcb, 0, Kcc]])\n",
      "Matrix([[Kaa, 0, 0], [0, Kbb, -Kbc], [0, -Kcb, Kcc]])\n",
      "Matrix([[Kbb, 0, Kbc], [0, Kaa, 0], [Kcb, 0, Kcc]])\n",
      "Matrix([[Kbb, 0, Kbc], [0, Kaa, 0], [Kcb, 0, Kcc]])\n"
     ]
    }
   ],
   "source": [
    "# シンボルの定義\n",
    "Kaa = Symbol('Kaa')\n",
    "Kbb = Symbol('Kbb')\n",
    "Kbc = Symbol('Kbc')\n",
    "Kcb = Symbol('Kcb')\n",
    "Kcc = Symbol('Kcc')\n",
    "\n",
    "# A行列\n",
    "A = Matrix([[Kaa, 0, 0], [0, Kbb, Kbc], [0, Kcb, Kcc]])\n",
    "\n",
    "# 回転行列R2, R3をsympyで定義（角度をラジアン単位で指定）\n",
    "R1 = Matrix([[0, 1, 0], \n",
    "             [-1, 0, 0], \n",
    "             [0, 0, 1]])\n",
    "\n",
    "R2 = Matrix([[-1, 0, 0], \n",
    "             [0, -1, 0], \n",
    "             [0, 0, 1]])\n",
    "\n",
    "R3 = Matrix([[0, -1, 0], \n",
    "             [1, 0, 0], \n",
    "             [0, 0, 1]])\n",
    "\n",
    "# A1を計算\n",
    "A1 = R1.T * A * R1\n",
    "A2 = R2.T * A * R2\n",
    "A3 = R1 * A * R1.T\n",
    "A4 = R3.T * A * R3\n",
    "\n",
    "print(A1)\n",
    "print(A2)\n",
    "print(A3)\n",
    "print(A4)"
   ]
  },
  {
   "cell_type": "code",
   "execution_count": 57,
   "metadata": {},
   "outputs": [
    {
     "name": "stdout",
     "output_type": "stream",
     "text": [
      "Matrix([[0], [0], [1.00000000000000]])\n"
     ]
    }
   ],
   "source": [
    "t1 = 0\n",
    "p1 = -120\n",
    "t2 = 0\n",
    "p2 = 240\n",
    "\n",
    "nx = np.cos(np.radians(p1)) * np.sin(np.radians(t1))\n",
    "ny = np.sin(np.radians(p1)) * np.sin(np.radians(t1))\n",
    "nz = np.cos(np.radians(t1))\n",
    "sx = np.cos(np.radians(p2)) * np.sin(np.radians(t2))\n",
    "sy = np.sin(np.radians(p2)) * np.sin(np.radians(t2))\n",
    "sz = np.cos(np.radians(t2))\n",
    "\n",
    "C = Symbol('C')\n",
    "S = Symbol('S')\n",
    "\n",
    "T = sympy.Matrix([[nx**(2)*(1-C)+C, nx*ny*(1-C)-nz*S, nx*nz*(1-C)+ny*S], \n",
    "            [nx*ny*(1-C)+nz*S, ny**(2)*(1-C)+C, ny*nz*(1-C)-nx*S], \n",
    "            [nx*nz*(1-C)-ny*S, ny*nz*(1-C)+nx*S, nz**(2)*(1-C)+C]])\n",
    "\n",
    "s = sympy.Matrix([[sx], [sy], [sz]])\n",
    "\n",
    "h = T @ s\n",
    "\n",
    "print(h)"
   ]
  },
  {
   "cell_type": "code",
   "execution_count": null,
   "metadata": {},
   "outputs": [],
   "source": []
  }
 ],
 "metadata": {
  "kernelspec": {
   "display_name": "Python 3",
   "language": "python",
   "name": "python3"
  },
  "language_info": {
   "codemirror_mode": {
    "name": "ipython",
    "version": 3
   },
   "file_extension": ".py",
   "mimetype": "text/x-python",
   "name": "python",
   "nbconvert_exporter": "python",
   "pygments_lexer": "ipython3",
   "version": "3.11.9"
  }
 },
 "nbformat": 4,
 "nbformat_minor": 2
}
