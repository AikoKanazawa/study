{
 "cells": [
  {
   "cell_type": "code",
   "execution_count": 45,
   "metadata": {},
   "outputs": [],
   "source": [
    "%matplotlib inline\n",
    "import numpy as np\n",
    "import torch\n",
    "import pandas as pd\n",
    "import matplotlib.pyplot as plt\n",
    "torch.set_printoptions(edgeitems=2)"
   ]
  },
  {
   "cell_type": "code",
   "execution_count": 46,
   "metadata": {},
   "outputs": [],
   "source": [
    "# CSVファイルの読み込み\n",
    "df = pd.read_csv('xy(1).csv')\n",
    "\n",
    "# データの抽出\n",
    "x = df['x'].values\n",
    "y = df['y'].values\n",
    "\n",
    "x = torch.tensor(x, dtype=torch.float32)\n",
    "y = torch.tensor(y, dtype=torch.float32)"
   ]
  },
  {
   "cell_type": "code",
   "execution_count": 47,
   "metadata": {},
   "outputs": [],
   "source": [
    "def cross_product(v1, v2):\n",
    "    return torch.cross(v1, v2, dim=0)\n",
    "\n",
    "def magnetic(axis, vec, theta):\n",
    "    cos_theta = torch.cos(theta)\n",
    "    sin_theta = torch.sin(theta)\n",
    "    \n",
    "    axis = axis.unsqueeze(0)  # (1, 3)\n",
    "    vec = vec.unsqueeze(0)    # (1, 3)\n",
    "    \n",
    "    rotated_vecs = []\n",
    "    for i in range(theta.size(0)):\n",
    "        theta_i = theta[i]\n",
    "        cos_theta_i = cos_theta[i]\n",
    "        sin_theta_i = sin_theta[i]\n",
    "        \n",
    "        axis_i = axis[0]\n",
    "        vec_i = vec[0]\n",
    "        \n",
    "        rotated_vec = vec_i * cos_theta_i + cross_product(axis_i, vec_i) * sin_theta_i + axis_i * (torch.matmul(axis_i.unsqueeze(1).T, vec_i.unsqueeze(1)).squeeze() * (1 - cos_theta_i))\n",
    "        rotated_vecs.append(rotated_vec)\n",
    "    \n",
    "    return torch.stack(rotated_vecs)\n",
    "\n",
    "def model(x, params):\n",
    "    rad = torch.pi / 180.0  # Conversion factor from degrees to radians\n",
    "    nx = torch.cos(params[7] * rad) * torch.sin(params[6] * rad)\n",
    "    ny = torch.sin(params[7] * rad) * torch.sin(params[6] * rad)\n",
    "    nz = torch.cos(params[6] * rad)\n",
    "    sx = torch.cos(params[9] * rad) * torch.sin(params[8] * rad)\n",
    "    sy = torch.sin(params[9] * rad) * torch.sin(params[8] * rad)\n",
    "    sz = torch.cos(params[8] * rad)\n",
    "    theta = x * rad\n",
    "    \n",
    "    h = magnetic(torch.tensor([nx, ny, nz], requires_grad=True), torch.tensor([sx, sy, sz], requires_grad=True), theta)\n",
    "    K = torch.tensor([[params[0], params[5], params[4]], \n",
    "                      [params[5], params[1], params[3]], \n",
    "                      [params[4], params[3], params[2]]], requires_grad=True)\n",
    "    \n",
    "    # 63個のスカラー結果を得るための計算\n",
    "    K1 = torch.einsum('ij,jk,ik->i', h, K, h)\n",
    "    return K1"
   ]
  },
  {
   "cell_type": "code",
   "execution_count": 48,
   "metadata": {},
   "outputs": [],
   "source": [
    "def loss_fn(y_p, y):\n",
    "    squared_diffs = (y_p - y)**2\n",
    "    return squared_diffs.mean()"
   ]
  },
  {
   "cell_type": "code",
   "execution_count": 49,
   "metadata": {},
   "outputs": [],
   "source": [
    "params = [torch.tensor(1.0, requires_grad=True) for _ in range(10)]"
   ]
  },
  {
   "cell_type": "code",
   "execution_count": 50,
   "metadata": {},
   "outputs": [
    {
     "name": "stdout",
     "output_type": "stream",
     "text": [
      "param_0 has no gradient\n",
      "param_1 has no gradient\n",
      "param_2 has no gradient\n",
      "param_3 has no gradient\n",
      "param_4 has no gradient\n",
      "param_5 has no gradient\n",
      "param_6 has no gradient\n",
      "param_7 has no gradient\n",
      "param_8 has no gradient\n",
      "param_9 has no gradient\n"
     ]
    }
   ],
   "source": [
    "# 各パラメータの勾配を確認する\n",
    "for i, param in enumerate(params):\n",
    "    if param.grad is not None:\n",
    "        print(f'param_{i} gradient: {param.grad}')\n",
    "    else:\n",
    "        print(f'param_{i} has no gradient')"
   ]
  },
  {
   "cell_type": "code",
   "execution_count": 51,
   "metadata": {},
   "outputs": [
    {
     "ename": "AttributeError",
     "evalue": "'list' object has no attribute 'grad'",
     "output_type": "error",
     "traceback": [
      "\u001b[0;31m---------------------------------------------------------------------------\u001b[0m",
      "\u001b[0;31mAttributeError\u001b[0m                            Traceback (most recent call last)",
      "Cell \u001b[0;32mIn[51], line 1\u001b[0m\n\u001b[0;32m----> 1\u001b[0m \u001b[43mparams\u001b[49m\u001b[38;5;241;43m.\u001b[39;49m\u001b[43mgrad\u001b[49m \u001b[38;5;129;01mis\u001b[39;00m \u001b[38;5;28;01mNone\u001b[39;00m\n",
      "\u001b[0;31mAttributeError\u001b[0m: 'list' object has no attribute 'grad'"
     ]
    }
   ],
   "source": [
    "params.grad is None"
   ]
  },
  {
   "cell_type": "code",
   "execution_count": null,
   "metadata": {},
   "outputs": [
    {
     "ename": "TypeError",
     "evalue": "model() takes 2 positional arguments but 11 were given",
     "output_type": "error",
     "traceback": [
      "\u001b[0;31m---------------------------------------------------------------------------\u001b[0m",
      "\u001b[0;31mTypeError\u001b[0m                                 Traceback (most recent call last)",
      "Cell \u001b[0;32mIn[44], line 1\u001b[0m\n\u001b[0;32m----> 1\u001b[0m loss \u001b[38;5;241m=\u001b[39m loss_fn(\u001b[43mmodel\u001b[49m\u001b[43m(\u001b[49m\u001b[43mx\u001b[49m\u001b[43m,\u001b[49m\u001b[43m \u001b[49m\u001b[38;5;241;43m*\u001b[39;49m\u001b[43mparams\u001b[49m\u001b[43m)\u001b[49m, y)\n\u001b[1;32m      2\u001b[0m loss\u001b[38;5;241m.\u001b[39mbackward()\n\u001b[1;32m      4\u001b[0m params\u001b[38;5;241m.\u001b[39mgrad\n",
      "\u001b[0;31mTypeError\u001b[0m: model() takes 2 positional arguments but 11 were given"
     ]
    }
   ],
   "source": [
    "loss = loss_fn(model(x, *params), y)\n",
    "loss.backward()\n",
    "\n",
    "params.grad"
   ]
  },
  {
   "cell_type": "code",
   "execution_count": null,
   "metadata": {},
   "outputs": [],
   "source": [
    "if params.grad is not None:\n",
    "    params.grad.zero_()"
   ]
  },
  {
   "cell_type": "code",
   "execution_count": null,
   "metadata": {},
   "outputs": [],
   "source": [
    "def training_loop(n_epochs, learning_rate, params, x, y):\n",
    "    for epoch in range(1, n_epochs + 1):\n",
    "        if params.grad is not None:  # <1>\n",
    "            params.grad.zero_()\n",
    "        \n",
    "        y_p = model(x, *params) \n",
    "        loss = loss_fn(x, y)\n",
    "        loss.backward()\n",
    "        \n",
    "        with torch.no_grad():  # <2>\n",
    "            params -= learning_rate * params.grad\n",
    "\n",
    "        if epoch % 500 == 0:\n",
    "            print('Epoch %d, Loss %f' % (epoch, float(loss)))\n",
    "            \n",
    "    return params"
   ]
  },
  {
   "cell_type": "code",
   "execution_count": null,
   "metadata": {},
   "outputs": [
    {
     "name": "stdout",
     "output_type": "stream",
     "text": [
      "Epoch 500, Loss 7.860115\n",
      "Epoch 1000, Loss 3.828538\n",
      "Epoch 1500, Loss 3.092191\n",
      "Epoch 2000, Loss 2.957698\n",
      "Epoch 2500, Loss 2.933134\n",
      "Epoch 3000, Loss 2.928648\n",
      "Epoch 3500, Loss 2.927830\n",
      "Epoch 4000, Loss 2.927679\n",
      "Epoch 4500, Loss 2.927652\n",
      "Epoch 5000, Loss 2.927647\n"
     ]
    },
    {
     "data": {
      "text/plain": [
       "tensor([  5.3671, -17.3012], requires_grad=True)"
      ]
     },
     "execution_count": 10,
     "metadata": {},
     "output_type": "execute_result"
    }
   ],
   "source": [
    "training_loop(\n",
    "    n_epochs = 5000, \n",
    "    learning_rate = 1e-2, \n",
    "    params = [torch.tensor(1.0, requires_grad=True) for _ in range(10)], # <1> \n",
    "    x = x, # <2> \n",
    "    y = y)"
   ]
  }
 ],
 "metadata": {
  "kernelspec": {
   "display_name": "Python 3",
   "language": "python",
   "name": "python3"
  },
  "language_info": {
   "codemirror_mode": {
    "name": "ipython",
    "version": 3
   },
   "file_extension": ".py",
   "mimetype": "text/x-python",
   "name": "python",
   "nbconvert_exporter": "python",
   "pygments_lexer": "ipython3",
   "version": "3.11.9"
  }
 },
 "nbformat": 4,
 "nbformat_minor": 2
}
