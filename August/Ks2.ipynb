{
 "cells": [
  {
   "cell_type": "code",
   "execution_count": 4,
   "metadata": {},
   "outputs": [],
   "source": [
    "import sympy\n",
    "from sympy import *"
   ]
  },
  {
   "cell_type": "code",
   "execution_count": 5,
   "metadata": {},
   "outputs": [],
   "source": [
    "import numpy as np"
   ]
  },
  {
   "cell_type": "code",
   "execution_count": 6,
   "metadata": {},
   "outputs": [
    {
     "name": "stdout",
     "output_type": "stream",
     "text": [
      "Matrix([[S*s], [-S*c], [C]])\n",
      "Matrix([[C*(C*Kzz - Kyz*S*c + Kzx*S*s) - S*c*(C*Kyz + Kxy*S*s - Kyy*S*c) + S*s*(C*Kzx + Kxx*S*s - Kxy*S*c)]])\n",
      "Matrix([[C*(C*Kzz + Kyz*(0.5*S*c - 0.866025403784439*S*s) + Kzx*(0.866025403784439*S*c - 0.5*S*s)) - S*c*(-0.5*C*Kyz - 0.866025403784439*C*Kzx - 0.866025403784439*Kxx*(0.866025403784439*S*c - 0.5*S*s) - 0.866025403784439*Kxy*(0.5*S*c - 0.866025403784439*S*s) - 0.5*Kxy*(0.866025403784439*S*c - 0.5*S*s) - 0.5*Kyy*(0.5*S*c - 0.866025403784439*S*s)) + S*s*(-0.866025403784439*C*Kyz - 0.5*C*Kzx - 0.5*Kxx*(0.866025403784439*S*c - 0.5*S*s) - 0.5*Kxy*(0.5*S*c - 0.866025403784439*S*s) - 0.866025403784439*Kxy*(0.866025403784439*S*c - 0.5*S*s) - 0.866025403784439*Kyy*(0.5*S*c - 0.866025403784439*S*s))]])\n",
      "Matrix([[C*(C*Kzz + Kyz*(0.5*S*c + 0.866025403784439*S*s) + Kzx*(-0.866025403784439*S*c - 0.5*S*s)) - S*c*(-0.5*C*Kyz + 0.866025403784439*C*Kzx + 0.866025403784439*Kxx*(-0.866025403784439*S*c - 0.5*S*s) - 0.5*Kxy*(-0.866025403784439*S*c - 0.5*S*s) + 0.866025403784439*Kxy*(0.5*S*c + 0.866025403784439*S*s) - 0.5*Kyy*(0.5*S*c + 0.866025403784439*S*s)) + S*s*(0.866025403784439*C*Kyz - 0.5*C*Kzx - 0.5*Kxx*(-0.866025403784439*S*c - 0.5*S*s) + 0.866025403784439*Kxy*(-0.866025403784439*S*c - 0.5*S*s) - 0.5*Kxy*(0.5*S*c + 0.866025403784439*S*s) + 0.866025403784439*Kyy*(0.5*S*c + 0.866025403784439*S*s))]])\n"
     ]
    }
   ],
   "source": [
    "C = Symbol('C')\n",
    "S = Symbol('S')\n",
    "c = Symbol('c')\n",
    "s = Symbol('s')\n",
    "Kxx = Symbol('Kxx')\n",
    "Kyy = Symbol('Kyy')\n",
    "Kzz = Symbol('Kzz')\n",
    "Kyz = Symbol('Kyz')\n",
    "Kzx = Symbol('Kzx')\n",
    "Kxy = Symbol('Kxy')\n",
    "\n",
    "n1 = c\n",
    "n2 = s\n",
    "n3 = 0\n",
    "s1 = 0\n",
    "s2 = 0\n",
    "s3 = 1\n",
    "\n",
    "T = Matrix([[n1**(2)*(1-C)+C, n1*n2*(1-C)-n3*S, n1*n3*(1-C)+n2*S], \n",
    "            [n1*n2*(1-C)+n3*S, n2**(2)*(1-C)+C, n2*n3*(1-C)-n1*S], \n",
    "            [n1*n3*(1-C)-n2*S, n2*n3*(1-C)+n1*S, n3**(2)*(1-C)+C]])\n",
    "\n",
    "K = Matrix([[Kxx, Kxy, Kzx], [Kxy, Kyy, Kyz], [Kzx, Kyz, Kzz]])\n",
    "\n",
    "s = Matrix([[s1], [s2], [s3]])\n",
    "\n",
    "h = T*s\n",
    "\n",
    "R2 = Matrix([[np.cos(np.radians(-120)), np.sin(np.radians(-120)), 0], [np.sin(np.radians(-120)), np.cos(np.radians(-120)), 0], [0, 0, 1]])\n",
    "R3 = Matrix([[np.cos(np.radians(120)), np.sin(np.radians(120)), 0], [np.sin(np.radians(120)), np.cos(np.radians(120)), 0], [0, 0, 1]])\n",
    "\n",
    "Kzz1 = (h.T)*K*h\n",
    "Kzz2 = (h.T)*R2*K*(R2.T)*h\n",
    "Kzz3 = (h.T)*R3*K*(R3.T)*h\n",
    "\n",
    "print(h)\n",
    "\n",
    "print(Kzz1)\n",
    "print(Kzz2)\n",
    "print(Kzz3)"
   ]
  }
 ],
 "metadata": {
  "kernelspec": {
   "display_name": "Python 3",
   "language": "python",
   "name": "python3"
  },
  "language_info": {
   "codemirror_mode": {
    "name": "ipython",
    "version": 3
   },
   "file_extension": ".py",
   "mimetype": "text/x-python",
   "name": "python",
   "nbconvert_exporter": "python",
   "pygments_lexer": "ipython3",
   "version": "3.11.9"
  }
 },
 "nbformat": 4,
 "nbformat_minor": 2
}
