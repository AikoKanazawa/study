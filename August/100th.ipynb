{
 "cells": [
  {
   "cell_type": "code",
   "execution_count": 6,
   "metadata": {},
   "outputs": [],
   "source": [
    "from PIL import Image"
   ]
  },
  {
   "cell_type": "code",
   "execution_count": 7,
   "metadata": {},
   "outputs": [
    {
     "ename": "FileNotFoundError",
     "evalue": "[Errno 2] No such file or directory: '100th6.jpeg'",
     "output_type": "error",
     "traceback": [
      "\u001b[0;31m---------------------------------------------------------------------------\u001b[0m",
      "\u001b[0;31mFileNotFoundError\u001b[0m                         Traceback (most recent call last)",
      "Cell \u001b[0;32mIn[7], line 2\u001b[0m\n\u001b[1;32m      1\u001b[0m \u001b[38;5;66;03m# 画像の読み込み\u001b[39;00m\n\u001b[0;32m----> 2\u001b[0m image \u001b[38;5;241m=\u001b[39m \u001b[43mImage\u001b[49m\u001b[38;5;241;43m.\u001b[39;49m\u001b[43mopen\u001b[49m\u001b[43m(\u001b[49m\u001b[38;5;124;43m'\u001b[39;49m\u001b[38;5;124;43m100th6.jpeg\u001b[39;49m\u001b[38;5;124;43m'\u001b[39;49m\u001b[43m)\u001b[49m\n\u001b[1;32m      4\u001b[0m \u001b[38;5;66;03m# 切り抜く範囲の座標を指定 (左, 上, 右, 下)\u001b[39;00m\n\u001b[1;32m      5\u001b[0m crop_areas \u001b[38;5;241m=\u001b[39m [\n\u001b[1;32m      6\u001b[0m     \u001b[38;5;66;03m# (178, 346, 562, 852),   # 切り抜き1\u001b[39;00m\n\u001b[1;32m      7\u001b[0m     \u001b[38;5;66;03m# (590, 346, 982, 852),  # 切り抜き2\u001b[39;00m\n\u001b[0;32m   (...)\u001b[0m\n\u001b[1;32m     14\u001b[0m     (\u001b[38;5;241m1020\u001b[39m, \u001b[38;5;241m1454\u001b[39m, \u001b[38;5;241m1407\u001b[39m, \u001b[38;5;241m1971\u001b[39m) \u001b[38;5;66;03m# 切り抜き9\u001b[39;00m\n\u001b[1;32m     15\u001b[0m ]\n",
      "File \u001b[0;32m/opt/homebrew/lib/python3.11/site-packages/PIL/Image.py:3227\u001b[0m, in \u001b[0;36mopen\u001b[0;34m(fp, mode, formats)\u001b[0m\n\u001b[1;32m   3224\u001b[0m     filename \u001b[38;5;241m=\u001b[39m fp\n\u001b[1;32m   3226\u001b[0m \u001b[38;5;28;01mif\u001b[39;00m filename:\n\u001b[0;32m-> 3227\u001b[0m     fp \u001b[38;5;241m=\u001b[39m \u001b[43mbuiltins\u001b[49m\u001b[38;5;241;43m.\u001b[39;49m\u001b[43mopen\u001b[49m\u001b[43m(\u001b[49m\u001b[43mfilename\u001b[49m\u001b[43m,\u001b[49m\u001b[43m \u001b[49m\u001b[38;5;124;43m\"\u001b[39;49m\u001b[38;5;124;43mrb\u001b[39;49m\u001b[38;5;124;43m\"\u001b[39;49m\u001b[43m)\u001b[49m\n\u001b[1;32m   3228\u001b[0m     exclusive_fp \u001b[38;5;241m=\u001b[39m \u001b[38;5;28;01mTrue\u001b[39;00m\n\u001b[1;32m   3230\u001b[0m \u001b[38;5;28;01mtry\u001b[39;00m:\n",
      "\u001b[0;31mFileNotFoundError\u001b[0m: [Errno 2] No such file or directory: '100th6.jpeg'"
     ]
    }
   ],
   "source": [
    "# 画像の読み込み\n",
    "image = Image.open('100th6.jpeg')\n",
    "\n",
    "# 切り抜く範囲の座標を指定 (左, 上, 右, 下)\n",
    "crop_areas = [\n",
    "    # (178, 346, 562, 852),   # 切り抜き1\n",
    "    # (590, 346, 982, 852),  # 切り抜き2\n",
    "    # (1020, 346, 1407, 852),  # 切り抜き3\n",
    "    # (178, 904, 562, 1411),  # 切り抜き4\n",
    "    # (599, 904, 982, 1411), # 切り抜き5\n",
    "    # (1020, 904, 1407, 1411), # 切り抜き6\n",
    "    # (178, 1454, 562, 1971), # 切り抜き7\n",
    "    (599, 1454, 982, 1971),# 切り抜き8\n",
    "    (1020, 1454, 1407, 1971) # 切り抜き9\n",
    "]\n",
    "\n",
    "# 各範囲で画像を切り抜き、保存\n",
    "for i, area in enumerate(crop_areas):\n",
    "    cropped_image = image.crop(area)\n",
    "    cropped_image.save(f'image_{i+59}.jpg')"
   ]
  },
  {
   "cell_type": "code",
   "execution_count": null,
   "metadata": {},
   "outputs": [
    {
     "name": "stdout",
     "output_type": "stream",
     "text": [
      "tensor([-3.,  6., -3.])\n"
     ]
    }
   ],
   "source": [
    "import torch\n",
    "\n",
    "# 3次元ベクトル\n",
    "v1 = torch.tensor([1.0, 2.0, 3.0])\n",
    "v2 = torch.tensor([4.0, 5.0, 6.0])\n",
    "\n",
    "# 外積計算\n",
    "cross_product = torch.cross(v1, v2, dim=0)\n",
    "print(cross_product)"
   ]
  }
 ],
 "metadata": {
  "kernelspec": {
   "display_name": "Python 3",
   "language": "python",
   "name": "python3"
  },
  "language_info": {
   "codemirror_mode": {
    "name": "ipython",
    "version": 3
   },
   "file_extension": ".py",
   "mimetype": "text/x-python",
   "name": "python",
   "nbconvert_exporter": "python",
   "pygments_lexer": "ipython3",
   "version": "3.11.9"
  }
 },
 "nbformat": 4,
 "nbformat_minor": 2
}
