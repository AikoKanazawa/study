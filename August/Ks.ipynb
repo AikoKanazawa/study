{
 "cells": [
  {
   "cell_type": "code",
   "execution_count": 22,
   "metadata": {},
   "outputs": [],
   "source": [
    "import numpy as np\n",
    "import math\n",
    "import matplotlib.pyplot as plt\n",
    "import sympy\n",
    "from sympy import *\n",
    "import matplotlib.animation as animation\n",
    "import random"
   ]
  },
  {
   "cell_type": "code",
   "execution_count": 23,
   "metadata": {},
   "outputs": [
    {
     "name": "stdout",
     "output_type": "stream",
     "text": [
      "Matrix([[0], [S], [C]])\n"
     ]
    }
   ],
   "source": [
    "n1 = -1\n",
    "n2 = 0\n",
    "n3 = 0\n",
    "s1 = 0\n",
    "s2 = 0\n",
    "s3 = 1\n",
    "C = Symbol('C')\n",
    "S = Symbol('S')\n",
    "\n",
    "T = sympy.Matrix([[n1**(2)*(1-C)+C, n1*n2*(1-C)-n3*S, n1*n3*(1-C)+n2*S], \n",
    "            [n1*n2*(1-C)+n3*S, n2**(2)*(1-C)+C, n2*n3*(1-C)-n1*S], \n",
    "            [n1*n3*(1-C)-n2*S, n2*n3*(1-C)+n1*S, n3**(2)*(1-C)+C]])\n",
    "\n",
    "s = sympy.Matrix([[s1], [s2], [s3]])\n",
    "\n",
    "h = T*s\n",
    "\n",
    "print(h)"
   ]
  },
  {
   "cell_type": "code",
   "execution_count": 24,
   "metadata": {},
   "outputs": [
    {
     "name": "stdout",
     "output_type": "stream",
     "text": [
      "Matrix([[C*(C*Kzz + Kyz*S) + S*(C*Kyz + Kyy*S)]])\n",
      "Matrix([[C*(C*Kzz - 0.866025403784439*Kxz*S - 0.5*Kyz*S) + S*(-0.866025403784439*C*Kxz - 0.5*C*Kyz + 0.75*Kxx*S + 0.866025403784438*Kxy*S + 0.25*Kyy*S)]])\n",
      "Matrix([[C*(C*Kzz + 0.866025403784439*Kxz*S - 0.5*Kyz*S) + S*(0.866025403784439*C*Kxz - 0.5*C*Kyz + 0.75*Kxx*S - 0.866025403784438*Kxy*S + 0.25*Kyy*S)]])\n"
     ]
    }
   ],
   "source": [
    "C = Symbol('C')\n",
    "S = Symbol('S')\n",
    "\n",
    "Kxx = Symbol('Kxx')\n",
    "Kxy = Symbol('Kxy')\n",
    "Kyy = Symbol('Kyy')\n",
    "Kyz = Symbol('Kyz')\n",
    "Kzz = Symbol('Kzz')\n",
    "Kxz = Symbol('Kxz')\n",
    "\n",
    "K = sympy.Matrix([[Kxx, Kxy, Kxz], [Kxy, Kyy, Kyz], [Kxz, Kyz, Kzz]])\n",
    "\n",
    "R2 = Matrix([[np.cos(np.radians(-120)), np.sin(np.radians(-120)), 0], [np.sin(np.radians(-120)), np.cos(np.radians(-120)), 0], [0, 0, 1]])\n",
    "R3 = Matrix([[np.cos(np.radians(120)), np.sin(np.radians(120)), 0], [np.sin(np.radians(120)), np.cos(np.radians(120)), 0], [0, 0, 1]])\n",
    "\n",
    "Kzz1 = (h.T)*K*h\n",
    "Kzz2 = (h.T)*R2*K*(R2.T)*h\n",
    "Kzz3 = (h.T)*R3*K*(R3.T)*h\n",
    "\n",
    "print(Kzz1)\n",
    "print(Kzz2)\n",
    "print(Kzz3)"
   ]
  }
 ],
 "metadata": {
  "kernelspec": {
   "display_name": "Python 3",
   "language": "python",
   "name": "python3"
  },
  "language_info": {
   "codemirror_mode": {
    "name": "ipython",
    "version": 3
   },
   "file_extension": ".py",
   "mimetype": "text/x-python",
   "name": "python",
   "nbconvert_exporter": "python",
   "pygments_lexer": "ipython3",
   "version": "3.11.9"
  }
 },
 "nbformat": 4,
 "nbformat_minor": 2
}
