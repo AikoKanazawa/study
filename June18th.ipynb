{
 "cells": [
  {
   "cell_type": "code",
   "execution_count": 30,
   "metadata": {},
   "outputs": [],
   "source": [
    "import numpy as np\n",
    "from scipy.optimize import least_squares\n",
    "import pandas as pd\n",
    "import torch\n",
    "from torch.utils.data import Dataset, DataLoader\n",
    "import torch.nn as nn\n",
    "import torch.optim as optim\n",
    "import matplotlib.pyplot as plt"
   ]
  },
  {
   "cell_type": "code",
   "execution_count": 31,
   "metadata": {},
   "outputs": [],
   "source": [
    "# CSVファイルの読み込み\n",
    "csv_file_path = 'xy.csv'\n",
    "data = pd.read_csv(csv_file_path)\n",
    "\n",
    "# xとyのデータを抽出\n",
    "x_data = data.iloc[:, 0].values  # CSVファイルの1列目をxとして使用\n",
    "y_data = data.iloc[:, 1].values  # CSVファイルの2列目をyとして使用"
   ]
  },
  {
   "cell_type": "code",
   "execution_count": 32,
   "metadata": {},
   "outputs": [],
   "source": [
    "# 原子を回転させるための行列\n",
    "def rotation_matrix():\n",
    "    identity_matrix = np.identity(3)\n",
    "    matrices = []\n",
    "    for i in range(3):\n",
    "        kx = 0\n",
    "        ky = 0\n",
    "        kz = 1\n",
    "        R = np.array([[0, -kz, ky], [kz, 0, -kx], [-ky, kx, 0]])\n",
    "        t = 120\n",
    "        theta = np.radians(t * i)\n",
    "        rot_mat = identity_matrix + np.sin(theta) * R + (1 - np.cos(theta)) * np.dot(R, R)\n",
    "        matrices.append(rot_mat)\n",
    "    return matrices\n",
    "\n",
    "# Rに書き換えてる\n",
    "R = rotation_matrix()\n",
    "\n",
    "# thetaの書き換え\n",
    "theta = np.radians(x_data)\n",
    "\n",
    "# ロドリゲスの回転公式×磁場ベクトル\n",
    "def rodrigues_rotation(n, s, theta):\n",
    "    h = (s[:, np.newaxis] * np.cos(theta) +\n",
    "         np.cross(n, s)[:, np.newaxis] * np.sin(theta) +\n",
    "         n[:, np.newaxis] * np.dot(n, s) * (1 - np.cos(theta)))\n",
    "    return h\n",
    "\n",
    "# モデル関数\n",
    "def model(params, x_data):\n",
    "    K_rot_values = []\n",
    "    n = np.array([params[0], params[1], params[2]])\n",
    "    s = np.array([params[3], params[4], params[5]])\n",
    "    XX = params[6]\n",
    "    XY = params[7]\n",
    "    YY = params[8]\n",
    "    YZ = params[9]\n",
    "    XZ = params[10]\n",
    "    ZZ = params[11]\n",
    "    K = np.array([[XX, XY, XZ], [XY, YY, YZ], [XZ, YZ, ZZ]])\n",
    "    h_vec = np.array(h)\n",
    "    K_rot = np.dot(h_vec.T, np.dot(R[i], np.dot(K, np.dot(np.linalg.inv(R[i]), h_vec))))*10**(4)\n",
    "    K_rot_values.append(K_rot)\n",
    "    return K_rot_values\n",
    "\n",
    "def residual(params, x_data, y_data):\n",
    "    return model(params, x_data) - y_data"
   ]
  }
 ],
 "metadata": {
  "kernelspec": {
   "display_name": "Python 3",
   "language": "python",
   "name": "python3"
  },
  "language_info": {
   "codemirror_mode": {
    "name": "ipython",
    "version": 3
   },
   "file_extension": ".py",
   "mimetype": "text/x-python",
   "name": "python",
   "nbconvert_exporter": "python",
   "pygments_lexer": "ipython3",
   "version": "3.11.9"
  }
 },
 "nbformat": 4,
 "nbformat_minor": 2
}
