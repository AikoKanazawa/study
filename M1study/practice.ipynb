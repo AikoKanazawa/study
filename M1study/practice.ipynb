{
 "cells": [
  {
   "cell_type": "code",
   "execution_count": 35,
   "metadata": {},
   "outputs": [
    {
     "name": "stdout",
     "output_type": "stream",
     "text": [
      "66.05206849315067\n"
     ]
    }
   ],
   "source": [
    "f = 0.145*55423*3/365\n",
    "print(f)"
   ]
  },
  {
   "cell_type": "code",
   "execution_count": 36,
   "metadata": {},
   "outputs": [
    {
     "data": {
      "text/plain": [
       "int"
      ]
     },
     "execution_count": 36,
     "metadata": {},
     "output_type": "execute_result"
    }
   ],
   "source": [
    "type(0)"
   ]
  },
  {
   "cell_type": "code",
   "execution_count": 37,
   "metadata": {},
   "outputs": [
    {
     "data": {
      "text/plain": [
       "float"
      ]
     },
     "execution_count": 37,
     "metadata": {},
     "output_type": "execute_result"
    }
   ],
   "source": [
    "type(0.1)"
   ]
  },
  {
   "cell_type": "code",
   "execution_count": 38,
   "metadata": {},
   "outputs": [
    {
     "data": {
      "text/plain": [
       "str"
      ]
     },
     "execution_count": 38,
     "metadata": {},
     "output_type": "execute_result"
    }
   ],
   "source": [
    "type('こんにちは')"
   ]
  },
  {
   "cell_type": "code",
   "execution_count": null,
   "metadata": {},
   "outputs": [],
   "source": []
  },
  {
   "cell_type": "code",
   "execution_count": 39,
   "metadata": {},
   "outputs": [
    {
     "data": {
      "text/plain": [
       "bool"
      ]
     },
     "execution_count": 39,
     "metadata": {},
     "output_type": "execute_result"
    }
   ],
   "source": [
    "type(True)"
   ]
  },
  {
   "cell_type": "code",
   "execution_count": 40,
   "metadata": {},
   "outputs": [
    {
     "name": "stdout",
     "output_type": "stream",
     "text": [
      "AAABBB\n"
     ]
    }
   ],
   "source": [
    "a = 'AAA'\n",
    "b = 'BBB'\n",
    "c = a + b\n",
    "print(c)"
   ]
  },
  {
   "cell_type": "code",
   "execution_count": 41,
   "metadata": {},
   "outputs": [
    {
     "name": "stdout",
     "output_type": "stream",
     "text": [
      "ABCABCABC\n"
     ]
    }
   ],
   "source": [
    "a = 'ABC'*3\n",
    "print(a)"
   ]
  },
  {
   "cell_type": "code",
   "execution_count": 42,
   "metadata": {},
   "outputs": [
    {
     "name": "stdout",
     "output_type": "stream",
     "text": [
      "2023年\n"
     ]
    }
   ],
   "source": [
    "year = 2023\n",
    "print(str(year) + '年')"
   ]
  },
  {
   "cell_type": "code",
   "execution_count": 43,
   "metadata": {},
   "outputs": [
    {
     "name": "stdout",
     "output_type": "stream",
     "text": [
      "この商品は550円です\n"
     ]
    }
   ],
   "source": [
    "price = 550\n",
    "print('この商品は' + str(price) + '円です')"
   ]
  },
  {
   "cell_type": "code",
   "execution_count": 44,
   "metadata": {},
   "outputs": [
    {
     "name": "stdout",
     "output_type": "stream",
     "text": [
      "この商品は550円です\n"
     ]
    }
   ],
   "source": [
    "price = 550\n",
    "print(f'この商品は{price}円です')"
   ]
  },
  {
   "cell_type": "code",
   "execution_count": 45,
   "metadata": {},
   "outputs": [
    {
     "name": "stdout",
     "output_type": "stream",
     "text": [
      "1つ5円です。550個で2750円です\n"
     ]
    }
   ],
   "source": [
    "a = 5\n",
    "b = 550\n",
    "print(f'1つ{a}円です。{b}個で{a*b}円です')"
   ]
  },
  {
   "cell_type": "code",
   "execution_count": 46,
   "metadata": {},
   "outputs": [
    {
     "name": "stdout",
     "output_type": "stream",
     "text": [
      "500500\n"
     ]
    }
   ],
   "source": [
    "a = '500'\n",
    "b = a*2\n",
    "print(b)"
   ]
  },
  {
   "cell_type": "code",
   "execution_count": 47,
   "metadata": {},
   "outputs": [
    {
     "name": "stdout",
     "output_type": "stream",
     "text": [
      "1000\n"
     ]
    }
   ],
   "source": [
    "a = '500'\n",
    "b = int(a)*2\n",
    "print(b)"
   ]
  },
  {
   "cell_type": "code",
   "execution_count": 48,
   "metadata": {},
   "outputs": [
    {
     "data": {
      "text/plain": [
       "5"
      ]
     },
     "execution_count": 48,
     "metadata": {},
     "output_type": "execute_result"
    }
   ],
   "source": [
    "len('Hello')"
   ]
  },
  {
   "cell_type": "code",
   "execution_count": 49,
   "metadata": {},
   "outputs": [
    {
     "data": {
      "text/plain": [
       "6"
      ]
     },
     "execution_count": 49,
     "metadata": {},
     "output_type": "execute_result"
    }
   ],
   "source": [
    "a = 'Python'\n",
    "len(a)"
   ]
  },
  {
   "cell_type": "code",
   "execution_count": 50,
   "metadata": {},
   "outputs": [
    {
     "name": "stdout",
     "output_type": "stream",
     "text": [
      "0.00025\n"
     ]
    }
   ],
   "source": [
    "print(2.5e-4)"
   ]
  },
  {
   "cell_type": "code",
   "execution_count": 51,
   "metadata": {},
   "outputs": [
    {
     "name": "stdout",
     "output_type": "stream",
     "text": [
      "25000.0\n"
     ]
    }
   ],
   "source": [
    "print(2.5e4)"
   ]
  },
  {
   "cell_type": "code",
   "execution_count": 52,
   "metadata": {},
   "outputs": [
    {
     "name": "stdout",
     "output_type": "stream",
     "text": [
      "10\n",
      "20\n",
      "50\n",
      "50\n",
      "40\n",
      "10\n"
     ]
    }
   ],
   "source": [
    "a = [10,20,30,40,50]\n",
    "print(a[0])\n",
    "print(a[1])\n",
    "print(a[4])\n",
    "print(a[-1])\n",
    "print(a[-2])\n",
    "print(a[-5])"
   ]
  },
  {
   "cell_type": "code",
   "execution_count": 53,
   "metadata": {},
   "outputs": [
    {
     "name": "stdout",
     "output_type": "stream",
     "text": [
      "[99, 20, 30, 40, 50]\n"
     ]
    }
   ],
   "source": [
    "a = [10,20,30,40,50]\n",
    "a[0] = 99\n",
    "print(a)"
   ]
  },
  {
   "cell_type": "code",
   "execution_count": 54,
   "metadata": {},
   "outputs": [
    {
     "name": "stdout",
     "output_type": "stream",
     "text": [
      "[99, 20, 30, 40, 'A']\n"
     ]
    },
    {
     "data": {
      "text/plain": [
       "5"
      ]
     },
     "execution_count": 54,
     "metadata": {},
     "output_type": "execute_result"
    }
   ],
   "source": [
    "a = [10,20,30,40,50]\n",
    "a[0] = 99\n",
    "a[-1] = 'A'\n",
    "print(a)\n",
    "len(a)"
   ]
  },
  {
   "cell_type": "code",
   "execution_count": 55,
   "metadata": {},
   "outputs": [
    {
     "name": "stdout",
     "output_type": "stream",
     "text": [
      "aikoさん、こんにちは。\n"
     ]
    }
   ],
   "source": [
    "name = input('名前を入力してください¥n')\n",
    "print(name + 'さん、こんにちは。')"
   ]
  },
  {
   "cell_type": "code",
   "execution_count": 56,
   "metadata": {},
   "outputs": [
    {
     "name": "stdout",
     "output_type": "stream",
     "text": [
      "投票に行きましょう\n",
      "処理を終わります\n"
     ]
    }
   ],
   "source": [
    "age = int(input('年齢を教えて。: '))\n",
    "if age < 18:\n",
    "    print('まだ選挙権はありません')\n",
    "    print('18歳になったら投票に行きましょう')\n",
    "else:\n",
    "    print('投票に行きましょう')\n",
    "if age == 18:\n",
    "    print('18歳ですね。投票に行けますよ。')\n",
    "\n",
    "print('処理を終わります')"
   ]
  },
  {
   "cell_type": "code",
   "execution_count": 57,
   "metadata": {},
   "outputs": [
    {
     "name": "stdout",
     "output_type": "stream",
     "text": [
      "大人料金です\n",
      "処理を終わります\n"
     ]
    }
   ],
   "source": [
    "age = int(input('年齢を教えて。: '))\n",
    "if age < 13 or age >=65 :\n",
    "    print('無料です')\n",
    "elif age < 13:\n",
    "    print('子供料金です')\n",
    "else:\n",
    "    print('大人料金です')\n",
    "\n",
    "print('処理を終わります')"
   ]
  },
  {
   "cell_type": "code",
   "execution_count": 58,
   "metadata": {},
   "outputs": [
    {
     "name": "stdout",
     "output_type": "stream",
     "text": [
      "有料です\n",
      "処理を終わります\n"
     ]
    }
   ],
   "source": [
    "age = int(input('年齢を教えて。: '))\n",
    "if age < 13 or age >=65 :\n",
    "    print('無料です')\n",
    "else:\n",
    "    print('有料です')\n",
    "\n",
    "print('処理を終わります')"
   ]
  },
  {
   "cell_type": "code",
   "execution_count": 59,
   "metadata": {},
   "outputs": [
    {
     "name": "stdout",
     "output_type": "stream",
     "text": [
      "こんにちは\n",
      "こんにちは\n",
      "こんにちは\n",
      "こんにちは\n",
      "こんにちは\n"
     ]
    }
   ],
   "source": [
    "i = 0\n",
    "while i < 5:\n",
    "    print('こんにちは')\n",
    "    i +=1"
   ]
  },
  {
   "cell_type": "code",
   "execution_count": 60,
   "metadata": {},
   "outputs": [
    {
     "name": "stdout",
     "output_type": "stream",
     "text": [
      "こんにちは\n",
      "こんにちは\n",
      "こんにちは\n",
      "こんにちは\n",
      "こんにちは\n"
     ]
    }
   ],
   "source": [
    "i = 0\n",
    "while i < 5:\n",
    "    print('こんにちは')\n",
    "    i = i + 1"
   ]
  },
  {
   "cell_type": "code",
   "execution_count": 61,
   "metadata": {},
   "outputs": [
    {
     "name": "stdout",
     "output_type": "stream",
     "text": [
      "20\n",
      "15\n",
      "10\n",
      "5\n"
     ]
    }
   ],
   "source": [
    "i = 20\n",
    "while i > 0:\n",
    "    print(i)\n",
    "    i -= 5"
   ]
  },
  {
   "cell_type": "code",
   "execution_count": 62,
   "metadata": {},
   "outputs": [
    {
     "name": "stdout",
     "output_type": "stream",
     "text": [
      "10\n",
      "20\n",
      "30\n",
      "40\n",
      "50\n"
     ]
    }
   ],
   "source": [
    "for i in [10,20,30,40,50]:\n",
    "    print(i)"
   ]
  },
  {
   "cell_type": "code",
   "execution_count": 63,
   "metadata": {},
   "outputs": [
    {
     "name": "stdout",
     "output_type": "stream",
     "text": [
      "0\n",
      "1\n",
      "2\n",
      "3\n",
      "4\n",
      "5\n",
      "6\n",
      "7\n",
      "8\n",
      "9\n"
     ]
    }
   ],
   "source": [
    "for i in range(10):\n",
    "    print(i)"
   ]
  },
  {
   "cell_type": "code",
   "execution_count": 64,
   "metadata": {},
   "outputs": [
    {
     "name": "stdout",
     "output_type": "stream",
     "text": [
      "100\n",
      "105\n",
      "110\n",
      "115\n",
      "120\n",
      "125\n",
      "130\n",
      "135\n",
      "140\n",
      "145\n",
      "150\n",
      "155\n",
      "160\n",
      "165\n",
      "170\n",
      "175\n",
      "180\n",
      "185\n",
      "190\n",
      "195\n",
      "200\n"
     ]
    }
   ],
   "source": [
    "for i in range(100, 201, 5):\n",
    "    print(i)"
   ]
  },
  {
   "cell_type": "code",
   "execution_count": 65,
   "metadata": {},
   "outputs": [
    {
     "name": "stdout",
     "output_type": "stream",
     "text": [
      "6 21\n"
     ]
    }
   ],
   "source": [
    "total = 0\n",
    "for i in range(10):\n",
    "    total += i\n",
    "    if total > 20:\n",
    "        break\n",
    "\n",
    "print(i, total)"
   ]
  },
  {
   "cell_type": "code",
   "execution_count": 66,
   "metadata": {},
   "outputs": [
    {
     "name": "stdout",
     "output_type": "stream",
     "text": [
      "1\n",
      "2\n",
      "4\n",
      "5\n",
      "7\n",
      "8\n",
      "10\n",
      "11\n",
      "13\n",
      "14\n",
      "16\n",
      "17\n",
      "19\n",
      "20\n",
      "22\n",
      "23\n",
      "25\n",
      "26\n",
      "28\n",
      "29\n",
      "31\n",
      "32\n",
      "34\n",
      "35\n",
      "37\n",
      "38\n",
      "40\n",
      "41\n",
      "43\n",
      "44\n",
      "46\n",
      "47\n",
      "49\n",
      "50\n",
      "52\n",
      "53\n",
      "55\n",
      "56\n",
      "58\n",
      "59\n",
      "61\n",
      "62\n",
      "64\n",
      "65\n",
      "67\n",
      "68\n",
      "70\n",
      "71\n",
      "73\n",
      "74\n",
      "76\n",
      "77\n",
      "79\n",
      "80\n",
      "82\n",
      "83\n",
      "85\n",
      "86\n",
      "88\n",
      "89\n",
      "91\n",
      "92\n",
      "94\n",
      "95\n",
      "97\n",
      "98\n",
      "合計は 3267\n"
     ]
    }
   ],
   "source": [
    "total = 0\n",
    "for i in range(100):\n",
    "    if i % 3 == 0:\n",
    "        continue\n",
    "    print(i)\n",
    "    total +=i\n",
    "\n",
    "print('合計は', total)"
   ]
  },
  {
   "cell_type": "code",
   "execution_count": 67,
   "metadata": {},
   "outputs": [
    {
     "name": "stdout",
     "output_type": "stream",
     "text": [
      "a= 1\n",
      "b= 1\n",
      "b= 2\n",
      "b= 3\n",
      "a= 2\n",
      "b= 1\n",
      "b= 2\n",
      "b= 3\n",
      "a= 3\n",
      "b= 1\n",
      "b= 2\n",
      "b= 3\n"
     ]
    }
   ],
   "source": [
    "for a in range(1, 4):\n",
    "    print('a=', a)\n",
    "    for b in range(1, 4):\n",
    "        print('b=',b)"
   ]
  },
  {
   "cell_type": "code",
   "execution_count": 68,
   "metadata": {},
   "outputs": [
    {
     "name": "stdout",
     "output_type": "stream",
     "text": [
      "1.4142135623730951\n",
      "12\n",
      "3.141592653589793\n"
     ]
    }
   ],
   "source": [
    "import math\n",
    "print(math.sqrt(2))\n",
    "print(math.floor(12.345))\n",
    "print(math.pi)"
   ]
  },
  {
   "cell_type": "code",
   "execution_count": 69,
   "metadata": {},
   "outputs": [
    {
     "data": {
      "text/plain": [
       "3"
      ]
     },
     "execution_count": 69,
     "metadata": {},
     "output_type": "execute_result"
    }
   ],
   "source": [
    "import random\n",
    "random.randint(1, 6)"
   ]
  },
  {
   "cell_type": "code",
   "execution_count": 70,
   "metadata": {},
   "outputs": [
    {
     "data": {
      "text/plain": [
       "'グー'"
      ]
     },
     "execution_count": 70,
     "metadata": {},
     "output_type": "execute_result"
    }
   ],
   "source": [
    "import random\n",
    "janken = ['グー','チョキ','パー']\n",
    "random.choice(janken)"
   ]
  },
  {
   "cell_type": "code",
   "execution_count": 71,
   "metadata": {},
   "outputs": [
    {
     "name": "stdout",
     "output_type": "stream",
     "text": [
      "3.141592653589793\n"
     ]
    }
   ],
   "source": [
    "import math as m\n",
    "print(m.pi)"
   ]
  },
  {
   "cell_type": "code",
   "execution_count": 72,
   "metadata": {},
   "outputs": [
    {
     "name": "stdout",
     "output_type": "stream",
     "text": [
      "3で割り切れます\n"
     ]
    }
   ],
   "source": [
    "a = int(input('好きな数字を教えて。: '))\n",
    "if a % 3 == 0:\n",
    "    print('3で割り切れます')\n",
    "else:\n",
    "    print('3で割り切れません')"
   ]
  },
  {
   "cell_type": "code",
   "execution_count": 73,
   "metadata": {},
   "outputs": [
    {
     "name": "stdout",
     "output_type": "stream",
     "text": [
      "165\n"
     ]
    }
   ],
   "source": [
    "total = 0\n",
    "i = 10\n",
    "while i < 21:\n",
    "    total += i\n",
    "    i += 1\n",
    "print(total)"
   ]
  },
  {
   "cell_type": "code",
   "execution_count": 74,
   "metadata": {},
   "outputs": [
    {
     "name": "stdout",
     "output_type": "stream",
     "text": [
      "165\n"
     ]
    }
   ],
   "source": [
    "total = 0\n",
    "for i in range(10, 21):\n",
    "    total += i\n",
    "print(total)"
   ]
  },
  {
   "cell_type": "code",
   "execution_count": 75,
   "metadata": {},
   "outputs": [
    {
     "name": "stdout",
     "output_type": "stream",
     "text": [
      "150\n"
     ]
    }
   ],
   "source": [
    "total = 0\n",
    "for i in range(10, 21):\n",
    "    if i == 15:\n",
    "        continue\n",
    "    total += i\n",
    "print(total)"
   ]
  },
  {
   "cell_type": "code",
   "execution_count": 76,
   "metadata": {},
   "outputs": [
    {
     "name": "stdout",
     "output_type": "stream",
     "text": [
      "4\n"
     ]
    }
   ],
   "source": [
    "scores = [65, 80, 40, 92, 76, 52]\n",
    "count = 0 #値が60よりも大きな要素の数\n",
    "for i in scores:\n",
    "    if i > 60:\n",
    "        count += 1\n",
    "print(count)"
   ]
  },
  {
   "cell_type": "code",
   "execution_count": 77,
   "metadata": {},
   "outputs": [
    {
     "name": "stdout",
     "output_type": "stream",
     "text": [
      "a + 10 > b * 5 = (a + 10) > (b * 5)\n"
     ]
    }
   ],
   "source": [
    "f = 'a + 10 > b * 5'\n",
    "g = ' = (a + 10) > (b * 5)'\n",
    "print(f + g)"
   ]
  },
  {
   "cell_type": "code",
   "execution_count": 78,
   "metadata": {},
   "outputs": [
    {
     "name": "stdout",
     "output_type": "stream",
     "text": [
      "a > 10 and b < 3 = (a > 10) and (b < 3)\n"
     ]
    }
   ],
   "source": [
    "f = 'a > 10 and b < 3'\n",
    "g = ' = (a > 10) and (b < 3)'\n",
    "print(f + g)"
   ]
  },
  {
   "cell_type": "code",
   "execution_count": 79,
   "metadata": {},
   "outputs": [
    {
     "name": "stdout",
     "output_type": "stream",
     "text": [
      "a > 5 and a < 10 = 5 < a < 10\n"
     ]
    }
   ],
   "source": [
    "f = 'a > 5 and a < 10'\n",
    "g = ' = 5 < a < 10'\n",
    "print(f + g)"
   ]
  },
  {
   "cell_type": "code",
   "execution_count": 81,
   "metadata": {},
   "outputs": [
    {
     "name": "stdout",
     "output_type": "stream",
     "text": [
      "9\n",
      "2\n"
     ]
    }
   ],
   "source": [
    "print(True + 8)\n",
    "print(False + 2)"
   ]
  },
  {
   "cell_type": "code",
   "execution_count": 84,
   "metadata": {},
   "outputs": [
    {
     "name": "stdout",
     "output_type": "stream",
     "text": [
      "Succeeded\n"
     ]
    }
   ],
   "source": [
    "flag = True\n",
    "if(flag):\n",
    "    print('Succeeded')\n",
    "else:\n",
    "    print('Failed')"
   ]
  },
  {
   "cell_type": "code",
   "execution_count": 85,
   "metadata": {},
   "outputs": [
    {
     "name": "stdout",
     "output_type": "stream",
     "text": [
      "結果はFalseです\n",
      "結果はTrueです\n"
     ]
    }
   ],
   "source": [
    "bool1 = True\n",
    "bool2 = False\n",
    "bool3 = True\n",
    "\n",
    "# bool1とbool2の比較\n",
    "if bool1 and bool2:\n",
    "    print(\"結果はTrueです\")\n",
    "else:\n",
    "    print(\"結果はFalseです\")\n",
    "    \n",
    "# bool1とbool3の比較\n",
    "if bool1 and bool3:\n",
    "    print(\"結果はTrueです\")\n",
    "else:\n",
    "    print(\"結果はFalseです\")"
   ]
  },
  {
   "cell_type": "code",
   "execution_count": 86,
   "metadata": {},
   "outputs": [
    {
     "name": "stdout",
     "output_type": "stream",
     "text": [
      "結果はTrueです\n",
      "結果はTrueです\n"
     ]
    }
   ],
   "source": [
    "bool1 = True\n",
    "bool2 = False\n",
    "bool3 = True\n",
    "\n",
    "# bool1とbool2の比較\n",
    "if bool1 or bool2:\n",
    "    print(\"結果はTrueです\")\n",
    "else:\n",
    "    print(\"結果はFalseです\")\n",
    "    \n",
    "# bool1とbool3の比較\n",
    "if bool1 or bool3:\n",
    "    print(\"結果はTrueです\")\n",
    "else:\n",
    "    print(\"結果はFalseです\")"
   ]
  },
  {
   "cell_type": "code",
   "execution_count": 87,
   "metadata": {},
   "outputs": [
    {
     "data": {
      "text/plain": [
       "2"
      ]
     },
     "execution_count": 87,
     "metadata": {},
     "output_type": "execute_result"
    }
   ],
   "source": [
    "'Hello, Python'.count('o')"
   ]
  },
  {
   "cell_type": "code",
   "execution_count": 88,
   "metadata": {},
   "outputs": [
    {
     "data": {
      "text/plain": [
       "'python'"
      ]
     },
     "execution_count": 88,
     "metadata": {},
     "output_type": "execute_result"
    }
   ],
   "source": [
    "'PYTHON'.lower()"
   ]
  },
  {
   "cell_type": "code",
   "execution_count": 89,
   "metadata": {},
   "outputs": [
    {
     "data": {
      "text/plain": [
       "'PYTHON'"
      ]
     },
     "execution_count": 89,
     "metadata": {},
     "output_type": "execute_result"
    }
   ],
   "source": [
    "'python'.upper()"
   ]
  },
  {
   "cell_type": "code",
   "execution_count": 91,
   "metadata": {},
   "outputs": [
    {
     "data": {
      "text/plain": [
       "['2023', '2', '18']"
      ]
     },
     "execution_count": 91,
     "metadata": {},
     "output_type": "execute_result"
    }
   ],
   "source": [
    "'2023-2-18'.split('-')"
   ]
  },
  {
   "cell_type": "code",
   "execution_count": 92,
   "metadata": {},
   "outputs": [
    {
     "data": {
      "text/plain": [
       "'Python言語'"
      ]
     },
     "execution_count": 92,
     "metadata": {},
     "output_type": "execute_result"
    }
   ],
   "source": [
    "'Java言語'.replace('Java', 'Python')"
   ]
  },
  {
   "cell_type": "code",
   "execution_count": 2,
   "metadata": {},
   "outputs": [
    {
     "name": "stdout",
     "output_type": "stream",
     "text": [
      "今日は2023年2月18日です\n"
     ]
    }
   ],
   "source": [
    "year = 2023\n",
    "month = 2\n",
    "day = 18\n",
    "message = '今日は{0}年{1}月{2}日です'.format(year, month, day)\n",
    "print(message)"
   ]
  },
  {
   "cell_type": "code",
   "execution_count": 3,
   "metadata": {},
   "outputs": [
    {
     "data": {
      "text/plain": [
       "'1/3=0.333'"
      ]
     },
     "execution_count": 3,
     "metadata": {},
     "output_type": "execute_result"
    }
   ],
   "source": [
    "'1/3={:.3f}'.format(1/3)"
   ]
  },
  {
   "cell_type": "code",
   "execution_count": 4,
   "metadata": {},
   "outputs": [
    {
     "data": {
      "text/plain": [
       "'1,000,000円'"
      ]
     },
     "execution_count": 4,
     "metadata": {},
     "output_type": "execute_result"
    }
   ],
   "source": [
    "'{:,}円'.format(1000000)"
   ]
  },
  {
   "cell_type": "code",
   "execution_count": 5,
   "metadata": {},
   "outputs": [
    {
     "data": {
      "text/plain": [
       "'  123'"
      ]
     },
     "execution_count": 5,
     "metadata": {},
     "output_type": "execute_result"
    }
   ],
   "source": [
    "'{:>5}'.format(123)"
   ]
  },
  {
   "cell_type": "code",
   "execution_count": 6,
   "metadata": {},
   "outputs": [
    {
     "data": {
      "text/plain": [
       "True"
      ]
     },
     "execution_count": 6,
     "metadata": {},
     "output_type": "execute_result"
    }
   ],
   "source": [
    "'cat' in 'catch'"
   ]
  },
  {
   "cell_type": "code",
   "execution_count": 7,
   "metadata": {},
   "outputs": [
    {
     "data": {
      "text/plain": [
       "False"
      ]
     },
     "execution_count": 7,
     "metadata": {},
     "output_type": "execute_result"
    }
   ],
   "source": [
    "'Z' in 'ABCDE'"
   ]
  },
  {
   "cell_type": "code",
   "execution_count": 8,
   "metadata": {},
   "outputs": [
    {
     "data": {
      "text/plain": [
       "True"
      ]
     },
     "execution_count": 8,
     "metadata": {},
     "output_type": "execute_result"
    }
   ],
   "source": [
    "s1 = 'py'\n",
    "s2 = 'python'\n",
    "s1 in s2"
   ]
  },
  {
   "cell_type": "code",
   "execution_count": 9,
   "metadata": {},
   "outputs": [
    {
     "data": {
      "text/plain": [
       "[10, 20, 30, 40, 100]"
      ]
     },
     "execution_count": 9,
     "metadata": {},
     "output_type": "execute_result"
    }
   ],
   "source": [
    "a = [10, 20, 30, 40]\n",
    "a.append(100)\n",
    "a"
   ]
  },
  {
   "cell_type": "code",
   "execution_count": 12,
   "metadata": {},
   "outputs": [
    {
     "data": {
      "text/plain": [
       "100"
      ]
     },
     "execution_count": 12,
     "metadata": {},
     "output_type": "execute_result"
    }
   ],
   "source": [
    "a = [10, 20, 30, 40, 100]\n",
    "a.pop()"
   ]
  },
  {
   "cell_type": "code",
   "execution_count": 13,
   "metadata": {},
   "outputs": [
    {
     "data": {
      "text/plain": [
       "[10, 20, 30, 40]"
      ]
     },
     "execution_count": 13,
     "metadata": {},
     "output_type": "execute_result"
    }
   ],
   "source": [
    "a = [10, 20, 30, 40, 100]\n",
    "a.pop()\n",
    "a"
   ]
  },
  {
   "cell_type": "code",
   "execution_count": 14,
   "metadata": {},
   "outputs": [
    {
     "data": {
      "text/plain": [
       "[40, 30, 20, 10]"
      ]
     },
     "execution_count": 14,
     "metadata": {},
     "output_type": "execute_result"
    }
   ],
   "source": [
    "a = [10, 20, 30, 40]\n",
    "a.reverse()\n",
    "a"
   ]
  },
  {
   "cell_type": "code",
   "execution_count": 20,
   "metadata": {},
   "outputs": [
    {
     "data": {
      "text/plain": [
       "2"
      ]
     },
     "execution_count": 20,
     "metadata": {},
     "output_type": "execute_result"
    }
   ],
   "source": [
    "a = [10, 20, 30, 40]\n",
    "a.index(30)"
   ]
  },
  {
   "cell_type": "code",
   "execution_count": 1,
   "metadata": {},
   "outputs": [
    {
     "data": {
      "text/plain": [
       "[10, 30, 40]"
      ]
     },
     "execution_count": 1,
     "metadata": {},
     "output_type": "execute_result"
    }
   ],
   "source": [
    "a = [10, 20, 30, 40]\n",
    "del a[1]\n",
    "a"
   ]
  },
  {
   "cell_type": "code",
   "execution_count": 3,
   "metadata": {},
   "outputs": [
    {
     "data": {
      "text/plain": [
       "[10, 20, 30, 40, 0, 1]"
      ]
     },
     "execution_count": 3,
     "metadata": {},
     "output_type": "execute_result"
    }
   ],
   "source": [
    "a = [10, 20, 30, 40]\n",
    "a = a + [0, 1]\n",
    "a"
   ]
  },
  {
   "cell_type": "code",
   "execution_count": 4,
   "metadata": {},
   "outputs": [
    {
     "data": {
      "text/plain": [
       "True"
      ]
     },
     "execution_count": 4,
     "metadata": {},
     "output_type": "execute_result"
    }
   ],
   "source": [
    "a = [10, 20, 30, 40, 0, 1]\n",
    "1 in a"
   ]
  },
  {
   "cell_type": "code",
   "execution_count": 8,
   "metadata": {},
   "outputs": [
    {
     "data": {
      "text/plain": [
       "False"
      ]
     },
     "execution_count": 8,
     "metadata": {},
     "output_type": "execute_result"
    }
   ],
   "source": [
    "a = [10, 30, 40, 0, 1]\n",
    "2 in a"
   ]
  },
  {
   "cell_type": "code",
   "execution_count": 7,
   "metadata": {},
   "outputs": [
    {
     "data": {
      "text/plain": [
       "5"
      ]
     },
     "execution_count": 7,
     "metadata": {},
     "output_type": "execute_result"
    }
   ],
   "source": [
    "a = [10, 30, 40, 0, 1]\n",
    "len(a)"
   ]
  },
  {
   "cell_type": "code",
   "execution_count": 9,
   "metadata": {},
   "outputs": [
    {
     "data": {
      "text/plain": [
       "[0, 1, 10, 30, 40]"
      ]
     },
     "execution_count": 9,
     "metadata": {},
     "output_type": "execute_result"
    }
   ],
   "source": [
    "a = [10, 30, 40, 0, 1]\n",
    "sorted(a)"
   ]
  },
  {
   "cell_type": "code",
   "execution_count": 10,
   "metadata": {},
   "outputs": [
    {
     "data": {
      "text/plain": [
       "[40, 30, 10, 1, 0]"
      ]
     },
     "execution_count": 10,
     "metadata": {},
     "output_type": "execute_result"
    }
   ],
   "source": [
    "a = [10, 30, 40, 0, 1]\n",
    "sorted(a, reverse=True)"
   ]
  },
  {
   "cell_type": "code",
   "execution_count": 11,
   "metadata": {},
   "outputs": [
    {
     "data": {
      "text/plain": [
       "[2, 4, 8, 16, 32, 64, 128, 256, 512, 1024]"
      ]
     },
     "execution_count": 11,
     "metadata": {},
     "output_type": "execute_result"
    }
   ],
   "source": [
    "data = [2**n for n in range(1, 11)]\n",
    "data"
   ]
  },
  {
   "cell_type": "code",
   "execution_count": 12,
   "metadata": {},
   "outputs": [
    {
     "data": {
      "text/plain": [
       "['1月', '2月', '3月', '4月', '5月', '6月', '7月', '8月', '9月', '10月', '11月', '12月']"
      ]
     },
     "execution_count": 12,
     "metadata": {},
     "output_type": "execute_result"
    }
   ],
   "source": [
    "[str(n)+'月' for n in range(1, 13)]"
   ]
  },
  {
   "cell_type": "code",
   "execution_count": 13,
   "metadata": {},
   "outputs": [
    {
     "name": "stdout",
     "output_type": "stream",
     "text": [
      "['apple', 'avocado']\n"
     ]
    }
   ],
   "source": [
    "data0 = ['apple', 'orange', 'banana', 'avocado']\n",
    "data1 = [s for s in data0 if s[0] == 'a']\n",
    "print(data1)\n",
    "#[式 for 変数 in 反復可能なオブジェクト if 条件式]"
   ]
  },
  {
   "cell_type": "code",
   "execution_count": 21,
   "metadata": {},
   "outputs": [],
   "source": [
    "data = [[1, 2], [3, 4, 5]]\n",
    "data = [0][0]"
   ]
  },
  {
   "cell_type": "code",
   "execution_count": 22,
   "metadata": {},
   "outputs": [
    {
     "data": {
      "text/plain": [
       "[1, 2, 3, 4]"
      ]
     },
     "execution_count": 22,
     "metadata": {},
     "output_type": "execute_result"
    }
   ],
   "source": [
    "a = [1, 2, 3, 4]\n",
    "a"
   ]
  },
  {
   "cell_type": "code",
   "execution_count": 23,
   "metadata": {},
   "outputs": [
    {
     "data": {
      "text/plain": [
       "1"
      ]
     },
     "execution_count": 23,
     "metadata": {},
     "output_type": "execute_result"
    }
   ],
   "source": [
    "a = [1, 2, 3, 4]\n",
    "a[0]"
   ]
  },
  {
   "cell_type": "code",
   "execution_count": 24,
   "metadata": {},
   "outputs": [
    {
     "data": {
      "text/plain": [
       "[99, 2, 3, 4]"
      ]
     },
     "execution_count": 24,
     "metadata": {},
     "output_type": "execute_result"
    }
   ],
   "source": [
    "a = [1, 2, 3, 4]\n",
    "a[0] = 99\n",
    "a"
   ]
  },
  {
   "cell_type": "code",
   "execution_count": 25,
   "metadata": {},
   "outputs": [
    {
     "data": {
      "text/plain": [
       "(1, 2, 3, 4)"
      ]
     },
     "execution_count": 25,
     "metadata": {},
     "output_type": "execute_result"
    }
   ],
   "source": [
    "a = (1, 2, 3, 4)\n",
    "a"
   ]
  },
  {
   "cell_type": "code",
   "execution_count": 27,
   "metadata": {},
   "outputs": [
    {
     "data": {
      "text/plain": [
       "1"
      ]
     },
     "execution_count": 27,
     "metadata": {},
     "output_type": "execute_result"
    }
   ],
   "source": [
    "a = (1, 2, 3, 4)\n",
    "a[0]"
   ]
  },
  {
   "cell_type": "code",
   "execution_count": 28,
   "metadata": {},
   "outputs": [
    {
     "data": {
      "text/plain": [
       "(1, 2, 3, 4)"
      ]
     },
     "execution_count": 28,
     "metadata": {},
     "output_type": "execute_result"
    }
   ],
   "source": [
    "a = 1, 2, 3, 4\n",
    "a"
   ]
  },
  {
   "cell_type": "code",
   "execution_count": 29,
   "metadata": {},
   "outputs": [
    {
     "data": {
      "text/plain": [
       "1"
      ]
     },
     "execution_count": 29,
     "metadata": {},
     "output_type": "execute_result"
    }
   ],
   "source": [
    "a, b, c = (1, 2, 3)\n",
    "a"
   ]
  },
  {
   "cell_type": "code",
   "execution_count": 30,
   "metadata": {},
   "outputs": [
    {
     "data": {
      "text/plain": [
       "1"
      ]
     },
     "execution_count": 30,
     "metadata": {},
     "output_type": "execute_result"
    }
   ],
   "source": [
    "x, y, z = 1, 3, 9\n",
    "x"
   ]
  },
  {
   "cell_type": "code",
   "execution_count": 31,
   "metadata": {},
   "outputs": [
    {
     "data": {
      "text/plain": [
       "'太郎'"
      ]
     },
     "execution_count": 31,
     "metadata": {},
     "output_type": "execute_result"
    }
   ],
   "source": [
    "info = {'firstname':'太郎', 'lastname':'山田', 'address': '茨城県つくば市99-99'}\n",
    "info['firstname']"
   ]
  },
  {
   "cell_type": "code",
   "execution_count": 34,
   "metadata": {},
   "outputs": [
    {
     "name": "stdout",
     "output_type": "stream",
     "text": [
      "firstname\n",
      "lastname\n",
      "address\n",
      "太郎\n",
      "山田\n",
      "茨城県つくば市99-99\n",
      "('firstname', '太郎')\n",
      "('lastname', '山田')\n",
      "('address', '茨城県つくば市99-99')\n"
     ]
    },
    {
     "data": {
      "text/plain": [
       "True"
      ]
     },
     "execution_count": 34,
     "metadata": {},
     "output_type": "execute_result"
    }
   ],
   "source": [
    "info = {'firstname':'太郎', 'lastname':'山田', 'address': '茨城県つくば市99-99'}\n",
    "for k in info.keys():\n",
    "    print(k)\n",
    "for v in info.values():\n",
    "    print(v)\n",
    "for i in info.items():\n",
    "    print(i)"
   ]
  },
  {
   "cell_type": "code",
   "execution_count": 36,
   "metadata": {},
   "outputs": [
    {
     "data": {
      "text/plain": [
       "'太郎'"
      ]
     },
     "execution_count": 36,
     "metadata": {},
     "output_type": "execute_result"
    }
   ],
   "source": [
    "info = {'firstname':'太郎', 'lastname':'山田', 'address': '茨城県つくば市99-99'}\n",
    "info.get('firstname')"
   ]
  },
  {
   "cell_type": "code",
   "execution_count": 37,
   "metadata": {},
   "outputs": [
    {
     "data": {
      "text/plain": [
       "'090-000-0000'"
      ]
     },
     "execution_count": 37,
     "metadata": {},
     "output_type": "execute_result"
    }
   ],
   "source": [
    "info = {'firstname':'太郎', 'lastname':'山田', 'address': '茨城県つくば市99-99'}\n",
    "info['tel'] = '090-000-0000'\n",
    "info.get('tel')"
   ]
  },
  {
   "cell_type": "code",
   "execution_count": 38,
   "metadata": {},
   "outputs": [
    {
     "data": {
      "text/plain": [
       "3"
      ]
     },
     "execution_count": 38,
     "metadata": {},
     "output_type": "execute_result"
    }
   ],
   "source": [
    "info = {'firstname':'太郎', 'lastname':'山田', 'address': '茨城県つくば市99-99'}\n",
    "info['tel'] = '090-000-0000'\n",
    "del info['tel']\n",
    "len(info)"
   ]
  },
  {
   "cell_type": "code",
   "execution_count": 39,
   "metadata": {},
   "outputs": [
    {
     "data": {
      "text/plain": [
       "False"
      ]
     },
     "execution_count": 39,
     "metadata": {},
     "output_type": "execute_result"
    }
   ],
   "source": [
    "info = {'firstname':'太郎', 'lastname':'山田', 'address': '茨城県つくば市99-99'}\n",
    "info['tel'] = '090-000-0000'\n",
    "del info['tel']\n",
    "'age' in info"
   ]
  },
  {
   "cell_type": "code",
   "execution_count": 40,
   "metadata": {},
   "outputs": [
    {
     "data": {
      "text/plain": [
       "True"
      ]
     },
     "execution_count": 40,
     "metadata": {},
     "output_type": "execute_result"
    }
   ],
   "source": [
    "info = {'firstname':'太郎', 'lastname':'山田', 'address': '茨城県つくば市99-99'}\n",
    "info['tel'] = '090-000-0000'\n",
    "del info['tel']\n",
    "'firstname' in info"
   ]
  },
  {
   "cell_type": "code",
   "execution_count": 41,
   "metadata": {},
   "outputs": [
    {
     "name": "stdout",
     "output_type": "stream",
     "text": [
      "[('a', 8), ('b', 5), ('c', 2), ('d', 7)]\n"
     ]
    }
   ],
   "source": [
    "data = {'b':5, 'c':2, 'a':8, 'd':7}\n",
    "print(sorted(data.items()))"
   ]
  },
  {
   "cell_type": "code",
   "execution_count": 42,
   "metadata": {},
   "outputs": [
    {
     "name": "stdout",
     "output_type": "stream",
     "text": [
      "[('c', 2), ('b', 5), ('d', 7), ('a', 8)]\n"
     ]
    }
   ],
   "source": [
    "data = {'b':5, 'c':2, 'a':8, 'd':7}\n",
    "print(sorted(data.items(), key=lambda x:x[1]))"
   ]
  },
  {
   "cell_type": "code",
   "execution_count": 43,
   "metadata": {},
   "outputs": [
    {
     "data": {
      "text/plain": [
       "{'A', 'B', 'C', 'D'}"
      ]
     },
     "execution_count": 43,
     "metadata": {},
     "output_type": "execute_result"
    }
   ],
   "source": [
    "a = {'A', 'B', 'C', 'D'}\n",
    "a"
   ]
  },
  {
   "cell_type": "code",
   "execution_count": 44,
   "metadata": {},
   "outputs": [
    {
     "data": {
      "text/plain": [
       "{'A', 'B', 'C'}"
      ]
     },
     "execution_count": 44,
     "metadata": {},
     "output_type": "execute_result"
    }
   ],
   "source": [
    "a = {'A', 'B', 'B', 'C', 'C', 'C'}\n",
    "a"
   ]
  },
  {
   "cell_type": "code",
   "execution_count": 1,
   "metadata": {},
   "outputs": [
    {
     "data": {
      "text/plain": [
       "{1, 2, 3}"
      ]
     },
     "execution_count": 1,
     "metadata": {},
     "output_type": "execute_result"
    }
   ],
   "source": [
    "data = [1, 2, 3]\n",
    "a = set(data)\n",
    "a"
   ]
  },
  {
   "cell_type": "code",
   "execution_count": 2,
   "metadata": {},
   "outputs": [
    {
     "data": {
      "text/plain": [
       "False"
      ]
     },
     "execution_count": 2,
     "metadata": {},
     "output_type": "execute_result"
    }
   ],
   "source": [
    "set1 = {'A', 'B', 'C'}\n",
    "set2 = {'B', 'C'}\n",
    "set1.issubset(set2)"
   ]
  },
  {
   "cell_type": "code",
   "execution_count": 3,
   "metadata": {},
   "outputs": [
    {
     "data": {
      "text/plain": [
       "True"
      ]
     },
     "execution_count": 3,
     "metadata": {},
     "output_type": "execute_result"
    }
   ],
   "source": [
    "set1 = {'A', 'B', 'C'}\n",
    "set2 = {'B', 'C'}\n",
    "set2.issubset(set1)"
   ]
  },
  {
   "cell_type": "code",
   "execution_count": 4,
   "metadata": {},
   "outputs": [
    {
     "data": {
      "text/plain": [
       "{'A', 'B', 'C', 'D'}"
      ]
     },
     "execution_count": 4,
     "metadata": {},
     "output_type": "execute_result"
    }
   ],
   "source": [
    "set1 = {'A', 'B', 'C'}\n",
    "set2 = {'A', 'B', 'D'}\n",
    "set1 | set2"
   ]
  },
  {
   "cell_type": "code",
   "execution_count": 5,
   "metadata": {},
   "outputs": [
    {
     "data": {
      "text/plain": [
       "{'A', 'B'}"
      ]
     },
     "execution_count": 5,
     "metadata": {},
     "output_type": "execute_result"
    }
   ],
   "source": [
    "set1 = {'A', 'B', 'C'}\n",
    "set2 = {'A', 'B', 'D'}\n",
    "set1 & set2"
   ]
  },
  {
   "cell_type": "code",
   "execution_count": 6,
   "metadata": {},
   "outputs": [
    {
     "data": {
      "text/plain": [
       "{'C'}"
      ]
     },
     "execution_count": 6,
     "metadata": {},
     "output_type": "execute_result"
    }
   ],
   "source": [
    "set1 = {'A', 'B', 'C'}\n",
    "set2 = {'A', 'B', 'D'}\n",
    "set1 - set2"
   ]
  },
  {
   "cell_type": "code",
   "execution_count": 7,
   "metadata": {},
   "outputs": [
    {
     "data": {
      "text/plain": [
       "{'C', 'D'}"
      ]
     },
     "execution_count": 7,
     "metadata": {},
     "output_type": "execute_result"
    }
   ],
   "source": [
    "set1 = {'A', 'B', 'C'}\n",
    "set2 = {'A', 'B', 'D'}\n",
    "set1 ^ set2"
   ]
  },
  {
   "cell_type": "code",
   "execution_count": 9,
   "metadata": {},
   "outputs": [
    {
     "data": {
      "text/plain": [
       "4318042776"
      ]
     },
     "execution_count": 9,
     "metadata": {},
     "output_type": "execute_result"
    }
   ],
   "source": [
    "a = 2\n",
    "id(a)"
   ]
  },
  {
   "cell_type": "code",
   "execution_count": 20,
   "metadata": {},
   "outputs": [
    {
     "data": {
      "text/plain": [
       "4318042808"
      ]
     },
     "execution_count": 20,
     "metadata": {},
     "output_type": "execute_result"
    }
   ],
   "source": [
    "a = 3\n",
    "id(a)"
   ]
  },
  {
   "cell_type": "code",
   "execution_count": 22,
   "metadata": {},
   "outputs": [
    {
     "data": {
      "text/plain": [
       "4385660416"
      ]
     },
     "execution_count": 22,
     "metadata": {},
     "output_type": "execute_result"
    }
   ],
   "source": [
    "a = [1, 2, 3]\n",
    "id(a)"
   ]
  },
  {
   "cell_type": "code",
   "execution_count": 18,
   "metadata": {},
   "outputs": [
    {
     "data": {
      "text/plain": [
       "4385871040"
      ]
     },
     "execution_count": 18,
     "metadata": {},
     "output_type": "execute_result"
    }
   ],
   "source": [
    "a = [1, 2, 3]\n",
    "a[0] = 3\n",
    "id(a)"
   ]
  },
  {
   "cell_type": "code",
   "execution_count": 23,
   "metadata": {},
   "outputs": [
    {
     "name": "stdout",
     "output_type": "stream",
     "text": [
      "P\n",
      "y\n",
      "t\n",
      "h\n",
      "o\n",
      "n\n"
     ]
    }
   ],
   "source": [
    "for a in 'Python':\n",
    "    print(a)"
   ]
  },
  {
   "cell_type": "code",
   "execution_count": 24,
   "metadata": {},
   "outputs": [
    {
     "name": "stdout",
     "output_type": "stream",
     "text": [
      "1\n",
      "2\n",
      "3\n"
     ]
    }
   ],
   "source": [
    "for a in {1, 2, 3}:\n",
    "    print(a)"
   ]
  },
  {
   "cell_type": "code",
   "execution_count": 25,
   "metadata": {},
   "outputs": [
    {
     "data": {
      "text/plain": [
       "'t'"
      ]
     },
     "execution_count": 25,
     "metadata": {},
     "output_type": "execute_result"
    }
   ],
   "source": [
    "a = 'Python'\n",
    "a[2]"
   ]
  },
  {
   "cell_type": "code",
   "execution_count": 26,
   "metadata": {},
   "outputs": [
    {
     "data": {
      "text/plain": [
       "3"
      ]
     },
     "execution_count": 26,
     "metadata": {},
     "output_type": "execute_result"
    }
   ],
   "source": [
    "a = (1, 2, 3)\n",
    "a[2]"
   ]
  },
  {
   "cell_type": "code",
   "execution_count": 27,
   "metadata": {},
   "outputs": [
    {
     "data": {
      "text/plain": [
       "'yt'"
      ]
     },
     "execution_count": 27,
     "metadata": {},
     "output_type": "execute_result"
    }
   ],
   "source": [
    "a = 'Python'\n",
    "a[1:3]"
   ]
  },
  {
   "cell_type": "code",
   "execution_count": 28,
   "metadata": {},
   "outputs": [
    {
     "data": {
      "text/plain": [
       "(2, 3, 4)"
      ]
     },
     "execution_count": 28,
     "metadata": {},
     "output_type": "execute_result"
    }
   ],
   "source": [
    "a = (0, 1, 2, 3, 4)\n",
    "a[2:5]"
   ]
  },
  {
   "cell_type": "code",
   "execution_count": 29,
   "metadata": {},
   "outputs": [
    {
     "data": {
      "text/plain": [
       "'Pyt'"
      ]
     },
     "execution_count": 29,
     "metadata": {},
     "output_type": "execute_result"
    }
   ],
   "source": [
    "a = 'Python'\n",
    "a[:3]"
   ]
  },
  {
   "cell_type": "code",
   "execution_count": 30,
   "metadata": {},
   "outputs": [
    {
     "data": {
      "text/plain": [
       "(2, 3, 4)"
      ]
     },
     "execution_count": 30,
     "metadata": {},
     "output_type": "execute_result"
    }
   ],
   "source": [
    "a = (0, 1, 2, 3, 4)\n",
    "a[2:]"
   ]
  },
  {
   "cell_type": "code",
   "execution_count": 31,
   "metadata": {},
   "outputs": [
    {
     "data": {
      "text/plain": [
       "[1, 4, 9, 16, 25, 36, 49, 64, 81, 100]"
      ]
     },
     "execution_count": 31,
     "metadata": {},
     "output_type": "execute_result"
    }
   ],
   "source": [
    "[n * n for n in range(1, 11)]"
   ]
  },
  {
   "cell_type": "code",
   "execution_count": 32,
   "metadata": {},
   "outputs": [
    {
     "name": "stdout",
     "output_type": "stream",
     "text": [
      "こんにちは\n",
      "今日は良い天気ですね。\n",
      "こんにちは\n",
      "今日は良い天気ですね。\n"
     ]
    }
   ],
   "source": [
    "def say_hello():\n",
    "    print('こんにちは')\n",
    "    print('今日は良い天気ですね。')\n",
    "\n",
    "say_hello()\n",
    "say_hello()"
   ]
  },
  {
   "cell_type": "code",
   "execution_count": 34,
   "metadata": {},
   "outputs": [
    {
     "name": "stdout",
     "output_type": "stream",
     "text": [
      "function_aの処理です\n",
      "function_bの処理です\n"
     ]
    }
   ],
   "source": [
    "def function_a():\n",
    "    print('function_aの処理です')\n",
    "\n",
    "def function_b():\n",
    "    print('function_bの処理です')\n",
    "\n",
    "function_a()\n",
    "function_b()"
   ]
  },
  {
   "cell_type": "code",
   "execution_count": 35,
   "metadata": {},
   "outputs": [
    {
     "name": "stdout",
     "output_type": "stream",
     "text": [
      "function_bを呼び出します\n",
      "function_bの処理開始\n",
      "function_aの処理です\n",
      "function_bの処理終了\n"
     ]
    }
   ],
   "source": [
    "def function_a():\n",
    "    print('function_aの処理です')\n",
    "\n",
    "def function_b():\n",
    "    print('function_bの処理開始')\n",
    "    function_a()\n",
    "    print('function_bの処理終了')\n",
    "\n",
    "print('function_bを呼び出します')\n",
    "function_b()"
   ]
  },
  {
   "cell_type": "code",
   "execution_count": 39,
   "metadata": {},
   "outputs": [
    {
     "name": "stdout",
     "output_type": "stream",
     "text": [
      "10\n"
     ]
    }
   ],
   "source": [
    "a = 10\n",
    "\n",
    "def function_a():\n",
    "    print(a)\n",
    "\n",
    "print(a)"
   ]
  },
  {
   "cell_type": "code",
   "execution_count": 40,
   "metadata": {},
   "outputs": [
    {
     "name": "stdout",
     "output_type": "stream",
     "text": [
      "5\n"
     ]
    }
   ],
   "source": [
    "a = 10\n",
    "def function_a():\n",
    "    global a\n",
    "    a = 5\n",
    "\n",
    "function_a()\n",
    "print(a)"
   ]
  },
  {
   "cell_type": "code",
   "execution_count": 43,
   "metadata": {},
   "outputs": [
    {
     "name": "stdout",
     "output_type": "stream",
     "text": [
      "10\n"
     ]
    }
   ],
   "source": [
    "a = 10\n",
    "\n",
    "def function_a():\n",
    "    a = 5\n",
    "\n",
    "function_a()\n",
    "print(a)"
   ]
  },
  {
   "cell_type": "code",
   "execution_count": 44,
   "metadata": {},
   "outputs": [
    {
     "name": "stdout",
     "output_type": "stream",
     "text": [
      "関数が受け取った値: 3\n",
      "カウントダウンします\n",
      "3\n",
      "2\n",
      "1\n",
      "0\n",
      "関数が受け取った値: 10\n",
      "カウントダウンします\n",
      "10\n",
      "9\n",
      "8\n",
      "7\n",
      "6\n",
      "5\n",
      "4\n",
      "3\n",
      "2\n",
      "1\n",
      "0\n"
     ]
    }
   ],
   "source": [
    "def countdown(start):\n",
    "    print('関数が受け取った値:', start)\n",
    "    print('カウントダウンします')\n",
    "    counter = start\n",
    "    while counter >= 0:\n",
    "        print(counter)\n",
    "        counter -= 1\n",
    "\n",
    "countdown(3)\n",
    "countdown(10)"
   ]
  },
  {
   "cell_type": "code",
   "execution_count": 48,
   "metadata": {},
   "outputs": [
    {
     "name": "stdout",
     "output_type": "stream",
     "text": [
      "1つ目の引数で受け取った値: 7\n",
      "2つ目の引数で受け取った値: 3\n",
      "カウントダウンをします\n",
      "7\n",
      "6\n",
      "5\n",
      "4\n",
      "3\n"
     ]
    }
   ],
   "source": [
    "def countdown(start, end):\n",
    "    print('1つ目の引数で受け取った値:', start)\n",
    "    print('2つ目の引数で受け取った値:', end)\n",
    "    print('カウントダウンをします')\n",
    "    counter = start\n",
    "    while counter >= end:\n",
    "        print(counter)\n",
    "        counter -= 1\n",
    "\n",
    "countdown(7, 3)"
   ]
  },
  {
   "cell_type": "code",
   "execution_count": 49,
   "metadata": {},
   "outputs": [
    {
     "name": "stdout",
     "output_type": "stream",
     "text": [
      "1つ目の引数で受け取った値: 7\n",
      "2つ目の引数で受け取った値: 3\n",
      "カウントダウンをします\n",
      "7\n",
      "6\n",
      "5\n",
      "4\n",
      "3\n"
     ]
    }
   ],
   "source": [
    "def countdown(start, end):\n",
    "    print('1つ目の引数で受け取った値:', start)\n",
    "    print('2つ目の引数で受け取った値:', end)\n",
    "    print('カウントダウンをします')\n",
    "    counter = start\n",
    "    while counter >= end:\n",
    "        print(counter)\n",
    "        counter -= 1\n",
    "\n",
    "countdown(start=7, end=3)"
   ]
  },
  {
   "cell_type": "code",
   "execution_count": 51,
   "metadata": {},
   "outputs": [
    {
     "name": "stdout",
     "output_type": "stream",
     "text": [
      "1つ目の引数で受け取った値: 10\n",
      "2つ目の引数で受け取った値: 0\n",
      "カウントダウンをします\n",
      "10\n",
      "9\n",
      "8\n",
      "7\n",
      "6\n",
      "5\n",
      "4\n",
      "3\n",
      "2\n",
      "1\n",
      "0\n"
     ]
    }
   ],
   "source": [
    "def countdown(start, end=0):\n",
    "    print('1つ目の引数で受け取った値:', start)\n",
    "    print('2つ目の引数で受け取った値:', end)\n",
    "    print('カウントダウンをします')\n",
    "    counter = start\n",
    "    while counter >= end:\n",
    "        print(counter)\n",
    "        counter -= 1\n",
    "\n",
    "countdown(10)"
   ]
  },
  {
   "cell_type": "code",
   "execution_count": 52,
   "metadata": {},
   "outputs": [
    {
     "name": "stdout",
     "output_type": "stream",
     "text": [
      "1\n",
      "2\n",
      "1\n",
      "2\n",
      "3\n",
      "4\n"
     ]
    }
   ],
   "source": [
    "def func_a(*args):\n",
    "    for a in args:\n",
    "        print(a)\n",
    "\n",
    "func_a(1, 2)\n",
    "func_a(1, 2, 3, 4)"
   ]
  },
  {
   "cell_type": "code",
   "execution_count": 56,
   "metadata": {},
   "outputs": [
    {
     "name": "stdout",
     "output_type": "stream",
     "text": [
      "半径2.5の円の面積は 19.625\n"
     ]
    }
   ],
   "source": [
    "def circle_area(r):\n",
    "    return r * r * 3.14\n",
    "\n",
    "a = circle_area(2.5)\n",
    "print('半径2.5の円の面積は', a)"
   ]
  },
  {
   "cell_type": "code",
   "execution_count": 59,
   "metadata": {},
   "outputs": [
    {
     "name": "stdout",
     "output_type": "stream",
     "text": [
      "aの値は負またはゼロです\n"
     ]
    }
   ],
   "source": [
    "def is_positive(i):\n",
    "    if i > 0:\n",
    "        return True\n",
    "    else:\n",
    "        return False\n",
    "    \n",
    "a = -10;\n",
    "if is_positive(a) == True:\n",
    "    print('aの値は正です')\n",
    "else:\n",
    "    print('aの値は負またはゼロです')"
   ]
  },
  {
   "cell_type": "code",
   "execution_count": 60,
   "metadata": {},
   "outputs": [
    {
     "name": "stdout",
     "output_type": "stream",
     "text": [
      "aの値は負またはゼロです\n"
     ]
    }
   ],
   "source": [
    "def is_positive(i):\n",
    "    return i > 0\n",
    "\n",
    "a = -10;\n",
    "if is_positive(a):\n",
    "    print('aの値は正です')\n",
    "else:\n",
    "    print('aの値は負またはゼロです')"
   ]
  },
  {
   "cell_type": "code",
   "execution_count": 61,
   "metadata": {},
   "outputs": [
    {
     "name": "stdout",
     "output_type": "stream",
     "text": [
      "2 3\n"
     ]
    }
   ],
   "source": [
    "def get_two_numbers():\n",
    "    return (2, 3)\n",
    "\n",
    "a, b = get_two_numbers()\n",
    "print(a, b)"
   ]
  },
  {
   "cell_type": "code",
   "execution_count": 5,
   "metadata": {},
   "outputs": [
    {
     "name": "stdout",
     "output_type": "stream",
     "text": [
      "価格は税抜き800円\n",
      "価格は税込み880円\n"
     ]
    }
   ],
   "source": [
    "def print_price(price, func):\n",
    "    print('価格は' + func(price))\n",
    "\n",
    "def price_without_tax(price):\n",
    "    return f'税抜き{price}円'\n",
    "\n",
    "def price_with_tax(price):\n",
    "    return f'税込み{int(price*1.1)}円'\n",
    "\n",
    "print_price(800, price_without_tax)\n",
    "print_price(800, price_with_tax)"
   ]
  },
  {
   "cell_type": "code",
   "execution_count": 4,
   "metadata": {},
   "outputs": [
    {
     "name": "stdout",
     "output_type": "stream",
     "text": [
      "価格は税抜き800円\n",
      "価格は税込み880円\n"
     ]
    }
   ],
   "source": [
    "def print_price(price, func):\n",
    "    print('価格は' + func(price))\n",
    "\n",
    "print_price(800, lambda price: f'税抜き{price}円')\n",
    "print_price(800, lambda price: f'税込み{int(price*1.1)}円')"
   ]
  },
  {
   "cell_type": "code",
   "execution_count": 6,
   "metadata": {},
   "outputs": [
    {
     "name": "stdout",
     "output_type": "stream",
     "text": [
      "15.0\n"
     ]
    }
   ],
   "source": [
    "# 関数名：get_triangle_area\n",
    "# 引数名：base, height\n",
    "# 処理の内容：底辺の長さがbase、高さがheightで表される三角形の面積を表す\n",
    "\n",
    "def get_triangle_area(base, height):\n",
    "    return base * height / 2\n",
    "print(get_triangle_area(10.0, 3.0))"
   ]
  },
  {
   "cell_type": "code",
   "execution_count": 7,
   "metadata": {},
   "outputs": [
    {
     "name": "stdout",
     "output_type": "stream",
     "text": [
      "Hello\n",
      "Hello\n",
      "Hello\n"
     ]
    }
   ],
   "source": [
    "# 関数名：print_hello\n",
    "# 引数名：count\n",
    "# 処理の内容：引数で渡されたcountの回数だけ、Helloという文字列を出力する。\n",
    "\n",
    "def print_hello(count):\n",
    "    for i in range(0, count):\n",
    "        print('Hello')\n",
    "print_hello(3)"
   ]
  },
  {
   "cell_type": "code",
   "execution_count": 8,
   "metadata": {},
   "outputs": [
    {
     "name": "stdout",
     "output_type": "stream",
     "text": [
      "50\n"
     ]
    }
   ],
   "source": [
    "# 関数名：get_rectangle_area\n",
    "# 引数名：width, height\n",
    "# 処理の内容：引数で渡された幅(width)と高さ(height)の値を持つ長方形の面積を返す。\n",
    "\n",
    "def get_rectangle_area(width, height):\n",
    "    return width * height\n",
    "print(get_rectangle_area(10, 5))"
   ]
  },
  {
   "cell_type": "code",
   "execution_count": 9,
   "metadata": {},
   "outputs": [
    {
     "name": "stdout",
     "output_type": "stream",
     "text": [
      "こんにちは名無しさん\n",
      "こんにちは山田さん\n"
     ]
    }
   ],
   "source": [
    "# 関数名：get_message\n",
    "# 引数名：name\n",
    "# 処理の内容：'こんにちは〇〇さん'という文字列を返す。〇〇には引数で渡されたnameの値を入れる。引数が指定されなかった場合は、'名無し'という文字列をnameのデフォルト値とする。\n",
    "\n",
    "def get_message(name='名無し'):\n",
    "    return f'こんにちは{name}さん'\n",
    "\n",
    "print(get_message())\n",
    "print(get_message('山田'))"
   ]
  },
  {
   "cell_type": "code",
   "execution_count": 10,
   "metadata": {},
   "outputs": [
    {
     "name": "stdout",
     "output_type": "stream",
     "text": [
      "5.2\n",
      "3.3\n"
     ]
    }
   ],
   "source": [
    "# 関数名：get_absolute_value\n",
    "# 引数列：value\n",
    "# 処理の内容：引数で渡されたvalueの値の絶対値を返す。\n",
    "\n",
    "def get_absolute_value(value):\n",
    "    if value < 0:\n",
    "        return -value\n",
    "    return value\n",
    "\n",
    "print(get_absolute_value(5.2))\n",
    "print(get_absolute_value(-3.3))"
   ]
  },
  {
   "cell_type": "code",
   "execution_count": 11,
   "metadata": {},
   "outputs": [
    {
     "name": "stdout",
     "output_type": "stream",
     "text": [
      "2\n"
     ]
    }
   ],
   "source": [
    "# 関数名：get_tail\n",
    "# 引数列：*args\n",
    "# 処理の内容：可変長引数で渡された複数の引数の中で、末尾の引数の値を返す。\n",
    "\n",
    "def get_tail(*args):\n",
    "    return args[-1]\n",
    "\n",
    "print(get_tail(3, 5, 9, 2))"
   ]
  },
  {
   "cell_type": "code",
   "execution_count": 12,
   "metadata": {},
   "outputs": [],
   "source": [
    "class StudentCard:\n",
    "    pass #何もしない命令\n",
    "a = StudentCard()"
   ]
  },
  {
   "cell_type": "code",
   "execution_count": 13,
   "metadata": {},
   "outputs": [],
   "source": [
    "class StudentCard:\n",
    "    def __init__(self):\n",
    "        print('初期化メソッド内の処理です')"
   ]
  },
  {
   "cell_type": "code",
   "execution_count": 15,
   "metadata": {},
   "outputs": [
    {
     "name": "stdout",
     "output_type": "stream",
     "text": [
      "初期化メソッド内の処理です\n",
      "初期化メソッド内の処理です\n"
     ]
    }
   ],
   "source": [
    "class StudentCard:\n",
    "    def __init__(self):\n",
    "        print('初期化メソッド内の処理です')\n",
    "        self.id = 0 #インスタンス変数\n",
    "        self.name = '未定' #インスタンス変数\n",
    "\n",
    "a = StudentCard()\n",
    "b = StudentCard()"
   ]
  },
  {
   "cell_type": "code",
   "execution_count": 16,
   "metadata": {},
   "outputs": [
    {
     "name": "stdout",
     "output_type": "stream",
     "text": [
      "初期化メソッド内の処理です\n",
      "初期化メソッド内の処理です\n"
     ]
    }
   ],
   "source": [
    "class StudentCard:\n",
    "    def __init__(self):\n",
    "        print('初期化メソッド内の処理です')\n",
    "        self.id = 0 #インスタンス変数\n",
    "        self.name = '未定' #インスタンス変数\n",
    "\n",
    "a = StudentCard()\n",
    "b = StudentCard()\n",
    "\n",
    "a.id = 1234\n",
    "a.name = '鈴木太郎'\n",
    "b.id = 1235\n",
    "b.name = '佐藤花子'"
   ]
  },
  {
   "cell_type": "code",
   "execution_count": 17,
   "metadata": {},
   "outputs": [],
   "source": [
    "class StudentCard:\n",
    "    def __init__(self, id, name):\n",
    "        self.id = id\n",
    "        self.name = name\n",
    "\n",
    "a = StudentCard(1234, '鈴木太郎')\n",
    "b = StudentCard(1235, '佐藤花子')"
   ]
  },
  {
   "cell_type": "code",
   "execution_count": 18,
   "metadata": {},
   "outputs": [],
   "source": [
    "class StudentCard:\n",
    "    school_name = 'Python 大学'\n",
    "    def __init__(self, id, name):\n",
    "        self.id = id\n",
    "        self.name = name"
   ]
  },
  {
   "cell_type": "code",
   "execution_count": 19,
   "metadata": {},
   "outputs": [
    {
     "name": "stdout",
     "output_type": "stream",
     "text": [
      "学籍番号 1234\n",
      "氏名: 鈴木太郎\n",
      "学籍番号 1235\n",
      "氏名: 佐藤花子\n"
     ]
    }
   ],
   "source": [
    "class StudentCard:\n",
    "    def __init__(self, id, name):\n",
    "        self.id = id\n",
    "        self.name = name\n",
    "    \n",
    "    def print_info(self):\n",
    "        print('学籍番号', self.id)\n",
    "        print('氏名:', self.name)\n",
    "\n",
    "a = StudentCard(1234, '鈴木太郎')\n",
    "b = StudentCard(1235, '佐藤花子')\n",
    "a.print_info()\n",
    "b.print_info()"
   ]
  },
  {
   "cell_type": "code",
   "execution_count": 21,
   "metadata": {},
   "outputs": [
    {
     "name": "stdout",
     "output_type": "stream",
     "text": [
      "25.0\n"
     ]
    }
   ],
   "source": [
    "class SimpleCalc:\n",
    "    @classmethod\n",
    "    def get_triangle_area(cls, base, height):\n",
    "        return base * height / 2\n",
    "\n",
    "print(SimpleCalc.get_triangle_area(10, 5))"
   ]
  },
  {
   "attachments": {},
   "cell_type": "markdown",
   "metadata": {},
   "source": [
    "from student_card import StudentCard #student_cardはファイル名\n",
    "\n",
    "a = StudentCard(1234, '鈴木太郎')\n",
    "a.print_info()\n",
    "\n",
    "if __name__ =='__main__'a = StudentCard(1234, '鈴木太郎')の前に入れるとインポート時には実行されなくなる。"
   ]
  },
  {
   "attachments": {},
   "cell_type": "markdown",
   "metadata": {},
   "source": [
    "super().メソッド名()で子クラスの中から、親クラスのメソッドを呼び出すことができる。"
   ]
  },
  {
   "cell_type": "code",
   "execution_count": 4,
   "metadata": {},
   "outputs": [
    {
     "name": "stdout",
     "output_type": "stream",
     "text": [
      "名前 高橋太郎\n",
      "年齢 19\n"
     ]
    }
   ],
   "source": [
    "class Person:\n",
    "    def __init__(self, name, age):\n",
    "        self.name = name\n",
    "        self.age = age\n",
    "\n",
    "def print_info(p):\n",
    "    print('名前', p.name)\n",
    "    print('年齢', p.age)\n",
    "\n",
    "a = Person(\"高橋太郎\", 19)\n",
    "b = Person(\"小林花子\", 18)\n",
    "\n",
    "# 追加した関数を呼び出す。戻り値がある場合は出力する\n",
    "print_info(a)"
   ]
  },
  {
   "cell_type": "code",
   "execution_count": 1,
   "metadata": {},
   "outputs": [
    {
     "name": "stdout",
     "output_type": "stream",
     "text": [
      "True\n"
     ]
    }
   ],
   "source": [
    "class Person:\n",
    "    def __init__(self, name, age):\n",
    "        self.name = name\n",
    "        self.age= age\n",
    "\n",
    "def age_check(p,i):\n",
    "    return p.age > 1\n",
    "\n",
    "a = Person(\"高橋太郎\", 19)\n",
    "b = Person(\"小林花子\", 18)\n",
    "\n",
    "# 追加した関数を呼び出す。戻り値がある場合は出力する\n",
    "print(age_check(a, 20))\n"
   ]
  },
  {
   "cell_type": "code",
   "execution_count": 2,
   "metadata": {},
   "outputs": [
    {
     "name": "stdout",
     "output_type": "stream",
     "text": [
      "小林花子\n"
     ]
    }
   ],
   "source": [
    "class Person:\n",
    "    def __init__(self, name, age):\n",
    "        self.name = name\n",
    "        self.age= age\n",
    "\n",
    "def print_younger_person_name(p1, p2):\n",
    "    if p1.age <= p2.age:\n",
    "        print(p1.name)\n",
    "    else:\n",
    "        print(p2.name)\n",
    "\n",
    "a = Person(\"高橋太郎\", 19)\n",
    "b = Person(\"小林花子\", 18)\n",
    "\n",
    "# 追加した関数を呼び出す。戻り値がある場合は出力する\n",
    "print_younger_person_name(a, b)"
   ]
  },
  {
   "cell_type": "code",
   "execution_count": 3,
   "metadata": {},
   "outputs": [
    {
     "name": "stdout",
     "output_type": "stream",
     "text": [
      "37\n"
     ]
    }
   ],
   "source": [
    "class Person:\n",
    "    def __init__(self, name, age):\n",
    "        self.name = name\n",
    "        self.age= age\n",
    "\n",
    "def get_total_age(p1, p2):\n",
    "    return p1.age + p2.age\n",
    "\n",
    "a = Person(\"高橋太郎\", 19)\n",
    "b = Person(\"小林花子\", 18)\n",
    "\n",
    "# 追加した関数を呼び出す。戻り値がある場合は出力する\n",
    "print(get_total_age(a, b))"
   ]
  },
  {
   "cell_type": "code",
   "execution_count": 5,
   "metadata": {},
   "outputs": [
    {
     "name": "stdout",
     "output_type": "stream",
     "text": [
      "rec0の面積 40\n",
      "rec1の面積 24\n"
     ]
    }
   ],
   "source": [
    "# 長方形を表すクラス\n",
    "class Rectangle:\n",
    "    def __init__(self, width, height):\n",
    "        self.width = width\n",
    "        self.height = height\n",
    "\n",
    "    def get_area(self):\n",
    "        return self.width * self.height\n",
    "\n",
    "rec0 = Rectangle(5, 8)\n",
    "rec1 = Rectangle(4, 6)\n",
    "\n",
    "print('rec0の面積', rec0.get_area())\n",
    "print('rec1の面積', rec1.get_area())"
   ]
  },
  {
   "cell_type": "code",
   "execution_count": 6,
   "metadata": {},
   "outputs": [],
   "source": [
    "class X:\n",
    "    def __init__(self):\n",
    "        print('[x]')\n",
    "    \n",
    "    def a(self):\n",
    "        print('[x.a]')\n",
    "\n",
    "    def b(self):\n",
    "        print('[x.b]')\n",
    "\n",
    "class Y(X):\n",
    "    def __init__(self):\n",
    "        super().__init__()\n",
    "        print('[y]')\n",
    "\n",
    "    def a(self):\n",
    "        print('[y.a]')\n",
    "        super().a()"
   ]
  },
  {
   "cell_type": "code",
   "execution_count": 2,
   "metadata": {},
   "outputs": [
    {
     "name": "stdout",
     "output_type": "stream",
     "text": [
      "a ÷ b の計算をします\n",
      "答えは 2.0\n",
      "処理を終わります\n"
     ]
    }
   ],
   "source": [
    "print('a ÷ b の計算をします')\n",
    "try:\n",
    "    a = input('aの値を入力してください:')\n",
    "    b = input('bの値を入力してください:')\n",
    "    c = float(a)/float(b)\n",
    "    print('答えは', c)\n",
    "except:\n",
    "    print('入力が適切ではありません')\n",
    "\n",
    "print('処理を終わります')\n"
   ]
  },
  {
   "cell_type": "code",
   "execution_count": 3,
   "metadata": {},
   "outputs": [
    {
     "name": "stdout",
     "output_type": "stream",
     "text": [
      "a ÷ b の計算をします\n",
      "ゼロで数字を割ることはできません\n",
      "処理を終わります\n"
     ]
    }
   ],
   "source": [
    "print('a ÷ b の計算をします')\n",
    "try:\n",
    "    a = input('aの値を入力してください:')\n",
    "    b = input('bの値を入力してください:')\n",
    "    c = float(a)/float(b)\n",
    "    print('答えは', c)\n",
    "except ValueError:\n",
    "    print('入力が数字ではありません')\n",
    "except ZeroDivisionError:\n",
    "    print('ゼロで数字を割ることはできません')\n",
    "\n",
    "print('処理を終わります')"
   ]
  },
  {
   "attachments": {},
   "cell_type": "markdown",
   "metadata": {},
   "source": [
    "open(ファイルパス、mode='r', encoding='UTF-8')\n",
    "lines = f.readlines()\n",
    "\n",
    "    for l in lines:\n",
    "        print(l)\n",
    "\n",
    "f.close()"
   ]
  },
  {
   "attachments": {},
   "cell_type": "markdown",
   "metadata": {},
   "source": [
    "with open(ファイルパス、mode='r', encoding='UTF-8') as f:\n",
    "\n",
    "for l in f:\n",
    "    print(l)"
   ]
  },
  {
   "attachments": {},
   "cell_type": "markdown",
   "metadata": {},
   "source": [
    "f = open(ファイルパス, 'w', encoding='UTF-8')\n",
    "\n",
    "for i in range(0,100):\n",
    "    f.write(str(i) + '¥n')\n",
    "\n",
    "close(f)"
   ]
  },
  {
   "attachments": {},
   "cell_type": "markdown",
   "metadata": {},
   "source": [
    "with open(ファイルパス, 'w', encoding='UTF-8') as f:\n",
    "\n",
    "for i in range(0,100):\n",
    "    f.write(str(i) + '¥n')"
   ]
  },
  {
   "attachments": {},
   "cell_type": "markdown",
   "metadata": {},
   "source": [
    "with open(出力ファイルのパス, 'w', encoding='UTF-8') as out_f:\n",
    "    with open(入力ファイルのパス, 'r', encoding='UTF-8') as in_f:\n",
    "        for line in in_f:\n",
    "            if '東京都' in line:\n",
    "                out_f.write(line)"
   ]
  },
  {
   "attachments": {},
   "cell_type": "markdown",
   "metadata": {},
   "source": [
    "pref_count_dict = {}\n",
    "with open('data/visitor_record.txt', 'r', encoding='UTF-8') as f:\n",
    "    for line in f:\n",
    "    date, pref, num_adult, num_children = line.split(',')\n",
    "    num_all = int(num_adult) + int(num_children)\n",
    "    if pref in pref_count_dict:\n",
    "        pref_count_dict[pref] += num_all\n",
    "    else\n",
    "        pref_count_dict[pref] = num_all\n",
    "\n",
    "pref_count_sorted = sorted(pref_count_dict.items(), key=lambda x:x[1], reverse=True)\n",
    "\n",
    "for i in pref_count_sorted:\n",
    "    print(i)"
   ]
  },
  {
   "attachments": {},
   "cell_type": "markdown",
   "metadata": {},
   "source": [
    "import matplotlib\n",
    "import matplotlib.pyplot as plt\n",
    "\n",
    "pref_count_dict = {}\n",
    "with open('data/visitor_record.txt', 'r', encoding='UTF-8') as f:\n",
    "    for line in f:\n",
    "    date, pref, num_adult, num_children = line.split(',')\n",
    "    num_all = int(num_adult) + int(num_children)\n",
    "    if pref in pref_count_dict:\n",
    "        pref_count_dict[pref] += num_all\n",
    "    else\n",
    "        pref_count_dict[pref] = num_all\n",
    "\n",
    "pref_count_sorted = sorted(pref_count_dict.items(), key=lambda x:x[1], reverse=True) #都道府県名と訪問者数のタプルを、訪問者数でソートします\n",
    "\n",
    "labels = [] #グラフのラベルを格納するためのリスト\n",
    "values = [] #グラフの値を格納するためにリスト\n",
    "for l, v in pref_count_sorted: #ソート順にラベルと値を取り出します\n",
    "    labels.append(l) #取り出したラベルと値をリストに格納します\n",
    "    values.append(v)\n",
    "\n",
    "matplotlib.use('Agg') #グラフをファイルに出力するために必要な記述です\n",
    "plt.rcParams('font.family') = 'Yu Gothic'\n",
    "plt.xticks(rotatiton=270) #ラベルを縦書きにします\n",
    "plt.bar(range(0, len(pref_count_sorted)),values, tick, label=labels) #グラフを作成します\n",
    "plt.savefig('graph.png')"
   ]
  },
  {
   "attachments": {},
   "cell_type": "markdown",
   "metadata": {},
   "source": [
    "import cv2\n",
    "\n",
    "#画像ファイルの表示\n",
    "img = cv2.imread('data/block.jpg)\n",
    "cv2.imshow('img', img)\n",
    "cv2.waitKey(0)\n",
    "cv2.destroyAllwindows()\n",
    "\n",
    "#画像サイズの変更\n",
    "height = img.shape[0]\n",
    "width = img.shape[1]\n",
    "resized_img = cv2.resize(img, (int(width/2), height))\n",
    "cv2.imwrite('resized.jpg', resized_img)\n",
    "\n",
    "#色の変更\n",
    "gray_img = cv2.cvtColor(img, cv2.COLOR_RGBA2GRAY)\n",
    "cv2.imwrite('gray.jpg', gray_img)\n",
    "\n",
    "#エッジ検出\n",
    "canny_img = cv2.Canny(img, 50, 100)\n",
    "cv2.imwrite('canny.jpg', canny_img)"
   ]
  },
  {
   "attachments": {},
   "cell_type": "markdown",
   "metadata": {},
   "source": [
    "import cv2\n",
    "import sys #処理を中断するexit関数を使用するためにインポートします\n",
    "\n",
    "#画像を読み込みエッジ検出までを済ませておきます\n",
    "img = cv2.imread('road_sign.jpg')\n",
    "gray_img = cv2.cvtColor(img, cv2.COLOR_BGR2GRAY)\n",
    "canny_img = cv2.Canny(gray_img, 600, 650)\n",
    "\n",
    "#円の検出を行います\n",
    "circles = cv2.HoughCircles(canny_img, cv2.HOUGH_GRADIENT, dp=1, minDist=10, paraml=700, param2=27, minRadius=20, maxRadius=60)\n",
    "\n",
    "#何も検出されなければ処理を終えます\n",
    "if circles is None:\n",
    "    sys.exit()\n",
    "\n",
    "#円の情報を1つずつ取り出します\n",
    "for (x, y, r) in circles[0]:\n",
    "    cv2.circle(img, (int(x), int(y)), int(r), (0, 255, 0), 6) #検出された円を画像に上書きします\n",
    "\n",
    "#円を検出した結果の画像を表示します\n",
    "cv2.imshow('detected circles', img)\n",
    "cv2.waitKey(0)\n",
    "cv2.destroyAllWindows()"
   ]
  },
  {
   "attachments": {},
   "cell_type": "markdown",
   "metadata": {},
   "source": [
    "import requests\n",
    "\n",
    "html = requests.get('https://www.shoeisha.co.jp/book/ranking')\n",
    "\n",
    "print(html.txt)"
   ]
  },
  {
   "cell_type": "code",
   "execution_count": 6,
   "metadata": {},
   "outputs": [
    {
     "name": "stdout",
     "output_type": "stream",
     "text": [
      "範囲外の値が入力されました\n"
     ]
    }
   ],
   "source": [
    "l = ['リンゴ', 'バナナ', 'オレンジ']\n",
    "a = input('好きな整数を入力してください')\n",
    "try:\n",
    "    print(l[int(a)])\n",
    "except ValueError:\n",
    "    print('数字が入力されませんでした')\n",
    "except IndexError:\n",
    "    print('範囲外の値が入力されました')"
   ]
  },
  {
   "cell_type": "code",
   "execution_count": 1,
   "metadata": {},
   "outputs": [
    {
     "name": "stdout",
     "output_type": "stream",
     "text": [
      "Matrix([[a*cos**2 + b*sin**2]])\n"
     ]
    }
   ],
   "source": [
    "import sympy\n",
    "\n",
    "sympy.init_printing()\n",
    "sympy.var('a, b, c, d')\n",
    "sympy.var('cos, sin') \n",
    "M = sympy.Matrix([[cos, sin, 0]])\n",
    "N = sympy.Matrix([[a, 0, 0], [0, b, -d], [0, -d, c]])\n",
    "A = sympy.Matrix([[cos], [sin], [0]])\n",
    "\n",
    "T = M*N*A\n",
    "print(T)"
   ]
  }
 ],
 "metadata": {
  "kernelspec": {
   "display_name": "Python 3",
   "language": "python",
   "name": "python3"
  },
  "language_info": {
   "codemirror_mode": {
    "name": "ipython",
    "version": 3
   },
   "file_extension": ".py",
   "mimetype": "text/x-python",
   "name": "python",
   "nbconvert_exporter": "python",
   "pygments_lexer": "ipython3",
   "version": "3.11.1"
  },
  "orig_nbformat": 4,
  "vscode": {
   "interpreter": {
    "hash": "5c7b89af1651d0b8571dde13640ecdccf7d5a6204171d6ab33e7c296e100e08a"
   }
  }
 },
 "nbformat": 4,
 "nbformat_minor": 2
}
