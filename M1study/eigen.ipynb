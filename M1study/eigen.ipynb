{
 "cells": [
  {
   "cell_type": "code",
   "execution_count": 173,
   "metadata": {},
   "outputs": [],
   "source": [
    "import numpy as np"
   ]
  },
  {
   "cell_type": "code",
   "execution_count": 174,
   "metadata": {},
   "outputs": [],
   "source": [
    "import sympy"
   ]
  },
  {
   "cell_type": "code",
   "execution_count": 175,
   "metadata": {},
   "outputs": [],
   "source": [
    "from sympy import *"
   ]
  },
  {
   "cell_type": "code",
   "execution_count": 176,
   "metadata": {},
   "outputs": [
    {
     "name": "stdout",
     "output_type": "stream",
     "text": [
      "Matrix([[X, 0, 0], [0, 0.866025403784439*W + 0.25*Y + 0.75*Z, -0.5*W - 0.433012701892219*Y + 0.433012701892219*Z], [0, -0.5*W - 0.433012701892219*Y + 0.433012701892219*Z, -0.866025403784439*W + 0.75*Y + 0.25*Z]])\n"
     ]
    }
   ],
   "source": [
    "X = Symbol('X')\n",
    "Y = Symbol('Y')\n",
    "Z = Symbol('Z')\n",
    "W = Symbol('W')\n",
    "R = sympy.Matrix([[1, 0, 0], [0, -1/2, -3**(0.5)/2], [0, 3**(0.5)/2, -1/2]])\n",
    "A = sympy.Matrix([[X, 0, 0], [0, Y, W], [0, W, Z]])\n",
    "\n",
    "f = R*A*(R**(-1))\n",
    "\n",
    "print(f)"
   ]
  },
  {
   "cell_type": "code",
   "execution_count": 177,
   "metadata": {},
   "outputs": [
    {
     "name": "stdout",
     "output_type": "stream",
     "text": [
      "Matrix([[X, 0, 0], [0, -0.866025403784439*W + 0.25*Y + 0.75*Z, -0.5*W + 0.433012701892219*Y - 0.433012701892219*Z], [0, -0.5*W + 0.433012701892219*Y - 0.433012701892219*Z, 0.866025403784439*W + 0.75*Y + 0.25*Z]])\n"
     ]
    }
   ],
   "source": [
    "X = Symbol('X')\n",
    "Y = Symbol('Y')\n",
    "Z = Symbol('Z')\n",
    "W = Symbol('W')\n",
    "R = sympy.Matrix([[1, 0, 0], [0, -1/2, 3**(0.5)/2], [0, -3**(0.5)/2, -1/2]])\n",
    "A = sympy.Matrix([[X, 0, 0], [0, Y, W], [0, W, Z]])\n",
    "\n",
    "f = R*A*R**(-1)\n",
    "\n",
    "print(f)"
   ]
  },
  {
   "cell_type": "code",
   "execution_count": 178,
   "metadata": {},
   "outputs": [
    {
     "name": "stdout",
     "output_type": "stream",
     "text": [
      "X*sin(T)**2*cos(P)**2 + (-0.866025403784439*W + 0.75*Y + 0.25*Z)*cos(T)**2 + (-0.5*W - 0.433012701892219*Y + 0.433012701892219*Z)*sin(P)*sin(T)*cos(T) + (0.866025403784439*W + 0.25*Y + 0.75*Z)*sin(P)**2*sin(T)**2\n"
     ]
    }
   ],
   "source": [
    "X = Symbol('X')\n",
    "Y = Symbol('Y')\n",
    "Z = Symbol('Z')\n",
    "W = Symbol('W')\n",
    "P = Symbol('P')\n",
    "T = Symbol('T')\n",
    "x = X\n",
    "y = 0.866025403784439*W + 0.25*Y + 0.75*Z\n",
    "z = -0.866025403784439*W + 0.75*Y + 0.25*Z\n",
    "w = -0.5*W - 0.433012701892219*Y + 0.433012701892219*Z\n",
    "\n",
    "f = x*sin(T)**2*cos(P)**2+y*sin(T)**2*sin(P)**2+z*cos(T)**2+w*sin(T)*sin(P)*cos(T)\n",
    "\n",
    "print(f)"
   ]
  },
  {
   "cell_type": "code",
   "execution_count": 179,
   "metadata": {},
   "outputs": [
    {
     "name": "stdout",
     "output_type": "stream",
     "text": [
      "X*sin(T)**2*cos(P)**2 + (-0.866025403784439*W + 0.25*Y + 0.75*Z)*sin(P)**2*sin(T)**2 + (-0.5*W + 0.433012701892219*Y - 0.433012701892219*Z)*sin(P)*sin(T)*cos(T) + (0.866025403784439*W + 0.75*Y + 0.25*Z)*cos(T)**2\n"
     ]
    }
   ],
   "source": [
    "X = Symbol('X')\n",
    "Y = Symbol('Y')\n",
    "Z = Symbol('Z')\n",
    "W = Symbol('W')\n",
    "P = Symbol('P')\n",
    "T = Symbol('T')\n",
    "x = X\n",
    "y = -0.866025403784439*W + 0.25*Y + 0.75*Z\n",
    "z = 0.866025403784439*W + 0.75*Y + 0.25*Z\n",
    "w = -0.5*W + 0.433012701892219*Y - 0.433012701892219*Z\n",
    "\n",
    "f = x*sin(T)**2*cos(P)**2+y*sin(T)**2*sin(P)**2+z*cos(T)**2+w*sin(T)*sin(P)*cos(T)\n",
    "\n",
    "print(f)"
   ]
  },
  {
   "cell_type": "code",
   "execution_count": 180,
   "metadata": {},
   "outputs": [
    {
     "name": "stdout",
     "output_type": "stream",
     "text": [
      "Matrix([[Y, 0, 0], [0, X, 0], [0, 0, Z]])\n"
     ]
    }
   ],
   "source": [
    "X = Symbol('X')\n",
    "Y = Symbol('Y')\n",
    "Z = Symbol('Z')\n",
    "W = Symbol('W')\n",
    "R = sympy.Matrix([[0, -1, 0], [1, 0, 0], [0, 0, 1]])\n",
    "A = sympy.Matrix([[X, 0, 0], [0, Y, 0], [0, 0, Z]])\n",
    "\n",
    "f = R*A*(R**(-1))\n",
    "\n",
    "print(f)"
   ]
  },
  {
   "cell_type": "code",
   "execution_count": 181,
   "metadata": {},
   "outputs": [
    {
     "name": "stdout",
     "output_type": "stream",
     "text": [
      "Matrix([[X, 0, 0], [0, 0.866025403784439*W + 0.25*Y + 0.75*Z, 0.5*W + 0.433012701892219*Y - 0.433012701892219*Z], [0, 0.5*W + 0.433012701892219*Y - 0.433012701892219*Z, -0.866025403784439*W + 0.75*Y + 0.25*Z]])\n"
     ]
    }
   ],
   "source": [
    "X = Symbol('X')\n",
    "Y = Symbol('Y')\n",
    "Z = Symbol('Z')\n",
    "W = Symbol('W')\n",
    "R = sympy.Matrix([[-1, 0, 0], [0, -1, 0], [0, 0, 1]])\n",
    "A = sympy.Matrix([[X, 0, 0], [0, 0.866025403784439*W + 0.25*Y + 0.75*Z, -0.5*W - 0.433012701892219*Y + 0.433012701892219*Z], [0, -0.5*W - 0.433012701892219*Y + 0.433012701892219*Z, -0.866025403784439*W + 0.75*Y + 0.25*Z]])\n",
    "\n",
    "f = R*A*(R**(-1))\n",
    "\n",
    "print(f)"
   ]
  },
  {
   "cell_type": "code",
   "execution_count": 182,
   "metadata": {},
   "outputs": [
    {
     "name": "stdout",
     "output_type": "stream",
     "text": [
      "Matrix([[X, 0, 0], [0, -0.866025403784439*W + 0.25*Y + 0.75*Z, 0.5*W - 0.433012701892219*Y + 0.433012701892219*Z], [0, 0.5*W - 0.433012701892219*Y + 0.433012701892219*Z, 0.866025403784439*W + 0.75*Y + 0.25*Z]])\n"
     ]
    }
   ],
   "source": [
    "X = Symbol('X')\n",
    "Y = Symbol('Y')\n",
    "Z = Symbol('Z')\n",
    "W = Symbol('W')\n",
    "R = sympy.Matrix([[-1, 0, 0], [0, -1, 0], [0, 0, 1]])\n",
    "A = sympy.Matrix([[X, 0, 0], [0, -0.866025403784439*W + 0.25*Y + 0.75*Z, -0.5*W + 0.433012701892219*Y - 0.433012701892219*Z], [0, -0.5*W + 0.433012701892219*Y - 0.433012701892219*Z, 0.866025403784439*W + 0.75*Y + 0.25*Z]])\n",
    "\n",
    "f = R*A*(R**(-1))\n",
    "\n",
    "print(f)"
   ]
  },
  {
   "cell_type": "code",
   "execution_count": 183,
   "metadata": {},
   "outputs": [
    {
     "name": "stdout",
     "output_type": "stream",
     "text": [
      "Matrix([[X, 0, 0], [0, 0.866025403784439*W + 0.25*Y + 0.75*Z, 0.5*W + 0.433012701892219*Y - 0.433012701892219*Z], [0, 0.5*W + 0.433012701892219*Y - 0.433012701892219*Z, -0.866025403784439*W + 0.75*Y + 0.25*Z]])\n"
     ]
    }
   ],
   "source": [
    "X = Symbol('X')\n",
    "Y = Symbol('Y')\n",
    "Z = Symbol('Z')\n",
    "W = Symbol('W')\n",
    "R = sympy.Matrix([[1, 0, 0], [0, -1/2, 3**(0.5)/2], [0, -3**(0.5)/2, -1/2]])\n",
    "A = sympy.Matrix([[X, 0, 0], [0, Y, -W], [0, -W, Z]])\n",
    "\n",
    "f = R*A*R**(-1)\n",
    "\n",
    "print(f)"
   ]
  },
  {
   "cell_type": "code",
   "execution_count": 184,
   "metadata": {},
   "outputs": [
    {
     "name": "stdout",
     "output_type": "stream",
     "text": [
      "Matrix([[X, 0, 0], [0, -0.866025403784439*W + 0.25*Y + 0.75*Z, 0.5*W - 0.433012701892219*Y + 0.433012701892219*Z], [0, 0.5*W - 0.433012701892219*Y + 0.433012701892219*Z, 0.866025403784439*W + 0.75*Y + 0.25*Z]])\n"
     ]
    }
   ],
   "source": [
    "X = Symbol('X')\n",
    "Y = Symbol('Y')\n",
    "Z = Symbol('Z')\n",
    "W = Symbol('W')\n",
    "R = sympy.Matrix([[1, 0, 0], [0, -1/2, -3**(0.5)/2], [0, 3**(0.5)/2, -1/2]])\n",
    "A = sympy.Matrix([[X, 0, 0], [0, Y, -W], [0, -W, Z]])\n",
    "\n",
    "f = R*A*R**(-1)\n",
    "\n",
    "print(f)"
   ]
  },
  {
   "cell_type": "code",
   "execution_count": 185,
   "metadata": {},
   "outputs": [
    {
     "name": "stdout",
     "output_type": "stream",
     "text": [
      "Matrix([[X, 0, 0], [0, -0.866025403784439*W + 0.25*Y + 0.75*Z, 0.5*W - 0.433012701892219*Y + 0.433012701892219*Z], [0, 0.5*W - 0.433012701892219*Y + 0.433012701892219*Z, 0.866025403784439*W + 0.75*Y + 0.25*Z]])\n"
     ]
    }
   ],
   "source": [
    "X = Symbol('X')\n",
    "Y = Symbol('Y')\n",
    "Z = Symbol('Z')\n",
    "W = Symbol('W')\n",
    "R = sympy.Matrix([[1, 0, 0], [0, -1, 0], [0, 0, -1]])\n",
    "A = sympy.Matrix([[X, 0, 0], [0, -0.866025403784439*W + 0.25*Y + 0.75*Z, 0.5*W - 0.433012701892219*Y + 0.433012701892219*Z], [0, 0.5*W - 0.433012701892219*Y + 0.433012701892219*Z, 0.866025403784439*W + 0.75*Y + 0.25*Z]])\n",
    "\n",
    "f = R*A*R**(-1)\n",
    "\n",
    "print(f)"
   ]
  },
  {
   "cell_type": "code",
   "execution_count": 186,
   "metadata": {},
   "outputs": [
    {
     "name": "stdout",
     "output_type": "stream",
     "text": [
      "22.6569907921\n"
     ]
    }
   ],
   "source": [
    "a = -1.67582-1.36882\n",
    "b = 0.61304-1.14479\n",
    "c = 2.97804-6.59804\n",
    "\n",
    "f = a*a+b*b+c*c\n",
    "\n",
    "print(f)"
   ]
  },
  {
   "cell_type": "code",
   "execution_count": 187,
   "metadata": {},
   "outputs": [
    {
     "name": "stdout",
     "output_type": "stream",
     "text": [
      "12.828764576800001\n"
     ]
    }
   ],
   "source": [
    "a = 0.30700-1.36882\n",
    "b = -1.75783-1.14479\n",
    "c = 4.78804-6.59804\n",
    "\n",
    "f = a*a+b*b+c*c\n",
    "\n",
    "print(f)"
   ]
  },
  {
   "cell_type": "code",
   "execution_count": 188,
   "metadata": {},
   "outputs": [
    {
     "name": "stdout",
     "output_type": "stream",
     "text": [
      "Matrix([[X, 0, 0], [0, Y, -W], [0, -W, Z]])\n"
     ]
    }
   ],
   "source": [
    "X = Symbol('X')\n",
    "Y = Symbol('Y')\n",
    "Z = Symbol('Z')\n",
    "W = Symbol('W')\n",
    "R = sympy.Matrix([[1, 0, 0], [0, -1, 0], [0, 0, 1]])\n",
    "A = sympy.Matrix([[X, 0, 0], [0, Y, W], [0, W, Z]])\n",
    "\n",
    "f = R*A*R**(-1)\n",
    "\n",
    "print(f)"
   ]
  },
  {
   "cell_type": "code",
   "execution_count": 189,
   "metadata": {},
   "outputs": [
    {
     "name": "stdout",
     "output_type": "stream",
     "text": [
      "Matrix([[0.25*X + 0.75*Y, -0.433012701892219*X + 0.433012701892219*Y, -0.866025403784439*W], [-0.433012701892219*X + 0.433012701892219*Y, 0.75*X + 0.25*Y, -0.5*W], [-0.866025403784439*W, -0.5*W, Z]])\n"
     ]
    }
   ],
   "source": [
    "X = Symbol('X')\n",
    "Y = Symbol('Y')\n",
    "Z = Symbol('Z')\n",
    "W = Symbol('W')\n",
    "R = sympy.Matrix([[-0.5, -3**(0.5)/2, 0], [3**(0.5)/2, -0.5, 0], [0, 0, 1]])\n",
    "A = sympy.Matrix([[X, 0, 0], [0, Y, W], [0, W, Z]])\n",
    "\n",
    "f = R*A*(R**(-1))\n",
    "\n",
    "print(f)"
   ]
  },
  {
   "cell_type": "code",
   "execution_count": 190,
   "metadata": {},
   "outputs": [
    {
     "name": "stdout",
     "output_type": "stream",
     "text": [
      "Matrix([[X, 0, 0], [0, Y, W], [0, W, Z]])\n"
     ]
    }
   ],
   "source": [
    "X = Symbol('X')\n",
    "Y = Symbol('Y')\n",
    "Z = Symbol('Z')\n",
    "W = Symbol('W')\n",
    "R = sympy.Matrix([[-1, 0, 0], [0, 1, 0], [0, 0, 1]])\n",
    "A = sympy.Matrix([[X, 0, 0], [0, Y, W], [0, W, Z]])\n",
    "\n",
    "f = R*A*R**(-1)\n",
    "\n",
    "print(f)"
   ]
  },
  {
   "cell_type": "code",
   "execution_count": 191,
   "metadata": {},
   "outputs": [
    {
     "name": "stdout",
     "output_type": "stream",
     "text": [
      "Matrix([[X, 0, 0], [0, -Y, -W], [0, -W, -Z]])\n"
     ]
    }
   ],
   "source": [
    "X = Symbol('X')\n",
    "Y = Symbol('Y')\n",
    "Z = Symbol('Z')\n",
    "W = Symbol('W')\n",
    "R = sympy.Matrix([[1, 0, 0], [0, -1, 0], [0, 0, -1]])\n",
    "A = sympy.Matrix([[X, 0, 0], [0, Y, W], [0, W, Z]])\n",
    "\n",
    "f = R*A\n",
    "\n",
    "print(f)"
   ]
  },
  {
   "cell_type": "code",
   "execution_count": 192,
   "metadata": {},
   "outputs": [
    {
     "name": "stdout",
     "output_type": "stream",
     "text": [
      "Matrix([[0.25*X - 0.75*Y, 0.433012701892219*X + 0.433012701892219*Y, -0.866025403784439*W], [0.433012701892219*X + 0.433012701892219*Y, 0.75*X - 0.25*Y, 0.5*W], [-0.866025403784439*W, 0.5*W, -Z]])\n"
     ]
    }
   ],
   "source": [
    "X = Symbol('X')\n",
    "Y = Symbol('Y')\n",
    "Z = Symbol('Z')\n",
    "W = Symbol('W')\n",
    "R = sympy.Matrix([[-0.5, 3**(0.5)/2, 0], [-3**(0.5)/2, -0.5, 0], [0, 0, 1]])\n",
    "A = sympy.Matrix([[X, 0, 0], [0, -Y, -W], [0, -W, -Z]])\n",
    "\n",
    "f = R*A*R**(-1)\n",
    "\n",
    "print(f)"
   ]
  },
  {
   "cell_type": "code",
   "execution_count": 193,
   "metadata": {},
   "outputs": [
    {
     "name": "stdout",
     "output_type": "stream",
     "text": [
      "Matrix([[X, 0, 0], [0, -Y, W], [0, W, -Z]])\n"
     ]
    }
   ],
   "source": [
    "X = Symbol('X')\n",
    "Y = Symbol('Y')\n",
    "Z = Symbol('Z')\n",
    "W = Symbol('W')\n",
    "R = sympy.Matrix([[1, 0, 0], [0, -1, 0], [0, 0, 1]])\n",
    "A = sympy.Matrix([[X, 0, 0], [0, -Y, -W], [0, -W, -Z]])\n",
    "\n",
    "f = R*A*R**(-1)\n",
    "\n",
    "print(f)"
   ]
  },
  {
   "cell_type": "code",
   "execution_count": 194,
   "metadata": {},
   "outputs": [
    {
     "name": "stdout",
     "output_type": "stream",
     "text": [
      "Matrix([[0.25*X - 0.75*Y, -0.433012701892219*X - 0.433012701892219*Y, -0.866025403784439*W], [-0.433012701892219*X - 0.433012701892219*Y, 0.75*X - 0.25*Y, -0.5*W], [-0.866025403784439*W, -0.5*W, -Z]])\n"
     ]
    }
   ],
   "source": [
    "X = Symbol('X')\n",
    "Y = Symbol('Y')\n",
    "Z = Symbol('Z')\n",
    "W = Symbol('W')\n",
    "R = sympy.Matrix([[-0.5, -3**(0.5)/2, 0], [3**(0.5)/2, -0.5, 0], [0, 0, 1]])\n",
    "A = sympy.Matrix([[X, 0, 0], [0, -Y, W], [0, W, -Z]])\n",
    "\n",
    "f = R*A*R**(-1)\n",
    "\n",
    "print(f)"
   ]
  },
  {
   "cell_type": "code",
   "execution_count": 195,
   "metadata": {},
   "outputs": [
    {
     "name": "stdout",
     "output_type": "stream",
     "text": [
      "Matrix([[2.00000000000000, 0, 1.00000000000000], [0, 2, 0], [1.00000000000000, 0, 2.00000000000000]])\n"
     ]
    }
   ],
   "source": [
    "R = sympy.Matrix([[0.7071, 0, 0.7071], [0, 1, 0], [-0.7071, 0, 0.7071]])\n",
    "A = sympy.Matrix([[1, 0, 0], [0, 2, 0], [0, 0, 3]])\n",
    "\n",
    "f = R*A*R**(-1)\n",
    "\n",
    "print(f)"
   ]
  },
  {
   "cell_type": "code",
   "execution_count": 196,
   "metadata": {},
   "outputs": [
    {
     "name": "stdout",
     "output_type": "stream",
     "text": [
      "Matrix([[X, 0, 0], [0, Y, -W], [0, -W, Z]])\n"
     ]
    }
   ],
   "source": [
    "X = Symbol('X')\n",
    "Y = Symbol('Y')\n",
    "Z = Symbol('Z')\n",
    "W = Symbol('W')\n",
    "R = sympy.Matrix([[1, 0, 0], [0, -1, 0], [0, 0, 1]])\n",
    "A = sympy.Matrix([[X, 0, 0], [0, Y, W], [0, W, Z]])\n",
    "\n",
    "f = R*A*R**(-1)\n",
    "\n",
    "print(f)"
   ]
  },
  {
   "cell_type": "code",
   "execution_count": 197,
   "metadata": {},
   "outputs": [
    {
     "name": "stdout",
     "output_type": "stream",
     "text": [
      "Matrix([[X, 0, 0], [0, Y, -W], [0, -W, Z]])\n"
     ]
    }
   ],
   "source": [
    "X = Symbol('X')\n",
    "Y = Symbol('Y')\n",
    "Z = Symbol('Z')\n",
    "W = Symbol('W')\n",
    "R = sympy.Matrix([[1, 0, 0], [0, -1, 0], [0, 0, 1]])\n",
    "A = sympy.Matrix([[X, 0, 0], [0, Y, W], [0, W, Z]])\n",
    "\n",
    "f = R*A*R**(-1)\n",
    "\n",
    "print(f)"
   ]
  },
  {
   "cell_type": "code",
   "execution_count": 198,
   "metadata": {},
   "outputs": [
    {
     "name": "stdout",
     "output_type": "stream",
     "text": [
      "Matrix([[X, 0, 0], [0, Y, 0], [0, 0, Z]])\n"
     ]
    }
   ],
   "source": [
    "X = Symbol('X')\n",
    "Y = Symbol('Y')\n",
    "Z = Symbol('Z')\n",
    "W = Symbol('W')\n",
    "R = sympy.Matrix([[1, 0, 0], [0, -1, 0], [0, 0, 1]])\n",
    "A = sympy.Matrix([[X, 0, 0], [0, Y, 0], [0, 0, Z]])\n",
    "\n",
    "f = R*A*R**(-1)\n",
    "\n",
    "print(f)"
   ]
  },
  {
   "cell_type": "code",
   "execution_count": 199,
   "metadata": {},
   "outputs": [
    {
     "name": "stdout",
     "output_type": "stream",
     "text": [
      "Matrix([[X, 0, 0], [0, Y, 0], [0, 0, Z]])\n"
     ]
    }
   ],
   "source": [
    "X = Symbol('X')\n",
    "Y = Symbol('Y')\n",
    "Z = Symbol('Z')\n",
    "W = Symbol('W')\n",
    "R = sympy.Matrix([[-1, 0, 0], [0, 1, 0], [0, 0, 1]])\n",
    "A = sympy.Matrix([[X, 0, 0], [0, Y, 0], [0, 0, Z]])\n",
    "\n",
    "f = R*A*R**(-1)\n",
    "\n",
    "print(f)"
   ]
  },
  {
   "cell_type": "code",
   "execution_count": 200,
   "metadata": {},
   "outputs": [
    {
     "name": "stdout",
     "output_type": "stream",
     "text": [
      "Matrix([[X, U, V], [U, Y, W], [V, W, Z]])\n"
     ]
    }
   ],
   "source": [
    "#O原子1個目\n",
    "\n",
    "X = Symbol('X')\n",
    "Y = Symbol('Y')\n",
    "Z = Symbol('Z')\n",
    "U = Symbol('U') #XY\n",
    "V = Symbol('V') #ZX\n",
    "W = Symbol('W') #YZ\n",
    "R = sympy.Matrix([[1, 0, 0], [0, 1, 0], [0, 0, 1]])\n",
    "A = sympy.Matrix([[X, U, V], [U, Y, W], [V, W, Z]])\n",
    "\n",
    "f = R*A*R**(-1)\n",
    "\n",
    "print(f)"
   ]
  },
  {
   "cell_type": "code",
   "execution_count": 201,
   "metadata": {},
   "outputs": [
    {
     "name": "stdout",
     "output_type": "stream",
     "text": [
      "Matrix([[U + Y, -U, -W], [-X + Y, -U + X, V - W], [-V - W, V, Z]])\n"
     ]
    }
   ],
   "source": [
    "#O原子2個目\n",
    "\n",
    "X = Symbol('X')\n",
    "Y = Symbol('Y')\n",
    "Z = Symbol('Z')\n",
    "U = Symbol('U') #XY\n",
    "V = Symbol('V') #ZX\n",
    "W = Symbol('W') #YZ\n",
    "R = sympy.Matrix([[0, -1, 0], [1, -1, 0], [0, 0, 1]])\n",
    "A = sympy.Matrix([[X, U, V], [U, Y, W], [V, W, Z]])\n",
    "\n",
    "f = R*A*R**(-1)\n",
    "\n",
    "print(f)"
   ]
  },
  {
   "cell_type": "code",
   "execution_count": 202,
   "metadata": {},
   "outputs": [
    {
     "name": "stdout",
     "output_type": "stream",
     "text": [
      "Matrix([[-U + Y, X - Y, -V + W], [-U, U + X, -V], [W, -V - W, Z]])\n"
     ]
    }
   ],
   "source": [
    "#O原子3個目\n",
    "\n",
    "X = Symbol('X')\n",
    "Y = Symbol('Y')\n",
    "Z = Symbol('Z')\n",
    "U = Symbol('U') #XY\n",
    "V = Symbol('V') #ZX\n",
    "W = Symbol('W') #YZ\n",
    "R = sympy.Matrix([[-1, 1, 0], [-1, 0, 0], [0, 0, 1]])\n",
    "A = sympy.Matrix([[X, U, V], [U, Y, W], [V, W, Z]])\n",
    "\n",
    "f = R*A*R**(-1)\n",
    "\n",
    "print(f)"
   ]
  },
  {
   "cell_type": "code",
   "execution_count": 203,
   "metadata": {},
   "outputs": [
    {
     "name": "stdout",
     "output_type": "stream",
     "text": [
      "Matrix([[Y, U, -W], [U, X, -V], [-W, -V, Z]])\n"
     ]
    }
   ],
   "source": [
    "#O原子4個目\n",
    "\n",
    "X = Symbol('X')\n",
    "Y = Symbol('Y')\n",
    "Z = Symbol('Z')\n",
    "U = Symbol('U') #XY\n",
    "V = Symbol('V') #ZX\n",
    "W = Symbol('W') #YZ\n",
    "R = sympy.Matrix([[0, 1, 0], [1, 0, 0], [0, 0, -1]])\n",
    "A = sympy.Matrix([[X, U, V], [U, Y, W], [V, W, Z]])\n",
    "\n",
    "f = R*A*R**(-1)\n",
    "\n",
    "print(f)"
   ]
  },
  {
   "cell_type": "code",
   "execution_count": 204,
   "metadata": {},
   "outputs": [
    {
     "name": "stdout",
     "output_type": "stream",
     "text": [
      "Matrix([[-U + X, -X + Y, -V + W], [-U, U + Y, W], [-V, V + W, Z]])\n"
     ]
    }
   ],
   "source": [
    "#O原子5個目\n",
    "\n",
    "X = Symbol('X')\n",
    "Y = Symbol('Y')\n",
    "Z = Symbol('Z')\n",
    "U = Symbol('U') #XY\n",
    "V = Symbol('V') #ZX\n",
    "W = Symbol('W') #YZ\n",
    "R = sympy.Matrix([[1, -1, 0], [0, -1, 0], [0, 0, -1]])\n",
    "A = sympy.Matrix([[X, U, V], [U, Y, W], [V, W, Z]])\n",
    "\n",
    "f = R*A*R**(-1)\n",
    "\n",
    "print(f)"
   ]
  },
  {
   "cell_type": "code",
   "execution_count": 205,
   "metadata": {},
   "outputs": [
    {
     "name": "stdout",
     "output_type": "stream",
     "text": [
      "Matrix([[U + X, -U, V], [X - Y, -U + Y, V - W], [V + W, -W, Z]])\n"
     ]
    }
   ],
   "source": [
    "#O原子6個目\n",
    "\n",
    "X = Symbol('X')\n",
    "Y = Symbol('Y')\n",
    "Z = Symbol('Z')\n",
    "U = Symbol('U') #XY\n",
    "V = Symbol('V') #ZX\n",
    "W = Symbol('W') #YZ\n",
    "R = sympy.Matrix([[-1, 0, 0], [-1, 1, 0], [0, 0, -1]])\n",
    "A = sympy.Matrix([[X, U, V], [U, Y, W], [V, W, Z]])\n",
    "\n",
    "f = R*A*R**(-1)\n",
    "\n",
    "print(f)"
   ]
  },
  {
   "cell_type": "code",
   "execution_count": 206,
   "metadata": {},
   "outputs": [
    {
     "name": "stdout",
     "output_type": "stream",
     "text": [
      "Matrix([[X, U, -V], [U, Y, -W], [-V, -W, Z]])\n"
     ]
    }
   ],
   "source": [
    "#O'原子1個目\n",
    "\n",
    "X = Symbol('X')\n",
    "Y = Symbol('Y')\n",
    "Z = Symbol('Z')\n",
    "U = Symbol('U') #XY\n",
    "V = Symbol('V') #ZX\n",
    "W = Symbol('W') #YZ\n",
    "R = sympy.Matrix([[1, 0, 0], [0, 1, 0], [0, 0, -1]])\n",
    "A = sympy.Matrix([[X, U, V], [U, Y, W], [V, W, Z]])\n",
    "\n",
    "f = R*A*R**(-1)\n",
    "\n",
    "print(f)"
   ]
  },
  {
   "cell_type": "code",
   "execution_count": 207,
   "metadata": {},
   "outputs": [
    {
     "name": "stdout",
     "output_type": "stream",
     "text": [
      "Matrix([[U + Y, -U, W], [-X + Y, -U + X, -V + W], [V + W, -V, Z]])\n"
     ]
    }
   ],
   "source": [
    "#O'原子2個目\n",
    "\n",
    "X = Symbol('X')\n",
    "Y = Symbol('Y')\n",
    "Z = Symbol('Z')\n",
    "U = Symbol('U') #XY\n",
    "V = Symbol('V') #ZX\n",
    "W = Symbol('W') #YZ\n",
    "R = sympy.Matrix([[0, -1, 0], [1, -1, 0], [0, 0, 1]])\n",
    "A = sympy.Matrix([[X, U, -V], [U, Y, -W], [-V, -W, Z]])\n",
    "\n",
    "f = R*A*R**(-1)\n",
    "\n",
    "print(f)"
   ]
  },
  {
   "cell_type": "code",
   "execution_count": 208,
   "metadata": {},
   "outputs": [
    {
     "name": "stdout",
     "output_type": "stream",
     "text": [
      "Matrix([[-U + Y, X - Y, V - W], [-U, U + X, V], [-W, V + W, Z]])\n"
     ]
    }
   ],
   "source": [
    "#O'原子3個目\n",
    "\n",
    "X = Symbol('X')\n",
    "Y = Symbol('Y')\n",
    "Z = Symbol('Z')\n",
    "U = Symbol('U') #XY\n",
    "V = Symbol('V') #ZX\n",
    "W = Symbol('W') #YZ\n",
    "R = sympy.Matrix([[-1, 1, 0], [-1, 0, 0], [0, 0, 1]])\n",
    "A = sympy.Matrix([[X, U, -V], [U, Y, -W], [-V, -W, Z]])\n",
    "\n",
    "f = R*A*R**(-1)\n",
    "\n",
    "print(f)"
   ]
  },
  {
   "cell_type": "code",
   "execution_count": 209,
   "metadata": {},
   "outputs": [
    {
     "name": "stdout",
     "output_type": "stream",
     "text": [
      "Matrix([[Y, U, W], [U, X, V], [W, V, Z]])\n"
     ]
    }
   ],
   "source": [
    "#O'原子4個目\n",
    "\n",
    "X = Symbol('X')\n",
    "Y = Symbol('Y')\n",
    "Z = Symbol('Z')\n",
    "U = Symbol('U') #XY\n",
    "V = Symbol('V') #ZX\n",
    "W = Symbol('W') #YZ\n",
    "R = sympy.Matrix([[0, 1, 0], [1, 0, 0], [0, 0, -1]])\n",
    "A = sympy.Matrix([[X, U, -V], [U, Y, -W], [-V, -W, Z]])\n",
    "\n",
    "f = R*A*R**(-1)\n",
    "\n",
    "print(f)"
   ]
  },
  {
   "cell_type": "code",
   "execution_count": 210,
   "metadata": {},
   "outputs": [
    {
     "name": "stdout",
     "output_type": "stream",
     "text": [
      "Matrix([[-U + X, -X + Y, V - W], [-U, U + Y, -W], [V, -V - W, Z]])\n"
     ]
    }
   ],
   "source": [
    "#O'原子5個目\n",
    "\n",
    "X = Symbol('X')\n",
    "Y = Symbol('Y')\n",
    "Z = Symbol('Z')\n",
    "U = Symbol('U') #XY\n",
    "V = Symbol('V') #ZX\n",
    "W = Symbol('W') #YZ\n",
    "R = sympy.Matrix([[1, -1, 0], [0, -1, 0], [0, 0, -1]])\n",
    "A = sympy.Matrix([[X, U, -V], [U, Y, -W], [-V, -W, Z]])\n",
    "\n",
    "f = R*A*R**(-1)\n",
    "\n",
    "print(f)"
   ]
  },
  {
   "cell_type": "code",
   "execution_count": 211,
   "metadata": {},
   "outputs": [
    {
     "name": "stdout",
     "output_type": "stream",
     "text": [
      "Matrix([[U + X, -U, -V], [X - Y, -U + Y, -V + W], [-V - W, W, Z]])\n"
     ]
    }
   ],
   "source": [
    "#O'原子6個目\n",
    "\n",
    "X = Symbol('X')\n",
    "Y = Symbol('Y')\n",
    "Z = Symbol('Z')\n",
    "U = Symbol('U') #XY\n",
    "V = Symbol('V') #ZX\n",
    "W = Symbol('W') #YZ\n",
    "R = sympy.Matrix([[-1, 0, 0], [-1, 1, 0], [0, 0, -1]])\n",
    "A = sympy.Matrix([[X, U, -V], [U, Y, -W], [-V, -W, Z]])\n",
    "\n",
    "f = R*A*R**(-1)\n",
    "\n",
    "print(f)"
   ]
  },
  {
   "cell_type": "code",
   "execution_count": 212,
   "metadata": {},
   "outputs": [
    {
     "name": "stdout",
     "output_type": "stream",
     "text": [
      "Matrix([[X, 0, 0], [0, X, 0], [0, 0, Z]])\n"
     ]
    }
   ],
   "source": [
    "#H原子1個目\n",
    "\n",
    "X = Symbol('X')\n",
    "Z = Symbol('Z')\n",
    "R = sympy.Matrix([[1, 0, 0], [0, 1, 0], [0, 0, 1]])\n",
    "A = sympy.Matrix([[X, 0, 0], [0, X, 0], [0, 0, Z]])\n",
    "\n",
    "f = R*A*R**(-1)\n",
    "\n",
    "print(f)"
   ]
  },
  {
   "cell_type": "code",
   "execution_count": 213,
   "metadata": {},
   "outputs": [
    {
     "name": "stdout",
     "output_type": "stream",
     "text": [
      "Matrix([[X, 0, 0], [0, C**2*X/(C**2 + S**2) + S**2*Z/(C**2 + S**2), C*S*X/(C**2 + S**2) - C*S*Z/(C**2 + S**2)], [0, C*S*X/(C**2 + S**2) - C*S*Z/(C**2 + S**2), C**2*Z/(C**2 + S**2) + S**2*X/(C**2 + S**2)]])\n"
     ]
    }
   ],
   "source": [
    "#H原子2個目\n",
    "\n",
    "X = Symbol('X')\n",
    "Z = Symbol('Z')\n",
    "C = Symbol('C')\n",
    "S = Symbol('S')\n",
    "R = sympy.Matrix([[1, 0, 0], [0, C, -S], [0, S, C]])\n",
    "A = sympy.Matrix([[X, 0, 0], [0, X, 0], [0, 0, Z]])\n",
    "\n",
    "f = R*A*R**(-1)\n",
    "\n",
    "print(f)"
   ]
  },
  {
   "cell_type": "code",
   "execution_count": 214,
   "metadata": {},
   "outputs": [
    {
     "name": "stdout",
     "output_type": "stream",
     "text": [
      "Matrix([[C**2*X/(C**2 + S**2) + S**2*(C**2*X + S**2*Z)/(C**2 + S**2), C*S*X/(C**2 + S**2) - C*S*(C**2*X + S**2*Z)/(C**2 + S**2), -S*(C*S*X - C*S*Z)], [C*S*X/(C**2 + S**2) - C*S*(C**2*X + S**2*Z)/(C**2 + S**2), C**2*(C**2*X + S**2*Z)/(C**2 + S**2) + S**2*X/(C**2 + S**2), C*(C*S*X - C*S*Z)], [-S*(C*S*X - C*S*Z)/(C**2 + S**2), C*(C*S*X - C*S*Z)/(C**2 + S**2), C**2*Z + S**2*X]])\n"
     ]
    }
   ],
   "source": [
    "#H原子3個目\n",
    "\n",
    "X = Symbol('X')\n",
    "Z = Symbol('Z')\n",
    "C = Symbol('C')\n",
    "S = Symbol('S')\n",
    "R = sympy.Matrix([[C, -S, 0], [S, C, 0], [0, 0, 1]])\n",
    "A = sympy.Matrix([[X, 0, 0], [0, C**2*X + S**2*Z, C*S*X - C*S*Z], [0, C*S*X - C*S*Z, C**2*Z + S**2*X]])\n",
    "\n",
    "f = R*A*R**(-1)\n",
    "\n",
    "print(f)"
   ]
  },
  {
   "cell_type": "code",
   "execution_count": 215,
   "metadata": {},
   "outputs": [
    {
     "name": "stdout",
     "output_type": "stream",
     "text": [
      "Matrix([[C**2*X/(C**2 + S**2) + S**2*(C**2*X + S**2*Z)/(C**2 + S**2), -C*S*X/(C**2 + S**2) + C*S*(C**2*X + S**2*Z)/(C**2 + S**2), S*(C*S*X - C*S*Z)], [-C*S*X/(C**2 + S**2) + C*S*(C**2*X + S**2*Z)/(C**2 + S**2), C**2*(C**2*X + S**2*Z)/(C**2 + S**2) + S**2*X/(C**2 + S**2), C*(C*S*X - C*S*Z)], [S*(C*S*X - C*S*Z)/(C**2 + S**2), C*(C*S*X - C*S*Z)/(C**2 + S**2), C**2*Z + S**2*X]])\n"
     ]
    }
   ],
   "source": [
    "#H原子4個目\n",
    "\n",
    "X = Symbol('X')\n",
    "Z = Symbol('Z')\n",
    "C = Symbol('C')\n",
    "S = Symbol('S')\n",
    "R = sympy.Matrix([[C, S, 0], [-S, C, 0], [0, 0, 1]])\n",
    "A = sympy.Matrix([[X, 0, 0], [0, C**2*X + S**2*Z, C*S*X - C*S*Z], [0, C*S*X - C*S*Z, C**2*Z + S**2*X]])\n",
    "\n",
    "f = R*A*R**(-1)\n",
    "\n",
    "print(f)"
   ]
  }
 ],
 "metadata": {
  "kernelspec": {
   "display_name": "Python 3",
   "language": "python",
   "name": "python3"
  },
  "language_info": {
   "codemirror_mode": {
    "name": "ipython",
    "version": 3
   },
   "file_extension": ".py",
   "mimetype": "text/x-python",
   "name": "python",
   "nbconvert_exporter": "python",
   "pygments_lexer": "ipython3",
   "version": "3.11.1"
  },
  "orig_nbformat": 4
 },
 "nbformat": 4,
 "nbformat_minor": 2
}
