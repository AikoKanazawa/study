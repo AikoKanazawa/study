{
 "cells": [
  {
   "cell_type": "code",
   "execution_count": 47,
   "metadata": {},
   "outputs": [],
   "source": [
    "import numpy as np"
   ]
  },
  {
   "cell_type": "code",
   "execution_count": 48,
   "metadata": {},
   "outputs": [],
   "source": [
    "import sympy"
   ]
  },
  {
   "cell_type": "code",
   "execution_count": 49,
   "metadata": {},
   "outputs": [],
   "source": [
    "from sympy import *"
   ]
  },
  {
   "cell_type": "code",
   "execution_count": 50,
   "metadata": {},
   "outputs": [
    {
     "name": "stdout",
     "output_type": "stream",
     "text": [
      "Matrix([[X, 0, 0], [0, 0.866025403784439*W + 0.25*Y + 0.75*Z, -0.5*W - 0.433012701892219*Y + 0.433012701892219*Z], [0, -0.5*W - 0.433012701892219*Y + 0.433012701892219*Z, -0.866025403784439*W + 0.75*Y + 0.25*Z]])\n"
     ]
    }
   ],
   "source": [
    "X = Symbol('X')\n",
    "Y = Symbol('Y')\n",
    "Z = Symbol('Z')\n",
    "W = Symbol('W')\n",
    "R = sympy.Matrix([[1, 0, 0], [0, -1/2, -3**(0.5)/2], [0, 3**(0.5)/2, -1/2]])\n",
    "A = sympy.Matrix([[X, 0, 0], [0, Y, W], [0, W, Z]])\n",
    "\n",
    "f = R*A*(R**(-1))\n",
    "\n",
    "print(f)"
   ]
  },
  {
   "cell_type": "code",
   "execution_count": 51,
   "metadata": {},
   "outputs": [
    {
     "name": "stdout",
     "output_type": "stream",
     "text": [
      "Matrix([[Y, 0, -W], [-X + Y, X, -W], [-W, 0, Z]])\n"
     ]
    }
   ],
   "source": [
    "X = Symbol('X')\n",
    "Y = Symbol('Y')\n",
    "Z = Symbol('Z')\n",
    "W = Symbol('W')\n",
    "R = sympy.Matrix([[0, -1, 0], [1, -1, 0], [0, 0, 1]])\n",
    "A = sympy.Matrix([[X, 0, 0], [0, Y, W], [0, W, Z]])\n",
    "\n",
    "f = R*A*(R**(-1))\n",
    "\n",
    "print(f)"
   ]
  },
  {
   "cell_type": "code",
   "execution_count": 52,
   "metadata": {},
   "outputs": [
    {
     "name": "stdout",
     "output_type": "stream",
     "text": [
      "Matrix([[X, 0, 0], [0, -0.866025403784439*W + 0.25*Y + 0.75*Z, -0.5*W + 0.433012701892219*Y - 0.433012701892219*Z], [0, -0.5*W + 0.433012701892219*Y - 0.433012701892219*Z, 0.866025403784439*W + 0.75*Y + 0.25*Z]])\n"
     ]
    }
   ],
   "source": [
    "X = Symbol('X')\n",
    "Y = Symbol('Y')\n",
    "Z = Symbol('Z')\n",
    "W = Symbol('W')\n",
    "R = sympy.Matrix([[1, 0, 0], [0, -1/2, 3**(0.5)/2], [0, -3**(0.5)/2, -1/2]])\n",
    "A = sympy.Matrix([[X, 0, 0], [0, Y, W], [0, W, Z]])\n",
    "\n",
    "f = R*A*R**(-1)\n",
    "\n",
    "print(f)"
   ]
  },
  {
   "cell_type": "code",
   "execution_count": 53,
   "metadata": {},
   "outputs": [
    {
     "name": "stdout",
     "output_type": "stream",
     "text": [
      "X*sin(T)**2*cos(P)**2 + (-0.866025403784439*W + 0.75*Y + 0.25*Z)*cos(T)**2 + (-0.5*W - 0.433012701892219*Y + 0.433012701892219*Z)*sin(P)*sin(T)*cos(T) + (0.866025403784439*W + 0.25*Y + 0.75*Z)*sin(P)**2*sin(T)**2\n"
     ]
    }
   ],
   "source": [
    "X = Symbol('X')\n",
    "Y = Symbol('Y')\n",
    "Z = Symbol('Z')\n",
    "W = Symbol('W')\n",
    "P = Symbol('P')\n",
    "T = Symbol('T')\n",
    "x = X\n",
    "y = 0.866025403784439*W + 0.25*Y + 0.75*Z\n",
    "z = -0.866025403784439*W + 0.75*Y + 0.25*Z\n",
    "w = -0.5*W - 0.433012701892219*Y + 0.433012701892219*Z\n",
    "\n",
    "f = x*sin(T)**2*cos(P)**2+y*sin(T)**2*sin(P)**2+z*cos(T)**2+w*sin(T)*sin(P)*cos(T)\n",
    "\n",
    "print(f)"
   ]
  },
  {
   "cell_type": "code",
   "execution_count": 54,
   "metadata": {},
   "outputs": [
    {
     "name": "stdout",
     "output_type": "stream",
     "text": [
      "X*sin(T)**2*cos(P)**2 + (-0.866025403784439*W + 0.25*Y + 0.75*Z)*sin(P)**2*sin(T)**2 + (-0.5*W + 0.433012701892219*Y - 0.433012701892219*Z)*sin(P)*sin(T)*cos(T) + (0.866025403784439*W + 0.75*Y + 0.25*Z)*cos(T)**2\n"
     ]
    }
   ],
   "source": [
    "X = Symbol('X')\n",
    "Y = Symbol('Y')\n",
    "Z = Symbol('Z')\n",
    "W = Symbol('W')\n",
    "P = Symbol('P')\n",
    "T = Symbol('T')\n",
    "x = X\n",
    "y = -0.866025403784439*W + 0.25*Y + 0.75*Z\n",
    "z = 0.866025403784439*W + 0.75*Y + 0.25*Z\n",
    "w = -0.5*W + 0.433012701892219*Y - 0.433012701892219*Z\n",
    "\n",
    "f = x*sin(T)**2*cos(P)**2+y*sin(T)**2*sin(P)**2+z*cos(T)**2+w*sin(T)*sin(P)*cos(T)\n",
    "\n",
    "print(f)"
   ]
  },
  {
   "cell_type": "code",
   "execution_count": 55,
   "metadata": {},
   "outputs": [
    {
     "name": "stdout",
     "output_type": "stream",
     "text": [
      "Matrix([[Y, 0, 0], [0, X, 0], [0, 0, Z]])\n"
     ]
    }
   ],
   "source": [
    "X = Symbol('X')\n",
    "Y = Symbol('Y')\n",
    "Z = Symbol('Z')\n",
    "W = Symbol('W')\n",
    "R = sympy.Matrix([[0, -1, 0], [1, 0, 0], [0, 0, 1]])\n",
    "A = sympy.Matrix([[X, 0, 0], [0, Y, 0], [0, 0, Z]])\n",
    "\n",
    "f = R*A*(R**(-1))\n",
    "\n",
    "print(f)"
   ]
  },
  {
   "cell_type": "code",
   "execution_count": 56,
   "metadata": {},
   "outputs": [
    {
     "name": "stdout",
     "output_type": "stream",
     "text": [
      "Matrix([[X, 0, 0], [0, 0.866025403784439*W + 0.25*Y + 0.75*Z, 0.5*W + 0.433012701892219*Y - 0.433012701892219*Z], [0, 0.5*W + 0.433012701892219*Y - 0.433012701892219*Z, -0.866025403784439*W + 0.75*Y + 0.25*Z]])\n"
     ]
    }
   ],
   "source": [
    "X = Symbol('X')\n",
    "Y = Symbol('Y')\n",
    "Z = Symbol('Z')\n",
    "W = Symbol('W')\n",
    "R = sympy.Matrix([[-1, 0, 0], [0, -1, 0], [0, 0, 1]])\n",
    "A = sympy.Matrix([[X, 0, 0], [0, 0.866025403784439*W + 0.25*Y + 0.75*Z, -0.5*W - 0.433012701892219*Y + 0.433012701892219*Z], [0, -0.5*W - 0.433012701892219*Y + 0.433012701892219*Z, -0.866025403784439*W + 0.75*Y + 0.25*Z]])\n",
    "\n",
    "f = R*A*(R**(-1))\n",
    "\n",
    "print(f)"
   ]
  },
  {
   "cell_type": "code",
   "execution_count": 57,
   "metadata": {},
   "outputs": [
    {
     "name": "stdout",
     "output_type": "stream",
     "text": [
      "Matrix([[X, 0, 0], [0, -0.866025403784439*W + 0.25*Y + 0.75*Z, 0.5*W - 0.433012701892219*Y + 0.433012701892219*Z], [0, 0.5*W - 0.433012701892219*Y + 0.433012701892219*Z, 0.866025403784439*W + 0.75*Y + 0.25*Z]])\n"
     ]
    }
   ],
   "source": [
    "X = Symbol('X')\n",
    "Y = Symbol('Y')\n",
    "Z = Symbol('Z')\n",
    "W = Symbol('W')\n",
    "R = sympy.Matrix([[-1, 0, 0], [0, -1, 0], [0, 0, 1]])\n",
    "A = sympy.Matrix([[X, 0, 0], [0, -0.866025403784439*W + 0.25*Y + 0.75*Z, -0.5*W + 0.433012701892219*Y - 0.433012701892219*Z], [0, -0.5*W + 0.433012701892219*Y - 0.433012701892219*Z, 0.866025403784439*W + 0.75*Y + 0.25*Z]])\n",
    "\n",
    "f = R*A*(R**(-1))\n",
    "\n",
    "print(f)"
   ]
  },
  {
   "cell_type": "code",
   "execution_count": 58,
   "metadata": {},
   "outputs": [
    {
     "name": "stdout",
     "output_type": "stream",
     "text": [
      "Matrix([[X, 0, 0], [0, 0.866025403784439*W + 0.25*Y + 0.75*Z, 0.5*W + 0.433012701892219*Y - 0.433012701892219*Z], [0, 0.5*W + 0.433012701892219*Y - 0.433012701892219*Z, -0.866025403784439*W + 0.75*Y + 0.25*Z]])\n"
     ]
    }
   ],
   "source": [
    "X = Symbol('X')\n",
    "Y = Symbol('Y')\n",
    "Z = Symbol('Z')\n",
    "W = Symbol('W')\n",
    "R = sympy.Matrix([[1, 0, 0], [0, -1/2, 3**(0.5)/2], [0, -3**(0.5)/2, -1/2]])\n",
    "A = sympy.Matrix([[X, 0, 0], [0, Y, -W], [0, -W, Z]])\n",
    "\n",
    "f = R*A*R**(-1)\n",
    "\n",
    "print(f)"
   ]
  },
  {
   "cell_type": "code",
   "execution_count": 59,
   "metadata": {},
   "outputs": [
    {
     "name": "stdout",
     "output_type": "stream",
     "text": [
      "Matrix([[X, 0, 0], [0, -0.866025403784439*W + 0.25*Y + 0.75*Z, 0.5*W - 0.433012701892219*Y + 0.433012701892219*Z], [0, 0.5*W - 0.433012701892219*Y + 0.433012701892219*Z, 0.866025403784439*W + 0.75*Y + 0.25*Z]])\n"
     ]
    }
   ],
   "source": [
    "X = Symbol('X')\n",
    "Y = Symbol('Y')\n",
    "Z = Symbol('Z')\n",
    "W = Symbol('W')\n",
    "R = sympy.Matrix([[1, 0, 0], [0, -1/2, -3**(0.5)/2], [0, 3**(0.5)/2, -1/2]])\n",
    "A = sympy.Matrix([[X, 0, 0], [0, Y, -W], [0, -W, Z]])\n",
    "\n",
    "f = R*A*R**(-1)\n",
    "\n",
    "print(f)"
   ]
  },
  {
   "cell_type": "code",
   "execution_count": 60,
   "metadata": {},
   "outputs": [
    {
     "name": "stdout",
     "output_type": "stream",
     "text": [
      "Matrix([[X, 0, 0], [0, -0.866025403784439*W + 0.25*Y + 0.75*Z, 0.5*W - 0.433012701892219*Y + 0.433012701892219*Z], [0, 0.5*W - 0.433012701892219*Y + 0.433012701892219*Z, 0.866025403784439*W + 0.75*Y + 0.25*Z]])\n"
     ]
    }
   ],
   "source": [
    "X = Symbol('X')\n",
    "Y = Symbol('Y')\n",
    "Z = Symbol('Z')\n",
    "W = Symbol('W')\n",
    "R = sympy.Matrix([[1, 0, 0], [0, -1, 0], [0, 0, -1]])\n",
    "A = sympy.Matrix([[X, 0, 0], [0, -0.866025403784439*W + 0.25*Y + 0.75*Z, 0.5*W - 0.433012701892219*Y + 0.433012701892219*Z], [0, 0.5*W - 0.433012701892219*Y + 0.433012701892219*Z, 0.866025403784439*W + 0.75*Y + 0.25*Z]])\n",
    "\n",
    "f = R*A*R**(-1)\n",
    "\n",
    "print(f)"
   ]
  },
  {
   "cell_type": "code",
   "execution_count": 61,
   "metadata": {},
   "outputs": [
    {
     "name": "stdout",
     "output_type": "stream",
     "text": [
      "22.6569907921\n"
     ]
    }
   ],
   "source": [
    "a = -1.67582-1.36882\n",
    "b = 0.61304-1.14479\n",
    "c = 2.97804-6.59804\n",
    "\n",
    "f = a*a+b*b+c*c\n",
    "\n",
    "print(f)"
   ]
  },
  {
   "cell_type": "code",
   "execution_count": 62,
   "metadata": {},
   "outputs": [
    {
     "name": "stdout",
     "output_type": "stream",
     "text": [
      "12.828764576800001\n"
     ]
    }
   ],
   "source": [
    "a = 0.30700-1.36882\n",
    "b = -1.75783-1.14479\n",
    "c = 4.78804-6.59804\n",
    "\n",
    "f = a*a+b*b+c*c\n",
    "\n",
    "print(f)"
   ]
  },
  {
   "cell_type": "code",
   "execution_count": 63,
   "metadata": {},
   "outputs": [
    {
     "name": "stdout",
     "output_type": "stream",
     "text": [
      "Matrix([[X, 0, 0], [0, Y, -W], [0, -W, Z]])\n"
     ]
    }
   ],
   "source": [
    "X = Symbol('X')\n",
    "Y = Symbol('Y')\n",
    "Z = Symbol('Z')\n",
    "W = Symbol('W')\n",
    "R = sympy.Matrix([[1, 0, 0], [0, -1, 0], [0, 0, 1]])\n",
    "A = sympy.Matrix([[X, 0, 0], [0, Y, W], [0, W, Z]])\n",
    "\n",
    "f = R*A*R**(-1)\n",
    "\n",
    "print(f)"
   ]
  },
  {
   "cell_type": "code",
   "execution_count": 64,
   "metadata": {},
   "outputs": [
    {
     "name": "stdout",
     "output_type": "stream",
     "text": [
      "Matrix([[0.25*X + 0.75*Y, -0.433012701892219*X + 0.433012701892219*Y, -0.866025403784439*W], [-0.433012701892219*X + 0.433012701892219*Y, 0.75*X + 0.25*Y, -0.5*W], [-0.866025403784439*W, -0.5*W, Z]])\n"
     ]
    }
   ],
   "source": [
    "X = Symbol('X')\n",
    "Y = Symbol('Y')\n",
    "Z = Symbol('Z')\n",
    "W = Symbol('W')\n",
    "R = sympy.Matrix([[-0.5, -3**(0.5)/2, 0], [3**(0.5)/2, -0.5, 0], [0, 0, 1]])\n",
    "A = sympy.Matrix([[X, 0, 0], [0, Y, W], [0, W, Z]])\n",
    "\n",
    "f = R*A*(R**(-1))\n",
    "\n",
    "print(f)"
   ]
  },
  {
   "cell_type": "code",
   "execution_count": 65,
   "metadata": {},
   "outputs": [
    {
     "name": "stdout",
     "output_type": "stream",
     "text": [
      "Matrix([[X, 0, 0], [0, Y, W], [0, W, Z]])\n"
     ]
    }
   ],
   "source": [
    "X = Symbol('X')\n",
    "Y = Symbol('Y')\n",
    "Z = Symbol('Z')\n",
    "W = Symbol('W')\n",
    "R = sympy.Matrix([[-1, 0, 0], [0, 1, 0], [0, 0, 1]])\n",
    "A = sympy.Matrix([[X, 0, 0], [0, Y, W], [0, W, Z]])\n",
    "\n",
    "f = R*A*R**(-1)\n",
    "\n",
    "print(f)"
   ]
  },
  {
   "cell_type": "code",
   "execution_count": 66,
   "metadata": {},
   "outputs": [
    {
     "name": "stdout",
     "output_type": "stream",
     "text": [
      "Matrix([[X, 0, 0], [0, -Y, -W], [0, -W, -Z]])\n"
     ]
    }
   ],
   "source": [
    "X = Symbol('X')\n",
    "Y = Symbol('Y')\n",
    "Z = Symbol('Z')\n",
    "W = Symbol('W')\n",
    "R = sympy.Matrix([[1, 0, 0], [0, -1, 0], [0, 0, -1]])\n",
    "A = sympy.Matrix([[X, 0, 0], [0, Y, W], [0, W, Z]])\n",
    "\n",
    "f = R*A\n",
    "\n",
    "print(f)"
   ]
  },
  {
   "cell_type": "code",
   "execution_count": 67,
   "metadata": {},
   "outputs": [
    {
     "name": "stdout",
     "output_type": "stream",
     "text": [
      "Matrix([[0.25*X - 0.75*Y, 0.433012701892219*X + 0.433012701892219*Y, -0.866025403784439*W], [0.433012701892219*X + 0.433012701892219*Y, 0.75*X - 0.25*Y, 0.5*W], [-0.866025403784439*W, 0.5*W, -Z]])\n"
     ]
    }
   ],
   "source": [
    "X = Symbol('X')\n",
    "Y = Symbol('Y')\n",
    "Z = Symbol('Z')\n",
    "W = Symbol('W')\n",
    "R = sympy.Matrix([[-0.5, 3**(0.5)/2, 0], [-3**(0.5)/2, -0.5, 0], [0, 0, 1]])\n",
    "A = sympy.Matrix([[X, 0, 0], [0, -Y, -W], [0, -W, -Z]])\n",
    "\n",
    "f = R*A*R**(-1)\n",
    "\n",
    "print(f)"
   ]
  },
  {
   "cell_type": "code",
   "execution_count": 68,
   "metadata": {},
   "outputs": [
    {
     "name": "stdout",
     "output_type": "stream",
     "text": [
      "Matrix([[X, 0, 0], [0, -Y, W], [0, W, -Z]])\n"
     ]
    }
   ],
   "source": [
    "X = Symbol('X')\n",
    "Y = Symbol('Y')\n",
    "Z = Symbol('Z')\n",
    "W = Symbol('W')\n",
    "R = sympy.Matrix([[1, 0, 0], [0, -1, 0], [0, 0, 1]])\n",
    "A = sympy.Matrix([[X, 0, 0], [0, -Y, -W], [0, -W, -Z]])\n",
    "\n",
    "f = R*A*R**(-1)\n",
    "\n",
    "print(f)"
   ]
  },
  {
   "cell_type": "code",
   "execution_count": 69,
   "metadata": {},
   "outputs": [
    {
     "name": "stdout",
     "output_type": "stream",
     "text": [
      "Matrix([[0.25*X - 0.75*Y, -0.433012701892219*X - 0.433012701892219*Y, -0.866025403784439*W], [-0.433012701892219*X - 0.433012701892219*Y, 0.75*X - 0.25*Y, -0.5*W], [-0.866025403784439*W, -0.5*W, -Z]])\n"
     ]
    }
   ],
   "source": [
    "X = Symbol('X')\n",
    "Y = Symbol('Y')\n",
    "Z = Symbol('Z')\n",
    "W = Symbol('W')\n",
    "R = sympy.Matrix([[-0.5, -3**(0.5)/2, 0], [3**(0.5)/2, -0.5, 0], [0, 0, 1]])\n",
    "A = sympy.Matrix([[X, 0, 0], [0, -Y, W], [0, W, -Z]])\n",
    "\n",
    "f = R*A*R**(-1)\n",
    "\n",
    "print(f)"
   ]
  },
  {
   "cell_type": "code",
   "execution_count": 70,
   "metadata": {},
   "outputs": [
    {
     "name": "stdout",
     "output_type": "stream",
     "text": [
      "Matrix([[2.00000000000000, 0, 1.00000000000000], [0, 2, 0], [1.00000000000000, 0, 2.00000000000000]])\n"
     ]
    }
   ],
   "source": [
    "R = sympy.Matrix([[0.7071, 0, 0.7071], [0, 1, 0], [-0.7071, 0, 0.7071]])\n",
    "A = sympy.Matrix([[1, 0, 0], [0, 2, 0], [0, 0, 3]])\n",
    "\n",
    "f = R*A*R**(-1)\n",
    "\n",
    "print(f)"
   ]
  },
  {
   "cell_type": "code",
   "execution_count": 71,
   "metadata": {},
   "outputs": [
    {
     "name": "stdout",
     "output_type": "stream",
     "text": [
      "Matrix([[X, 0, 0], [0, Y, -W], [0, -W, Z]])\n"
     ]
    }
   ],
   "source": [
    "X = Symbol('X')\n",
    "Y = Symbol('Y')\n",
    "Z = Symbol('Z')\n",
    "W = Symbol('W')\n",
    "R = sympy.Matrix([[1, 0, 0], [0, -1, 0], [0, 0, 1]])\n",
    "A = sympy.Matrix([[X, 0, 0], [0, Y, W], [0, W, Z]])\n",
    "\n",
    "f = R*A*R**(-1)\n",
    "\n",
    "print(f)"
   ]
  },
  {
   "cell_type": "code",
   "execution_count": 72,
   "metadata": {},
   "outputs": [
    {
     "name": "stdout",
     "output_type": "stream",
     "text": [
      "Matrix([[X, 0, 0], [0, Y, -W], [0, -W, Z]])\n"
     ]
    }
   ],
   "source": [
    "X = Symbol('X')\n",
    "Y = Symbol('Y')\n",
    "Z = Symbol('Z')\n",
    "W = Symbol('W')\n",
    "R = sympy.Matrix([[1, 0, 0], [0, -1, 0], [0, 0, 1]])\n",
    "A = sympy.Matrix([[X, 0, 0], [0, Y, W], [0, W, Z]])\n",
    "\n",
    "f = R*A*R**(-1)\n",
    "\n",
    "print(f)"
   ]
  },
  {
   "cell_type": "code",
   "execution_count": 73,
   "metadata": {},
   "outputs": [
    {
     "name": "stdout",
     "output_type": "stream",
     "text": [
      "Matrix([[X, 0, 0], [0, Y, 0], [0, 0, Z]])\n"
     ]
    }
   ],
   "source": [
    "X = Symbol('X')\n",
    "Y = Symbol('Y')\n",
    "Z = Symbol('Z')\n",
    "W = Symbol('W')\n",
    "R = sympy.Matrix([[1, 0, 0], [0, -1, 0], [0, 0, 1]])\n",
    "A = sympy.Matrix([[X, 0, 0], [0, Y, 0], [0, 0, Z]])\n",
    "\n",
    "f = R*A*R**(-1)\n",
    "\n",
    "print(f)"
   ]
  },
  {
   "cell_type": "code",
   "execution_count": 74,
   "metadata": {},
   "outputs": [
    {
     "name": "stdout",
     "output_type": "stream",
     "text": [
      "Matrix([[X, 0, 0], [0, Y, 0], [0, 0, Z]])\n"
     ]
    }
   ],
   "source": [
    "X = Symbol('X')\n",
    "Y = Symbol('Y')\n",
    "Z = Symbol('Z')\n",
    "W = Symbol('W')\n",
    "R = sympy.Matrix([[-1, 0, 0], [0, 1, 0], [0, 0, 1]])\n",
    "A = sympy.Matrix([[X, 0, 0], [0, Y, 0], [0, 0, Z]])\n",
    "\n",
    "f = R*A*R**(-1)\n",
    "\n",
    "print(f)"
   ]
  },
  {
   "cell_type": "code",
   "execution_count": 75,
   "metadata": {},
   "outputs": [
    {
     "name": "stdout",
     "output_type": "stream",
     "text": [
      "Matrix([[X, U, V], [U, Y, W], [V, W, Z]])\n"
     ]
    }
   ],
   "source": [
    "#O原子1個目\n",
    "\n",
    "X = Symbol('X')\n",
    "Y = Symbol('Y')\n",
    "Z = Symbol('Z')\n",
    "U = Symbol('U') #XY\n",
    "V = Symbol('V') #ZX\n",
    "W = Symbol('W') #YZ\n",
    "R = sympy.Matrix([[1, 0, 0], [0, 1, 0], [0, 0, 1]])\n",
    "A = sympy.Matrix([[X, U, V], [U, Y, W], [V, W, Z]])\n",
    "\n",
    "f = R*A*R**(-1)\n",
    "\n",
    "print(f)"
   ]
  },
  {
   "cell_type": "code",
   "execution_count": 76,
   "metadata": {},
   "outputs": [
    {
     "name": "stdout",
     "output_type": "stream",
     "text": [
      "Matrix([[U + Y, -U, -W], [-X + Y, -U + X, V - W], [-V - W, V, Z]])\n"
     ]
    }
   ],
   "source": [
    "#O原子2個目\n",
    "\n",
    "X = Symbol('X')\n",
    "Y = Symbol('Y')\n",
    "Z = Symbol('Z')\n",
    "U = Symbol('U') #XY\n",
    "V = Symbol('V') #ZX\n",
    "W = Symbol('W') #YZ\n",
    "R = sympy.Matrix([[0, -1, 0], [1, -1, 0], [0, 0, 1]])\n",
    "A = sympy.Matrix([[X, U, V], [U, Y, W], [V, W, Z]])\n",
    "\n",
    "f = R*A*R**(-1)\n",
    "\n",
    "print(f)"
   ]
  },
  {
   "cell_type": "code",
   "execution_count": 77,
   "metadata": {},
   "outputs": [
    {
     "name": "stdout",
     "output_type": "stream",
     "text": [
      "Matrix([[-U + Y, X - Y, -V + W], [-U, U + X, -V], [W, -V - W, Z]])\n"
     ]
    }
   ],
   "source": [
    "#O原子3個目\n",
    "\n",
    "X = Symbol('X')\n",
    "Y = Symbol('Y')\n",
    "Z = Symbol('Z')\n",
    "U = Symbol('U') #XY\n",
    "V = Symbol('V') #ZX\n",
    "W = Symbol('W') #YZ\n",
    "R = sympy.Matrix([[-1, 1, 0], [-1, 0, 0], [0, 0, 1]])\n",
    "A = sympy.Matrix([[X, U, V], [U, Y, W], [V, W, Z]])\n",
    "\n",
    "f = R*A*R**(-1)\n",
    "\n",
    "print(f)"
   ]
  },
  {
   "cell_type": "code",
   "execution_count": 78,
   "metadata": {},
   "outputs": [
    {
     "name": "stdout",
     "output_type": "stream",
     "text": [
      "Matrix([[Y, U, -W], [U, X, -V], [-W, -V, Z]])\n"
     ]
    }
   ],
   "source": [
    "#O原子4個目\n",
    "\n",
    "X = Symbol('X')\n",
    "Y = Symbol('Y')\n",
    "Z = Symbol('Z')\n",
    "U = Symbol('U') #XY\n",
    "V = Symbol('V') #ZX\n",
    "W = Symbol('W') #YZ\n",
    "R = sympy.Matrix([[0, 1, 0], [1, 0, 0], [0, 0, -1]])\n",
    "A = sympy.Matrix([[X, U, V], [U, Y, W], [V, W, Z]])\n",
    "\n",
    "f = R*A*R**(-1)\n",
    "\n",
    "print(f)"
   ]
  },
  {
   "cell_type": "code",
   "execution_count": 79,
   "metadata": {},
   "outputs": [
    {
     "name": "stdout",
     "output_type": "stream",
     "text": [
      "Matrix([[-U + X, -X + Y, -V + W], [-U, U + Y, W], [-V, V + W, Z]])\n"
     ]
    }
   ],
   "source": [
    "#O原子5個目\n",
    "\n",
    "X = Symbol('X')\n",
    "Y = Symbol('Y')\n",
    "Z = Symbol('Z')\n",
    "U = Symbol('U') #XY\n",
    "V = Symbol('V') #ZX\n",
    "W = Symbol('W') #YZ\n",
    "R = sympy.Matrix([[1, -1, 0], [0, -1, 0], [0, 0, -1]])\n",
    "A = sympy.Matrix([[X, U, V], [U, Y, W], [V, W, Z]])\n",
    "\n",
    "f = R*A*R**(-1)\n",
    "\n",
    "print(f)"
   ]
  },
  {
   "cell_type": "code",
   "execution_count": 80,
   "metadata": {},
   "outputs": [
    {
     "name": "stdout",
     "output_type": "stream",
     "text": [
      "Matrix([[U + X, -U, V], [X - Y, -U + Y, V - W], [V + W, -W, Z]])\n"
     ]
    }
   ],
   "source": [
    "#O原子6個目\n",
    "\n",
    "X = Symbol('X')\n",
    "Y = Symbol('Y')\n",
    "Z = Symbol('Z')\n",
    "U = Symbol('U') #XY\n",
    "V = Symbol('V') #ZX\n",
    "W = Symbol('W') #YZ\n",
    "R = sympy.Matrix([[-1, 0, 0], [-1, 1, 0], [0, 0, -1]])\n",
    "A = sympy.Matrix([[X, U, V], [U, Y, W], [V, W, Z]])\n",
    "\n",
    "f = R*A*R**(-1)\n",
    "\n",
    "print(f)"
   ]
  },
  {
   "cell_type": "code",
   "execution_count": 81,
   "metadata": {},
   "outputs": [
    {
     "name": "stdout",
     "output_type": "stream",
     "text": [
      "Matrix([[X, U, -V], [U, Y, -W], [-V, -W, Z]])\n"
     ]
    }
   ],
   "source": [
    "#O'原子1個目\n",
    "\n",
    "X = Symbol('X')\n",
    "Y = Symbol('Y')\n",
    "Z = Symbol('Z')\n",
    "U = Symbol('U') #XY\n",
    "V = Symbol('V') #ZX\n",
    "W = Symbol('W') #YZ\n",
    "R = sympy.Matrix([[1, 0, 0], [0, 1, 0], [0, 0, -1]])\n",
    "A = sympy.Matrix([[X, U, V], [U, Y, W], [V, W, Z]])\n",
    "\n",
    "f = R*A*R**(-1)\n",
    "\n",
    "print(f)"
   ]
  },
  {
   "cell_type": "code",
   "execution_count": 82,
   "metadata": {},
   "outputs": [
    {
     "name": "stdout",
     "output_type": "stream",
     "text": [
      "Matrix([[U + Y, -U, W], [-X + Y, -U + X, -V + W], [V + W, -V, Z]])\n"
     ]
    }
   ],
   "source": [
    "#O'原子2個目\n",
    "\n",
    "X = Symbol('X')\n",
    "Y = Symbol('Y')\n",
    "Z = Symbol('Z')\n",
    "U = Symbol('U') #XY\n",
    "V = Symbol('V') #ZX\n",
    "W = Symbol('W') #YZ\n",
    "R = sympy.Matrix([[0, -1, 0], [1, -1, 0], [0, 0, 1]])\n",
    "A = sympy.Matrix([[X, U, -V], [U, Y, -W], [-V, -W, Z]])\n",
    "\n",
    "f = R*A*R**(-1)\n",
    "\n",
    "print(f)"
   ]
  },
  {
   "cell_type": "code",
   "execution_count": 83,
   "metadata": {},
   "outputs": [
    {
     "name": "stdout",
     "output_type": "stream",
     "text": [
      "Matrix([[-U + Y, X - Y, V - W], [-U, U + X, V], [-W, V + W, Z]])\n"
     ]
    }
   ],
   "source": [
    "#O'原子3個目\n",
    "\n",
    "X = Symbol('X')\n",
    "Y = Symbol('Y')\n",
    "Z = Symbol('Z')\n",
    "U = Symbol('U') #XY\n",
    "V = Symbol('V') #ZX\n",
    "W = Symbol('W') #YZ\n",
    "R = sympy.Matrix([[-1, 1, 0], [-1, 0, 0], [0, 0, 1]])\n",
    "A = sympy.Matrix([[X, U, -V], [U, Y, -W], [-V, -W, Z]])\n",
    "\n",
    "f = R*A*R**(-1)\n",
    "\n",
    "print(f)"
   ]
  },
  {
   "cell_type": "code",
   "execution_count": 84,
   "metadata": {},
   "outputs": [
    {
     "name": "stdout",
     "output_type": "stream",
     "text": [
      "Matrix([[Y, U, W], [U, X, V], [W, V, Z]])\n"
     ]
    }
   ],
   "source": [
    "#O'原子4個目\n",
    "\n",
    "X = Symbol('X')\n",
    "Y = Symbol('Y')\n",
    "Z = Symbol('Z')\n",
    "U = Symbol('U') #XY\n",
    "V = Symbol('V') #ZX\n",
    "W = Symbol('W') #YZ\n",
    "R = sympy.Matrix([[0, 1, 0], [1, 0, 0], [0, 0, -1]])\n",
    "A = sympy.Matrix([[X, U, -V], [U, Y, -W], [-V, -W, Z]])\n",
    "\n",
    "f = R*A*R**(-1)\n",
    "\n",
    "print(f)"
   ]
  },
  {
   "cell_type": "code",
   "execution_count": 85,
   "metadata": {},
   "outputs": [
    {
     "name": "stdout",
     "output_type": "stream",
     "text": [
      "Matrix([[-U + X, -X + Y, V - W], [-U, U + Y, -W], [V, -V - W, Z]])\n"
     ]
    }
   ],
   "source": [
    "#O'原子5個目\n",
    "\n",
    "X = Symbol('X')\n",
    "Y = Symbol('Y')\n",
    "Z = Symbol('Z')\n",
    "U = Symbol('U') #XY\n",
    "V = Symbol('V') #ZX\n",
    "W = Symbol('W') #YZ\n",
    "R = sympy.Matrix([[1, -1, 0], [0, -1, 0], [0, 0, -1]])\n",
    "A = sympy.Matrix([[X, U, -V], [U, Y, -W], [-V, -W, Z]])\n",
    "\n",
    "f = R*A*R**(-1)\n",
    "\n",
    "print(f)"
   ]
  },
  {
   "cell_type": "code",
   "execution_count": 86,
   "metadata": {},
   "outputs": [
    {
     "name": "stdout",
     "output_type": "stream",
     "text": [
      "Matrix([[U + X, -U, -V], [X - Y, -U + Y, -V + W], [-V - W, W, Z]])\n"
     ]
    }
   ],
   "source": [
    "#O'原子6個目\n",
    "\n",
    "X = Symbol('X')\n",
    "Y = Symbol('Y')\n",
    "Z = Symbol('Z')\n",
    "U = Symbol('U') #XY\n",
    "V = Symbol('V') #ZX\n",
    "W = Symbol('W') #YZ\n",
    "R = sympy.Matrix([[-1, 0, 0], [-1, 1, 0], [0, 0, -1]])\n",
    "A = sympy.Matrix([[X, U, -V], [U, Y, -W], [-V, -W, Z]])\n",
    "\n",
    "f = R*A*R**(-1)\n",
    "\n",
    "print(f)"
   ]
  },
  {
   "cell_type": "code",
   "execution_count": 87,
   "metadata": {},
   "outputs": [
    {
     "name": "stdout",
     "output_type": "stream",
     "text": [
      "Matrix([[X, 0, 0], [0, X, 0], [0, 0, Z]])\n"
     ]
    }
   ],
   "source": [
    "#H原子1個目\n",
    "\n",
    "X = Symbol('X')\n",
    "Z = Symbol('Z')\n",
    "R = sympy.Matrix([[1, 0, 0], [0, 1, 0], [0, 0, 1]])\n",
    "A = sympy.Matrix([[X, 0, 0], [0, X, 0], [0, 0, Z]])\n",
    "\n",
    "f = R*A*R**(-1)\n",
    "\n",
    "print(f)"
   ]
  },
  {
   "cell_type": "code",
   "execution_count": 88,
   "metadata": {},
   "outputs": [
    {
     "name": "stdout",
     "output_type": "stream",
     "text": [
      "Matrix([[X, 0, 0], [0, C**2*X/(C**2 + S**2) + S**2*Z/(C**2 + S**2), C*S*X/(C**2 + S**2) - C*S*Z/(C**2 + S**2)], [0, C*S*X/(C**2 + S**2) - C*S*Z/(C**2 + S**2), C**2*Z/(C**2 + S**2) + S**2*X/(C**2 + S**2)]])\n"
     ]
    }
   ],
   "source": [
    "#H原子2個目\n",
    "\n",
    "X = Symbol('X')\n",
    "Z = Symbol('Z')\n",
    "C = Symbol('C')\n",
    "S = Symbol('S')\n",
    "R = sympy.Matrix([[1, 0, 0], [0, C, -S], [0, S, C]])\n",
    "A = sympy.Matrix([[X, 0, 0], [0, X, 0], [0, 0, Z]])\n",
    "\n",
    "f = R*A*R**(-1)\n",
    "\n",
    "print(f)"
   ]
  },
  {
   "cell_type": "code",
   "execution_count": 89,
   "metadata": {},
   "outputs": [
    {
     "name": "stdout",
     "output_type": "stream",
     "text": [
      "Matrix([[C**2*X/(C**2 + S**2) + S**2*(C**2*X + S**2*Z)/(C**2 + S**2), C*S*X/(C**2 + S**2) - C*S*(C**2*X + S**2*Z)/(C**2 + S**2), -S*(C*S*X - C*S*Z)], [C*S*X/(C**2 + S**2) - C*S*(C**2*X + S**2*Z)/(C**2 + S**2), C**2*(C**2*X + S**2*Z)/(C**2 + S**2) + S**2*X/(C**2 + S**2), C*(C*S*X - C*S*Z)], [-S*(C*S*X - C*S*Z)/(C**2 + S**2), C*(C*S*X - C*S*Z)/(C**2 + S**2), C**2*Z + S**2*X]])\n"
     ]
    }
   ],
   "source": [
    "#H原子3個目\n",
    "\n",
    "X = Symbol('X')\n",
    "Z = Symbol('Z')\n",
    "C = Symbol('C')\n",
    "S = Symbol('S')\n",
    "R = sympy.Matrix([[C, -S, 0], [S, C, 0], [0, 0, 1]])\n",
    "A = sympy.Matrix([[X, 0, 0], [0, C**2*X + S**2*Z, C*S*X - C*S*Z], [0, C*S*X - C*S*Z, C**2*Z + S**2*X]])\n",
    "\n",
    "f = R*A*R**(-1)\n",
    "\n",
    "print(f)"
   ]
  },
  {
   "cell_type": "code",
   "execution_count": 90,
   "metadata": {},
   "outputs": [
    {
     "name": "stdout",
     "output_type": "stream",
     "text": [
      "Matrix([[C**2*X/(C**2 + S**2) + S**2*(C**2*X + S**2*Z)/(C**2 + S**2), -C*S*X/(C**2 + S**2) + C*S*(C**2*X + S**2*Z)/(C**2 + S**2), S*(C*S*X - C*S*Z)], [-C*S*X/(C**2 + S**2) + C*S*(C**2*X + S**2*Z)/(C**2 + S**2), C**2*(C**2*X + S**2*Z)/(C**2 + S**2) + S**2*X/(C**2 + S**2), C*(C*S*X - C*S*Z)], [S*(C*S*X - C*S*Z)/(C**2 + S**2), C*(C*S*X - C*S*Z)/(C**2 + S**2), C**2*Z + S**2*X]])\n"
     ]
    }
   ],
   "source": [
    "#H原子4個目\n",
    "\n",
    "X = Symbol('X')\n",
    "Z = Symbol('Z')\n",
    "C = Symbol('C')\n",
    "S = Symbol('S')\n",
    "R = sympy.Matrix([[C, S, 0], [-S, C, 0], [0, 0, 1]])\n",
    "A = sympy.Matrix([[X, 0, 0], [0, C**2*X + S**2*Z, C*S*X - C*S*Z], [0, C*S*X - C*S*Z, C**2*Z + S**2*X]])\n",
    "\n",
    "f = R*A*R**(-1)\n",
    "\n",
    "print(f)"
   ]
  },
  {
   "cell_type": "code",
   "execution_count": 91,
   "metadata": {},
   "outputs": [
    {
     "name": "stdout",
     "output_type": "stream",
     "text": [
      "5.533119003938428\n"
     ]
    }
   ],
   "source": [
    "# 点A,B,Cの座標（3次元座標上の場合）\n",
    "a = np.array([0,1,2])\n",
    "b = np.array([10,20,30])\n",
    "c = np.array([5,7,9])\n",
    "\n",
    "# ベクトルを定義\n",
    "vec_a = a - b\n",
    "vec_c = c - b\n",
    "\n",
    "# コサインの計算\n",
    "length_vec_a = np.linalg.norm(vec_a)\n",
    "length_vec_c = np.linalg.norm(vec_c)\n",
    "inner_product = np.inner(vec_a, vec_c)\n",
    "cos = inner_product / (length_vec_a * length_vec_c)\n",
    "\n",
    "# 角度（ラジアン）の計算\n",
    "rad = np.arccos(cos)\n",
    "\n",
    "# 弧度法から度数法（rad ➔ 度）への変換\n",
    "degree = np.rad2deg(rad)\n",
    "\n",
    "print(degree)"
   ]
  },
  {
   "cell_type": "code",
   "execution_count": 92,
   "metadata": {},
   "outputs": [
    {
     "name": "stdout",
     "output_type": "stream",
     "text": [
      "101.60761148878092\n"
     ]
    }
   ],
   "source": [
    "# 点A,B,Cの座標（3次元座標上の場合）\n",
    "a = np.array([-1.67582,0.61304,0])\n",
    "b = np.array([-1.15118,1.99390,0])\n",
    "c = np.array([0.30700,1.75783,0])\n",
    "\n",
    "# ベクトルを定義\n",
    "vec_a = a - b\n",
    "vec_c = c - b\n",
    "\n",
    "# コサインの計算\n",
    "length_vec_a = np.linalg.norm(vec_a)\n",
    "length_vec_c = np.linalg.norm(vec_c)\n",
    "inner_product = np.inner(vec_a, vec_c)\n",
    "cos = inner_product / (length_vec_a * length_vec_c)\n",
    "\n",
    "# 角度（ラジアン）の計算\n",
    "rad = np.arccos(cos)\n",
    "\n",
    "# 弧度法から度数法（rad ➔ 度）への変換\n",
    "degree = np.rad2deg(rad)\n",
    "\n",
    "print(degree)"
   ]
  },
  {
   "cell_type": "code",
   "execution_count": 93,
   "metadata": {},
   "outputs": [
    {
     "name": "stdout",
     "output_type": "stream",
     "text": [
      "66.68158246788781\n"
     ]
    }
   ],
   "source": [
    "# 点A,B,Cの座標（3次元座標上の場合）\n",
    "a = np.array([0.30700,1.75783,0])\n",
    "b = np.array([1.30382,2.25829,0])\n",
    "c = np.array([1.36882,1.14479,0])\n",
    "\n",
    "# ベクトルを定義\n",
    "vec_a = a - b\n",
    "vec_c = c - b\n",
    "\n",
    "# コサインの計算\n",
    "length_vec_a = np.linalg.norm(vec_a)\n",
    "length_vec_c = np.linalg.norm(vec_c)\n",
    "inner_product = np.inner(vec_a, vec_c)\n",
    "cos = inner_product / (length_vec_a * length_vec_c)\n",
    "\n",
    "# 角度（ラジアン）の計算\n",
    "rad = np.arccos(cos)\n",
    "\n",
    "# 弧度法から度数法（rad ➔ 度）への変換\n",
    "degree = np.rad2deg(rad)\n",
    "\n",
    "print(degree)"
   ]
  }
 ],
 "metadata": {
  "kernelspec": {
   "display_name": "Python 3",
   "language": "python",
   "name": "python3"
  },
  "language_info": {
   "codemirror_mode": {
    "name": "ipython",
    "version": 3
   },
   "file_extension": ".py",
   "mimetype": "text/x-python",
   "name": "python",
   "nbconvert_exporter": "python",
   "pygments_lexer": "ipython3",
   "version": "3.11.6"
  },
  "orig_nbformat": 4
 },
 "nbformat": 4,
 "nbformat_minor": 2
}
