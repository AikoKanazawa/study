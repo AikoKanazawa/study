{
 "cells": [
  {
   "cell_type": "code",
   "execution_count": 1,
   "metadata": {},
   "outputs": [
    {
     "name": "stdout",
     "output_type": "stream",
     "text": [
      "Hello, World!\n"
     ]
    }
   ],
   "source": [
    "def greet():\n",
    "    print(\"Hello, World!\")\n",
    "\n",
    "greet()  # \"Hello, World!\" と出力されます"
   ]
  },
  {
   "cell_type": "code",
   "execution_count": 2,
   "metadata": {},
   "outputs": [
    {
     "name": "stdout",
     "output_type": "stream",
     "text": [
      "8\n"
     ]
    }
   ],
   "source": [
    "def add(a, b):\n",
    "    return a + b\n",
    "\n",
    "result = add(3, 5)\n",
    "print(result)  # 8 と出力されます"
   ]
  },
  {
   "cell_type": "code",
   "execution_count": 3,
   "metadata": {},
   "outputs": [
    {
     "name": "stdout",
     "output_type": "stream",
     "text": [
      "Hello, World!\n",
      "Hello, Alice!\n"
     ]
    }
   ],
   "source": [
    "def greet(name=\"World\"):\n",
    "    print(f\"Hello, {name}!\")\n",
    "\n",
    "greet()          # \"Hello, World!\" と出力されます\n",
    "greet(\"Alice\")   # \"Hello, Alice!\" と出力されます"
   ]
  },
  {
   "cell_type": "code",
   "execution_count": 4,
   "metadata": {},
   "outputs": [
    {
     "name": "stdout",
     "output_type": "stream",
     "text": [
      "24\n"
     ]
    }
   ],
   "source": [
    "def multiply(*args):\n",
    "    result = 1\n",
    "    for num in args:\n",
    "        result *= num\n",
    "    return result\n",
    "\n",
    "print(multiply(1, 2, 3, 4))  # 24 と出力されます"
   ]
  },
  {
   "cell_type": "code",
   "execution_count": 5,
   "metadata": {},
   "outputs": [
    {
     "name": "stdout",
     "output_type": "stream",
     "text": [
      "name: Alice\n",
      "age: 30\n",
      "city: New York\n"
     ]
    }
   ],
   "source": [
    "def print_info(**kwargs):\n",
    "    for key, value in kwargs.items():\n",
    "        print(f\"{key}: {value}\")\n",
    "\n",
    "print_info(name=\"Alice\", age=30, city=\"New York\")\n",
    "# name: Alice\n",
    "# age: 30\n",
    "# city: New York"
   ]
  },
  {
   "cell_type": "code",
   "execution_count": 6,
   "metadata": {},
   "outputs": [
    {
     "name": "stdout",
     "output_type": "stream",
     "text": [
      "Help on function add in module __main__:\n",
      "\n",
      "add(a, b)\n",
      "    2つの数値を加算して返します。\n",
      "    \n",
      "    Parameters:\n",
      "    a (int, float): 最初の数値\n",
      "    b (int, float): 2番目の数値\n",
      "    \n",
      "    Returns:\n",
      "    int, float: 2つの数値の合計\n",
      "\n"
     ]
    }
   ],
   "source": [
    "def add(a, b):\n",
    "    \"\"\"\n",
    "    2つの数値を加算して返します。\n",
    "\n",
    "    Parameters:\n",
    "    a (int, float): 最初の数値\n",
    "    b (int, float): 2番目の数値\n",
    "\n",
    "    Returns:\n",
    "    int, float: 2つの数値の合計\n",
    "    \"\"\"\n",
    "    return a + b\n",
    "\n",
    "help(add)  # 関数のドキュメント文字列 (docstring) を表示します"
   ]
  },
  {
   "cell_type": "code",
   "execution_count": 7,
   "metadata": {},
   "outputs": [
    {
     "name": "stdout",
     "output_type": "stream",
     "text": [
      "Numbers: [3, 5, 7, 2, 8, 10, 1]\n",
      "Sum: 36\n",
      "Average: 5.142857142857143\n",
      "Max: 10\n"
     ]
    }
   ],
   "source": [
    "def calculate_sum(numbers):\n",
    "    \"\"\"\n",
    "    リスト内の数値の合計を計算する関数\n",
    "    Parameters:\n",
    "    numbers (list): 数値のリスト\n",
    "\n",
    "    Returns:\n",
    "    int, float: リスト内の数値の合計\n",
    "    \"\"\"\n",
    "    return sum(numbers)\n",
    "\n",
    "def calculate_average(numbers):\n",
    "    \"\"\"\n",
    "    リスト内の数値の平均を計算する関数\n",
    "    Parameters:\n",
    "    numbers (list): 数値のリスト\n",
    "\n",
    "    Returns:\n",
    "    float: リスト内の数値の平均\n",
    "    \"\"\"\n",
    "    total = calculate_sum(numbers)\n",
    "    return total / len(numbers)\n",
    "\n",
    "def find_max(numbers):\n",
    "    \"\"\"\n",
    "    リスト内の数値の最大値を見つける関数\n",
    "    Parameters:\n",
    "    numbers (list): 数値のリスト\n",
    "\n",
    "    Returns:\n",
    "    int, float: リスト内の数値の最大値\n",
    "    \"\"\"\n",
    "    return max(numbers)\n",
    "\n",
    "# メインプログラム\n",
    "def main():\n",
    "    numbers = [3, 5, 7, 2, 8, 10, 1]\n",
    "    print(f\"Numbers: {numbers}\")\n",
    "    print(f\"Sum: {calculate_sum(numbers)}\")\n",
    "    print(f\"Average: {calculate_average(numbers)}\")\n",
    "    print(f\"Max: {find_max(numbers)}\")\n",
    "\n",
    "# プログラムのエントリーポイント\n",
    "if __name__ == \"__main__\":\n",
    "    main()"
   ]
  }
 ],
 "metadata": {
  "kernelspec": {
   "display_name": "Python 3",
   "language": "python",
   "name": "python3"
  },
  "language_info": {
   "codemirror_mode": {
    "name": "ipython",
    "version": 3
   },
   "file_extension": ".py",
   "mimetype": "text/x-python",
   "name": "python",
   "nbconvert_exporter": "python",
   "pygments_lexer": "ipython3",
   "version": "3.11.9"
  }
 },
 "nbformat": 4,
 "nbformat_minor": 2
}
